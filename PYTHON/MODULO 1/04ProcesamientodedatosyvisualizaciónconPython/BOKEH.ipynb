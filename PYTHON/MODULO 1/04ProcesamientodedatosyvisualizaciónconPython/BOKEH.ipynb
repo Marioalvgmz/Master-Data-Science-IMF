{
 "cells": [
  {
   "cell_type": "markdown",
   "metadata": {},
   "source": [
    "# BOKEH\n",
    "\n",
    "En Python, una de las librerías más potentes para comunicar e interactuar con los resultados, **Bokeh** destaca por las siguientes características:\n",
    "* Hace simple la creación de gráficos dinámicos.\n",
    "* Permite crear widgets en los que mostrar la evolución de un gráfico con diferentes valores.\n",
    "* Sus gráficos y cuadros de mando pueden ser publicados en páginas web o notebooks.\n",
    "* Optimizada para trabajar con las librerías más importantes de Python: Pandas, Numpy, Scipy, OpenCV, Scikit-Learn...\n",
    "\n",
    "Lo primero que realizaremos será importar la librería bokeh con la funcionalidad de mostrar los resultados de las gráficas dentro de notebook."
   ]
  },
  {
   "cell_type": "code",
   "execution_count": 1,
   "metadata": {},
   "outputs": [],
   "source": [
    "from bokeh.io import output_notebook, show"
   ]
  },
  {
   "cell_type": "markdown",
   "metadata": {},
   "source": [
    "Ahora, es importante cerciorarnos de que bokeh puede trabajar correctamente, para ello cargaremos la función <code>**output_notebook**</code>"
   ]
  },
  {
   "cell_type": "code",
   "execution_count": 2,
   "metadata": {},
   "outputs": [
    {
     "data": {
      "text/html": [
       "\n",
       "    <div class=\"bk-root\">\n",
       "        <a href=\"https://bokeh.pydata.org\" target=\"_blank\" class=\"bk-logo bk-logo-small bk-logo-notebook\"></a>\n",
       "        <span id=\"1001\">Loading BokehJS ...</span>\n",
       "    </div>"
      ]
     },
     "metadata": {},
     "output_type": "display_data"
    },
    {
     "data": {
      "application/javascript": [
       "\n",
       "(function(root) {\n",
       "  function now() {\n",
       "    return new Date();\n",
       "  }\n",
       "\n",
       "  var force = true;\n",
       "\n",
       "  if (typeof root._bokeh_onload_callbacks === \"undefined\" || force === true) {\n",
       "    root._bokeh_onload_callbacks = [];\n",
       "    root._bokeh_is_loading = undefined;\n",
       "  }\n",
       "\n",
       "  var JS_MIME_TYPE = 'application/javascript';\n",
       "  var HTML_MIME_TYPE = 'text/html';\n",
       "  var EXEC_MIME_TYPE = 'application/vnd.bokehjs_exec.v0+json';\n",
       "  var CLASS_NAME = 'output_bokeh rendered_html';\n",
       "\n",
       "  /**\n",
       "   * Render data to the DOM node\n",
       "   */\n",
       "  function render(props, node) {\n",
       "    var script = document.createElement(\"script\");\n",
       "    node.appendChild(script);\n",
       "  }\n",
       "\n",
       "  /**\n",
       "   * Handle when an output is cleared or removed\n",
       "   */\n",
       "  function handleClearOutput(event, handle) {\n",
       "    var cell = handle.cell;\n",
       "\n",
       "    var id = cell.output_area._bokeh_element_id;\n",
       "    var server_id = cell.output_area._bokeh_server_id;\n",
       "    // Clean up Bokeh references\n",
       "    if (id != null && id in Bokeh.index) {\n",
       "      Bokeh.index[id].model.document.clear();\n",
       "      delete Bokeh.index[id];\n",
       "    }\n",
       "\n",
       "    if (server_id !== undefined) {\n",
       "      // Clean up Bokeh references\n",
       "      var cmd = \"from bokeh.io.state import curstate; print(curstate().uuid_to_server['\" + server_id + \"'].get_sessions()[0].document.roots[0]._id)\";\n",
       "      cell.notebook.kernel.execute(cmd, {\n",
       "        iopub: {\n",
       "          output: function(msg) {\n",
       "            var id = msg.content.text.trim();\n",
       "            if (id in Bokeh.index) {\n",
       "              Bokeh.index[id].model.document.clear();\n",
       "              delete Bokeh.index[id];\n",
       "            }\n",
       "          }\n",
       "        }\n",
       "      });\n",
       "      // Destroy server and session\n",
       "      var cmd = \"import bokeh.io.notebook as ion; ion.destroy_server('\" + server_id + \"')\";\n",
       "      cell.notebook.kernel.execute(cmd);\n",
       "    }\n",
       "  }\n",
       "\n",
       "  /**\n",
       "   * Handle when a new output is added\n",
       "   */\n",
       "  function handleAddOutput(event, handle) {\n",
       "    var output_area = handle.output_area;\n",
       "    var output = handle.output;\n",
       "\n",
       "    // limit handleAddOutput to display_data with EXEC_MIME_TYPE content only\n",
       "    if ((output.output_type != \"display_data\") || (!output.data.hasOwnProperty(EXEC_MIME_TYPE))) {\n",
       "      return\n",
       "    }\n",
       "\n",
       "    var toinsert = output_area.element.find(\".\" + CLASS_NAME.split(' ')[0]);\n",
       "\n",
       "    if (output.metadata[EXEC_MIME_TYPE][\"id\"] !== undefined) {\n",
       "      toinsert[toinsert.length - 1].firstChild.textContent = output.data[JS_MIME_TYPE];\n",
       "      // store reference to embed id on output_area\n",
       "      output_area._bokeh_element_id = output.metadata[EXEC_MIME_TYPE][\"id\"];\n",
       "    }\n",
       "    if (output.metadata[EXEC_MIME_TYPE][\"server_id\"] !== undefined) {\n",
       "      var bk_div = document.createElement(\"div\");\n",
       "      bk_div.innerHTML = output.data[HTML_MIME_TYPE];\n",
       "      var script_attrs = bk_div.children[0].attributes;\n",
       "      for (var i = 0; i < script_attrs.length; i++) {\n",
       "        toinsert[toinsert.length - 1].firstChild.setAttribute(script_attrs[i].name, script_attrs[i].value);\n",
       "      }\n",
       "      // store reference to server id on output_area\n",
       "      output_area._bokeh_server_id = output.metadata[EXEC_MIME_TYPE][\"server_id\"];\n",
       "    }\n",
       "  }\n",
       "\n",
       "  function register_renderer(events, OutputArea) {\n",
       "\n",
       "    function append_mime(data, metadata, element) {\n",
       "      // create a DOM node to render to\n",
       "      var toinsert = this.create_output_subarea(\n",
       "        metadata,\n",
       "        CLASS_NAME,\n",
       "        EXEC_MIME_TYPE\n",
       "      );\n",
       "      this.keyboard_manager.register_events(toinsert);\n",
       "      // Render to node\n",
       "      var props = {data: data, metadata: metadata[EXEC_MIME_TYPE]};\n",
       "      render(props, toinsert[toinsert.length - 1]);\n",
       "      element.append(toinsert);\n",
       "      return toinsert\n",
       "    }\n",
       "\n",
       "    /* Handle when an output is cleared or removed */\n",
       "    events.on('clear_output.CodeCell', handleClearOutput);\n",
       "    events.on('delete.Cell', handleClearOutput);\n",
       "\n",
       "    /* Handle when a new output is added */\n",
       "    events.on('output_added.OutputArea', handleAddOutput);\n",
       "\n",
       "    /**\n",
       "     * Register the mime type and append_mime function with output_area\n",
       "     */\n",
       "    OutputArea.prototype.register_mime_type(EXEC_MIME_TYPE, append_mime, {\n",
       "      /* Is output safe? */\n",
       "      safe: true,\n",
       "      /* Index of renderer in `output_area.display_order` */\n",
       "      index: 0\n",
       "    });\n",
       "  }\n",
       "\n",
       "  // register the mime type if in Jupyter Notebook environment and previously unregistered\n",
       "  if (root.Jupyter !== undefined) {\n",
       "    var events = require('base/js/events');\n",
       "    var OutputArea = require('notebook/js/outputarea').OutputArea;\n",
       "\n",
       "    if (OutputArea.prototype.mime_types().indexOf(EXEC_MIME_TYPE) == -1) {\n",
       "      register_renderer(events, OutputArea);\n",
       "    }\n",
       "  }\n",
       "\n",
       "  \n",
       "  if (typeof (root._bokeh_timeout) === \"undefined\" || force === true) {\n",
       "    root._bokeh_timeout = Date.now() + 5000;\n",
       "    root._bokeh_failed_load = false;\n",
       "  }\n",
       "\n",
       "  var NB_LOAD_WARNING = {'data': {'text/html':\n",
       "     \"<div style='background-color: #fdd'>\\n\"+\n",
       "     \"<p>\\n\"+\n",
       "     \"BokehJS does not appear to have successfully loaded. If loading BokehJS from CDN, this \\n\"+\n",
       "     \"may be due to a slow or bad network connection. Possible fixes:\\n\"+\n",
       "     \"</p>\\n\"+\n",
       "     \"<ul>\\n\"+\n",
       "     \"<li>re-rerun `output_notebook()` to attempt to load from CDN again, or</li>\\n\"+\n",
       "     \"<li>use INLINE resources instead, as so:</li>\\n\"+\n",
       "     \"</ul>\\n\"+\n",
       "     \"<code>\\n\"+\n",
       "     \"from bokeh.resources import INLINE\\n\"+\n",
       "     \"output_notebook(resources=INLINE)\\n\"+\n",
       "     \"</code>\\n\"+\n",
       "     \"</div>\"}};\n",
       "\n",
       "  function display_loaded() {\n",
       "    var el = document.getElementById(\"1001\");\n",
       "    if (el != null) {\n",
       "      el.textContent = \"BokehJS is loading...\";\n",
       "    }\n",
       "    if (root.Bokeh !== undefined) {\n",
       "      if (el != null) {\n",
       "        el.textContent = \"BokehJS \" + root.Bokeh.version + \" successfully loaded.\";\n",
       "      }\n",
       "    } else if (Date.now() < root._bokeh_timeout) {\n",
       "      setTimeout(display_loaded, 100)\n",
       "    }\n",
       "  }\n",
       "\n",
       "\n",
       "  function run_callbacks() {\n",
       "    try {\n",
       "      root._bokeh_onload_callbacks.forEach(function(callback) {\n",
       "        if (callback != null)\n",
       "          callback();\n",
       "      });\n",
       "    } finally {\n",
       "      delete root._bokeh_onload_callbacks\n",
       "    }\n",
       "    console.debug(\"Bokeh: all callbacks have finished\");\n",
       "  }\n",
       "\n",
       "  function load_libs(css_urls, js_urls, callback) {\n",
       "    if (css_urls == null) css_urls = [];\n",
       "    if (js_urls == null) js_urls = [];\n",
       "\n",
       "    root._bokeh_onload_callbacks.push(callback);\n",
       "    if (root._bokeh_is_loading > 0) {\n",
       "      console.debug(\"Bokeh: BokehJS is being loaded, scheduling callback at\", now());\n",
       "      return null;\n",
       "    }\n",
       "    if (js_urls == null || js_urls.length === 0) {\n",
       "      run_callbacks();\n",
       "      return null;\n",
       "    }\n",
       "    console.debug(\"Bokeh: BokehJS not loaded, scheduling load and callback at\", now());\n",
       "    root._bokeh_is_loading = css_urls.length + js_urls.length;\n",
       "\n",
       "    function on_load() {\n",
       "      root._bokeh_is_loading--;\n",
       "      if (root._bokeh_is_loading === 0) {\n",
       "        console.debug(\"Bokeh: all BokehJS libraries/stylesheets loaded\");\n",
       "        run_callbacks()\n",
       "      }\n",
       "    }\n",
       "\n",
       "    function on_error() {\n",
       "      console.error(\"failed to load \" + url);\n",
       "    }\n",
       "\n",
       "    for (var i = 0; i < css_urls.length; i++) {\n",
       "      var url = css_urls[i];\n",
       "      const element = document.createElement(\"link\");\n",
       "      element.onload = on_load;\n",
       "      element.onerror = on_error;\n",
       "      element.rel = \"stylesheet\";\n",
       "      element.type = \"text/css\";\n",
       "      element.href = url;\n",
       "      console.debug(\"Bokeh: injecting link tag for BokehJS stylesheet: \", url);\n",
       "      document.body.appendChild(element);\n",
       "    }\n",
       "\n",
       "    for (var i = 0; i < js_urls.length; i++) {\n",
       "      var url = js_urls[i];\n",
       "      var element = document.createElement('script');\n",
       "      element.onload = on_load;\n",
       "      element.onerror = on_error;\n",
       "      element.async = false;\n",
       "      element.src = url;\n",
       "      console.debug(\"Bokeh: injecting script tag for BokehJS library: \", url);\n",
       "      document.head.appendChild(element);\n",
       "    }\n",
       "  };var element = document.getElementById(\"1001\");\n",
       "  if (element == null) {\n",
       "    console.error(\"Bokeh: ERROR: autoload.js configured with elementid '1001' but no matching script tag was found. \")\n",
       "    return false;\n",
       "  }\n",
       "\n",
       "  function inject_raw_css(css) {\n",
       "    const element = document.createElement(\"style\");\n",
       "    element.appendChild(document.createTextNode(css));\n",
       "    document.body.appendChild(element);\n",
       "  }\n",
       "\n",
       "  var js_urls = [\"https://cdn.pydata.org/bokeh/release/bokeh-1.3.4.min.js\", \"https://cdn.pydata.org/bokeh/release/bokeh-widgets-1.3.4.min.js\", \"https://cdn.pydata.org/bokeh/release/bokeh-tables-1.3.4.min.js\", \"https://cdn.pydata.org/bokeh/release/bokeh-gl-1.3.4.min.js\"];\n",
       "  var css_urls = [];\n",
       "\n",
       "  var inline_js = [\n",
       "    function(Bokeh) {\n",
       "      Bokeh.set_log_level(\"info\");\n",
       "    },\n",
       "    \n",
       "    function(Bokeh) {\n",
       "      \n",
       "    },\n",
       "    function(Bokeh) {} // ensure no trailing comma for IE\n",
       "  ];\n",
       "\n",
       "  function run_inline_js() {\n",
       "    \n",
       "    if ((root.Bokeh !== undefined) || (force === true)) {\n",
       "      for (var i = 0; i < inline_js.length; i++) {\n",
       "        inline_js[i].call(root, root.Bokeh);\n",
       "      }if (force === true) {\n",
       "        display_loaded();\n",
       "      }} else if (Date.now() < root._bokeh_timeout) {\n",
       "      setTimeout(run_inline_js, 100);\n",
       "    } else if (!root._bokeh_failed_load) {\n",
       "      console.log(\"Bokeh: BokehJS failed to load within specified timeout.\");\n",
       "      root._bokeh_failed_load = true;\n",
       "    } else if (force !== true) {\n",
       "      var cell = $(document.getElementById(\"1001\")).parents('.cell').data().cell;\n",
       "      cell.output_area.append_execute_result(NB_LOAD_WARNING)\n",
       "    }\n",
       "\n",
       "  }\n",
       "\n",
       "  if (root._bokeh_is_loading === 0) {\n",
       "    console.debug(\"Bokeh: BokehJS loaded, going straight to plotting\");\n",
       "    run_inline_js();\n",
       "  } else {\n",
       "    load_libs(css_urls, js_urls, function() {\n",
       "      console.debug(\"Bokeh: BokehJS plotting callback run at\", now());\n",
       "      run_inline_js();\n",
       "    });\n",
       "  }\n",
       "}(window));"
      ],
      "application/vnd.bokehjs_load.v0+json": "\n(function(root) {\n  function now() {\n    return new Date();\n  }\n\n  var force = true;\n\n  if (typeof root._bokeh_onload_callbacks === \"undefined\" || force === true) {\n    root._bokeh_onload_callbacks = [];\n    root._bokeh_is_loading = undefined;\n  }\n\n  \n\n  \n  if (typeof (root._bokeh_timeout) === \"undefined\" || force === true) {\n    root._bokeh_timeout = Date.now() + 5000;\n    root._bokeh_failed_load = false;\n  }\n\n  var NB_LOAD_WARNING = {'data': {'text/html':\n     \"<div style='background-color: #fdd'>\\n\"+\n     \"<p>\\n\"+\n     \"BokehJS does not appear to have successfully loaded. If loading BokehJS from CDN, this \\n\"+\n     \"may be due to a slow or bad network connection. Possible fixes:\\n\"+\n     \"</p>\\n\"+\n     \"<ul>\\n\"+\n     \"<li>re-rerun `output_notebook()` to attempt to load from CDN again, or</li>\\n\"+\n     \"<li>use INLINE resources instead, as so:</li>\\n\"+\n     \"</ul>\\n\"+\n     \"<code>\\n\"+\n     \"from bokeh.resources import INLINE\\n\"+\n     \"output_notebook(resources=INLINE)\\n\"+\n     \"</code>\\n\"+\n     \"</div>\"}};\n\n  function display_loaded() {\n    var el = document.getElementById(\"1001\");\n    if (el != null) {\n      el.textContent = \"BokehJS is loading...\";\n    }\n    if (root.Bokeh !== undefined) {\n      if (el != null) {\n        el.textContent = \"BokehJS \" + root.Bokeh.version + \" successfully loaded.\";\n      }\n    } else if (Date.now() < root._bokeh_timeout) {\n      setTimeout(display_loaded, 100)\n    }\n  }\n\n\n  function run_callbacks() {\n    try {\n      root._bokeh_onload_callbacks.forEach(function(callback) {\n        if (callback != null)\n          callback();\n      });\n    } finally {\n      delete root._bokeh_onload_callbacks\n    }\n    console.debug(\"Bokeh: all callbacks have finished\");\n  }\n\n  function load_libs(css_urls, js_urls, callback) {\n    if (css_urls == null) css_urls = [];\n    if (js_urls == null) js_urls = [];\n\n    root._bokeh_onload_callbacks.push(callback);\n    if (root._bokeh_is_loading > 0) {\n      console.debug(\"Bokeh: BokehJS is being loaded, scheduling callback at\", now());\n      return null;\n    }\n    if (js_urls == null || js_urls.length === 0) {\n      run_callbacks();\n      return null;\n    }\n    console.debug(\"Bokeh: BokehJS not loaded, scheduling load and callback at\", now());\n    root._bokeh_is_loading = css_urls.length + js_urls.length;\n\n    function on_load() {\n      root._bokeh_is_loading--;\n      if (root._bokeh_is_loading === 0) {\n        console.debug(\"Bokeh: all BokehJS libraries/stylesheets loaded\");\n        run_callbacks()\n      }\n    }\n\n    function on_error() {\n      console.error(\"failed to load \" + url);\n    }\n\n    for (var i = 0; i < css_urls.length; i++) {\n      var url = css_urls[i];\n      const element = document.createElement(\"link\");\n      element.onload = on_load;\n      element.onerror = on_error;\n      element.rel = \"stylesheet\";\n      element.type = \"text/css\";\n      element.href = url;\n      console.debug(\"Bokeh: injecting link tag for BokehJS stylesheet: \", url);\n      document.body.appendChild(element);\n    }\n\n    for (var i = 0; i < js_urls.length; i++) {\n      var url = js_urls[i];\n      var element = document.createElement('script');\n      element.onload = on_load;\n      element.onerror = on_error;\n      element.async = false;\n      element.src = url;\n      console.debug(\"Bokeh: injecting script tag for BokehJS library: \", url);\n      document.head.appendChild(element);\n    }\n  };var element = document.getElementById(\"1001\");\n  if (element == null) {\n    console.error(\"Bokeh: ERROR: autoload.js configured with elementid '1001' but no matching script tag was found. \")\n    return false;\n  }\n\n  function inject_raw_css(css) {\n    const element = document.createElement(\"style\");\n    element.appendChild(document.createTextNode(css));\n    document.body.appendChild(element);\n  }\n\n  var js_urls = [\"https://cdn.pydata.org/bokeh/release/bokeh-1.3.4.min.js\", \"https://cdn.pydata.org/bokeh/release/bokeh-widgets-1.3.4.min.js\", \"https://cdn.pydata.org/bokeh/release/bokeh-tables-1.3.4.min.js\", \"https://cdn.pydata.org/bokeh/release/bokeh-gl-1.3.4.min.js\"];\n  var css_urls = [];\n\n  var inline_js = [\n    function(Bokeh) {\n      Bokeh.set_log_level(\"info\");\n    },\n    \n    function(Bokeh) {\n      \n    },\n    function(Bokeh) {} // ensure no trailing comma for IE\n  ];\n\n  function run_inline_js() {\n    \n    if ((root.Bokeh !== undefined) || (force === true)) {\n      for (var i = 0; i < inline_js.length; i++) {\n        inline_js[i].call(root, root.Bokeh);\n      }if (force === true) {\n        display_loaded();\n      }} else if (Date.now() < root._bokeh_timeout) {\n      setTimeout(run_inline_js, 100);\n    } else if (!root._bokeh_failed_load) {\n      console.log(\"Bokeh: BokehJS failed to load within specified timeout.\");\n      root._bokeh_failed_load = true;\n    } else if (force !== true) {\n      var cell = $(document.getElementById(\"1001\")).parents('.cell').data().cell;\n      cell.output_area.append_execute_result(NB_LOAD_WARNING)\n    }\n\n  }\n\n  if (root._bokeh_is_loading === 0) {\n    console.debug(\"Bokeh: BokehJS loaded, going straight to plotting\");\n    run_inline_js();\n  } else {\n    load_libs(css_urls, js_urls, function() {\n      console.debug(\"Bokeh: BokehJS plotting callback run at\", now());\n      run_inline_js();\n    });\n  }\n}(window));"
     },
     "metadata": {},
     "output_type": "display_data"
    }
   ],
   "source": [
    "output_notebook()"
   ]
  },
  {
   "cell_type": "markdown",
   "metadata": {},
   "source": [
    "Vemos que no arroja ningún mensaje de error, comenzaremos la creación de nuestro primer gráfico dinámico.\n",
    "\n",
    "El primero elemento que tendremos que configurar es el espacio que ocupará nuestro gráfico, en otras palabras, estaremos inicializando el espacio gráfico. Para ello, utilizamos la función <code>__figure__</code> con los siguientes parámetros **plot_width**, **plot_height**"
   ]
  },
  {
   "cell_type": "code",
   "execution_count": 3,
   "metadata": {},
   "outputs": [],
   "source": [
    "from bokeh.plotting import figure"
   ]
  },
  {
   "cell_type": "code",
   "execution_count": 4,
   "metadata": {},
   "outputs": [],
   "source": [
    "p = figure(plot_width=400, plot_height=400)"
   ]
  },
  {
   "cell_type": "markdown",
   "metadata": {},
   "source": [
    "Lo siguiente, será añadir el tipo de gráfico en sí. En Bokeh soporta una gran cantidad de gráficos, comenzaremos por un gráfico lineal, pero se recomienda visualizar todos los tipos de gráficos principles que podemos realizar desde la función figure https://docs.bokeh.org/en/latest/docs/reference/plotting.html#bokeh-plotting\n",
    "\n",
    "Así mismo, si queremos ver algunas demos de ejemplo sobre Dashboards que pueden realizarse en Bokeh, están disponibles en el siguiente link: https://docs.bokeh.org/en/latest/docs/gallery.html#gallery\n",
    "\n",
    "Un gráfico de líneas lo realizaremos a través de la función <code>**line**</code>"
   ]
  },
  {
   "cell_type": "code",
   "execution_count": 5,
   "metadata": {},
   "outputs": [
    {
     "data": {
      "text/html": [
       "<div style=\"display: table;\"><div style=\"display: table-row;\"><div style=\"display: table-cell;\"><b title=\"bokeh.models.renderers.GlyphRenderer\">GlyphRenderer</b>(</div><div style=\"display: table-cell;\">id&nbsp;=&nbsp;'1037', <span id=\"1040\" style=\"cursor: pointer;\">&hellip;)</span></div></div><div class=\"1039\" style=\"display: none;\"><div style=\"display: table-cell;\"></div><div style=\"display: table-cell;\">data_source&nbsp;=&nbsp;ColumnDataSource(id='1034', ...),</div></div><div class=\"1039\" style=\"display: none;\"><div style=\"display: table-cell;\"></div><div style=\"display: table-cell;\">glyph&nbsp;=&nbsp;Line(id='1035', ...),</div></div><div class=\"1039\" style=\"display: none;\"><div style=\"display: table-cell;\"></div><div style=\"display: table-cell;\">hover_glyph&nbsp;=&nbsp;None,</div></div><div class=\"1039\" style=\"display: none;\"><div style=\"display: table-cell;\"></div><div style=\"display: table-cell;\">js_event_callbacks&nbsp;=&nbsp;{},</div></div><div class=\"1039\" style=\"display: none;\"><div style=\"display: table-cell;\"></div><div style=\"display: table-cell;\">js_property_callbacks&nbsp;=&nbsp;{},</div></div><div class=\"1039\" style=\"display: none;\"><div style=\"display: table-cell;\"></div><div style=\"display: table-cell;\">level&nbsp;=&nbsp;'glyph',</div></div><div class=\"1039\" style=\"display: none;\"><div style=\"display: table-cell;\"></div><div style=\"display: table-cell;\">muted&nbsp;=&nbsp;False,</div></div><div class=\"1039\" style=\"display: none;\"><div style=\"display: table-cell;\"></div><div style=\"display: table-cell;\">muted_glyph&nbsp;=&nbsp;None,</div></div><div class=\"1039\" style=\"display: none;\"><div style=\"display: table-cell;\"></div><div style=\"display: table-cell;\">name&nbsp;=&nbsp;None,</div></div><div class=\"1039\" style=\"display: none;\"><div style=\"display: table-cell;\"></div><div style=\"display: table-cell;\">nonselection_glyph&nbsp;=&nbsp;Line(id='1036', ...),</div></div><div class=\"1039\" style=\"display: none;\"><div style=\"display: table-cell;\"></div><div style=\"display: table-cell;\">selection_glyph&nbsp;=&nbsp;None,</div></div><div class=\"1039\" style=\"display: none;\"><div style=\"display: table-cell;\"></div><div style=\"display: table-cell;\">subscribed_events&nbsp;=&nbsp;[],</div></div><div class=\"1039\" style=\"display: none;\"><div style=\"display: table-cell;\"></div><div style=\"display: table-cell;\">tags&nbsp;=&nbsp;[],</div></div><div class=\"1039\" style=\"display: none;\"><div style=\"display: table-cell;\"></div><div style=\"display: table-cell;\">view&nbsp;=&nbsp;CDSView(id='1038', ...),</div></div><div class=\"1039\" style=\"display: none;\"><div style=\"display: table-cell;\"></div><div style=\"display: table-cell;\">visible&nbsp;=&nbsp;True,</div></div><div class=\"1039\" style=\"display: none;\"><div style=\"display: table-cell;\"></div><div style=\"display: table-cell;\">x_range_name&nbsp;=&nbsp;'default',</div></div><div class=\"1039\" style=\"display: none;\"><div style=\"display: table-cell;\"></div><div style=\"display: table-cell;\">y_range_name&nbsp;=&nbsp;'default')</div></div></div>\n",
       "<script>\n",
       "(function() {\n",
       "  var expanded = false;\n",
       "  var ellipsis = document.getElementById(\"1040\");\n",
       "  ellipsis.addEventListener(\"click\", function() {\n",
       "    var rows = document.getElementsByClassName(\"1039\");\n",
       "    for (var i = 0; i < rows.length; i++) {\n",
       "      var el = rows[i];\n",
       "      el.style.display = expanded ? \"none\" : \"table-row\";\n",
       "    }\n",
       "    ellipsis.innerHTML = expanded ? \"&hellip;)\" : \"&lsaquo;&lsaquo;&lsaquo;\";\n",
       "    expanded = !expanded;\n",
       "  });\n",
       "})();\n",
       "</script>\n"
      ],
      "text/plain": [
       "GlyphRenderer(id='1037', ...)"
      ]
     },
     "execution_count": 5,
     "metadata": {},
     "output_type": "execute_result"
    }
   ],
   "source": [
    "p.line([1, 2, 3, 4, 5, 6, 7, 8] ,[20, 3, 12, 28, 15, 6, 19, 11])"
   ]
  },
  {
   "cell_type": "markdown",
   "metadata": {},
   "source": [
    "Finalmente, para mostrar el gráfico hacemos uso de la función importada de bokeh.io <code>**show**</code>"
   ]
  },
  {
   "cell_type": "code",
   "execution_count": 6,
   "metadata": {},
   "outputs": [
    {
     "data": {
      "text/html": [
       "\n",
       "\n",
       "\n",
       "\n",
       "\n",
       "\n",
       "  <div class=\"bk-root\" id=\"b99942f6-40db-4425-b617-26a3c4baf1a4\" data-root-id=\"1002\"></div>\n"
      ]
     },
     "metadata": {},
     "output_type": "display_data"
    },
    {
     "data": {
      "application/javascript": [
       "(function(root) {\n",
       "  function embed_document(root) {\n",
       "    \n",
       "  var docs_json = {\"a862b86e-01d8-4db7-927c-f3418a7aaaa4\":{\"roots\":{\"references\":[{\"attributes\":{\"below\":[{\"id\":\"1011\",\"type\":\"LinearAxis\"}],\"center\":[{\"id\":\"1015\",\"type\":\"Grid\"},{\"id\":\"1020\",\"type\":\"Grid\"}],\"left\":[{\"id\":\"1016\",\"type\":\"LinearAxis\"}],\"plot_height\":400,\"plot_width\":400,\"renderers\":[{\"id\":\"1037\",\"type\":\"GlyphRenderer\"}],\"title\":{\"id\":\"1042\",\"type\":\"Title\"},\"toolbar\":{\"id\":\"1027\",\"type\":\"Toolbar\"},\"x_range\":{\"id\":\"1003\",\"type\":\"DataRange1d\"},\"x_scale\":{\"id\":\"1007\",\"type\":\"LinearScale\"},\"y_range\":{\"id\":\"1005\",\"type\":\"DataRange1d\"},\"y_scale\":{\"id\":\"1009\",\"type\":\"LinearScale\"}},\"id\":\"1002\",\"subtype\":\"Figure\",\"type\":\"Plot\"},{\"attributes\":{\"formatter\":{\"id\":\"1044\",\"type\":\"BasicTickFormatter\"},\"ticker\":{\"id\":\"1012\",\"type\":\"BasicTicker\"}},\"id\":\"1011\",\"type\":\"LinearAxis\"},{\"attributes\":{},\"id\":\"1021\",\"type\":\"PanTool\"},{\"attributes\":{\"text\":\"\"},\"id\":\"1042\",\"type\":\"Title\"},{\"attributes\":{},\"id\":\"1017\",\"type\":\"BasicTicker\"},{\"attributes\":{\"data_source\":{\"id\":\"1034\",\"type\":\"ColumnDataSource\"},\"glyph\":{\"id\":\"1035\",\"type\":\"Line\"},\"hover_glyph\":null,\"muted_glyph\":null,\"nonselection_glyph\":{\"id\":\"1036\",\"type\":\"Line\"},\"selection_glyph\":null,\"view\":{\"id\":\"1038\",\"type\":\"CDSView\"}},\"id\":\"1037\",\"type\":\"GlyphRenderer\"},{\"attributes\":{\"dimension\":1,\"ticker\":{\"id\":\"1017\",\"type\":\"BasicTicker\"}},\"id\":\"1020\",\"type\":\"Grid\"},{\"attributes\":{},\"id\":\"1022\",\"type\":\"WheelZoomTool\"},{\"attributes\":{},\"id\":\"1009\",\"type\":\"LinearScale\"},{\"attributes\":{\"overlay\":{\"id\":\"1049\",\"type\":\"BoxAnnotation\"}},\"id\":\"1023\",\"type\":\"BoxZoomTool\"},{\"attributes\":{\"source\":{\"id\":\"1034\",\"type\":\"ColumnDataSource\"}},\"id\":\"1038\",\"type\":\"CDSView\"},{\"attributes\":{},\"id\":\"1048\",\"type\":\"UnionRenderers\"},{\"attributes\":{},\"id\":\"1024\",\"type\":\"SaveTool\"},{\"attributes\":{},\"id\":\"1025\",\"type\":\"ResetTool\"},{\"attributes\":{\"line_alpha\":0.1,\"line_color\":\"#1f77b4\",\"x\":{\"field\":\"x\"},\"y\":{\"field\":\"y\"}},\"id\":\"1036\",\"type\":\"Line\"},{\"attributes\":{\"formatter\":{\"id\":\"1046\",\"type\":\"BasicTickFormatter\"},\"ticker\":{\"id\":\"1017\",\"type\":\"BasicTicker\"}},\"id\":\"1016\",\"type\":\"LinearAxis\"},{\"attributes\":{},\"id\":\"1046\",\"type\":\"BasicTickFormatter\"},{\"attributes\":{\"ticker\":{\"id\":\"1012\",\"type\":\"BasicTicker\"}},\"id\":\"1015\",\"type\":\"Grid\"},{\"attributes\":{},\"id\":\"1026\",\"type\":\"HelpTool\"},{\"attributes\":{},\"id\":\"1044\",\"type\":\"BasicTickFormatter\"},{\"attributes\":{\"active_drag\":\"auto\",\"active_inspect\":\"auto\",\"active_multi\":null,\"active_scroll\":\"auto\",\"active_tap\":\"auto\",\"tools\":[{\"id\":\"1021\",\"type\":\"PanTool\"},{\"id\":\"1022\",\"type\":\"WheelZoomTool\"},{\"id\":\"1023\",\"type\":\"BoxZoomTool\"},{\"id\":\"1024\",\"type\":\"SaveTool\"},{\"id\":\"1025\",\"type\":\"ResetTool\"},{\"id\":\"1026\",\"type\":\"HelpTool\"}]},\"id\":\"1027\",\"type\":\"Toolbar\"},{\"attributes\":{\"callback\":null},\"id\":\"1003\",\"type\":\"DataRange1d\"},{\"attributes\":{\"line_color\":\"#1f77b4\",\"x\":{\"field\":\"x\"},\"y\":{\"field\":\"y\"}},\"id\":\"1035\",\"type\":\"Line\"},{\"attributes\":{},\"id\":\"1012\",\"type\":\"BasicTicker\"},{\"attributes\":{\"bottom_units\":\"screen\",\"fill_alpha\":{\"value\":0.5},\"fill_color\":{\"value\":\"lightgrey\"},\"left_units\":\"screen\",\"level\":\"overlay\",\"line_alpha\":{\"value\":1.0},\"line_color\":{\"value\":\"black\"},\"line_dash\":[4,4],\"line_width\":{\"value\":2},\"render_mode\":\"css\",\"right_units\":\"screen\",\"top_units\":\"screen\"},\"id\":\"1049\",\"type\":\"BoxAnnotation\"},{\"attributes\":{\"callback\":null},\"id\":\"1005\",\"type\":\"DataRange1d\"},{\"attributes\":{\"callback\":null,\"data\":{\"x\":[1,2,3,4,5,6,7,8],\"y\":[20,3,12,28,15,6,19,11]},\"selected\":{\"id\":\"1047\",\"type\":\"Selection\"},\"selection_policy\":{\"id\":\"1048\",\"type\":\"UnionRenderers\"}},\"id\":\"1034\",\"type\":\"ColumnDataSource\"},{\"attributes\":{},\"id\":\"1007\",\"type\":\"LinearScale\"},{\"attributes\":{},\"id\":\"1047\",\"type\":\"Selection\"}],\"root_ids\":[\"1002\"]},\"title\":\"Bokeh Application\",\"version\":\"1.3.4\"}};\n",
       "  var render_items = [{\"docid\":\"a862b86e-01d8-4db7-927c-f3418a7aaaa4\",\"roots\":{\"1002\":\"b99942f6-40db-4425-b617-26a3c4baf1a4\"}}];\n",
       "  root.Bokeh.embed.embed_items_notebook(docs_json, render_items);\n",
       "\n",
       "  }\n",
       "  if (root.Bokeh !== undefined) {\n",
       "    embed_document(root);\n",
       "  } else {\n",
       "    var attempts = 0;\n",
       "    var timer = setInterval(function(root) {\n",
       "      if (root.Bokeh !== undefined) {\n",
       "        embed_document(root);\n",
       "        clearInterval(timer);\n",
       "      }\n",
       "      attempts++;\n",
       "      if (attempts > 100) {\n",
       "        console.log(\"Bokeh: ERROR: Unable to run BokehJS code because BokehJS library is missing\");\n",
       "        clearInterval(timer);\n",
       "      }\n",
       "    }, 10, root)\n",
       "  }\n",
       "})(window);"
      ],
      "application/vnd.bokehjs_exec.v0+json": ""
     },
     "metadata": {
      "application/vnd.bokehjs_exec.v0+json": {
       "id": "1002"
      }
     },
     "output_type": "display_data"
    }
   ],
   "source": [
    "show(p)"
   ]
  },
  {
   "cell_type": "markdown",
   "metadata": {},
   "source": [
    "Vemos que aparece nuestro gráfico y a diferencia de otros paquetes de visualización, podemos desplazarnos en el gráfico, hacer zoom, mover con la rueda del ratón y guardar el gráfico de forma muy simple a través del menú de opciones.\n",
    "\n",
    "Agregamos nuevos parámetros."
   ]
  },
  {
   "cell_type": "code",
   "execution_count": 7,
   "metadata": {},
   "outputs": [
    {
     "data": {
      "text/html": [
       "\n",
       "\n",
       "\n",
       "\n",
       "\n",
       "\n",
       "  <div class=\"bk-root\" id=\"25df41ff-a272-4f76-9928-b03b93ccc634\" data-root-id=\"1104\"></div>\n"
      ]
     },
     "metadata": {},
     "output_type": "display_data"
    },
    {
     "data": {
      "application/javascript": [
       "(function(root) {\n",
       "  function embed_document(root) {\n",
       "    \n",
       "  var docs_json = {\"d2f366bf-7815-4db5-832c-7e0a483fc5c4\":{\"roots\":{\"references\":[{\"attributes\":{\"below\":[{\"id\":\"1113\",\"type\":\"LinearAxis\"}],\"center\":[{\"id\":\"1117\",\"type\":\"Grid\"},{\"id\":\"1122\",\"type\":\"Grid\"}],\"left\":[{\"id\":\"1118\",\"type\":\"LinearAxis\"}],\"plot_height\":400,\"plot_width\":400,\"renderers\":[{\"id\":\"1139\",\"type\":\"GlyphRenderer\"}],\"title\":{\"id\":\"1151\",\"type\":\"Title\"},\"toolbar\":{\"id\":\"1129\",\"type\":\"Toolbar\"},\"x_range\":{\"id\":\"1105\",\"type\":\"DataRange1d\"},\"x_scale\":{\"id\":\"1109\",\"type\":\"LinearScale\"},\"y_range\":{\"id\":\"1107\",\"type\":\"DataRange1d\"},\"y_scale\":{\"id\":\"1111\",\"type\":\"LinearScale\"}},\"id\":\"1104\",\"subtype\":\"Figure\",\"type\":\"Plot\"},{\"attributes\":{\"formatter\":{\"id\":\"1153\",\"type\":\"BasicTickFormatter\"},\"ticker\":{\"id\":\"1114\",\"type\":\"BasicTicker\"}},\"id\":\"1113\",\"type\":\"LinearAxis\"},{\"attributes\":{\"source\":{\"id\":\"1136\",\"type\":\"ColumnDataSource\"}},\"id\":\"1140\",\"type\":\"CDSView\"},{\"attributes\":{\"ticker\":{\"id\":\"1114\",\"type\":\"BasicTicker\"}},\"id\":\"1117\",\"type\":\"Grid\"},{\"attributes\":{\"callback\":null,\"data\":{\"x\":[1,2,3,4,5,6,7,8],\"y\":[20,3,12,28,15,6,19,11]},\"selected\":{\"id\":\"1156\",\"type\":\"Selection\"},\"selection_policy\":{\"id\":\"1157\",\"type\":\"UnionRenderers\"}},\"id\":\"1136\",\"type\":\"ColumnDataSource\"},{\"attributes\":{},\"id\":\"1124\",\"type\":\"WheelZoomTool\"},{\"attributes\":{},\"id\":\"1114\",\"type\":\"BasicTicker\"},{\"attributes\":{\"formatter\":{\"id\":\"1155\",\"type\":\"BasicTickFormatter\"},\"ticker\":{\"id\":\"1119\",\"type\":\"BasicTicker\"}},\"id\":\"1118\",\"type\":\"LinearAxis\"},{\"attributes\":{\"text\":\"\"},\"id\":\"1151\",\"type\":\"Title\"},{\"attributes\":{},\"id\":\"1153\",\"type\":\"BasicTickFormatter\"},{\"attributes\":{},\"id\":\"1126\",\"type\":\"SaveTool\"},{\"attributes\":{},\"id\":\"1155\",\"type\":\"BasicTickFormatter\"},{\"attributes\":{},\"id\":\"1123\",\"type\":\"PanTool\"},{\"attributes\":{\"line_alpha\":0.5,\"line_color\":\"red\",\"line_width\":5,\"x\":{\"field\":\"x\"},\"y\":{\"field\":\"y\"}},\"id\":\"1137\",\"type\":\"Line\"},{\"attributes\":{},\"id\":\"1127\",\"type\":\"ResetTool\"},{\"attributes\":{},\"id\":\"1156\",\"type\":\"Selection\"},{\"attributes\":{\"line_alpha\":0.1,\"line_color\":\"#1f77b4\",\"line_width\":5,\"x\":{\"field\":\"x\"},\"y\":{\"field\":\"y\"}},\"id\":\"1138\",\"type\":\"Line\"},{\"attributes\":{},\"id\":\"1128\",\"type\":\"HelpTool\"},{\"attributes\":{},\"id\":\"1157\",\"type\":\"UnionRenderers\"},{\"attributes\":{\"bottom_units\":\"screen\",\"fill_alpha\":{\"value\":0.5},\"fill_color\":{\"value\":\"lightgrey\"},\"left_units\":\"screen\",\"level\":\"overlay\",\"line_alpha\":{\"value\":1.0},\"line_color\":{\"value\":\"black\"},\"line_dash\":[4,4],\"line_width\":{\"value\":2},\"render_mode\":\"css\",\"right_units\":\"screen\",\"top_units\":\"screen\"},\"id\":\"1158\",\"type\":\"BoxAnnotation\"},{\"attributes\":{\"overlay\":{\"id\":\"1158\",\"type\":\"BoxAnnotation\"}},\"id\":\"1125\",\"type\":\"BoxZoomTool\"},{\"attributes\":{},\"id\":\"1111\",\"type\":\"LinearScale\"},{\"attributes\":{\"data_source\":{\"id\":\"1136\",\"type\":\"ColumnDataSource\"},\"glyph\":{\"id\":\"1137\",\"type\":\"Line\"},\"hover_glyph\":null,\"muted_glyph\":null,\"nonselection_glyph\":{\"id\":\"1138\",\"type\":\"Line\"},\"selection_glyph\":null,\"view\":{\"id\":\"1140\",\"type\":\"CDSView\"}},\"id\":\"1139\",\"type\":\"GlyphRenderer\"},{\"attributes\":{\"active_drag\":\"auto\",\"active_inspect\":\"auto\",\"active_multi\":null,\"active_scroll\":\"auto\",\"active_tap\":\"auto\",\"tools\":[{\"id\":\"1123\",\"type\":\"PanTool\"},{\"id\":\"1124\",\"type\":\"WheelZoomTool\"},{\"id\":\"1125\",\"type\":\"BoxZoomTool\"},{\"id\":\"1126\",\"type\":\"SaveTool\"},{\"id\":\"1127\",\"type\":\"ResetTool\"},{\"id\":\"1128\",\"type\":\"HelpTool\"}]},\"id\":\"1129\",\"type\":\"Toolbar\"},{\"attributes\":{\"callback\":null},\"id\":\"1105\",\"type\":\"DataRange1d\"},{\"attributes\":{},\"id\":\"1119\",\"type\":\"BasicTicker\"},{\"attributes\":{\"callback\":null},\"id\":\"1107\",\"type\":\"DataRange1d\"},{\"attributes\":{\"dimension\":1,\"ticker\":{\"id\":\"1119\",\"type\":\"BasicTicker\"}},\"id\":\"1122\",\"type\":\"Grid\"},{\"attributes\":{},\"id\":\"1109\",\"type\":\"LinearScale\"}],\"root_ids\":[\"1104\"]},\"title\":\"Bokeh Application\",\"version\":\"1.3.4\"}};\n",
       "  var render_items = [{\"docid\":\"d2f366bf-7815-4db5-832c-7e0a483fc5c4\",\"roots\":{\"1104\":\"25df41ff-a272-4f76-9928-b03b93ccc634\"}}];\n",
       "  root.Bokeh.embed.embed_items_notebook(docs_json, render_items);\n",
       "\n",
       "  }\n",
       "  if (root.Bokeh !== undefined) {\n",
       "    embed_document(root);\n",
       "  } else {\n",
       "    var attempts = 0;\n",
       "    var timer = setInterval(function(root) {\n",
       "      if (root.Bokeh !== undefined) {\n",
       "        embed_document(root);\n",
       "        clearInterval(timer);\n",
       "      }\n",
       "      attempts++;\n",
       "      if (attempts > 100) {\n",
       "        console.log(\"Bokeh: ERROR: Unable to run BokehJS code because BokehJS library is missing\");\n",
       "        clearInterval(timer);\n",
       "      }\n",
       "    }, 10, root)\n",
       "  }\n",
       "})(window);"
      ],
      "application/vnd.bokehjs_exec.v0+json": ""
     },
     "metadata": {
      "application/vnd.bokehjs_exec.v0+json": {
       "id": "1104"
      }
     },
     "output_type": "display_data"
    }
   ],
   "source": [
    "p = figure(plot_width=400, plot_height=400)\n",
    "\n",
    "p.line([1, 2, 3, 4, 5, 6, 7, 8] ,[20, 3, 12, 28, 15, 6, 19, 11], \n",
    "       color = 'red', line_width=5, line_alpha = 0.5)\n",
    "show(p)"
   ]
  },
  {
   "cell_type": "markdown",
   "metadata": {},
   "source": [
    "Mostramos otro estilo de gráfico, un scatter plot, utilizamos la función <code>**circle**</code>"
   ]
  },
  {
   "cell_type": "code",
   "execution_count": 8,
   "metadata": {},
   "outputs": [
    {
     "data": {
      "text/html": [
       "\n",
       "\n",
       "\n",
       "\n",
       "\n",
       "\n",
       "  <div class=\"bk-root\" id=\"4f30c69a-f123-4ede-a7ee-e75a505e1d48\" data-root-id=\"1213\"></div>\n"
      ]
     },
     "metadata": {},
     "output_type": "display_data"
    },
    {
     "data": {
      "application/javascript": [
       "(function(root) {\n",
       "  function embed_document(root) {\n",
       "    \n",
       "  var docs_json = {\"7d93f29f-a5b6-4e1a-a2c1-34b423f3119c\":{\"roots\":{\"references\":[{\"attributes\":{\"below\":[{\"id\":\"1222\",\"type\":\"LinearAxis\"}],\"center\":[{\"id\":\"1226\",\"type\":\"Grid\"},{\"id\":\"1231\",\"type\":\"Grid\"}],\"left\":[{\"id\":\"1227\",\"type\":\"LinearAxis\"}],\"plot_height\":500,\"plot_width\":500,\"renderers\":[{\"id\":\"1248\",\"type\":\"GlyphRenderer\"}],\"title\":{\"id\":\"1269\",\"type\":\"Title\"},\"toolbar\":{\"id\":\"1238\",\"type\":\"Toolbar\"},\"x_range\":{\"id\":\"1214\",\"type\":\"DataRange1d\"},\"x_scale\":{\"id\":\"1218\",\"type\":\"LinearScale\"},\"y_range\":{\"id\":\"1216\",\"type\":\"DataRange1d\"},\"y_scale\":{\"id\":\"1220\",\"type\":\"LinearScale\"}},\"id\":\"1213\",\"subtype\":\"Figure\",\"type\":\"Plot\"},{\"attributes\":{\"text\":\"\"},\"id\":\"1269\",\"type\":\"Title\"},{\"attributes\":{},\"id\":\"1271\",\"type\":\"BasicTickFormatter\"},{\"attributes\":{},\"id\":\"1275\",\"type\":\"UnionRenderers\"},{\"attributes\":{\"formatter\":{\"id\":\"1271\",\"type\":\"BasicTickFormatter\"},\"ticker\":{\"id\":\"1223\",\"type\":\"BasicTicker\"}},\"id\":\"1222\",\"type\":\"LinearAxis\"},{\"attributes\":{\"bottom_units\":\"screen\",\"fill_alpha\":{\"value\":0.5},\"fill_color\":{\"value\":\"lightgrey\"},\"left_units\":\"screen\",\"level\":\"overlay\",\"line_alpha\":{\"value\":1.0},\"line_color\":{\"value\":\"black\"},\"line_dash\":[4,4],\"line_width\":{\"value\":2},\"render_mode\":\"css\",\"right_units\":\"screen\",\"top_units\":\"screen\"},\"id\":\"1276\",\"type\":\"BoxAnnotation\"},{\"attributes\":{\"fill_color\":{\"value\":\"red\"},\"line_alpha\":{\"value\":0.5},\"line_color\":{\"value\":\"red\"},\"line_width\":{\"value\":5},\"x\":{\"field\":\"x\"},\"y\":{\"field\":\"y\"}},\"id\":\"1246\",\"type\":\"Circle\"},{\"attributes\":{\"active_drag\":\"auto\",\"active_inspect\":\"auto\",\"active_multi\":null,\"active_scroll\":\"auto\",\"active_tap\":\"auto\",\"tools\":[{\"id\":\"1232\",\"type\":\"PanTool\"},{\"id\":\"1233\",\"type\":\"WheelZoomTool\"},{\"id\":\"1234\",\"type\":\"BoxZoomTool\"},{\"id\":\"1235\",\"type\":\"SaveTool\"},{\"id\":\"1236\",\"type\":\"ResetTool\"},{\"id\":\"1237\",\"type\":\"HelpTool\"}]},\"id\":\"1238\",\"type\":\"Toolbar\"},{\"attributes\":{\"callback\":null,\"data\":{\"x\":[1,2,3,4,5,6,7,8],\"y\":[20,3,12,28,15,6,19,11]},\"selected\":{\"id\":\"1274\",\"type\":\"Selection\"},\"selection_policy\":{\"id\":\"1275\",\"type\":\"UnionRenderers\"}},\"id\":\"1245\",\"type\":\"ColumnDataSource\"},{\"attributes\":{\"callback\":null},\"id\":\"1214\",\"type\":\"DataRange1d\"},{\"attributes\":{\"formatter\":{\"id\":\"1273\",\"type\":\"BasicTickFormatter\"},\"ticker\":{\"id\":\"1228\",\"type\":\"BasicTicker\"}},\"id\":\"1227\",\"type\":\"LinearAxis\"},{\"attributes\":{\"callback\":null},\"id\":\"1216\",\"type\":\"DataRange1d\"},{\"attributes\":{},\"id\":\"1274\",\"type\":\"Selection\"},{\"attributes\":{},\"id\":\"1218\",\"type\":\"LinearScale\"},{\"attributes\":{\"data_source\":{\"id\":\"1245\",\"type\":\"ColumnDataSource\"},\"glyph\":{\"id\":\"1246\",\"type\":\"Circle\"},\"hover_glyph\":null,\"muted_glyph\":null,\"nonselection_glyph\":{\"id\":\"1247\",\"type\":\"Circle\"},\"selection_glyph\":null,\"view\":{\"id\":\"1249\",\"type\":\"CDSView\"}},\"id\":\"1248\",\"type\":\"GlyphRenderer\"},{\"attributes\":{\"ticker\":{\"id\":\"1223\",\"type\":\"BasicTicker\"}},\"id\":\"1226\",\"type\":\"Grid\"},{\"attributes\":{},\"id\":\"1237\",\"type\":\"HelpTool\"},{\"attributes\":{},\"id\":\"1220\",\"type\":\"LinearScale\"},{\"attributes\":{},\"id\":\"1232\",\"type\":\"PanTool\"},{\"attributes\":{},\"id\":\"1223\",\"type\":\"BasicTicker\"},{\"attributes\":{},\"id\":\"1228\",\"type\":\"BasicTicker\"},{\"attributes\":{\"source\":{\"id\":\"1245\",\"type\":\"ColumnDataSource\"}},\"id\":\"1249\",\"type\":\"CDSView\"},{\"attributes\":{},\"id\":\"1233\",\"type\":\"WheelZoomTool\"},{\"attributes\":{\"dimension\":1,\"ticker\":{\"id\":\"1228\",\"type\":\"BasicTicker\"}},\"id\":\"1231\",\"type\":\"Grid\"},{\"attributes\":{\"overlay\":{\"id\":\"1276\",\"type\":\"BoxAnnotation\"}},\"id\":\"1234\",\"type\":\"BoxZoomTool\"},{\"attributes\":{},\"id\":\"1273\",\"type\":\"BasicTickFormatter\"},{\"attributes\":{},\"id\":\"1235\",\"type\":\"SaveTool\"},{\"attributes\":{},\"id\":\"1236\",\"type\":\"ResetTool\"},{\"attributes\":{\"fill_alpha\":{\"value\":0.1},\"fill_color\":{\"value\":\"#1f77b4\"},\"line_alpha\":{\"value\":0.1},\"line_color\":{\"value\":\"#1f77b4\"},\"line_width\":{\"value\":5},\"x\":{\"field\":\"x\"},\"y\":{\"field\":\"y\"}},\"id\":\"1247\",\"type\":\"Circle\"}],\"root_ids\":[\"1213\"]},\"title\":\"Bokeh Application\",\"version\":\"1.3.4\"}};\n",
       "  var render_items = [{\"docid\":\"7d93f29f-a5b6-4e1a-a2c1-34b423f3119c\",\"roots\":{\"1213\":\"4f30c69a-f123-4ede-a7ee-e75a505e1d48\"}}];\n",
       "  root.Bokeh.embed.embed_items_notebook(docs_json, render_items);\n",
       "\n",
       "  }\n",
       "  if (root.Bokeh !== undefined) {\n",
       "    embed_document(root);\n",
       "  } else {\n",
       "    var attempts = 0;\n",
       "    var timer = setInterval(function(root) {\n",
       "      if (root.Bokeh !== undefined) {\n",
       "        embed_document(root);\n",
       "        clearInterval(timer);\n",
       "      }\n",
       "      attempts++;\n",
       "      if (attempts > 100) {\n",
       "        console.log(\"Bokeh: ERROR: Unable to run BokehJS code because BokehJS library is missing\");\n",
       "        clearInterval(timer);\n",
       "      }\n",
       "    }, 10, root)\n",
       "  }\n",
       "})(window);"
      ],
      "application/vnd.bokehjs_exec.v0+json": ""
     },
     "metadata": {
      "application/vnd.bokehjs_exec.v0+json": {
       "id": "1213"
      }
     },
     "output_type": "display_data"
    }
   ],
   "source": [
    "p = figure(plot_width=500, plot_height=500)\n",
    "\n",
    "p.circle([1, 2, 3, 4, 5, 6, 7, 8] ,[20, 3, 12, 28, 15, 6, 19, 11], \n",
    "       color = 'red', line_width=5, line_alpha = 0.5)\n",
    "show(p)"
   ]
  },
  {
   "cell_type": "markdown",
   "metadata": {},
   "source": [
    "Añadimos más opciones y, en esta ocasión en lugar de utilizar listas, vamos a comprobar su integración con arrays."
   ]
  },
  {
   "cell_type": "code",
   "execution_count": 9,
   "metadata": {},
   "outputs": [
    {
     "data": {
      "text/html": [
       "\n",
       "\n",
       "\n",
       "\n",
       "\n",
       "\n",
       "  <div class=\"bk-root\" id=\"3a6dedd3-526c-48d2-b88d-3a784b9c79a6\" data-root-id=\"1331\"></div>\n"
      ]
     },
     "metadata": {},
     "output_type": "display_data"
    },
    {
     "data": {
      "application/javascript": [
       "(function(root) {\n",
       "  function embed_document(root) {\n",
       "    \n",
       "  var docs_json = {\"0f2733fc-5681-4a78-a6b6-0db4debd459d\":{\"roots\":{\"references\":[{\"attributes\":{\"below\":[{\"id\":\"1340\",\"type\":\"LinearAxis\"}],\"center\":[{\"id\":\"1344\",\"type\":\"Grid\"},{\"id\":\"1349\",\"type\":\"Grid\"}],\"left\":[{\"id\":\"1345\",\"type\":\"LinearAxis\"}],\"plot_height\":500,\"plot_width\":500,\"renderers\":[{\"id\":\"1366\",\"type\":\"GlyphRenderer\"}],\"title\":{\"id\":\"1396\",\"type\":\"Title\"},\"toolbar\":{\"id\":\"1356\",\"type\":\"Toolbar\"},\"x_range\":{\"id\":\"1332\",\"type\":\"DataRange1d\"},\"x_scale\":{\"id\":\"1336\",\"type\":\"LinearScale\"},\"y_range\":{\"id\":\"1334\",\"type\":\"DataRange1d\"},\"y_scale\":{\"id\":\"1338\",\"type\":\"LinearScale\"}},\"id\":\"1331\",\"subtype\":\"Figure\",\"type\":\"Plot\"},{\"attributes\":{\"formatter\":{\"id\":\"1398\",\"type\":\"BasicTickFormatter\"},\"ticker\":{\"id\":\"1341\",\"type\":\"BasicTicker\"}},\"id\":\"1340\",\"type\":\"LinearAxis\"},{\"attributes\":{},\"id\":\"1351\",\"type\":\"WheelZoomTool\"},{\"attributes\":{\"overlay\":{\"id\":\"1403\",\"type\":\"BoxAnnotation\"}},\"id\":\"1352\",\"type\":\"BoxZoomTool\"},{\"attributes\":{},\"id\":\"1336\",\"type\":\"LinearScale\"},{\"attributes\":{},\"id\":\"1353\",\"type\":\"SaveTool\"},{\"attributes\":{\"bottom_units\":\"screen\",\"fill_alpha\":{\"value\":0.5},\"fill_color\":{\"value\":\"lightgrey\"},\"left_units\":\"screen\",\"level\":\"overlay\",\"line_alpha\":{\"value\":1.0},\"line_color\":{\"value\":\"black\"},\"line_dash\":[4,4],\"line_width\":{\"value\":2},\"render_mode\":\"css\",\"right_units\":\"screen\",\"top_units\":\"screen\"},\"id\":\"1403\",\"type\":\"BoxAnnotation\"},{\"attributes\":{},\"id\":\"1338\",\"type\":\"LinearScale\"},{\"attributes\":{},\"id\":\"1354\",\"type\":\"ResetTool\"},{\"attributes\":{\"ticker\":{\"id\":\"1341\",\"type\":\"BasicTicker\"}},\"id\":\"1344\",\"type\":\"Grid\"},{\"attributes\":{\"fill_alpha\":{\"value\":0.1},\"fill_color\":{\"value\":\"#1f77b4\"},\"line_alpha\":{\"value\":0.1},\"line_color\":{\"value\":\"#1f77b4\"},\"radius\":{\"units\":\"data\",\"value\":0.01},\"x\":{\"field\":\"x\"},\"y\":{\"field\":\"y\"}},\"id\":\"1365\",\"type\":\"Circle\"},{\"attributes\":{},\"id\":\"1355\",\"type\":\"HelpTool\"},{\"attributes\":{},\"id\":\"1341\",\"type\":\"BasicTicker\"},{\"attributes\":{\"formatter\":{\"id\":\"1400\",\"type\":\"BasicTickFormatter\"},\"ticker\":{\"id\":\"1346\",\"type\":\"BasicTicker\"}},\"id\":\"1345\",\"type\":\"LinearAxis\"},{\"attributes\":{\"dimension\":1,\"ticker\":{\"id\":\"1346\",\"type\":\"BasicTicker\"}},\"id\":\"1349\",\"type\":\"Grid\"},{\"attributes\":{\"data_source\":{\"id\":\"1363\",\"type\":\"ColumnDataSource\"},\"glyph\":{\"id\":\"1364\",\"type\":\"Circle\"},\"hover_glyph\":null,\"muted_glyph\":null,\"nonselection_glyph\":{\"id\":\"1365\",\"type\":\"Circle\"},\"selection_glyph\":null,\"view\":{\"id\":\"1367\",\"type\":\"CDSView\"}},\"id\":\"1366\",\"type\":\"GlyphRenderer\"},{\"attributes\":{\"active_drag\":\"auto\",\"active_inspect\":\"auto\",\"active_multi\":null,\"active_scroll\":\"auto\",\"active_tap\":\"auto\",\"tools\":[{\"id\":\"1350\",\"type\":\"PanTool\"},{\"id\":\"1351\",\"type\":\"WheelZoomTool\"},{\"id\":\"1352\",\"type\":\"BoxZoomTool\"},{\"id\":\"1353\",\"type\":\"SaveTool\"},{\"id\":\"1354\",\"type\":\"ResetTool\"},{\"id\":\"1355\",\"type\":\"HelpTool\"}]},\"id\":\"1356\",\"type\":\"Toolbar\"},{\"attributes\":{},\"id\":\"1346\",\"type\":\"BasicTicker\"},{\"attributes\":{},\"id\":\"1401\",\"type\":\"Selection\"},{\"attributes\":{\"callback\":null},\"id\":\"1332\",\"type\":\"DataRange1d\"},{\"attributes\":{},\"id\":\"1400\",\"type\":\"BasicTickFormatter\"},{\"attributes\":{\"callback\":null,\"data\":{\"x\":{\"__ndarray__\":\"mAKEWiOjtT+Qz3rwIKDCP4BEINiLO6c/gT/mOwUC7j/V5WEnb8nsP8MHPEZkvOo/MIbExJ8oqj9gQXq+fAafPxAjDrLEfck/xkjI7AkN7z/MWw1+buLbP37lLHmFX+w/IMsL6tjulz8WZB2SbfjVP8Q8TloHWNk/QKqybpbcjj9mJjINpizcP+m3DXuLQ+0/ULPefLMJtD+2IBm2XnzWP7bB7hvhzNU/tOMVTRm87z8kdP4xQ+/bP0CQzWdhaMk/+ufa4Q8p2T+AsVwlkejuPyiyZU6eGtQ/UD/BRxV6wD8AymZfbIerPwQ7IHpf5t8/es4TV03M0D9g6X+0e/LRP6C0ZXCLkbY/oMxw3fF0kT9MIbgIMuzFPxWaP2EjJ+8/oD8QewWP5j+3AtkJ3VTkP5fxEnN41OI/bzfU7dct7T/gxnwHcGmlP23piIItMeE/iebYA35V6j/y8gfWd1TlP7S9UA7Sb88/FAfgSFIUwj/XTsxObCDpP0jRud/An80/REa8yeqc6j9Kgxd73iPTP4b9Jq6c0uE/QFPbcpbyrz/Byjn8lUzqPwDoHDcS8OA/QJmXwp2XpT/I8yUzbdfTPyq+Y2Hwg9E/rDnFjAQe4D/ihEdgOZvoP2n5wM9A9eg/yO3mnDrd3z9MprEJEJPRP3GX/rXt3+s/4ws6ACwN4D9c9DL5zsvJP1jKuEpA4sQ/7D96rfQaxz/oChjzEkHZP1DLb+oI5uU/aIQ1077k6D9zsJUUmHPqPxV72x6dS+8/AKttGxW0Yj/1fV14RWvnPy21Qzo8kOQ/wMO88ziRhD9MAh3iGEXVP9t3L2flUus/Gst968MI5z9Vvqdc5t3vPzQUCObd3+A/De8m78Ni7T963Vzyn1TuP1yYQW3D9+c/18VXiO9J4z88ZwbMFH3VP5iYuJQepMQ/KfYxeLR+4j9Qz341EgHfPzgChLqcxbU/Sgwcahkq3T8A/Qav3wCmP9zhKU3ZAuk/T5sfz6py4j+AUBA+URerPwr9bf7DlN0/PGE8VhG6yT/Y6TAylZ3DP3nFMoICLuo/A4L0SB7/5D8=\",\"dtype\":\"float64\",\"shape\":[100]},\"y\":{\"__ndarray__\":\"heY8LrxCfT9FuyGwjK6VP8F8vtQH3mA/Ag/48Mkj7D90KcyCduXpP4kFlQ14VuY/ePVIMjdiZT8klboBkxROP0cunqNxTqQ/w4PXikgh7j8ljOiuXEzIPz/FurZGKOk/usHIkE7mQT/fES3nMCu+P8KdjKV9EsQ/J0fEporDLT8KthnjYM7IP6kdfGH7wuo/l7j2mUYYeT8vQ/wyy5m/P5Um+mEOtL0/jCu4rsJ47z+LRqVYvmLIPy1ofKxsLKQ/YK2ggV3Iwz+h5z1hqtrtP8BVmwy4Qrk/Qw8lFM73kD87bdH8w65nP5rgNnrTzM8//u3JY8uisT9iXGDBoSG0Px8YLGlr1X8/SsHit9gLMz/BBYEbogmeP3Njz2oEVO4/BlJmhE3O3z93jXO16tXZP+7WXn4UKdY/EJQODFmb6j+VOBrlfKdcPwjpo9wXedI/NCWlLdGr5T8XvJ1/eG/cP5ubYrot4q4/Q2xV89JtlD9zaCsVyrrjP7SUuh6rbKs/NYm7//4h5j8u+sfNgOW2P5yl7Ehh2tM//HzVhDLlbz+b+AoFK53lP+/vw5A27tE/0mOa1pojXT97CCLj95q4P2QhSs2eLLM/KaKbakE80D9L3KYEx+viP1H1keA4d+M/Lv4BApu6zz8atVvLyU2zP8T/GyMASOg/WXdt2GIa0D9RBJR0hcukP1M1DxQgQps/wHtIbtauoD9pW9zwMe7DP6J7vqfC+N0/yPKDYIFd4z869lmxeN3lPzFaTRczm+4/dry7WBrd1T4iJzJ2myPhP369pM6qbdo/Zl9kejRwGj8OE1G4i0a8P6x7Pdy5VOc/rRcqCZyU4D+xIt8P8bvvPyW5gRH4y9E/ZhE/9jP86j92/kWxi7/sP6lsnkKn8+E/lJSOi+5A1z9Eu59sKNy8P8+48ObfoJo/rBDJcAFh1T8gZtNQEwrOPxa2ChNEoH0/Eo8dc4WUyj8dXootZ0JeP2a1fslzjOM/sBsuGzZF1T/3AVMWau9mP8pAydZWWMs/YTpSAPWupD+7YpxcUgyYPzQFyToGa+U/mQnyi6+N2z8=\",\"dtype\":\"float64\",\"shape\":[100]}},\"selected\":{\"id\":\"1401\",\"type\":\"Selection\"},\"selection_policy\":{\"id\":\"1402\",\"type\":\"UnionRenderers\"}},\"id\":\"1363\",\"type\":\"ColumnDataSource\"},{\"attributes\":{\"fill_color\":{\"value\":\"lightgreen\"},\"line_alpha\":{\"value\":0.8},\"line_color\":{\"value\":\"red\"},\"radius\":{\"units\":\"data\",\"value\":0.01},\"x\":{\"field\":\"x\"},\"y\":{\"field\":\"y\"}},\"id\":\"1364\",\"type\":\"Circle\"},{\"attributes\":{},\"id\":\"1398\",\"type\":\"BasicTickFormatter\"},{\"attributes\":{\"text\":\"\"},\"id\":\"1396\",\"type\":\"Title\"},{\"attributes\":{\"callback\":null},\"id\":\"1334\",\"type\":\"DataRange1d\"},{\"attributes\":{},\"id\":\"1402\",\"type\":\"UnionRenderers\"},{\"attributes\":{},\"id\":\"1350\",\"type\":\"PanTool\"},{\"attributes\":{\"source\":{\"id\":\"1363\",\"type\":\"ColumnDataSource\"}},\"id\":\"1367\",\"type\":\"CDSView\"}],\"root_ids\":[\"1331\"]},\"title\":\"Bokeh Application\",\"version\":\"1.3.4\"}};\n",
       "  var render_items = [{\"docid\":\"0f2733fc-5681-4a78-a6b6-0db4debd459d\",\"roots\":{\"1331\":\"3a6dedd3-526c-48d2-b88d-3a784b9c79a6\"}}];\n",
       "  root.Bokeh.embed.embed_items_notebook(docs_json, render_items);\n",
       "\n",
       "  }\n",
       "  if (root.Bokeh !== undefined) {\n",
       "    embed_document(root);\n",
       "  } else {\n",
       "    var attempts = 0;\n",
       "    var timer = setInterval(function(root) {\n",
       "      if (root.Bokeh !== undefined) {\n",
       "        embed_document(root);\n",
       "        clearInterval(timer);\n",
       "      }\n",
       "      attempts++;\n",
       "      if (attempts > 100) {\n",
       "        console.log(\"Bokeh: ERROR: Unable to run BokehJS code because BokehJS library is missing\");\n",
       "        clearInterval(timer);\n",
       "      }\n",
       "    }, 10, root)\n",
       "  }\n",
       "})(window);"
      ],
      "application/vnd.bokehjs_exec.v0+json": ""
     },
     "metadata": {
      "application/vnd.bokehjs_exec.v0+json": {
       "id": "1331"
      }
     },
     "output_type": "display_data"
    }
   ],
   "source": [
    "p = figure(plot_width=500, plot_height=500)\n",
    "\n",
    "import numpy as np\n",
    "\n",
    "normal = np.random.rand(100)\n",
    "square = normal**2\n",
    "\n",
    "p.circle(normal ,square, \n",
    "         fill_color  = 'lightgreen',\n",
    "         line_alpha = 0.8,\n",
    "         line_color = 'red',\n",
    "         radius = 0.01)\n",
    "show(p)"
   ]
  },
  {
   "cell_type": "markdown",
   "metadata": {},
   "source": [
    "También es posible combinar dos estilos de gráfico juntos. Probaremos a realizar un scatter plot de dos maneras, a través de círculos <code>**circle**</code> y cuadrados <code>**square**</code>"
   ]
  },
  {
   "cell_type": "code",
   "execution_count": 10,
   "metadata": {},
   "outputs": [
    {
     "data": {
      "text/html": [
       "\n",
       "\n",
       "\n",
       "\n",
       "\n",
       "\n",
       "  <div class=\"bk-root\" id=\"d9592a08-d025-4725-b1ff-96c1d7bbc20f\" data-root-id=\"1458\"></div>\n"
      ]
     },
     "metadata": {},
     "output_type": "display_data"
    },
    {
     "data": {
      "application/javascript": [
       "(function(root) {\n",
       "  function embed_document(root) {\n",
       "    \n",
       "  var docs_json = {\"08705c97-4d9f-42ea-a7e3-5511416a183c\":{\"roots\":{\"references\":[{\"attributes\":{\"below\":[{\"id\":\"1467\",\"type\":\"LinearAxis\"}],\"center\":[{\"id\":\"1471\",\"type\":\"Grid\"},{\"id\":\"1476\",\"type\":\"Grid\"}],\"left\":[{\"id\":\"1472\",\"type\":\"LinearAxis\"}],\"plot_height\":500,\"plot_width\":500,\"renderers\":[{\"id\":\"1493\",\"type\":\"GlyphRenderer\"},{\"id\":\"1498\",\"type\":\"GlyphRenderer\"}],\"title\":{\"id\":\"1537\",\"type\":\"Title\"},\"toolbar\":{\"id\":\"1483\",\"type\":\"Toolbar\"},\"x_range\":{\"id\":\"1459\",\"type\":\"DataRange1d\"},\"x_scale\":{\"id\":\"1463\",\"type\":\"LinearScale\"},\"y_range\":{\"id\":\"1461\",\"type\":\"DataRange1d\"},\"y_scale\":{\"id\":\"1465\",\"type\":\"LinearScale\"}},\"id\":\"1458\",\"subtype\":\"Figure\",\"type\":\"Plot\"},{\"attributes\":{\"bottom_units\":\"screen\",\"fill_alpha\":{\"value\":0.5},\"fill_color\":{\"value\":\"lightgrey\"},\"left_units\":\"screen\",\"level\":\"overlay\",\"line_alpha\":{\"value\":1.0},\"line_color\":{\"value\":\"black\"},\"line_dash\":[4,4],\"line_width\":{\"value\":2},\"render_mode\":\"css\",\"right_units\":\"screen\",\"top_units\":\"screen\"},\"id\":\"1546\",\"type\":\"BoxAnnotation\"},{\"attributes\":{\"source\":{\"id\":\"1490\",\"type\":\"ColumnDataSource\"}},\"id\":\"1494\",\"type\":\"CDSView\"},{\"attributes\":{},\"id\":\"1477\",\"type\":\"PanTool\"},{\"attributes\":{},\"id\":\"1543\",\"type\":\"UnionRenderers\"},{\"attributes\":{\"formatter\":{\"id\":\"1539\",\"type\":\"BasicTickFormatter\"},\"ticker\":{\"id\":\"1468\",\"type\":\"BasicTicker\"}},\"id\":\"1467\",\"type\":\"LinearAxis\"},{\"attributes\":{\"callback\":null},\"id\":\"1459\",\"type\":\"DataRange1d\"},{\"attributes\":{\"fill_color\":{\"value\":\"lightblue\"},\"line_color\":{\"value\":\"brown\"},\"size\":{\"units\":\"screen\",\"value\":8},\"x\":{\"field\":\"x\"},\"y\":{\"field\":\"y\"}},\"id\":\"1496\",\"type\":\"Square\"},{\"attributes\":{},\"id\":\"1544\",\"type\":\"Selection\"},{\"attributes\":{\"callback\":null},\"id\":\"1461\",\"type\":\"DataRange1d\"},{\"attributes\":{},\"id\":\"1478\",\"type\":\"WheelZoomTool\"},{\"attributes\":{\"text\":\"\"},\"id\":\"1537\",\"type\":\"Title\"},{\"attributes\":{\"overlay\":{\"id\":\"1546\",\"type\":\"BoxAnnotation\"}},\"id\":\"1479\",\"type\":\"BoxZoomTool\"},{\"attributes\":{},\"id\":\"1463\",\"type\":\"LinearScale\"},{\"attributes\":{\"data_source\":{\"id\":\"1495\",\"type\":\"ColumnDataSource\"},\"glyph\":{\"id\":\"1496\",\"type\":\"Square\"},\"hover_glyph\":null,\"muted_glyph\":null,\"nonselection_glyph\":{\"id\":\"1497\",\"type\":\"Square\"},\"selection_glyph\":null,\"view\":{\"id\":\"1499\",\"type\":\"CDSView\"}},\"id\":\"1498\",\"type\":\"GlyphRenderer\"},{\"attributes\":{},\"id\":\"1480\",\"type\":\"SaveTool\"},{\"attributes\":{},\"id\":\"1465\",\"type\":\"LinearScale\"},{\"attributes\":{},\"id\":\"1481\",\"type\":\"ResetTool\"},{\"attributes\":{\"ticker\":{\"id\":\"1468\",\"type\":\"BasicTicker\"}},\"id\":\"1471\",\"type\":\"Grid\"},{\"attributes\":{\"callback\":null,\"data\":{\"x\":{\"__ndarray__\":\"2AvcC1164T+UTCyKHWPQP3ClSdz/ftg/7ipCdYsc5j+W8EfEkpLTP+SXuEA9B9E/AIlonPNvzT9kjwWCuMLEPwCYlFAeasY/ta98Z9P75j8ikIroSeHaP2LRcFgENuE/8Vo8Gjls5z+IStSOloTnP2gKye7Ds8k/GYKON0NF7T8gm22ZqJi/PzhKGQAnEtk/J/ERUK+t5D+jBGgKzMzkP0D2kSyOxO4/KMjNOWxw3j8nXcKIUXXuP/5/V2ACwOI/FOMQJAwa6D8QKSjUOByxPxLYcRqTFN8/X/lraPBE6z8uAbZgDibYP0aTtILggu4/noTtxDlZ0j9VWbSgUtXgP3S7canJSc4/NgqRqcWZ0j/SiURtF/DpP6hplNidiL8/MVm+Fs5U6j+dH2BPCAbsPyBVVjT6p6E/gKEBiFyNlD/Uh1rOig/JP6AVfJSJ2ac/sPPCZ3FLpT84iY0MAhPWP00YnOW7S+0/i9pwbH4w6j9gAMcl5P6fPzBt8RS207Q/Qm6+q0zZ1T+s8PMO+HTuP6jLtDmwUrM/amn7W2fp4j/e3OOXZpbrP2mz0OgDou8/ckcKa4nT0z+GVWYCZGXYPwfFdTi8ROM/Cp4/UoTp2D+NQh2fFR/pPy6BqM/yO+E/qKf3Q9RY3j/opoBIy5SwP8BkPaqKn54/KoOXWcxE0D/70d2qW4/jP0RTiOXfbsU/Tjzii0uT0z9oLgfgOGXFP60jgc7yv+s/aOuov9kWxD+Z8yVfI6rhP7xYK+X53Mo/nZu/JEPi7D/4qUfaismxP3tG4iJF8eQ/jKXOSjch4T/w8mNBOa3BP0GZwkn87+4/kOWM8jRStj9Rb1y5CkjmP54WMgVXnOM/F7H40Ssf5z+XgKiaoiLlP4C36xAxL+I/J1Zs81Kl7T8LVyzTPVPiP29kgR1dMOs/GsQ3AC9a4T/2f3NHiOndP+0fVeR5Vek/IpAqgnDI7D/Z2S08JgDvP6RnDJHHJ+s/zOrIFzqIzD84eibB2DbtP8wzDw77Fts/OiVE+Ht55T+EtMPE50HgP/UADo4HMek/V7XKEtWg7D8=\",\"dtype\":\"float64\",\"shape\":[100]},\"y\":{\"__ndarray__\":\"xo5Fhq0X0z/lBh0SociwP+EAU9F3wMI/XuZPb7KO3j/UQ+tNW/G3P89iC3BlH7I/9x/JNHEUqz/wn64HD/CaP6HCfS+TZp8/qIMncACC4D9U+uExSpTGP5fkRZl/g9I/rb+NFwAl4T8O4C/KvUjhP482yQHUpKQ/ZBMfvx/G6j+uO27unjKPP6koNzxnpMM/+kfRrpO52j9xcTd3OwrbP45Vq+NBle0/Wn5k41X0zD+TOnT9pv3sP1VuzZEF+dU/RIvYaScn4j/ou4WKKkxyP/3bwT3qL84/XB8ANeo85z/LJz3TQjnCP0a3Xzt8F+0/W9GVjrMKtT/7KQprwbXRP4cywUIEq6w/dTNbm8KftT/zQTP6LQblPyIVWxT5Eo8/J/0bpK+q5T/UIwiuj4roP0qjhDXXe1M/FVH4REhmOj8aAuluUKCjPxO0r5l8xmE/nU+wam1XXD+tTGM3XHS+P72BPs330eo/Gi1w7RZv5T9g4mNVyP1PPygN3I44HHs/odX1c/DVvT+fs/ip/PzsPzDX8d4NVnc/4lnoY3Va1j8LaGkDkMjnP/kWqtobRe8/p9Q7G1ORuD9FNSFEV5nCP5LMnU5mNNc/3VJwjO5kwz+bnJD6r7jjP2thZpZEkNI/lzFmlITHzD/pWtVL/i5xP9y+h2s/Tk0/vHxahsCKsD95PmoufunXPyAIVw0Mtpw/fWDIaR/ztz/uYOmqNZycP2RqLR5pEOg/ycSIAUE5mT+ZviRanIDTPxEBFQgMjaY/1URDVTUS6j+0kjnFMcZzP+pNGwtjads/38fKc9pW0j+XWOcRbYeTP460n9IA6e0/btJo+rcjfz8gokneYQffP/OOFU9GCdg/FlL4Wu204D9aH4DPNevbP2w97Ja5qtQ/JrB5efx26z/1lIEt/PzUP0TRMTrmGec/XQXDMaDR0j/bOVZM7/XLPz1TIsZyDuQ/gSGxY6zj6T9zhcYUSgjuP70TEzhSC+c/+zzTl6lwqT93013fxqvqP+SgnijY7sY/j3B+0n/S3D8pasMB34TQP/60Gu3m1OM/o2opOZ2c6T8=\",\"dtype\":\"float64\",\"shape\":[100]}},\"selected\":{\"id\":\"1542\",\"type\":\"Selection\"},\"selection_policy\":{\"id\":\"1543\",\"type\":\"UnionRenderers\"}},\"id\":\"1490\",\"type\":\"ColumnDataSource\"},{\"attributes\":{},\"id\":\"1542\",\"type\":\"Selection\"},{\"attributes\":{},\"id\":\"1482\",\"type\":\"HelpTool\"},{\"attributes\":{},\"id\":\"1545\",\"type\":\"UnionRenderers\"},{\"attributes\":{},\"id\":\"1468\",\"type\":\"BasicTicker\"},{\"attributes\":{\"formatter\":{\"id\":\"1541\",\"type\":\"BasicTickFormatter\"},\"ticker\":{\"id\":\"1473\",\"type\":\"BasicTicker\"}},\"id\":\"1472\",\"type\":\"LinearAxis\"},{\"attributes\":{\"dimension\":1,\"ticker\":{\"id\":\"1473\",\"type\":\"BasicTicker\"}},\"id\":\"1476\",\"type\":\"Grid\"},{\"attributes\":{\"source\":{\"id\":\"1495\",\"type\":\"ColumnDataSource\"}},\"id\":\"1499\",\"type\":\"CDSView\"},{\"attributes\":{},\"id\":\"1539\",\"type\":\"BasicTickFormatter\"},{\"attributes\":{\"active_drag\":\"auto\",\"active_inspect\":\"auto\",\"active_multi\":null,\"active_scroll\":\"auto\",\"active_tap\":\"auto\",\"tools\":[{\"id\":\"1477\",\"type\":\"PanTool\"},{\"id\":\"1478\",\"type\":\"WheelZoomTool\"},{\"id\":\"1479\",\"type\":\"BoxZoomTool\"},{\"id\":\"1480\",\"type\":\"SaveTool\"},{\"id\":\"1481\",\"type\":\"ResetTool\"},{\"id\":\"1482\",\"type\":\"HelpTool\"}]},\"id\":\"1483\",\"type\":\"Toolbar\"},{\"attributes\":{\"fill_alpha\":{\"value\":0.1},\"fill_color\":{\"value\":\"#1f77b4\"},\"line_alpha\":{\"value\":0.1},\"line_color\":{\"value\":\"#1f77b4\"},\"radius\":{\"units\":\"data\",\"value\":0.01},\"x\":{\"field\":\"x\"},\"y\":{\"field\":\"y\"}},\"id\":\"1492\",\"type\":\"Circle\"},{\"attributes\":{},\"id\":\"1473\",\"type\":\"BasicTicker\"},{\"attributes\":{\"fill_alpha\":{\"value\":0.1},\"fill_color\":{\"value\":\"#1f77b4\"},\"line_alpha\":{\"value\":0.1},\"line_color\":{\"value\":\"#1f77b4\"},\"size\":{\"units\":\"screen\",\"value\":8},\"x\":{\"field\":\"x\"},\"y\":{\"field\":\"y\"}},\"id\":\"1497\",\"type\":\"Square\"},{\"attributes\":{\"data_source\":{\"id\":\"1490\",\"type\":\"ColumnDataSource\"},\"glyph\":{\"id\":\"1491\",\"type\":\"Circle\"},\"hover_glyph\":null,\"muted_glyph\":null,\"nonselection_glyph\":{\"id\":\"1492\",\"type\":\"Circle\"},\"selection_glyph\":null,\"view\":{\"id\":\"1494\",\"type\":\"CDSView\"}},\"id\":\"1493\",\"type\":\"GlyphRenderer\"},{\"attributes\":{},\"id\":\"1541\",\"type\":\"BasicTickFormatter\"},{\"attributes\":{\"callback\":null,\"data\":{\"x\":{\"__ndarray__\":\"iDGR8SvbxD+g8FFzmTCRP5hGL0eLtaw/g1N4tFwd1T/ez8dt8kmdP/yDbuSOSZM/tiUdqEPpiD8SDrYR9HlxP3ACcLem/nU/kA9BHpK21z81eZQYc/eyP6U9tWg46sM/mOBnEicZ2T9GDaeUy2fZP+O1xgm+lIA/VH/2NoB96D+9nD7J3s1eP1qcFCMqx64/o3lq/QlF0T8d2KDPcpPRP3ymi2ijcew/AGG5nsmKuz9MdSDWFZjrP8S6S8rVv8k/o6EZhUhY2z+Ph9R6M5EzP1PFSKPTUb0/LKoZo3XN4z9pw9KbPIGrP/gilPv/vOs/V81MgGEhmD+uk0t/4KHCP749TcpuIos//cfrx40jmT8UrIeokQrhPxT7tDULn14/NHKWTBrU4T8Fd7sS3n3lP9vG2e0hgAU/sOrOL4z04D5K4og8jr1+P5+wUe//fho/QzQWJzHcEj8FQQ1wFgKlP8QwOyrCjeg/Zhhc8b2K4T/CTtaOrPz/Phdcd7D/pEE/poznDgBfpD/mHHOpIpfrP+udmIbKLjw/47m5xNlryj82ux/mAYHkP01a06pE6e4/CW8BKWJxnj82azse31usP1DQvSnp8cs/LAroCHQyrj9Qy/1y4/beP+C7spPW/sM/Ebem3u9Kuz8d1ipOy84xP333Rj13C/w+UKJMfuHRkD9YBzeuhTvNPyAMxJTyOnM/rtg/EzBNnT+kZjYbAyFzP70mSDwx3uQ/I3v0QZerbz/JuFS6B4jFP1MqTpRT7oI/TElV90WI5z/eC/1Nqvs1Py8U/NGK8NE/9sLjnVqiwz/nHJwQUpNlP3C6ctPA6uw/L++riY24RT+QqRFL7prVP+YeqaXgdc0/VyUigKEk2D8v7QcXk3DSP2SrqKsFfcc/HiO8hblx6T/CrOEozQnIP/pNA1PEoOM/G0j/ocxoxD9Gkzmn7iK6PxvLzuK4wd8/EcnU0mBJ5z/23HKmKxjtPw74X+IyjuM/AS+6ZOGuhj//coDCYlnoPxGnZIL+abM/hPgufo9X0z8R9zMV6sjAP0bB5zJuOd8/FOeiLcPp5j8=\",\"dtype\":\"float64\",\"shape\":[100]},\"y\":{\"__ndarray__\":\"GSchKV/Itj8UYFTlFZtxP3XOG9YY+pU/6Kw05AouzT8WXUyoD+qBPxDkrtfhhnQ/fN4lGIzqZj96DvZNIa1GP2tn9/gF0E4/foxtJyEI0T8EUyBnKt2fP8SxRNYXbLU/CCd6wvVe0j+lrYwC3qvSP5jUlAm0olo/0x6PP75m5j+NBbQBZGouP3uD73UOHZg/pPpSMsRRxj9uk8aeR9nGP9phxpo/Wes/+R+i7N8yqj/MkXrXvkPqP/tLF1zSLL4/vU+sfniY1D8w+UFMyuz0PpuNk/Ieeqw/BBUpoQTg4D/ixoFIo8GUP1oiFWiicuo/I4yafh6sez9NiK20S5qzP3MaXGrZrmk/+xjeDJo5fT84UsYTO6DbP0AkOtfNLC4/weew6ilX3T8OW85+L9LiPx6KQKfdubc+umluXXzHhT5D8adRBRNYPzhvOxZnv9M+OcoeV+4ZyT6LfnUF1PuMP+yA7WGUeuY/jcWFfZ+23D9L7h3SkPuvPspNcVS49wY/6xhEIlrRiz/4P7M8ikLqP3D8D1ubBAE/uDTAPsI6vz/ZSZoPOK3hP9vI4Dd7ju4/kGLYopDcgj8AqR3wwZ6VP9psyd6o08A/ttdKQTOClz9x+inK9U7YP/aRHyavibU/zNjN/gPiqT8XFSNnZnTyPoLwj0iS1qo+RC/PTjQacT/EMi4aTd7BPzyWdMCgwkk/P3RFTbTsgT/HzrR2WJRJPyabuxemGOI/8zh/AtzhQz9ecLEhfcW3P0ZBUXq8yF8/2h7mBqE95T/Z3tRETXD4PmiD6TUye8c/NpyL/EIFtT9hFvtNHdY3P2GyvBHy9Os/t5zAU1xNDj/7O6tSTxbOP05NxybsDcI/ZZAwoNhx0T9OW9qsq1vIP01tfqntsbo/vTXFeoSS5z8sAOSIFoi7P5/v2ulPreA/1bZO32Iitj/15g/wZW6oPyndZ/srJNk/S9YrNRHy5D+dHaoMjS/sP0E59TFKmOA/aqTjo5U5ZD+mpD9FvTrmP2R56uxfb6A/tJQGYMj1yT/SLUhvDQ6xPxKgr2e1lNg/u4NCKbR/5D8=\",\"dtype\":\"float64\",\"shape\":[100]}},\"selected\":{\"id\":\"1544\",\"type\":\"Selection\"},\"selection_policy\":{\"id\":\"1545\",\"type\":\"UnionRenderers\"}},\"id\":\"1495\",\"type\":\"ColumnDataSource\"},{\"attributes\":{\"fill_color\":{\"value\":\"lightgreen\"},\"line_alpha\":{\"value\":0.8},\"line_color\":{\"value\":\"red\"},\"radius\":{\"units\":\"data\",\"value\":0.01},\"x\":{\"field\":\"x\"},\"y\":{\"field\":\"y\"}},\"id\":\"1491\",\"type\":\"Circle\"}],\"root_ids\":[\"1458\"]},\"title\":\"Bokeh Application\",\"version\":\"1.3.4\"}};\n",
       "  var render_items = [{\"docid\":\"08705c97-4d9f-42ea-a7e3-5511416a183c\",\"roots\":{\"1458\":\"d9592a08-d025-4725-b1ff-96c1d7bbc20f\"}}];\n",
       "  root.Bokeh.embed.embed_items_notebook(docs_json, render_items);\n",
       "\n",
       "  }\n",
       "  if (root.Bokeh !== undefined) {\n",
       "    embed_document(root);\n",
       "  } else {\n",
       "    var attempts = 0;\n",
       "    var timer = setInterval(function(root) {\n",
       "      if (root.Bokeh !== undefined) {\n",
       "        embed_document(root);\n",
       "        clearInterval(timer);\n",
       "      }\n",
       "      attempts++;\n",
       "      if (attempts > 100) {\n",
       "        console.log(\"Bokeh: ERROR: Unable to run BokehJS code because BokehJS library is missing\");\n",
       "        clearInterval(timer);\n",
       "      }\n",
       "    }, 10, root)\n",
       "  }\n",
       "})(window);"
      ],
      "application/vnd.bokehjs_exec.v0+json": ""
     },
     "metadata": {
      "application/vnd.bokehjs_exec.v0+json": {
       "id": "1458"
      }
     },
     "output_type": "display_data"
    }
   ],
   "source": [
    "p = figure(plot_width=500, plot_height=500)\n",
    "\n",
    "import numpy as np\n",
    "\n",
    "normal = np.random.rand(100)\n",
    "square = normal**2\n",
    "cubic = normal**3\n",
    "polynomic = normal**4\n",
    "\n",
    "\n",
    "p.circle(normal ,square, \n",
    "         fill_color  = 'lightgreen',\n",
    "         line_alpha = 0.8,\n",
    "         line_color = 'red',\n",
    "         radius = 0.01)\n",
    "\n",
    "p.square(cubic ,polynomic, \n",
    "         fill_color  = 'lightblue',\n",
    "         line_alpha = 1,\n",
    "         line_color = 'brown',\n",
    "         size = 8)\n",
    "show(p)"
   ]
  },
  {
   "cell_type": "markdown",
   "metadata": {},
   "source": [
    "Para añadir texto a nuestra visualización, tenemos que acceder a los propios atributos de nuestro objeto **figure**, para añadir texto en los ejes x e y tenemos que acceder a los siguientes atributos:\n",
    "* **xaxis**\n",
    "* **yaxis**\n",
    "\n",
    "Para ambos atributos, dispondremos del atributo **axis_label**, el título de un gráfico podemos añadir a través del parámetro **title** dentro de la función figure cuando inicializamos el gráfico"
   ]
  },
  {
   "cell_type": "code",
   "execution_count": 11,
   "metadata": {},
   "outputs": [
    {
     "data": {
      "text/html": [
       "\n",
       "\n",
       "\n",
       "\n",
       "\n",
       "\n",
       "  <div class=\"bk-root\" id=\"ac93dd76-036f-403c-a0ba-e4ad8a1713ec\" data-root-id=\"1613\"></div>\n"
      ]
     },
     "metadata": {},
     "output_type": "display_data"
    },
    {
     "data": {
      "application/javascript": [
       "(function(root) {\n",
       "  function embed_document(root) {\n",
       "    \n",
       "  var docs_json = {\"457888ad-e073-4b27-8d1a-af5c6a88c8c3\":{\"roots\":{\"references\":[{\"attributes\":{\"below\":[{\"id\":\"1624\",\"type\":\"LinearAxis\"}],\"center\":[{\"id\":\"1628\",\"type\":\"Grid\"},{\"id\":\"1633\",\"type\":\"Grid\"}],\"left\":[{\"id\":\"1629\",\"type\":\"LinearAxis\"}],\"plot_height\":500,\"plot_width\":500,\"renderers\":[{\"id\":\"1650\",\"type\":\"GlyphRenderer\"},{\"id\":\"1655\",\"type\":\"GlyphRenderer\"}],\"title\":{\"id\":\"1614\",\"type\":\"Title\"},\"toolbar\":{\"id\":\"1640\",\"type\":\"Toolbar\"},\"x_range\":{\"id\":\"1616\",\"type\":\"DataRange1d\"},\"x_scale\":{\"id\":\"1620\",\"type\":\"LinearScale\"},\"y_range\":{\"id\":\"1618\",\"type\":\"DataRange1d\"},\"y_scale\":{\"id\":\"1622\",\"type\":\"LinearScale\"}},\"id\":\"1613\",\"subtype\":\"Figure\",\"type\":\"Plot\"},{\"attributes\":{\"text\":\"Transformaciones de distribuci\\u00f3n normal\"},\"id\":\"1614\",\"type\":\"Title\"},{\"attributes\":{},\"id\":\"1639\",\"type\":\"HelpTool\"},{\"attributes\":{},\"id\":\"1630\",\"type\":\"BasicTicker\"},{\"attributes\":{},\"id\":\"1635\",\"type\":\"WheelZoomTool\"},{\"attributes\":{},\"id\":\"1637\",\"type\":\"SaveTool\"},{\"attributes\":{\"callback\":null,\"data\":{\"x\":{\"__ndarray__\":\"8uFsCCAY2z8Hc3nA3o/hP7UgEG2TWOg/QDM6QmrdzT/egBd1907kP3mxZs7w9u0/3p2/DF4w3z8h1b9ErOHjP5Z2TPjMQes/Gv/ybc0y4j+PEAGByFfgP4jD5Xt13bk/QWE3R9a76D/Cf+pWTq3lP6I7Cr6Z6tQ/qmukkYB24T9iZceBZbXpP2WTrRCpmeQ/WJjObuc8yD/AFIA6xb6wP4hJdXMWZL4/ZKIuOQc06j8IXkRIYqHBP/iLSIFdCtg/kBC1mtCXoz8I3BeeWWLHP0DJmw0fR5c/OFT6WjC/0j+dDCtFNknrPwBcbbNWPcs/J3vyH0z16z8U3fa4jyjHP/70gR0Dquk/68FLCBKe7D/U4JRMvoLTP3VCC6FLSew/zj4eJcaG1T85L6ascwrqPxy2mxCTAeU/SvBCbSJ44T+lqUP99l7mP+JutGced+U/uJaI4eql0T/fw4NWiSbtPxjtA3V5U+A/tKh7s3U04z9Mg2gYs7rqP+aV9+DpCNI/zoLRb8mo4j8HflUL4tzkP2lsJgZbKOI/HpPGBQIT7j94IJ2mCP68P5oPOM0qk+0/uKMFTuxM5z/W9Zk/JtXRP0Rbmc0crOo/ffYkZAeV7z+wiPwL6UDUPyyVXl9Pk+Y/j0jDtfvl5j97yqIIsfjiP+g5CWGWMN8/Cqq0VW835D8OPmP66a3TP9jNuwSZlNM/qAAB9yad4z9MLeZjNjrDP1Np5ANFF+A/tHkESn2kxD8c+qYka4DGPwQE1zrMT8A/LIlA4bHR4T9+8sd2vpbcP8bAkmwF7tQ/eGYyxcnzxj8OD+NpvafvP3CdPswo0NM/sIktpWAeuj++DaSyyLvTP6KftZyA1dA/OLl5ax4asj/OmViIpV7iP9SI2SI3Ed0/wuSeYGVK4D87SpMrExDiP4Dx05Y0fnM/9rEi9v0y5D/GKGXcGynpPzQzdGYB/es/2MVShPDysz/rxgBsR/rgPzrXeEcXS90/B/oEA+uu5z/UCRg0Q9jvP/JoxlYAQuQ/t6P4kVi64j+xYZ+nXmXrPzoP89SmvdY/P2RgeUsf4T8=\",\"dtype\":\"float64\",\"shape\":[100]},\"y\":{\"__ndarray__\":\"d3FkPsjwxj+Ntc8Cx0bTPzs9F1HSheI/ExgdnUzfqz/imWNg8MbZP8ypkxMGD+w/o+vtU/9lzj+89JMnaLTYPxSk0jCRN+c/G4Gfhe+y1D/dqU2gcrHQPwGrBTIE6IQ/RULOABAe4z+vr77TQl7dP7qL1THwV7s/cr3q4T4P0z9dq1XgcqfkP4RYC2Lqhdo/hjSfEM9boj/VvKwKbYZxP0xH3STj3Iw/3UBnVOB05T9BXtulTG2TP8vYbp2PD8I/Kt116y/+Vz/hmCUZjxahP/12erXa7kA//HnBXxn3tT+5Q7AUM0TnP4mEP+L3L6c/r3hHzEht6D9ByLYDgsKgPzvhNB8sleQ/zqigYKyX6T97ZRVTsMq3P7s1lTvsAOk/e/byYTf2vD8oGXxi/zDlP7+SQjMilNs/+D3fLM8S0z8ZqX7dWkffP4cGuqQmzNw/svIlqUt3sz+ouUlVB47qPx/gv2mmqNA/Qi22ikMN1z927Y9NpFPmP2G9aDETVLQ/iKKry7nC1T9S6gZxHjTbPwIK+5Yym9Q/YVA7Fa9D7D/oTerMb0SKPy5PbGViVes/tLVrmUz34D+w/N/RCOCzP9lR1YNMO+Y/0+rdXnQr7z8ip5nzTaO5PyxERopm2t8/M+5B/K5i4D8wzSDLp37WP7yq5yFtZs4/IJq3ZlaL2T9Y8c8TbjS4P8oFzX9P9rc/ZrmwF0QL2D8e1U/4FBuXP+i0Xd+rLtA/3aFNRdShmj/8GeNZLaWfP5PwoXAmoZA/lG1/PVbY0z8dH+Vtk4rJP5LGznDiYLs/YnSAtHZ2oD9BS4pCblDvP1AZOwr1iLg/hpfD4nlRhT801WqVmFa4P1d0wS0itrE/MgLpFO96dD/M+3lSJBfVPxNPHjI9Z8o/Zt19rSSW0D+OhXlIO2TUP5vBK2Ogv/c+kxxYah2A2T/HFNtXcMjjP4EzCLvCeug/u+MG9GPfeD9+dy/R2QPSP+f7umbK0Mo/4vHV9i2H4T8J+rrAt7DvPxXtuxsRptk/HZCblcHr1T8qD3fZUHTnP/Zy52IpKcA/CzDHl71S0j8=\",\"dtype\":\"float64\",\"shape\":[100]}},\"selected\":{\"id\":\"1709\",\"type\":\"Selection\"},\"selection_policy\":{\"id\":\"1710\",\"type\":\"UnionRenderers\"}},\"id\":\"1647\",\"type\":\"ColumnDataSource\"},{\"attributes\":{\"dimension\":1,\"ticker\":{\"id\":\"1630\",\"type\":\"BasicTicker\"}},\"id\":\"1633\",\"type\":\"Grid\"},{\"attributes\":{\"callback\":null},\"id\":\"1618\",\"type\":\"DataRange1d\"},{\"attributes\":{\"bottom_units\":\"screen\",\"fill_alpha\":{\"value\":0.5},\"fill_color\":{\"value\":\"lightgrey\"},\"left_units\":\"screen\",\"level\":\"overlay\",\"line_alpha\":{\"value\":1.0},\"line_color\":{\"value\":\"black\"},\"line_dash\":[4,4],\"line_width\":{\"value\":2},\"render_mode\":\"css\",\"right_units\":\"screen\",\"top_units\":\"screen\"},\"id\":\"1713\",\"type\":\"BoxAnnotation\"},{\"attributes\":{\"active_drag\":\"auto\",\"active_inspect\":\"auto\",\"active_multi\":null,\"active_scroll\":\"auto\",\"active_tap\":\"auto\",\"tools\":[{\"id\":\"1634\",\"type\":\"PanTool\"},{\"id\":\"1635\",\"type\":\"WheelZoomTool\"},{\"id\":\"1636\",\"type\":\"BoxZoomTool\"},{\"id\":\"1637\",\"type\":\"SaveTool\"},{\"id\":\"1638\",\"type\":\"ResetTool\"},{\"id\":\"1639\",\"type\":\"HelpTool\"}]},\"id\":\"1640\",\"type\":\"Toolbar\"},{\"attributes\":{\"axis_label\":\"Valor de distribuci\\u00f3n Y\",\"formatter\":{\"id\":\"1708\",\"type\":\"BasicTickFormatter\"},\"ticker\":{\"id\":\"1630\",\"type\":\"BasicTicker\"}},\"id\":\"1629\",\"type\":\"LinearAxis\"},{\"attributes\":{\"source\":{\"id\":\"1652\",\"type\":\"ColumnDataSource\"}},\"id\":\"1656\",\"type\":\"CDSView\"},{\"attributes\":{\"fill_color\":{\"value\":\"lightblue\"},\"line_color\":{\"value\":\"brown\"},\"size\":{\"units\":\"screen\",\"value\":8},\"x\":{\"field\":\"x\"},\"y\":{\"field\":\"y\"}},\"id\":\"1653\",\"type\":\"Square\"},{\"attributes\":{\"fill_color\":{\"value\":\"lightgreen\"},\"line_alpha\":{\"value\":0.8},\"line_color\":{\"value\":\"red\"},\"radius\":{\"units\":\"data\",\"value\":0.01},\"x\":{\"field\":\"x\"},\"y\":{\"field\":\"y\"}},\"id\":\"1648\",\"type\":\"Circle\"},{\"attributes\":{\"callback\":null,\"data\":{\"x\":{\"__ndarray__\":\"JAqmgXRssz9GvpJjiCjFPyd5HypGL9w/knbcJDgDij+h6Ap88lvQP3ymHCYkRuo/Na4GsMGgvT8Q2jKlrrLOP8qcgBagxuM/6D+vZQaLxz997EWwCA3BP+AnT2Xy5VA/ZGtsY4eN3T9zUMVZ6eTTP78vaYps36E/OKJAZ1zNxD9bIE5l5pfgP7SG/OYOE9E/MeAObpjPez/vqL1gYVcyP+xpYnhbaVs/b5MFCdmR4T8FV7KYFGhlP3jHSrIKI6s/hCVHnIBhDT9yTvSWd/l4P68KlCyfoug+ZXXSrHS8mT8deVwjxtbjP5qhWmrrvIM/MC2oPXRX5T9Rd4m2F0J4P7sCvvPkgeA/+ySdIyLj5j+0dxo0GwOdP9aXCecTGuY/7VhAtY57oz9Kzz5quz7hP22pgtGRGtI/7uq1OzLTxD+viEp/4d3VPwRfhugrUdM/W/gOY5x4lT+eiNpFsTDoP5RKRL6P/8A/y5jP41Sryz8Nfu6eOKbiPwGmWcfo6ZY/FopNmp9gyT9K+KaBWbzRP75I7yKSYsc//h8xHT6Q6j+SeZckaMxXP4UXSPcVQ+k/FPzIWg+12D8yR35XzyaWP41NG+nAh+I/LvbNRELD7j/PR9EKEjqgP3otN8jIeNY/+4SSyTZz1z9SzZXSIKzKP3QW2jhiob0/NVVxXFYj0D+9gQmUW8WdP1eskPEJU50/Znc79ol5zT/+rI2eOcRrP7HCo8M0RsA/JNbyUAoucT8LRsLXjUB2PzHRP2IW9GA/gwV3KPIZxj+ykNWYktG2P9UqsL4y6KE/rKsf/rmddz+0jorqD/ruP08AQv3VYZ4/jJ37zG9mUT+DZ/GSegSePxbcTDN5opI/8lEarLsrNz842Y0EyzbIP+pzIMzD+7c/kF4RL0TjwD+jrGBbPwXHP/RFeZPh7nw+Y1R68bQY0D+EIuabAxzfPwbrm/MfaeU/FggiXu8CPz+oa0Vnph3DP8U4cEkkjLg/FMhxm/Hx2T+2xKFoXYnvP2j9K3qxPNA/RBpgy4eoyT/cKjS3cBTkPxbTAqMn+KY/eYlyL8Cbwz8=\",\"dtype\":\"float64\",\"shape\":[100]},\"y\":{\"__ndarray__\":\"CwtXFidyoD+SPrG9UTm3P1z+xHl4cdU/bEumfedGaD/6F1JcrMPEP/fq9a9Rmug/LCoV2YPgrD8PMW5QlRLDP7Fi2TNB2OA/Foxt7SfHuj+hPOs7lWqxP4HpufYuURs/euT8fZ7X1j+gLfHI7vPKP8NAMv1WXYc/Yz1s30O0tj/Q8Rmid6naPzgpVkrN+8U/Swc7s6AQVT8YAAkcETLzPohyCjqCCCo/eSCgniLG3D8b+6uvgJY3P8uriUQSY5Q/ch97+0f9wT7q3fTjD0BSP6GCOSGj65E+RZPwuoonfj952CbHmurgPw4c5Dw8zWA/R3gAa2Kl4j9VHWicQI5RP9cXQxRdeto/3YNrPcx35D/GQlNNYbCBPzwT6SNxieM/xQBLX0c2ij8yAMFuNBHcP68M/3KnxMc/B8MxJ8K8tj+UTV4p35LOP8p5KA1a6sk/of2TKM2udz8zaq5LQgnmP6lS74A+WLE/SCTVlhabwD/CuYcUuSffPymrI8Xp03k/zAybmGmYvT9h98dBSCDHPxjOQN7fibo/UaUOjgH36D8dPaoJyI8lP3sjEN/5WOc/MABHgYf90T9nVG3pVbB4P/nORDDu494/Qhw0emxc7j8Npn8va4qEP021TEL5tM8/L8KPn77H0D9DIzkIOKC/Px+0vnhU4aw/QYUEuBVkxD8W9vIE+06CP44pyS568YE/WUTqGuoQwj/+hmMQBa9AP0EHNuLfXbA/D5sXVisqRj8fPhd6XEtPP0r2OvejSDE/1epb7DmduD/sE/F13mKkP7UiRHOjbIc/0/1Xg1rwUD9Hj7TJn6TuP/sAhLm5z4I/euz52H5nHD857Bo3z4KCP0kLFeshm3M/rOc5QAY3+j55yD/R4My7P//q2IMQyaU/0sYES8oxsT+wZBUbCP25P4+hUhTynwE+q3eX4S5SxD88hlHM2XXYP9Jr/wn7ueI/zqpbaC1VAz9/g+4Dq0i0P2WKJzObeKY/pwewxLcz0z8TdtHuM2LvP72F3ozYjsQ/tUJp+G0Ivj8TCpAD2zDhP2DVVKq8UpA/Jn2addb7tD8=\",\"dtype\":\"float64\",\"shape\":[100]}},\"selected\":{\"id\":\"1711\",\"type\":\"Selection\"},\"selection_policy\":{\"id\":\"1712\",\"type\":\"UnionRenderers\"}},\"id\":\"1652\",\"type\":\"ColumnDataSource\"},{\"attributes\":{},\"id\":\"1709\",\"type\":\"Selection\"},{\"attributes\":{\"fill_alpha\":{\"value\":0.1},\"fill_color\":{\"value\":\"#1f77b4\"},\"line_alpha\":{\"value\":0.1},\"line_color\":{\"value\":\"#1f77b4\"},\"radius\":{\"units\":\"data\",\"value\":0.01},\"x\":{\"field\":\"x\"},\"y\":{\"field\":\"y\"}},\"id\":\"1649\",\"type\":\"Circle\"},{\"attributes\":{\"fill_alpha\":{\"value\":0.1},\"fill_color\":{\"value\":\"#1f77b4\"},\"line_alpha\":{\"value\":0.1},\"line_color\":{\"value\":\"#1f77b4\"},\"size\":{\"units\":\"screen\",\"value\":8},\"x\":{\"field\":\"x\"},\"y\":{\"field\":\"y\"}},\"id\":\"1654\",\"type\":\"Square\"},{\"attributes\":{},\"id\":\"1634\",\"type\":\"PanTool\"},{\"attributes\":{},\"id\":\"1708\",\"type\":\"BasicTickFormatter\"},{\"attributes\":{},\"id\":\"1711\",\"type\":\"Selection\"},{\"attributes\":{\"data_source\":{\"id\":\"1647\",\"type\":\"ColumnDataSource\"},\"glyph\":{\"id\":\"1648\",\"type\":\"Circle\"},\"hover_glyph\":null,\"muted_glyph\":null,\"nonselection_glyph\":{\"id\":\"1649\",\"type\":\"Circle\"},\"selection_glyph\":null,\"view\":{\"id\":\"1651\",\"type\":\"CDSView\"}},\"id\":\"1650\",\"type\":\"GlyphRenderer\"},{\"attributes\":{\"axis_label\":\"Valor de distribuci\\u00f3n X\",\"formatter\":{\"id\":\"1706\",\"type\":\"BasicTickFormatter\"},\"ticker\":{\"id\":\"1625\",\"type\":\"BasicTicker\"}},\"id\":\"1624\",\"type\":\"LinearAxis\"},{\"attributes\":{},\"id\":\"1706\",\"type\":\"BasicTickFormatter\"},{\"attributes\":{\"ticker\":{\"id\":\"1625\",\"type\":\"BasicTicker\"}},\"id\":\"1628\",\"type\":\"Grid\"},{\"attributes\":{\"source\":{\"id\":\"1647\",\"type\":\"ColumnDataSource\"}},\"id\":\"1651\",\"type\":\"CDSView\"},{\"attributes\":{\"callback\":null},\"id\":\"1616\",\"type\":\"DataRange1d\"},{\"attributes\":{\"data_source\":{\"id\":\"1652\",\"type\":\"ColumnDataSource\"},\"glyph\":{\"id\":\"1653\",\"type\":\"Square\"},\"hover_glyph\":null,\"muted_glyph\":null,\"nonselection_glyph\":{\"id\":\"1654\",\"type\":\"Square\"},\"selection_glyph\":null,\"view\":{\"id\":\"1656\",\"type\":\"CDSView\"}},\"id\":\"1655\",\"type\":\"GlyphRenderer\"},{\"attributes\":{},\"id\":\"1620\",\"type\":\"LinearScale\"},{\"attributes\":{},\"id\":\"1712\",\"type\":\"UnionRenderers\"},{\"attributes\":{},\"id\":\"1638\",\"type\":\"ResetTool\"},{\"attributes\":{},\"id\":\"1625\",\"type\":\"BasicTicker\"},{\"attributes\":{},\"id\":\"1710\",\"type\":\"UnionRenderers\"},{\"attributes\":{\"overlay\":{\"id\":\"1713\",\"type\":\"BoxAnnotation\"}},\"id\":\"1636\",\"type\":\"BoxZoomTool\"},{\"attributes\":{},\"id\":\"1622\",\"type\":\"LinearScale\"}],\"root_ids\":[\"1613\"]},\"title\":\"Bokeh Application\",\"version\":\"1.3.4\"}};\n",
       "  var render_items = [{\"docid\":\"457888ad-e073-4b27-8d1a-af5c6a88c8c3\",\"roots\":{\"1613\":\"ac93dd76-036f-403c-a0ba-e4ad8a1713ec\"}}];\n",
       "  root.Bokeh.embed.embed_items_notebook(docs_json, render_items);\n",
       "\n",
       "  }\n",
       "  if (root.Bokeh !== undefined) {\n",
       "    embed_document(root);\n",
       "  } else {\n",
       "    var attempts = 0;\n",
       "    var timer = setInterval(function(root) {\n",
       "      if (root.Bokeh !== undefined) {\n",
       "        embed_document(root);\n",
       "        clearInterval(timer);\n",
       "      }\n",
       "      attempts++;\n",
       "      if (attempts > 100) {\n",
       "        console.log(\"Bokeh: ERROR: Unable to run BokehJS code because BokehJS library is missing\");\n",
       "        clearInterval(timer);\n",
       "      }\n",
       "    }, 10, root)\n",
       "  }\n",
       "})(window);"
      ],
      "application/vnd.bokehjs_exec.v0+json": ""
     },
     "metadata": {
      "application/vnd.bokehjs_exec.v0+json": {
       "id": "1613"
      }
     },
     "output_type": "display_data"
    }
   ],
   "source": [
    "p = figure(plot_width=500, plot_height=500, title='Transformaciones de distribución normal')\n",
    "\n",
    "normal = np.random.rand(100)\n",
    "square = normal**2\n",
    "cubic = normal**3\n",
    "polynomic = normal**4\n",
    "\n",
    "\n",
    "p.circle(normal ,square, \n",
    "         fill_color  = 'lightgreen',\n",
    "         line_alpha = 0.8,\n",
    "         line_color = 'red',\n",
    "         radius = 0.01)\n",
    "\n",
    "p.square(cubic ,polynomic, \n",
    "         fill_color  = 'lightblue',\n",
    "         line_alpha = 1,\n",
    "         line_color = 'brown',\n",
    "         size = 8)\n",
    "\n",
    "p.xaxis.axis_label = 'Valor de distribución X'\n",
    "p.yaxis.axis_label = 'Valor de distribución Y'\n",
    "\n",
    "\n",
    "show(p)\n"
   ]
  },
  {
   "cell_type": "markdown",
   "metadata": {},
   "source": [
    "También podemos cambiar elementos descriptivos de los ejes"
   ]
  },
  {
   "cell_type": "code",
   "execution_count": 12,
   "metadata": {},
   "outputs": [
    {
     "data": {
      "text/html": [
       "\n",
       "\n",
       "\n",
       "\n",
       "\n",
       "\n",
       "  <div class=\"bk-root\" id=\"ab5af57f-34f7-4928-9d78-9537f3e9e658\" data-root-id=\"1774\"></div>\n"
      ]
     },
     "metadata": {},
     "output_type": "display_data"
    },
    {
     "data": {
      "application/javascript": [
       "(function(root) {\n",
       "  function embed_document(root) {\n",
       "    \n",
       "  var docs_json = {\"f47e2690-a8e3-4a54-986b-1dbc6688853e\":{\"roots\":{\"references\":[{\"attributes\":{\"below\":[{\"id\":\"1785\",\"type\":\"LinearAxis\"}],\"center\":[{\"id\":\"1789\",\"type\":\"Grid\"},{\"id\":\"1794\",\"type\":\"Grid\"}],\"left\":[{\"id\":\"1790\",\"type\":\"LinearAxis\"}],\"plot_height\":500,\"plot_width\":500,\"renderers\":[{\"id\":\"1811\",\"type\":\"GlyphRenderer\"},{\"id\":\"1816\",\"type\":\"GlyphRenderer\"}],\"title\":{\"id\":\"1775\",\"type\":\"Title\"},\"toolbar\":{\"id\":\"1801\",\"type\":\"Toolbar\"},\"x_range\":{\"id\":\"1777\",\"type\":\"DataRange1d\"},\"x_scale\":{\"id\":\"1781\",\"type\":\"LinearScale\"},\"y_range\":{\"id\":\"1779\",\"type\":\"DataRange1d\"},\"y_scale\":{\"id\":\"1783\",\"type\":\"LinearScale\"}},\"id\":\"1774\",\"subtype\":\"Figure\",\"type\":\"Plot\"},{\"attributes\":{\"overlay\":{\"id\":\"1884\",\"type\":\"BoxAnnotation\"}},\"id\":\"1797\",\"type\":\"BoxZoomTool\"},{\"attributes\":{\"data_source\":{\"id\":\"1808\",\"type\":\"ColumnDataSource\"},\"glyph\":{\"id\":\"1809\",\"type\":\"Circle\"},\"hover_glyph\":null,\"muted_glyph\":null,\"nonselection_glyph\":{\"id\":\"1810\",\"type\":\"Circle\"},\"selection_glyph\":null,\"view\":{\"id\":\"1812\",\"type\":\"CDSView\"}},\"id\":\"1811\",\"type\":\"GlyphRenderer\"},{\"attributes\":{\"axis_label\":\"Valor de distribuci\\u00f3n X\",\"axis_line_color\":{\"value\":\"blue\"},\"axis_line_width\":{\"value\":2},\"formatter\":{\"id\":\"1877\",\"type\":\"BasicTickFormatter\"},\"major_label_text_color\":{\"value\":\"blue\"},\"ticker\":{\"id\":\"1786\",\"type\":\"BasicTicker\"}},\"id\":\"1785\",\"type\":\"LinearAxis\"},{\"attributes\":{\"callback\":null,\"data\":{\"x\":{\"__ndarray__\":\"GLQHIMyk1D/g6u1l96d5Pxes7mBon0g/opjr32JdjD+ddMvhnxzlPy8LCIMlA98/Ya16qngtoD80gBffVVqFP8F+whab56M/YCR3IadtwD+pvv7OZrnZPz811pFYxNw/1wwrgpNb0D9Aq+tXPLG1P5uIA8lvou0/fcA5XlSy1j/Bfq4H9HvkPr2bgnKxdOI/9KExQS8S1z+RRj2bwRx/P2oNE6mkie0/KLSepIdr5D/eV2IXW5TmPzmu1iBy8eY/iuxdesAOJT969rr5WyS/P0o0DdHw7+Q/XHIolIFguj84N7SaQgvhPygUDD9C5V8/bvlyvsBGwT+3STNlmnLBP6JSECkAfbo/H7zmlA78xT9fFzMHAQPYP/p+klwhTPM+Pphq9/4b0D//oUhbrxdSP1O2ezrJvuE/msE0Z+2okD+HaQKsslTZP+AplMF3oco/X2LymSaV1T+kRTNE/ZDMP/UNmZTwpO0/0pEAqpKOmj9Z1iJsV6pyPzEqvIhNNJ4/YuTQRxFxwj91DiuT++3TPxBZkaXvpOA/MelgP5zKxz/4i7QqjbDPPxKuLKM0itA/NIOp1gADpD/8IvfgHg3SP4AfgD6Oumw/II5g4xZe6D8PyldTzU2UP63NYNJfpK8/PEyZ2MUS3z96qCFodNnkP/FMdz7aOuU/yNAoVoQjvT80sbd+hJqkP6JzOxSX6WI/GN8qcvaV1j8B3x55cEDmP4pRNiVYxMw/fB1QgpU4wz9nyQHYSEGgP9UApesBi8w/Z9OMAByf5D99SQ9lPvvjPwN4/cKDAaI/QEitIJR0rT8ho7I1qHSfP77OOEy6x9M/1kxXzKmc0z/yx3tJuxDsP2X83WHpOs4/bA4AFTgytT8yp74SCtPUP4e99LD/D9M/jmAAQ5V56j9Il3dSdVTaP7g/wWxc47s/8ViY/WDyrz9a/RQ+slrWP7d42LhWksQ/kjvu/sgb1j/8RrjONVasP5QvdTTJRck/JnON8KFVgT8UyJbq6J7SP3JfE7lY7Ik/fp5ZxjQN8z7cTF/RUZ7hP69iAiLu2+E/Q4xAWiD4qT8=\",\"dtype\":\"float64\",\"shape\":[100]},\"y\":{\"__ndarray__\":\"1M5Wg7dQzD+gzmdD2upSP4AaKCmF6BE/S6XfKEw/az8TiIvL+WDiPwTL5FPLW9g/QxEuKSp1hD/XWRHHvahiP7y9G9nM+Io/+uMxMNqSsD8MyRZMAPzSP0MuisA1CdY/KiLPoAvDxD9wWaU7Qg6jP1ETFsyy4uw/5Iuw17QQ0D/xEJbYHQaMPvi+4uiXud4/JMejU2tr0D+xz4f8oHZYP6NKQ1l+wuw/HiZhPoyU4T8CVUo3ExrkPyw79+/eiOQ/5IIeWOFQ4j4a9GRVdtyuP4BVIXouLeI/SJ/mBUK7qD+PO9ONuaHbPwhXQ0xd3C8/E+UvF125sT+CmaTPcfWxP08cQsnn3qg/b12S6OFwuD9/ONSxelHRPyrOQTGzTaA+h7cfa7hXxD8WpZOI0usdP/VBifJsKN0/AGBJTsXicD8yDQ6mKZnSP1/APaBej78/5mspVZQLzj+OVPH12FPBP8TKk6Tz5ew/J3xJ64Zxfz8lkmr3nsFIPwEjVi0sqoI/UMK9svFVsz9zhQHuUgTLP4v3+fNoxdo/s5XzMsEnuz/ok0oZA+bDP4UdGX4aEsU/tlgYKlgqiz81/gB1H63HP7k3ah1/dUE/cSNCMXdA5j+m1NeTYft1PyDzSyA2BZk/ZUHMHCps2D9AJxz6KxPiP2YPOEsYhOI/yKJ89TU+rD/1+DRK7D2MP81MRfgk/zM/DumUsunrzz8KuASwtLbjP+Si6RJufcE/zL+zLc9utD8WNbocmZaEP+N32qICT8E/bc7QhdrP4T+hazwAHhThP+H39rDVmIc/j5v6k+u9lj8AsUXQ7bODP6CU3N5Dv8o/ZuUwZLtxyj/nHuGOSt3qP9efNVier8I/GemPzQ56oj+FNluHaKXMP8+pCnoHdsk/uxNKlaDa6D8Rhdf6K5XTP8TmrmByo6o/0jPwepVXmT8aRwQ6a3zPPwngZlqIXrY/U/ESH30Gzz8GM9vmAJmVP0GvcuC1br0/fT5ogPFCXD9Wp/S1aa3IP1gAbVl1Kmg/4UNP5/cGoD6lhuybYeHcPxuGUiFYaN0/YkBX3tE5kz8=\",\"dtype\":\"float64\",\"shape\":[100]}},\"selected\":{\"id\":\"1882\",\"type\":\"Selection\"},\"selection_policy\":{\"id\":\"1883\",\"type\":\"UnionRenderers\"}},\"id\":\"1813\",\"type\":\"ColumnDataSource\"},{\"attributes\":{\"bottom_units\":\"screen\",\"fill_alpha\":{\"value\":0.5},\"fill_color\":{\"value\":\"lightgrey\"},\"left_units\":\"screen\",\"level\":\"overlay\",\"line_alpha\":{\"value\":1.0},\"line_color\":{\"value\":\"black\"},\"line_dash\":[4,4],\"line_width\":{\"value\":2},\"render_mode\":\"css\",\"right_units\":\"screen\",\"top_units\":\"screen\"},\"id\":\"1884\",\"type\":\"BoxAnnotation\"},{\"attributes\":{\"fill_color\":{\"value\":\"lightblue\"},\"line_color\":{\"value\":\"brown\"},\"size\":{\"units\":\"screen\",\"value\":8},\"x\":{\"field\":\"x\"},\"y\":{\"field\":\"y\"}},\"id\":\"1814\",\"type\":\"Square\"},{\"attributes\":{\"ticker\":{\"id\":\"1786\",\"type\":\"BasicTicker\"}},\"id\":\"1789\",\"type\":\"Grid\"},{\"attributes\":{\"source\":{\"id\":\"1808\",\"type\":\"ColumnDataSource\"}},\"id\":\"1812\",\"type\":\"CDSView\"},{\"attributes\":{\"callback\":null,\"data\":{\"x\":{\"__ndarray__\":\"r+gedSTy5T988yETU5jHPxC9MNsbRrc/MIINET+9zj+L+cbcg9vrP44IOtJlIuk/pqumxKk71D/YsLUsjvbLPwZouc9IrtU/8rXywzok4D+pIkUlqp3nP0hyKuA0g+g/AGKeJ9BO5D9UmORGShzcP3BaOfX0MO8/hx9uL4Sm5j/g4oipoeOVP9N6i4L0ouo/fUWUszrG5j80nMYUTynJP4X0Da4/KO8/dZqTTcGM6z8i5H6rFn3sP4jP1+YHpOw/8MAveWjVqz+G/AlHH7bfP7HlB5LOx+s/fvloS/MA3j+DnTsycfDpP7DdOJgT978/ETCuriRq4D/jhbk7/HfgP9A3KUS9C94//MDd5aXJ4T/1wv23ahTnP4AP3/gPCZs/12eYFF405D8AzxTO6XW6PzM60lhLSuo/cBRIYo030D+jpbmEsH7nP3He5acp9uI/ZJDv4A1G5j9z7dCoB2njP77ohsDVMe8/QiaKj6zx0j/0qQrAnTjFP64ABP89xtM/GBDqzZLG4D/Y7xpImbDlP9hyUD8fvOk/Vzwz8iBD4j9SNa805hfkP6Xmm9oJYuQ/xmjwyTa41T96/MgjXvzkP5iKzzdtcsM/GAnbNLo47T/6eEzthFLRP0IEF6OpTdk/aRii0p0m6T9+RHEM2b3rP2a5Fi7J6Os/QpcgYC0E3z/EyqFPf+7VP2jzys7P6sA/IAQqhhCd5j+nSdGzn1nsP0r9jmWidOM/2/MH+jwC4T8y4x736EPUPzH9pbmsZ+M/fHCCIOCj6z+FFphY5FnrP27olczd99Q/qjnpad602D8O2dB9NQvUPzPekZ6vouU/0JXypvCS5T9eaAw1daHuPx5UBRqvx+M/nDwEKADl2z/DKnUpewLmP+wTKizfXuU/PITIaHIK7j/uNrwXv8znPx6LocXqkN4/eGcslmNi2T96acGCN4nmP3QOR8rsZeE/h8EjgP9z5j+8uUVOxGPYPwEu6T0zouI/KK5re/UVyj9sn7bKRzTlP0SaJtSm1M0/gOH5KI3rmj9VqYr7ODrqPx4TUwaoWOo/tlN+c8yw1z8=\",\"dtype\":\"float64\",\"shape\":[100]},\"y\":{\"__ndarray__\":\"LhybQvAZ3j/XO46BzGWhP8JEDaVh7YA/2g5vcTWHrT8iBo1bUEDoPyNlHRLkveM/A0605gaWuT/2sNmXe2+oP7QJOJLpYL0/FgYvkcdI0D9hxKlmrW3hP6BlgknpxuI/tEMim4zG2T8cg7j+mrHIP0ruUYElZ+4/dInFPlgI4D+ZSpPeLvI9P7a0GCcLLOY/UdnFrVw14D+k/97jwMijP6/l7AAuVu4/rZDfUvG35z/37Uml0FzpP73C+aRWouk/z/aihK81aD8d/Ykd6WzPP5QQ2ywMHug/yJWeNMghzD9rD/+BvwblP/saeK0p7o8/ov26gwnX0D+gzfM+fPPQP7SSSy4HNsw/jL9e523G0z+HrEZvZqXgP4Fg/IRN10Y/VhQsmZaD2T/IDkFrTuGFPzDUge1mmeU//y51pdtvsD8zyq1QE0DhP1KEHPuoeNY/IgcP5NgB3z/KlHulI4zXP6PPNsHbaO4/9wqgqAZutj+Ymm9uZiWcPw1dAX1rcLg/iHl/EsaW0T98ejWPL2fdP+AnNMJCsuQ//IsjxSPY1D9hqH024zvZPwDIQVtx99k/fUn3vth7vT8Mlwfxd4bbP86/0bv1opc/5YXBDzav6j8YKhMPBMGyP04buIoVAsQ/X+f7MoXE4z9TTqKWxAzoP5xt0+dwV+g/soTXdRgQzj9Iw35A8Q++P1SYgaYV45E/opRNRfP13z/wgyN+0h3pP/19ZOpTqNc/rcp348EU0j8U6CKm5qq5P0sSCQDaiNc/7hVJcNHf5z9q4wrarWDnP2AHhluqers/KjUP60sTwz8y88mUDRy5P/STESyDQd0/rCtHLP0W3T/NXIpo6lHtP7M18Pj7c9g/HePDDddQyD+4oIAU00beP0RCXl48i9w/L4GS7Zkz7D8bUgK7cLPhP9sBPHpIMs0/mR3THeoixD9cqfNu8b3fP/oYAXkg69I/p14kmUeC3z+dJcGA3ZbCPwR1lplfs9U/EiQc+r1DpT+lJgdI5xncP6a1Zobzzqs/35VORoulRj/vobaHBn/lP2MK3KkGseU/GkgWtPaJwT8=\",\"dtype\":\"float64\",\"shape\":[100]}},\"selected\":{\"id\":\"1880\",\"type\":\"Selection\"},\"selection_policy\":{\"id\":\"1881\",\"type\":\"UnionRenderers\"}},\"id\":\"1808\",\"type\":\"ColumnDataSource\"},{\"attributes\":{},\"id\":\"1786\",\"type\":\"BasicTicker\"},{\"attributes\":{\"axis_label\":\"Valor de distribuci\\u00f3n Y\",\"formatter\":{\"id\":\"1879\",\"type\":\"BasicTickFormatter\"},\"major_label_orientation\":\"vertical\",\"major_label_text_color\":{\"value\":\"red\"},\"ticker\":{\"id\":\"1791\",\"type\":\"BasicTicker\"}},\"id\":\"1790\",\"type\":\"LinearAxis\"},{\"attributes\":{\"dimension\":1,\"ticker\":{\"id\":\"1791\",\"type\":\"BasicTicker\"}},\"id\":\"1794\",\"type\":\"Grid\"},{\"attributes\":{\"fill_alpha\":{\"value\":0.1},\"fill_color\":{\"value\":\"#1f77b4\"},\"line_alpha\":{\"value\":0.1},\"line_color\":{\"value\":\"#1f77b4\"},\"size\":{\"units\":\"screen\",\"value\":8},\"x\":{\"field\":\"x\"},\"y\":{\"field\":\"y\"}},\"id\":\"1815\",\"type\":\"Square\"},{\"attributes\":{},\"id\":\"1791\",\"type\":\"BasicTicker\"},{\"attributes\":{},\"id\":\"1879\",\"type\":\"BasicTickFormatter\"},{\"attributes\":{\"data_source\":{\"id\":\"1813\",\"type\":\"ColumnDataSource\"},\"glyph\":{\"id\":\"1814\",\"type\":\"Square\"},\"hover_glyph\":null,\"muted_glyph\":null,\"nonselection_glyph\":{\"id\":\"1815\",\"type\":\"Square\"},\"selection_glyph\":null,\"view\":{\"id\":\"1817\",\"type\":\"CDSView\"}},\"id\":\"1816\",\"type\":\"GlyphRenderer\"},{\"attributes\":{\"active_drag\":\"auto\",\"active_inspect\":\"auto\",\"active_multi\":null,\"active_scroll\":\"auto\",\"active_tap\":\"auto\",\"tools\":[{\"id\":\"1795\",\"type\":\"PanTool\"},{\"id\":\"1796\",\"type\":\"WheelZoomTool\"},{\"id\":\"1797\",\"type\":\"BoxZoomTool\"},{\"id\":\"1798\",\"type\":\"SaveTool\"},{\"id\":\"1799\",\"type\":\"ResetTool\"},{\"id\":\"1800\",\"type\":\"HelpTool\"}]},\"id\":\"1801\",\"type\":\"Toolbar\"},{\"attributes\":{\"fill_alpha\":{\"value\":0.1},\"fill_color\":{\"value\":\"#1f77b4\"},\"line_alpha\":{\"value\":0.1},\"line_color\":{\"value\":\"#1f77b4\"},\"radius\":{\"units\":\"data\",\"value\":0.01},\"x\":{\"field\":\"x\"},\"y\":{\"field\":\"y\"}},\"id\":\"1810\",\"type\":\"Circle\"},{\"attributes\":{},\"id\":\"1799\",\"type\":\"ResetTool\"},{\"attributes\":{},\"id\":\"1800\",\"type\":\"HelpTool\"},{\"attributes\":{},\"id\":\"1880\",\"type\":\"Selection\"},{\"attributes\":{\"callback\":null},\"id\":\"1779\",\"type\":\"DataRange1d\"},{\"attributes\":{\"source\":{\"id\":\"1813\",\"type\":\"ColumnDataSource\"}},\"id\":\"1817\",\"type\":\"CDSView\"},{\"attributes\":{\"fill_color\":{\"value\":\"lightgreen\"},\"line_alpha\":{\"value\":0.8},\"line_color\":{\"value\":\"red\"},\"radius\":{\"units\":\"data\",\"value\":0.01},\"x\":{\"field\":\"x\"},\"y\":{\"field\":\"y\"}},\"id\":\"1809\",\"type\":\"Circle\"},{\"attributes\":{},\"id\":\"1883\",\"type\":\"UnionRenderers\"},{\"attributes\":{\"text\":\"Transformaciones de distribuci\\u00f3n normal\"},\"id\":\"1775\",\"type\":\"Title\"},{\"attributes\":{},\"id\":\"1881\",\"type\":\"UnionRenderers\"},{\"attributes\":{},\"id\":\"1795\",\"type\":\"PanTool\"},{\"attributes\":{},\"id\":\"1877\",\"type\":\"BasicTickFormatter\"},{\"attributes\":{\"callback\":null},\"id\":\"1777\",\"type\":\"DataRange1d\"},{\"attributes\":{},\"id\":\"1783\",\"type\":\"LinearScale\"},{\"attributes\":{},\"id\":\"1798\",\"type\":\"SaveTool\"},{\"attributes\":{},\"id\":\"1882\",\"type\":\"Selection\"},{\"attributes\":{},\"id\":\"1781\",\"type\":\"LinearScale\"},{\"attributes\":{},\"id\":\"1796\",\"type\":\"WheelZoomTool\"}],\"root_ids\":[\"1774\"]},\"title\":\"Bokeh Application\",\"version\":\"1.3.4\"}};\n",
       "  var render_items = [{\"docid\":\"f47e2690-a8e3-4a54-986b-1dbc6688853e\",\"roots\":{\"1774\":\"ab5af57f-34f7-4928-9d78-9537f3e9e658\"}}];\n",
       "  root.Bokeh.embed.embed_items_notebook(docs_json, render_items);\n",
       "\n",
       "  }\n",
       "  if (root.Bokeh !== undefined) {\n",
       "    embed_document(root);\n",
       "  } else {\n",
       "    var attempts = 0;\n",
       "    var timer = setInterval(function(root) {\n",
       "      if (root.Bokeh !== undefined) {\n",
       "        embed_document(root);\n",
       "        clearInterval(timer);\n",
       "      }\n",
       "      attempts++;\n",
       "      if (attempts > 100) {\n",
       "        console.log(\"Bokeh: ERROR: Unable to run BokehJS code because BokehJS library is missing\");\n",
       "        clearInterval(timer);\n",
       "      }\n",
       "    }, 10, root)\n",
       "  }\n",
       "})(window);"
      ],
      "application/vnd.bokehjs_exec.v0+json": ""
     },
     "metadata": {
      "application/vnd.bokehjs_exec.v0+json": {
       "id": "1774"
      }
     },
     "output_type": "display_data"
    }
   ],
   "source": [
    "p = figure(plot_width=500, plot_height=500, title='Transformaciones de distribución normal')\n",
    "\n",
    "normal = np.random.rand(100)\n",
    "square = normal**2\n",
    "cubic = normal**3\n",
    "polynomic = normal**4\n",
    "\n",
    "\n",
    "p.circle(normal ,square, \n",
    "         fill_color  = 'lightgreen',\n",
    "         line_alpha = 0.8,\n",
    "         line_color = 'red',\n",
    "         radius = 0.01)\n",
    "\n",
    "p.square(cubic ,polynomic, \n",
    "         fill_color  = 'lightblue',\n",
    "         line_alpha = 1,\n",
    "         line_color = 'brown',\n",
    "         size = 8)\n",
    "\n",
    "p.xaxis.axis_label = 'Valor de distribución X'\n",
    "p.yaxis.axis_label = 'Valor de distribución Y'\n",
    "\n",
    "p.yaxis.major_label_text_color = \"red\"\n",
    "p.yaxis.major_label_orientation = \"vertical\"\n",
    "\n",
    "p.xaxis.axis_line_width = 2\n",
    "p.xaxis.axis_line_color = \"blue\"\n",
    "p.xaxis.major_label_text_color = \"blue\"\n",
    "\n",
    "\n",
    "show(p)\n"
   ]
  },
  {
   "cell_type": "markdown",
   "metadata": {},
   "source": [
    "A continuación, mostraremos cómo generar un diagrama de barras, primero vamos a diseñar un dataframe sencillo."
   ]
  },
  {
   "cell_type": "code",
   "execution_count": 13,
   "metadata": {},
   "outputs": [],
   "source": [
    "import pandas as pd\n",
    "items = ['Naranjas', 'Fresas', 'Manzanas', 'Plátanos', 'Mango']\n",
    "volumen_venta = np.random.randint(100, 1000, 5)\n",
    "ingresos_totales = np.random.randint(1000, 25000, 5)\n",
    "\n",
    "df = pd.DataFrame({\n",
    "    'Productos': items,\n",
    "    'Volumen': volumen_venta,\n",
    "    'Ingresos': ingresos_totales\n",
    "})"
   ]
  },
  {
   "cell_type": "markdown",
   "metadata": {},
   "source": [
    "Seguidamente, con <code>**vbar**</code> mostraremos un diagrama de barras sobre el volumen de ventas por producto."
   ]
  },
  {
   "cell_type": "code",
   "execution_count": 14,
   "metadata": {},
   "outputs": [
    {
     "data": {
      "text/html": [
       "\n",
       "\n",
       "\n",
       "\n",
       "\n",
       "\n",
       "  <div class=\"bk-root\" id=\"e0faa78f-7507-461a-82de-30d218b2eb74\" data-root-id=\"1945\"></div>\n"
      ]
     },
     "metadata": {},
     "output_type": "display_data"
    },
    {
     "data": {
      "application/javascript": [
       "(function(root) {\n",
       "  function embed_document(root) {\n",
       "    \n",
       "  var docs_json = {\"0dc571dc-68a0-46cd-afdb-7a028ec4ecaf\":{\"roots\":{\"references\":[{\"attributes\":{\"below\":[{\"id\":\"1956\",\"type\":\"CategoricalAxis\"}],\"center\":[{\"id\":\"1959\",\"type\":\"Grid\"},{\"id\":\"1964\",\"type\":\"Grid\"}],\"left\":[{\"id\":\"1960\",\"type\":\"LinearAxis\"}],\"plot_height\":350,\"renderers\":[{\"id\":\"1981\",\"type\":\"GlyphRenderer\"}],\"title\":{\"id\":\"1946\",\"type\":\"Title\"},\"toolbar\":{\"id\":\"1971\",\"type\":\"Toolbar\"},\"x_range\":{\"id\":\"1948\",\"type\":\"FactorRange\"},\"x_scale\":{\"id\":\"1952\",\"type\":\"CategoricalScale\"},\"y_range\":{\"id\":\"1950\",\"type\":\"DataRange1d\"},\"y_scale\":{\"id\":\"1954\",\"type\":\"LinearScale\"}},\"id\":\"1945\",\"subtype\":\"Figure\",\"type\":\"Plot\"},{\"attributes\":{},\"id\":\"1965\",\"type\":\"PanTool\"},{\"attributes\":{},\"id\":\"1952\",\"type\":\"CategoricalScale\"},{\"attributes\":{\"callback\":null,\"factors\":[\"Naranjas\",\"Fresas\",\"Manzanas\",\"Pl\\u00e1tanos\",\"Mango\"]},\"id\":\"1948\",\"type\":\"FactorRange\"},{\"attributes\":{\"formatter\":{\"id\":\"2052\",\"type\":\"CategoricalTickFormatter\"},\"ticker\":{\"id\":\"1957\",\"type\":\"CategoricalTicker\"}},\"id\":\"1956\",\"type\":\"CategoricalAxis\"},{\"attributes\":{\"source\":{\"id\":\"1978\",\"type\":\"ColumnDataSource\"}},\"id\":\"1982\",\"type\":\"CDSView\"},{\"attributes\":{\"bottom_units\":\"screen\",\"fill_alpha\":{\"value\":0.5},\"fill_color\":{\"value\":\"lightgrey\"},\"left_units\":\"screen\",\"level\":\"overlay\",\"line_alpha\":{\"value\":1.0},\"line_color\":{\"value\":\"black\"},\"line_dash\":[4,4],\"line_width\":{\"value\":2},\"render_mode\":\"css\",\"right_units\":\"screen\",\"top_units\":\"screen\"},\"id\":\"2057\",\"type\":\"BoxAnnotation\"},{\"attributes\":{\"callback\":null},\"id\":\"1950\",\"type\":\"DataRange1d\"},{\"attributes\":{\"dimension\":1,\"ticker\":{\"id\":\"1961\",\"type\":\"BasicTicker\"}},\"id\":\"1964\",\"type\":\"Grid\"},{\"attributes\":{\"callback\":null,\"data\":{\"fill_color\":[\"#DF5837\",\"#A9E915\",\"#CA09A9\",\"#1E82A8\",\"#F9E13A\"],\"top\":{\"__ndarray__\":\"fwAAAJoCAAAsAwAAcwEAAIoBAAA=\",\"dtype\":\"int32\",\"shape\":[5]},\"x\":[\"Naranjas\",\"Fresas\",\"Manzanas\",\"Pl\\u00e1tanos\",\"Mango\"]},\"selected\":{\"id\":\"2055\",\"type\":\"Selection\"},\"selection_policy\":{\"id\":\"2056\",\"type\":\"UnionRenderers\"}},\"id\":\"1978\",\"type\":\"ColumnDataSource\"},{\"attributes\":{},\"id\":\"2052\",\"type\":\"CategoricalTickFormatter\"},{\"attributes\":{},\"id\":\"1970\",\"type\":\"HelpTool\"},{\"attributes\":{},\"id\":\"1961\",\"type\":\"BasicTicker\"},{\"attributes\":{},\"id\":\"2056\",\"type\":\"UnionRenderers\"},{\"attributes\":{\"ticker\":{\"id\":\"1957\",\"type\":\"CategoricalTicker\"}},\"id\":\"1959\",\"type\":\"Grid\"},{\"attributes\":{\"data_source\":{\"id\":\"1978\",\"type\":\"ColumnDataSource\"},\"glyph\":{\"id\":\"1979\",\"type\":\"VBar\"},\"hover_glyph\":null,\"muted_glyph\":null,\"nonselection_glyph\":{\"id\":\"1980\",\"type\":\"VBar\"},\"selection_glyph\":null,\"view\":{\"id\":\"1982\",\"type\":\"CDSView\"}},\"id\":\"1981\",\"type\":\"GlyphRenderer\"},{\"attributes\":{\"text\":\"Volumen de ventas\"},\"id\":\"1946\",\"type\":\"Title\"},{\"attributes\":{\"formatter\":{\"id\":\"2054\",\"type\":\"BasicTickFormatter\"},\"ticker\":{\"id\":\"1961\",\"type\":\"BasicTicker\"}},\"id\":\"1960\",\"type\":\"LinearAxis\"},{\"attributes\":{},\"id\":\"1954\",\"type\":\"LinearScale\"},{\"attributes\":{},\"id\":\"2055\",\"type\":\"Selection\"},{\"attributes\":{},\"id\":\"1957\",\"type\":\"CategoricalTicker\"},{\"attributes\":{},\"id\":\"2054\",\"type\":\"BasicTickFormatter\"},{\"attributes\":{\"active_drag\":\"auto\",\"active_inspect\":\"auto\",\"active_multi\":null,\"active_scroll\":\"auto\",\"active_tap\":\"auto\",\"tools\":[{\"id\":\"1965\",\"type\":\"PanTool\"},{\"id\":\"1966\",\"type\":\"WheelZoomTool\"},{\"id\":\"1967\",\"type\":\"BoxZoomTool\"},{\"id\":\"1968\",\"type\":\"SaveTool\"},{\"id\":\"1969\",\"type\":\"ResetTool\"},{\"id\":\"1970\",\"type\":\"HelpTool\"}]},\"id\":\"1971\",\"type\":\"Toolbar\"},{\"attributes\":{\"fill_alpha\":{\"value\":0.1},\"fill_color\":{\"value\":\"#1f77b4\"},\"line_alpha\":{\"value\":0.1},\"line_color\":{\"value\":\"#1f77b4\"},\"top\":{\"field\":\"top\"},\"width\":{\"value\":0.9},\"x\":{\"field\":\"x\"}},\"id\":\"1980\",\"type\":\"VBar\"},{\"attributes\":{\"overlay\":{\"id\":\"2057\",\"type\":\"BoxAnnotation\"}},\"id\":\"1967\",\"type\":\"BoxZoomTool\"},{\"attributes\":{},\"id\":\"1969\",\"type\":\"ResetTool\"},{\"attributes\":{},\"id\":\"1968\",\"type\":\"SaveTool\"},{\"attributes\":{},\"id\":\"1966\",\"type\":\"WheelZoomTool\"},{\"attributes\":{\"fill_alpha\":{\"value\":0.6},\"fill_color\":{\"field\":\"fill_color\"},\"line_color\":{\"value\":\"#1f77b4\"},\"top\":{\"field\":\"top\"},\"width\":{\"value\":0.9},\"x\":{\"field\":\"x\"}},\"id\":\"1979\",\"type\":\"VBar\"}],\"root_ids\":[\"1945\"]},\"title\":\"Bokeh Application\",\"version\":\"1.3.4\"}};\n",
       "  var render_items = [{\"docid\":\"0dc571dc-68a0-46cd-afdb-7a028ec4ecaf\",\"roots\":{\"1945\":\"e0faa78f-7507-461a-82de-30d218b2eb74\"}}];\n",
       "  root.Bokeh.embed.embed_items_notebook(docs_json, render_items);\n",
       "\n",
       "  }\n",
       "  if (root.Bokeh !== undefined) {\n",
       "    embed_document(root);\n",
       "  } else {\n",
       "    var attempts = 0;\n",
       "    var timer = setInterval(function(root) {\n",
       "      if (root.Bokeh !== undefined) {\n",
       "        embed_document(root);\n",
       "        clearInterval(timer);\n",
       "      }\n",
       "      attempts++;\n",
       "      if (attempts > 100) {\n",
       "        console.log(\"Bokeh: ERROR: Unable to run BokehJS code because BokehJS library is missing\");\n",
       "        clearInterval(timer);\n",
       "      }\n",
       "    }, 10, root)\n",
       "  }\n",
       "})(window);"
      ],
      "application/vnd.bokehjs_exec.v0+json": ""
     },
     "metadata": {
      "application/vnd.bokehjs_exec.v0+json": {
       "id": "1945"
      }
     },
     "output_type": "display_data"
    }
   ],
   "source": [
    "p = figure(x_range=df['Productos'], plot_height=350, \n",
    "           title=\"Volumen de ventas\")\n",
    "\n",
    "p.vbar(x=df['Productos'], top=df['Volumen'], \n",
    "       width=0.9, \n",
    "       fill_color=['#DF5837', '#A9E915', '#CA09A9', '#1E82A8', '#F9E13A'], \n",
    "       fill_alpha=0.6)\n",
    "\n",
    "# Podemos generar colores en hexadecimal con https://htmlcolorcodes.com/\n",
    "\n",
    "show(p)"
   ]
  },
  {
   "cell_type": "markdown",
   "metadata": {},
   "source": [
    "Aunque de una forma algo más compleja que utilizando Seaborn o Ggplot, en Bokeh, también podemos generar gradientes de color en función de una variable. Para ello tenemos que tener en cuenta tres funciones:\n",
    "* <code>__LinearColorMapper__</code>: Pasamos como parámetros **palette**, que toma valor de una paleta de colores que podemos encontrar disponbiles en el siguiente enlace https://docs.bokeh.org/en/latest/docs/reference/palettes.html#bokeh-palettes **low**: Valor mínimo de la variable, **high**: Valor máximo de la variable. Generamos una secuencia de colores en función del rango de nuestra variable.\n",
    "* <code>**ColorBar**</code>: Dentro de los parámetros que recibe, el más importante es **color_mapper** que recibe un objeto generado previamente LinearColorMapper. Esta función genera una leyenda con los colores de nuestra variable.\n",
    "* Dentro de la función de nuestro gráfico, en este caso nube de puntos, en el parámetro color utilizaremos la función <code>**transform**</code> a la cuál pasaremos el nombre de la columna y nuestro objeto LinearColorMapper.\n"
   ]
  },
  {
   "cell_type": "code",
   "execution_count": 15,
   "metadata": {},
   "outputs": [
    {
     "data": {
      "text/html": [
       "\n",
       "\n",
       "\n",
       "\n",
       "\n",
       "\n",
       "  <div class=\"bk-root\" id=\"35b5568e-070c-4cac-b068-d62f35900782\" data-root-id=\"2108\"></div>\n"
      ]
     },
     "metadata": {},
     "output_type": "display_data"
    },
    {
     "data": {
      "application/javascript": [
       "(function(root) {\n",
       "  function embed_document(root) {\n",
       "    \n",
       "  var docs_json = {\"c358763e-f1c8-4e4e-9aa2-19b8061268e5\":{\"roots\":{\"references\":[{\"attributes\":{\"below\":[{\"id\":\"2117\",\"type\":\"LinearAxis\"}],\"center\":[{\"id\":\"2121\",\"type\":\"Grid\"},{\"id\":\"2126\",\"type\":\"Grid\"}],\"left\":[{\"id\":\"2122\",\"type\":\"LinearAxis\"}],\"plot_height\":400,\"renderers\":[{\"id\":\"2144\",\"type\":\"GlyphRenderer\"}],\"right\":[{\"id\":\"2107\",\"type\":\"ColorBar\"}],\"title\":{\"id\":\"2222\",\"type\":\"Title\"},\"toolbar\":{\"id\":\"2133\",\"type\":\"Toolbar\"},\"x_range\":{\"id\":\"2109\",\"type\":\"DataRange1d\"},\"x_scale\":{\"id\":\"2113\",\"type\":\"LinearScale\"},\"y_range\":{\"id\":\"2111\",\"type\":\"DataRange1d\"},\"y_scale\":{\"id\":\"2115\",\"type\":\"LinearScale\"}},\"id\":\"2108\",\"subtype\":\"Figure\",\"type\":\"Plot\"},{\"attributes\":{\"callback\":null,\"data\":{\"Ingresos\":{\"__ndarray__\":\"FTAAAOw0AABwPAAAyA0AAP8uAAA=\",\"dtype\":\"int32\",\"shape\":[5]},\"Productos\":[\"Naranjas\",\"Fresas\",\"Manzanas\",\"Pl\\u00e1tanos\",\"Mango\"],\"Volumen\":{\"__ndarray__\":\"fwAAAJoCAAAsAwAAcwEAAIoBAAA=\",\"dtype\":\"int32\",\"shape\":[5]},\"index\":[0,1,2,3,4]},\"selected\":{\"id\":\"2229\",\"type\":\"Selection\"},\"selection_policy\":{\"id\":\"2230\",\"type\":\"UnionRenderers\"}},\"id\":\"2140\",\"type\":\"ColumnDataSource\"},{\"attributes\":{\"active_drag\":\"auto\",\"active_inspect\":\"auto\",\"active_multi\":null,\"active_scroll\":\"auto\",\"active_tap\":\"auto\",\"tools\":[{\"id\":\"2127\",\"type\":\"PanTool\"},{\"id\":\"2128\",\"type\":\"WheelZoomTool\"},{\"id\":\"2129\",\"type\":\"BoxZoomTool\"},{\"id\":\"2130\",\"type\":\"SaveTool\"},{\"id\":\"2131\",\"type\":\"ResetTool\"},{\"id\":\"2132\",\"type\":\"HelpTool\"}]},\"id\":\"2133\",\"type\":\"Toolbar\"},{\"attributes\":{},\"id\":\"2227\",\"type\":\"BasicTicker\"},{\"attributes\":{\"axis_label\":\"Volumen de ventas\",\"formatter\":{\"id\":\"2224\",\"type\":\"BasicTickFormatter\"},\"ticker\":{\"id\":\"2118\",\"type\":\"BasicTicker\"}},\"id\":\"2117\",\"type\":\"LinearAxis\"},{\"attributes\":{},\"id\":\"2226\",\"type\":\"BasicTickFormatter\"},{\"attributes\":{\"dimension\":1,\"ticker\":{\"id\":\"2123\",\"type\":\"BasicTicker\"}},\"id\":\"2126\",\"type\":\"Grid\"},{\"attributes\":{},\"id\":\"2224\",\"type\":\"BasicTickFormatter\"},{\"attributes\":{\"callback\":null},\"id\":\"2111\",\"type\":\"DataRange1d\"},{\"attributes\":{\"ticker\":{\"id\":\"2118\",\"type\":\"BasicTicker\"}},\"id\":\"2121\",\"type\":\"Grid\"},{\"attributes\":{},\"id\":\"2228\",\"type\":\"BasicTickFormatter\"},{\"attributes\":{},\"id\":\"2229\",\"type\":\"Selection\"},{\"attributes\":{},\"id\":\"2113\",\"type\":\"LinearScale\"},{\"attributes\":{},\"id\":\"2230\",\"type\":\"UnionRenderers\"},{\"attributes\":{},\"id\":\"2115\",\"type\":\"LinearScale\"},{\"attributes\":{\"overlay\":{\"id\":\"2231\",\"type\":\"BoxAnnotation\"}},\"id\":\"2129\",\"type\":\"BoxZoomTool\"},{\"attributes\":{\"bottom_units\":\"screen\",\"fill_alpha\":{\"value\":0.5},\"fill_color\":{\"value\":\"lightgrey\"},\"left_units\":\"screen\",\"level\":\"overlay\",\"line_alpha\":{\"value\":1.0},\"line_color\":{\"value\":\"black\"},\"line_dash\":[4,4],\"line_width\":{\"value\":2},\"render_mode\":\"css\",\"right_units\":\"screen\",\"top_units\":\"screen\"},\"id\":\"2231\",\"type\":\"BoxAnnotation\"},{\"attributes\":{},\"id\":\"2130\",\"type\":\"SaveTool\"},{\"attributes\":{},\"id\":\"2118\",\"type\":\"BasicTicker\"},{\"attributes\":{\"axis_label\":\"Ingresos totales\",\"formatter\":{\"id\":\"2226\",\"type\":\"BasicTickFormatter\"},\"ticker\":{\"id\":\"2123\",\"type\":\"BasicTicker\"}},\"id\":\"2122\",\"type\":\"LinearAxis\"},{\"attributes\":{},\"id\":\"2127\",\"type\":\"PanTool\"},{\"attributes\":{\"high\":15472,\"low\":3528,\"palette\":[\"#440154\",\"#440255\",\"#440357\",\"#450558\",\"#45065A\",\"#45085B\",\"#46095C\",\"#460B5E\",\"#460C5F\",\"#460E61\",\"#470F62\",\"#471163\",\"#471265\",\"#471466\",\"#471567\",\"#471669\",\"#47186A\",\"#48196B\",\"#481A6C\",\"#481C6E\",\"#481D6F\",\"#481E70\",\"#482071\",\"#482172\",\"#482273\",\"#482374\",\"#472575\",\"#472676\",\"#472777\",\"#472878\",\"#472A79\",\"#472B7A\",\"#472C7B\",\"#462D7C\",\"#462F7C\",\"#46307D\",\"#46317E\",\"#45327F\",\"#45347F\",\"#453580\",\"#453681\",\"#443781\",\"#443982\",\"#433A83\",\"#433B83\",\"#433C84\",\"#423D84\",\"#423E85\",\"#424085\",\"#414186\",\"#414286\",\"#404387\",\"#404487\",\"#3F4587\",\"#3F4788\",\"#3E4888\",\"#3E4989\",\"#3D4A89\",\"#3D4B89\",\"#3D4C89\",\"#3C4D8A\",\"#3C4E8A\",\"#3B508A\",\"#3B518A\",\"#3A528B\",\"#3A538B\",\"#39548B\",\"#39558B\",\"#38568B\",\"#38578C\",\"#37588C\",\"#37598C\",\"#365A8C\",\"#365B8C\",\"#355C8C\",\"#355D8C\",\"#345E8D\",\"#345F8D\",\"#33608D\",\"#33618D\",\"#32628D\",\"#32638D\",\"#31648D\",\"#31658D\",\"#31668D\",\"#30678D\",\"#30688D\",\"#2F698D\",\"#2F6A8D\",\"#2E6B8E\",\"#2E6C8E\",\"#2E6D8E\",\"#2D6E8E\",\"#2D6F8E\",\"#2C708E\",\"#2C718E\",\"#2C728E\",\"#2B738E\",\"#2B748E\",\"#2A758E\",\"#2A768E\",\"#2A778E\",\"#29788E\",\"#29798E\",\"#287A8E\",\"#287A8E\",\"#287B8E\",\"#277C8E\",\"#277D8E\",\"#277E8E\",\"#267F8E\",\"#26808E\",\"#26818E\",\"#25828E\",\"#25838D\",\"#24848D\",\"#24858D\",\"#24868D\",\"#23878D\",\"#23888D\",\"#23898D\",\"#22898D\",\"#228A8D\",\"#228B8D\",\"#218C8D\",\"#218D8C\",\"#218E8C\",\"#208F8C\",\"#20908C\",\"#20918C\",\"#1F928C\",\"#1F938B\",\"#1F948B\",\"#1F958B\",\"#1F968B\",\"#1E978A\",\"#1E988A\",\"#1E998A\",\"#1E998A\",\"#1E9A89\",\"#1E9B89\",\"#1E9C89\",\"#1E9D88\",\"#1E9E88\",\"#1E9F88\",\"#1EA087\",\"#1FA187\",\"#1FA286\",\"#1FA386\",\"#20A485\",\"#20A585\",\"#21A685\",\"#21A784\",\"#22A784\",\"#23A883\",\"#23A982\",\"#24AA82\",\"#25AB81\",\"#26AC81\",\"#27AD80\",\"#28AE7F\",\"#29AF7F\",\"#2AB07E\",\"#2BB17D\",\"#2CB17D\",\"#2EB27C\",\"#2FB37B\",\"#30B47A\",\"#32B57A\",\"#33B679\",\"#35B778\",\"#36B877\",\"#38B976\",\"#39B976\",\"#3BBA75\",\"#3DBB74\",\"#3EBC73\",\"#40BD72\",\"#42BE71\",\"#44BE70\",\"#45BF6F\",\"#47C06E\",\"#49C16D\",\"#4BC26C\",\"#4DC26B\",\"#4FC369\",\"#51C468\",\"#53C567\",\"#55C666\",\"#57C665\",\"#59C764\",\"#5BC862\",\"#5EC961\",\"#60C960\",\"#62CA5F\",\"#64CB5D\",\"#67CC5C\",\"#69CC5B\",\"#6BCD59\",\"#6DCE58\",\"#70CE56\",\"#72CF55\",\"#74D054\",\"#77D052\",\"#79D151\",\"#7CD24F\",\"#7ED24E\",\"#81D34C\",\"#83D34B\",\"#86D449\",\"#88D547\",\"#8BD546\",\"#8DD644\",\"#90D643\",\"#92D741\",\"#95D73F\",\"#97D83E\",\"#9AD83C\",\"#9DD93A\",\"#9FD938\",\"#A2DA37\",\"#A5DA35\",\"#A7DB33\",\"#AADB32\",\"#ADDC30\",\"#AFDC2E\",\"#B2DD2C\",\"#B5DD2B\",\"#B7DD29\",\"#BADE27\",\"#BDDE26\",\"#BFDF24\",\"#C2DF22\",\"#C5DF21\",\"#C7E01F\",\"#CAE01E\",\"#CDE01D\",\"#CFE11C\",\"#D2E11B\",\"#D4E11A\",\"#D7E219\",\"#DAE218\",\"#DCE218\",\"#DFE318\",\"#E1E318\",\"#E4E318\",\"#E7E419\",\"#E9E419\",\"#ECE41A\",\"#EEE51B\",\"#F1E51C\",\"#F3E51E\",\"#F6E61F\",\"#F8E621\",\"#FAE622\",\"#FDE724\"]},\"id\":\"2106\",\"type\":\"LinearColorMapper\"},{\"attributes\":{\"text\":\"\"},\"id\":\"2222\",\"type\":\"Title\"},{\"attributes\":{},\"id\":\"2123\",\"type\":\"BasicTicker\"},{\"attributes\":{\"color_mapper\":{\"id\":\"2106\",\"type\":\"LinearColorMapper\"},\"formatter\":{\"id\":\"2228\",\"type\":\"BasicTickFormatter\"},\"label_standoff\":12,\"location\":[0,0],\"ticker\":{\"id\":\"2227\",\"type\":\"BasicTicker\"},\"title\":\"Ingresos\"},\"id\":\"2107\",\"type\":\"ColorBar\"},{\"attributes\":{},\"id\":\"2131\",\"type\":\"ResetTool\"},{\"attributes\":{\"data_source\":{\"id\":\"2140\",\"type\":\"ColumnDataSource\"},\"glyph\":{\"id\":\"2142\",\"type\":\"Circle\"},\"hover_glyph\":null,\"muted_glyph\":null,\"nonselection_glyph\":{\"id\":\"2143\",\"type\":\"Circle\"},\"selection_glyph\":null,\"view\":{\"id\":\"2145\",\"type\":\"CDSView\"}},\"id\":\"2144\",\"type\":\"GlyphRenderer\"},{\"attributes\":{\"callback\":null},\"id\":\"2109\",\"type\":\"DataRange1d\"},{\"attributes\":{\"fill_alpha\":{\"value\":0.1},\"fill_color\":{\"value\":\"#1f77b4\"},\"line_alpha\":{\"value\":0.1},\"line_color\":{\"value\":\"#1f77b4\"},\"size\":{\"units\":\"screen\",\"value\":20},\"x\":{\"field\":\"Volumen\"},\"y\":{\"field\":\"Ingresos\"}},\"id\":\"2143\",\"type\":\"Circle\"},{\"attributes\":{},\"id\":\"2128\",\"type\":\"WheelZoomTool\"},{\"attributes\":{},\"id\":\"2132\",\"type\":\"HelpTool\"},{\"attributes\":{\"fill_alpha\":{\"value\":0.6},\"fill_color\":{\"field\":\"Ingresos\",\"transform\":{\"id\":\"2106\",\"type\":\"LinearColorMapper\"}},\"line_alpha\":{\"value\":0.6},\"line_color\":{\"field\":\"Ingresos\",\"transform\":{\"id\":\"2106\",\"type\":\"LinearColorMapper\"}},\"size\":{\"units\":\"screen\",\"value\":20},\"x\":{\"field\":\"Volumen\"},\"y\":{\"field\":\"Ingresos\"}},\"id\":\"2142\",\"type\":\"Circle\"},{\"attributes\":{\"source\":{\"id\":\"2140\",\"type\":\"ColumnDataSource\"}},\"id\":\"2145\",\"type\":\"CDSView\"}],\"root_ids\":[\"2108\"]},\"title\":\"Bokeh Application\",\"version\":\"1.3.4\"}};\n",
       "  var render_items = [{\"docid\":\"c358763e-f1c8-4e4e-9aa2-19b8061268e5\",\"roots\":{\"2108\":\"35b5568e-070c-4cac-b068-d62f35900782\"}}];\n",
       "  root.Bokeh.embed.embed_items_notebook(docs_json, render_items);\n",
       "\n",
       "  }\n",
       "  if (root.Bokeh !== undefined) {\n",
       "    embed_document(root);\n",
       "  } else {\n",
       "    var attempts = 0;\n",
       "    var timer = setInterval(function(root) {\n",
       "      if (root.Bokeh !== undefined) {\n",
       "        embed_document(root);\n",
       "        clearInterval(timer);\n",
       "      }\n",
       "      attempts++;\n",
       "      if (attempts > 100) {\n",
       "        console.log(\"Bokeh: ERROR: Unable to run BokehJS code because BokehJS library is missing\");\n",
       "        clearInterval(timer);\n",
       "      }\n",
       "    }, 10, root)\n",
       "  }\n",
       "})(window);"
      ],
      "application/vnd.bokehjs_exec.v0+json": ""
     },
     "metadata": {
      "application/vnd.bokehjs_exec.v0+json": {
       "id": "2108"
      }
     },
     "output_type": "display_data"
    }
   ],
   "source": [
    "from bokeh.models import LinearColorMapper, ColorBar\n",
    "from bokeh.transform import transform\n",
    "\n",
    "color_mapper = LinearColorMapper(palette=\"Viridis256\", low=df.Ingresos.min(), \n",
    "                                 high=df.Ingresos.max())\n",
    "color_bar = ColorBar(color_mapper=color_mapper, label_standoff=12, location=(0,0), \n",
    "                     title='Ingresos')\n",
    "\n",
    "p = figure(x_axis_label='Volumen de ventas', # Otra forma de añadir texto en los ejes\n",
    "           y_axis_label='Ingresos totales', \n",
    "           plot_height=400)\n",
    "\n",
    "p.circle(x='Volumen', y='Ingresos', \n",
    "         color=transform('Ingresos', color_mapper), \n",
    "         size=20, alpha=0.6, \n",
    "         source=df)\n",
    "\n",
    "p.add_layout(color_bar, 'right') # Posición del gradiente de color\n",
    "\n",
    "show(p)"
   ]
  },
  {
   "cell_type": "markdown",
   "metadata": {},
   "source": [
    "Algo que todavía no hemos mostrado es podemos desactivar el panel lateral para gestionar el gráfico añadiendo los siguientes parámetros a la función figure.\n",
    "* **tools**: Lo dejamso vacío\n",
    "* **toolbar_location**: Valor None"
   ]
  },
  {
   "cell_type": "code",
   "execution_count": 16,
   "metadata": {},
   "outputs": [
    {
     "data": {
      "text/html": [
       "\n",
       "\n",
       "\n",
       "\n",
       "\n",
       "\n",
       "  <div class=\"bk-root\" id=\"d8b44e78-54c0-4d62-8585-aa0fac46a02c\" data-root-id=\"2300\"></div>\n"
      ]
     },
     "metadata": {},
     "output_type": "display_data"
    },
    {
     "data": {
      "application/javascript": [
       "(function(root) {\n",
       "  function embed_document(root) {\n",
       "    \n",
       "  var docs_json = {\"c0a1515c-54a6-440a-971b-0b7a90db25d0\":{\"roots\":{\"references\":[{\"attributes\":{\"below\":[{\"id\":\"2309\",\"type\":\"LinearAxis\"}],\"center\":[{\"id\":\"2313\",\"type\":\"Grid\"},{\"id\":\"2318\",\"type\":\"Grid\"}],\"left\":[{\"id\":\"2314\",\"type\":\"LinearAxis\"}],\"plot_height\":400,\"renderers\":[{\"id\":\"2324\",\"type\":\"GlyphRenderer\"}],\"right\":[{\"id\":\"2299\",\"type\":\"ColorBar\"}],\"title\":{\"id\":\"2413\",\"type\":\"Title\"},\"toolbar\":{\"id\":\"2319\",\"type\":\"Toolbar\"},\"toolbar_location\":null,\"x_range\":{\"id\":\"2301\",\"type\":\"DataRange1d\"},\"x_scale\":{\"id\":\"2305\",\"type\":\"LinearScale\"},\"y_range\":{\"id\":\"2303\",\"type\":\"DataRange1d\"},\"y_scale\":{\"id\":\"2307\",\"type\":\"LinearScale\"}},\"id\":\"2300\",\"subtype\":\"Figure\",\"type\":\"Plot\"},{\"attributes\":{\"data_source\":{\"id\":\"2320\",\"type\":\"ColumnDataSource\"},\"glyph\":{\"id\":\"2322\",\"type\":\"Circle\"},\"hover_glyph\":null,\"muted_glyph\":null,\"nonselection_glyph\":{\"id\":\"2323\",\"type\":\"Circle\"},\"selection_glyph\":null,\"view\":{\"id\":\"2325\",\"type\":\"CDSView\"}},\"id\":\"2324\",\"type\":\"GlyphRenderer\"},{\"attributes\":{},\"id\":\"2419\",\"type\":\"BasicTickFormatter\"},{\"attributes\":{\"axis_label\":\"Volumen de ventas\",\"formatter\":{\"id\":\"2415\",\"type\":\"BasicTickFormatter\"},\"ticker\":{\"id\":\"2310\",\"type\":\"BasicTicker\"}},\"id\":\"2309\",\"type\":\"LinearAxis\"},{\"attributes\":{},\"id\":\"2420\",\"type\":\"Selection\"},{\"attributes\":{\"ticker\":{\"id\":\"2310\",\"type\":\"BasicTicker\"}},\"id\":\"2313\",\"type\":\"Grid\"},{\"attributes\":{},\"id\":\"2421\",\"type\":\"UnionRenderers\"},{\"attributes\":{},\"id\":\"2310\",\"type\":\"BasicTicker\"},{\"attributes\":{\"axis_label\":\"Ingresos totales\",\"formatter\":{\"id\":\"2417\",\"type\":\"BasicTickFormatter\"},\"ticker\":{\"id\":\"2315\",\"type\":\"BasicTicker\"}},\"id\":\"2314\",\"type\":\"LinearAxis\"},{\"attributes\":{\"fill_alpha\":{\"value\":0.1},\"fill_color\":{\"value\":\"#1f77b4\"},\"line_alpha\":{\"value\":0.1},\"line_color\":{\"value\":\"#1f77b4\"},\"size\":{\"units\":\"screen\",\"value\":20},\"x\":{\"field\":\"Volumen\"},\"y\":{\"field\":\"Ingresos\"}},\"id\":\"2323\",\"type\":\"Circle\"},{\"attributes\":{},\"id\":\"2305\",\"type\":\"LinearScale\"},{\"attributes\":{},\"id\":\"2315\",\"type\":\"BasicTicker\"},{\"attributes\":{\"dimension\":1,\"ticker\":{\"id\":\"2315\",\"type\":\"BasicTicker\"}},\"id\":\"2318\",\"type\":\"Grid\"},{\"attributes\":{\"active_drag\":\"auto\",\"active_inspect\":\"auto\",\"active_multi\":null,\"active_scroll\":\"auto\",\"active_tap\":\"auto\"},\"id\":\"2319\",\"type\":\"Toolbar\"},{\"attributes\":{\"color_mapper\":{\"id\":\"2298\",\"type\":\"LinearColorMapper\"},\"formatter\":{\"id\":\"2419\",\"type\":\"BasicTickFormatter\"},\"label_standoff\":12,\"location\":[0,0],\"ticker\":{\"id\":\"2418\",\"type\":\"BasicTicker\"},\"title\":\"Ingresos\"},\"id\":\"2299\",\"type\":\"ColorBar\"},{\"attributes\":{},\"id\":\"2307\",\"type\":\"LinearScale\"},{\"attributes\":{\"callback\":null},\"id\":\"2303\",\"type\":\"DataRange1d\"},{\"attributes\":{\"high\":15472,\"low\":3528,\"palette\":[\"#440154\",\"#440255\",\"#440357\",\"#450558\",\"#45065A\",\"#45085B\",\"#46095C\",\"#460B5E\",\"#460C5F\",\"#460E61\",\"#470F62\",\"#471163\",\"#471265\",\"#471466\",\"#471567\",\"#471669\",\"#47186A\",\"#48196B\",\"#481A6C\",\"#481C6E\",\"#481D6F\",\"#481E70\",\"#482071\",\"#482172\",\"#482273\",\"#482374\",\"#472575\",\"#472676\",\"#472777\",\"#472878\",\"#472A79\",\"#472B7A\",\"#472C7B\",\"#462D7C\",\"#462F7C\",\"#46307D\",\"#46317E\",\"#45327F\",\"#45347F\",\"#453580\",\"#453681\",\"#443781\",\"#443982\",\"#433A83\",\"#433B83\",\"#433C84\",\"#423D84\",\"#423E85\",\"#424085\",\"#414186\",\"#414286\",\"#404387\",\"#404487\",\"#3F4587\",\"#3F4788\",\"#3E4888\",\"#3E4989\",\"#3D4A89\",\"#3D4B89\",\"#3D4C89\",\"#3C4D8A\",\"#3C4E8A\",\"#3B508A\",\"#3B518A\",\"#3A528B\",\"#3A538B\",\"#39548B\",\"#39558B\",\"#38568B\",\"#38578C\",\"#37588C\",\"#37598C\",\"#365A8C\",\"#365B8C\",\"#355C8C\",\"#355D8C\",\"#345E8D\",\"#345F8D\",\"#33608D\",\"#33618D\",\"#32628D\",\"#32638D\",\"#31648D\",\"#31658D\",\"#31668D\",\"#30678D\",\"#30688D\",\"#2F698D\",\"#2F6A8D\",\"#2E6B8E\",\"#2E6C8E\",\"#2E6D8E\",\"#2D6E8E\",\"#2D6F8E\",\"#2C708E\",\"#2C718E\",\"#2C728E\",\"#2B738E\",\"#2B748E\",\"#2A758E\",\"#2A768E\",\"#2A778E\",\"#29788E\",\"#29798E\",\"#287A8E\",\"#287A8E\",\"#287B8E\",\"#277C8E\",\"#277D8E\",\"#277E8E\",\"#267F8E\",\"#26808E\",\"#26818E\",\"#25828E\",\"#25838D\",\"#24848D\",\"#24858D\",\"#24868D\",\"#23878D\",\"#23888D\",\"#23898D\",\"#22898D\",\"#228A8D\",\"#228B8D\",\"#218C8D\",\"#218D8C\",\"#218E8C\",\"#208F8C\",\"#20908C\",\"#20918C\",\"#1F928C\",\"#1F938B\",\"#1F948B\",\"#1F958B\",\"#1F968B\",\"#1E978A\",\"#1E988A\",\"#1E998A\",\"#1E998A\",\"#1E9A89\",\"#1E9B89\",\"#1E9C89\",\"#1E9D88\",\"#1E9E88\",\"#1E9F88\",\"#1EA087\",\"#1FA187\",\"#1FA286\",\"#1FA386\",\"#20A485\",\"#20A585\",\"#21A685\",\"#21A784\",\"#22A784\",\"#23A883\",\"#23A982\",\"#24AA82\",\"#25AB81\",\"#26AC81\",\"#27AD80\",\"#28AE7F\",\"#29AF7F\",\"#2AB07E\",\"#2BB17D\",\"#2CB17D\",\"#2EB27C\",\"#2FB37B\",\"#30B47A\",\"#32B57A\",\"#33B679\",\"#35B778\",\"#36B877\",\"#38B976\",\"#39B976\",\"#3BBA75\",\"#3DBB74\",\"#3EBC73\",\"#40BD72\",\"#42BE71\",\"#44BE70\",\"#45BF6F\",\"#47C06E\",\"#49C16D\",\"#4BC26C\",\"#4DC26B\",\"#4FC369\",\"#51C468\",\"#53C567\",\"#55C666\",\"#57C665\",\"#59C764\",\"#5BC862\",\"#5EC961\",\"#60C960\",\"#62CA5F\",\"#64CB5D\",\"#67CC5C\",\"#69CC5B\",\"#6BCD59\",\"#6DCE58\",\"#70CE56\",\"#72CF55\",\"#74D054\",\"#77D052\",\"#79D151\",\"#7CD24F\",\"#7ED24E\",\"#81D34C\",\"#83D34B\",\"#86D449\",\"#88D547\",\"#8BD546\",\"#8DD644\",\"#90D643\",\"#92D741\",\"#95D73F\",\"#97D83E\",\"#9AD83C\",\"#9DD93A\",\"#9FD938\",\"#A2DA37\",\"#A5DA35\",\"#A7DB33\",\"#AADB32\",\"#ADDC30\",\"#AFDC2E\",\"#B2DD2C\",\"#B5DD2B\",\"#B7DD29\",\"#BADE27\",\"#BDDE26\",\"#BFDF24\",\"#C2DF22\",\"#C5DF21\",\"#C7E01F\",\"#CAE01E\",\"#CDE01D\",\"#CFE11C\",\"#D2E11B\",\"#D4E11A\",\"#D7E219\",\"#DAE218\",\"#DCE218\",\"#DFE318\",\"#E1E318\",\"#E4E318\",\"#E7E419\",\"#E9E419\",\"#ECE41A\",\"#EEE51B\",\"#F1E51C\",\"#F3E51E\",\"#F6E61F\",\"#F8E621\",\"#FAE622\",\"#FDE724\"]},\"id\":\"2298\",\"type\":\"LinearColorMapper\"},{\"attributes\":{\"callback\":null},\"id\":\"2301\",\"type\":\"DataRange1d\"},{\"attributes\":{\"source\":{\"id\":\"2320\",\"type\":\"ColumnDataSource\"}},\"id\":\"2325\",\"type\":\"CDSView\"},{\"attributes\":{\"fill_alpha\":{\"value\":0.6},\"fill_color\":{\"field\":\"Ingresos\",\"transform\":{\"id\":\"2298\",\"type\":\"LinearColorMapper\"}},\"line_alpha\":{\"value\":0.6},\"line_color\":{\"field\":\"Ingresos\",\"transform\":{\"id\":\"2298\",\"type\":\"LinearColorMapper\"}},\"size\":{\"units\":\"screen\",\"value\":20},\"x\":{\"field\":\"Volumen\"},\"y\":{\"field\":\"Ingresos\"}},\"id\":\"2322\",\"type\":\"Circle\"},{\"attributes\":{},\"id\":\"2418\",\"type\":\"BasicTicker\"},{\"attributes\":{},\"id\":\"2417\",\"type\":\"BasicTickFormatter\"},{\"attributes\":{\"callback\":null,\"data\":{\"Ingresos\":{\"__ndarray__\":\"FTAAAOw0AABwPAAAyA0AAP8uAAA=\",\"dtype\":\"int32\",\"shape\":[5]},\"Productos\":[\"Naranjas\",\"Fresas\",\"Manzanas\",\"Pl\\u00e1tanos\",\"Mango\"],\"Volumen\":{\"__ndarray__\":\"fwAAAJoCAAAsAwAAcwEAAIoBAAA=\",\"dtype\":\"int32\",\"shape\":[5]},\"index\":[0,1,2,3,4]},\"selected\":{\"id\":\"2420\",\"type\":\"Selection\"},\"selection_policy\":{\"id\":\"2421\",\"type\":\"UnionRenderers\"}},\"id\":\"2320\",\"type\":\"ColumnDataSource\"},{\"attributes\":{},\"id\":\"2415\",\"type\":\"BasicTickFormatter\"},{\"attributes\":{\"text\":\"\"},\"id\":\"2413\",\"type\":\"Title\"}],\"root_ids\":[\"2300\"]},\"title\":\"Bokeh Application\",\"version\":\"1.3.4\"}};\n",
       "  var render_items = [{\"docid\":\"c0a1515c-54a6-440a-971b-0b7a90db25d0\",\"roots\":{\"2300\":\"d8b44e78-54c0-4d62-8585-aa0fac46a02c\"}}];\n",
       "  root.Bokeh.embed.embed_items_notebook(docs_json, render_items);\n",
       "\n",
       "  }\n",
       "  if (root.Bokeh !== undefined) {\n",
       "    embed_document(root);\n",
       "  } else {\n",
       "    var attempts = 0;\n",
       "    var timer = setInterval(function(root) {\n",
       "      if (root.Bokeh !== undefined) {\n",
       "        embed_document(root);\n",
       "        clearInterval(timer);\n",
       "      }\n",
       "      attempts++;\n",
       "      if (attempts > 100) {\n",
       "        console.log(\"Bokeh: ERROR: Unable to run BokehJS code because BokehJS library is missing\");\n",
       "        clearInterval(timer);\n",
       "      }\n",
       "    }, 10, root)\n",
       "  }\n",
       "})(window);"
      ],
      "application/vnd.bokehjs_exec.v0+json": ""
     },
     "metadata": {
      "application/vnd.bokehjs_exec.v0+json": {
       "id": "2300"
      }
     },
     "output_type": "display_data"
    }
   ],
   "source": [
    "color_mapper = LinearColorMapper(palette=\"Viridis256\", low=df.Ingresos.min(), high=df.Ingresos.max())\n",
    "color_bar = ColorBar(color_mapper=color_mapper, label_standoff=12, location=(0,0), title='Ingresos')\n",
    "\n",
    "p = figure(x_axis_label='Volumen de ventas', # Otra forma de añadir texto en los ejes\n",
    "           y_axis_label='Ingresos totales', \n",
    "           plot_height=400, \n",
    "           tools='', toolbar_location=None)\n",
    "\n",
    "p.circle(x='Volumen', y='Ingresos', \n",
    "         color=transform('Ingresos', color_mapper), \n",
    "         size=20, alpha=0.6, \n",
    "         source=df)\n",
    "\n",
    "p.add_layout(color_bar, 'right') # Posición del gradiente de color\n",
    "\n",
    "show(p)\n"
   ]
  },
  {
   "cell_type": "markdown",
   "metadata": {},
   "source": [
    "Finalmente, mostraremos cómo añadir elementos dinámmicos a un gráfico, es decir, cuando pasemos el cursor por un elemento del gráfico éste nos muestre información. Esto en Bokeh se consigue a través de **HoverTool**, se trata de una función que integra funcionalidades para mostrar diferentes elementos textuales en los datos, es importante mencionar que para poder utilizar las funciones de HoverTool, también tenemos que pasar nuestros datos a un tipo especial de Bokeh, llamado sources, para ello, utilizaremos **ColumnDataSource**. El funcionamiento por lo tanto es el siguiente.\n",
    "* Tomaremos el set de datos y lo pasaremos a la función <code>**ColumnDataSource**</code>, sources nos devolverá los tipos de columnas que podemos mostrar en nuestro gráfico, por ejemplo, si pasamos a la función un conjunto de datos previamente agrupado con groupby, nos permitirá acceder a estadísticas básicas como mínimo, máximo, media y cuartieles, pudiendo posteriormente, proyectar esta información en el gráfico.\n",
    "* Ahora cuando vayamos a definir el tipo de gráfico, no utilizaremos como tal los nombres de las columnas del dataframe, si no las de sources.\n",
    "* Cuando hayamos definido el tipo de gráfica llamaremos a la función <code>**HoverTool**</code> y, a su atributo **tooltips** en el cuál pasaremos con la siguiente estructura la información a proyectar: 'Nombre que se mostrará': @columna_de_source."
   ]
  },
  {
   "cell_type": "code",
   "execution_count": 17,
   "metadata": {},
   "outputs": [
    {
     "data": {
      "text/plain": [
       "['index', 'Productos', 'Volumen', 'Ingresos']"
      ]
     },
     "execution_count": 17,
     "metadata": {},
     "output_type": "execute_result"
    }
   ],
   "source": [
    "from bokeh.models import ColumnDataSource, HoverTool\n",
    "from bokeh.transform import factor_cmap\n",
    "from bokeh.palettes import Spectral5\n",
    "\n",
    "source = ColumnDataSource(df)\n",
    "source.column_names"
   ]
  },
  {
   "cell_type": "markdown",
   "metadata": {},
   "source": [
    "Mostramos por otro ejemplo en el que hubíeramos realizado un groupby."
   ]
  },
  {
   "cell_type": "code",
   "execution_count": 18,
   "metadata": {},
   "outputs": [
    {
     "data": {
      "text/plain": [
       "['Productos',\n",
       " 'Volumen_count',\n",
       " 'Volumen_mean',\n",
       " 'Volumen_std',\n",
       " 'Volumen_min',\n",
       " 'Volumen_25%',\n",
       " 'Volumen_50%',\n",
       " 'Volumen_75%',\n",
       " 'Volumen_max',\n",
       " 'Ingresos_count',\n",
       " 'Ingresos_mean',\n",
       " 'Ingresos_std',\n",
       " 'Ingresos_min',\n",
       " 'Ingresos_25%',\n",
       " 'Ingresos_50%',\n",
       " 'Ingresos_75%',\n",
       " 'Ingresos_max']"
      ]
     },
     "execution_count": 18,
     "metadata": {},
     "output_type": "execute_result"
    }
   ],
   "source": [
    "groups = df.groupby(by=['Productos'])\n",
    "source_dos = ColumnDataSource(groups)\n",
    "source_dos.column_names"
   ]
  },
  {
   "cell_type": "code",
   "execution_count": 19,
   "metadata": {},
   "outputs": [
    {
     "data": {
      "text/html": [
       "\n",
       "\n",
       "\n",
       "\n",
       "\n",
       "\n",
       "  <div class=\"bk-root\" id=\"a412d97c-aab1-4aeb-b0e8-7c873b005962\" data-root-id=\"2484\"></div>\n"
      ]
     },
     "metadata": {},
     "output_type": "display_data"
    },
    {
     "data": {
      "application/javascript": [
       "(function(root) {\n",
       "  function embed_document(root) {\n",
       "    \n",
       "  var docs_json = {\"8f0f03db-82a0-46b6-8422-ea81b7e88be8\":{\"roots\":{\"references\":[{\"attributes\":{\"below\":[{\"id\":\"2495\",\"type\":\"CategoricalAxis\"}],\"center\":[{\"id\":\"2498\",\"type\":\"Grid\"},{\"id\":\"2503\",\"type\":\"Grid\"}],\"left\":[{\"id\":\"2499\",\"type\":\"LinearAxis\"}],\"plot_height\":350,\"renderers\":[{\"id\":\"2521\",\"type\":\"GlyphRenderer\"}],\"title\":{\"id\":\"2485\",\"type\":\"Title\"},\"toolbar\":{\"id\":\"2510\",\"type\":\"Toolbar\"},\"x_range\":{\"id\":\"2487\",\"type\":\"FactorRange\"},\"x_scale\":{\"id\":\"2491\",\"type\":\"CategoricalScale\"},\"y_range\":{\"id\":\"2489\",\"type\":\"DataRange1d\"},\"y_scale\":{\"id\":\"2493\",\"type\":\"LinearScale\"}},\"id\":\"2484\",\"subtype\":\"Figure\",\"type\":\"Plot\"},{\"attributes\":{\"formatter\":{\"id\":\"2623\",\"type\":\"CategoricalTickFormatter\"},\"ticker\":{\"id\":\"2496\",\"type\":\"CategoricalTicker\"}},\"id\":\"2495\",\"type\":\"CategoricalAxis\"},{\"attributes\":{},\"id\":\"2493\",\"type\":\"LinearScale\"},{\"attributes\":{\"fill_color\":{\"field\":\"Productos\",\"transform\":{\"id\":\"2517\",\"type\":\"CategoricalColorMapper\"}},\"line_color\":{\"field\":\"Productos\",\"transform\":{\"id\":\"2517\",\"type\":\"CategoricalColorMapper\"}},\"top\":{\"field\":\"Volumen\"},\"width\":{\"value\":0.5},\"x\":{\"field\":\"Productos\"}},\"id\":\"2519\",\"type\":\"VBar\"},{\"attributes\":{},\"id\":\"2505\",\"type\":\"WheelZoomTool\"},{\"attributes\":{},\"id\":\"2496\",\"type\":\"CategoricalTicker\"},{\"attributes\":{\"fill_alpha\":{\"value\":0.1},\"fill_color\":{\"value\":\"#1f77b4\"},\"line_alpha\":{\"value\":0.1},\"line_color\":{\"value\":\"#1f77b4\"},\"top\":{\"field\":\"Volumen\"},\"width\":{\"value\":0.5},\"x\":{\"field\":\"Productos\"}},\"id\":\"2520\",\"type\":\"VBar\"},{\"attributes\":{\"overlay\":{\"id\":\"2628\",\"type\":\"BoxAnnotation\"}},\"id\":\"2506\",\"type\":\"BoxZoomTool\"},{\"attributes\":{},\"id\":\"2627\",\"type\":\"UnionRenderers\"},{\"attributes\":{},\"id\":\"2507\",\"type\":\"SaveTool\"},{\"attributes\":{},\"id\":\"2508\",\"type\":\"ResetTool\"},{\"attributes\":{},\"id\":\"2623\",\"type\":\"CategoricalTickFormatter\"},{\"attributes\":{\"callback\":null,\"factors\":[\"Naranjas\",\"Fresas\",\"Manzanas\",\"Pl\\u00e1tanos\",\"Mango\"]},\"id\":\"2487\",\"type\":\"FactorRange\"},{\"attributes\":{},\"id\":\"2509\",\"type\":\"HelpTool\"},{\"attributes\":{},\"id\":\"2625\",\"type\":\"BasicTickFormatter\"},{\"attributes\":{\"factors\":[\"Naranjas\",\"Fresas\",\"Manzanas\",\"Pl\\u00e1tanos\",\"Mango\"],\"palette\":[\"#2b83ba\",\"#abdda4\",\"#ffffbf\",\"#fdae61\",\"#d7191c\"]},\"id\":\"2517\",\"type\":\"CategoricalColorMapper\"},{\"attributes\":{\"callback\":null,\"data\":{\"Ingresos\":{\"__ndarray__\":\"FTAAAOw0AABwPAAAyA0AAP8uAAA=\",\"dtype\":\"int32\",\"shape\":[5]},\"Productos\":[\"Naranjas\",\"Fresas\",\"Manzanas\",\"Pl\\u00e1tanos\",\"Mango\"],\"Volumen\":{\"__ndarray__\":\"fwAAAJoCAAAsAwAAcwEAAIoBAAA=\",\"dtype\":\"int32\",\"shape\":[5]},\"index\":[0,1,2,3,4]},\"selected\":{\"id\":\"2626\",\"type\":\"Selection\"},\"selection_policy\":{\"id\":\"2627\",\"type\":\"UnionRenderers\"}},\"id\":\"2482\",\"type\":\"ColumnDataSource\"},{\"attributes\":{},\"id\":\"2491\",\"type\":\"CategoricalScale\"},{\"attributes\":{\"bottom_units\":\"screen\",\"fill_alpha\":{\"value\":0.5},\"fill_color\":{\"value\":\"lightgrey\"},\"left_units\":\"screen\",\"level\":\"overlay\",\"line_alpha\":{\"value\":1.0},\"line_color\":{\"value\":\"black\"},\"line_dash\":[4,4],\"line_width\":{\"value\":2},\"render_mode\":\"css\",\"right_units\":\"screen\",\"top_units\":\"screen\"},\"id\":\"2628\",\"type\":\"BoxAnnotation\"},{\"attributes\":{\"text\":\"Volumen de ventas\"},\"id\":\"2485\",\"type\":\"Title\"},{\"attributes\":{},\"id\":\"2500\",\"type\":\"BasicTicker\"},{\"attributes\":{},\"id\":\"2626\",\"type\":\"Selection\"},{\"attributes\":{\"formatter\":{\"id\":\"2625\",\"type\":\"BasicTickFormatter\"},\"ticker\":{\"id\":\"2500\",\"type\":\"BasicTicker\"}},\"id\":\"2499\",\"type\":\"LinearAxis\"},{\"attributes\":{\"active_drag\":\"auto\",\"active_inspect\":\"auto\",\"active_multi\":null,\"active_scroll\":\"auto\",\"active_tap\":\"auto\",\"tools\":[{\"id\":\"2504\",\"type\":\"PanTool\"},{\"id\":\"2505\",\"type\":\"WheelZoomTool\"},{\"id\":\"2506\",\"type\":\"BoxZoomTool\"},{\"id\":\"2507\",\"type\":\"SaveTool\"},{\"id\":\"2508\",\"type\":\"ResetTool\"},{\"id\":\"2509\",\"type\":\"HelpTool\"},{\"id\":\"2523\",\"type\":\"HoverTool\"}]},\"id\":\"2510\",\"type\":\"Toolbar\"},{\"attributes\":{\"callback\":null},\"id\":\"2489\",\"type\":\"DataRange1d\"},{\"attributes\":{\"ticker\":{\"id\":\"2496\",\"type\":\"CategoricalTicker\"}},\"id\":\"2498\",\"type\":\"Grid\"},{\"attributes\":{\"source\":{\"id\":\"2482\",\"type\":\"ColumnDataSource\"}},\"id\":\"2522\",\"type\":\"CDSView\"},{\"attributes\":{\"callback\":null,\"tooltips\":[[\"Volumen de ventas\",\"@Volumen\"],[\"Ingresos totales\",\"@Ingresos\"]]},\"id\":\"2523\",\"type\":\"HoverTool\"},{\"attributes\":{\"data_source\":{\"id\":\"2482\",\"type\":\"ColumnDataSource\"},\"glyph\":{\"id\":\"2519\",\"type\":\"VBar\"},\"hover_glyph\":null,\"muted_glyph\":null,\"nonselection_glyph\":{\"id\":\"2520\",\"type\":\"VBar\"},\"selection_glyph\":null,\"view\":{\"id\":\"2522\",\"type\":\"CDSView\"}},\"id\":\"2521\",\"type\":\"GlyphRenderer\"},{\"attributes\":{\"dimension\":1,\"ticker\":{\"id\":\"2500\",\"type\":\"BasicTicker\"}},\"id\":\"2503\",\"type\":\"Grid\"},{\"attributes\":{},\"id\":\"2504\",\"type\":\"PanTool\"}],\"root_ids\":[\"2484\"]},\"title\":\"Bokeh Application\",\"version\":\"1.3.4\"}};\n",
       "  var render_items = [{\"docid\":\"8f0f03db-82a0-46b6-8422-ea81b7e88be8\",\"roots\":{\"2484\":\"a412d97c-aab1-4aeb-b0e8-7c873b005962\"}}];\n",
       "  root.Bokeh.embed.embed_items_notebook(docs_json, render_items);\n",
       "\n",
       "  }\n",
       "  if (root.Bokeh !== undefined) {\n",
       "    embed_document(root);\n",
       "  } else {\n",
       "    var attempts = 0;\n",
       "    var timer = setInterval(function(root) {\n",
       "      if (root.Bokeh !== undefined) {\n",
       "        embed_document(root);\n",
       "        clearInterval(timer);\n",
       "      }\n",
       "      attempts++;\n",
       "      if (attempts > 100) {\n",
       "        console.log(\"Bokeh: ERROR: Unable to run BokehJS code because BokehJS library is missing\");\n",
       "        clearInterval(timer);\n",
       "      }\n",
       "    }, 10, root)\n",
       "  }\n",
       "})(window);"
      ],
      "application/vnd.bokehjs_exec.v0+json": ""
     },
     "metadata": {
      "application/vnd.bokehjs_exec.v0+json": {
       "id": "2484"
      }
     },
     "output_type": "display_data"
    }
   ],
   "source": [
    "products = source.data['Productos'].tolist()\n",
    "\n",
    "p = figure(x_range = products,\n",
    "           plot_height=350, \n",
    "           title=\"Volumen de ventas\")\n",
    "\n",
    "color_map = factor_cmap(field_name='Productos',\n",
    "                    palette=Spectral5, factors=products)\n",
    "\n",
    "p.vbar(x='Productos', top='Volumen', source = source,\n",
    "       width = 0.5, color=color_map)\n",
    "\n",
    "# Podemos generar colores en hexadecimal con https://htmlcolorcodes.com/\n",
    "\n",
    "hover = HoverTool()\n",
    "hover.tooltips=[\n",
    "    ('Volumen de ventas', '@Volumen'),\n",
    "    ('Ingresos totales', '@Ingresos')\n",
    "]\n",
    "\n",
    "p.add_tools(hover)\n",
    "\n",
    "# Podemos generar colores en hexadecimal con https://htmlcolorcodes.com/\n",
    "\n",
    "show(p)"
   ]
  }
 ],
 "metadata": {
  "kernelspec": {
   "display_name": "Python 3",
   "language": "python",
   "name": "python3"
  },
  "language_info": {
   "codemirror_mode": {
    "name": "ipython",
    "version": 3
   },
   "file_extension": ".py",
   "mimetype": "text/x-python",
   "name": "python",
   "nbconvert_exporter": "python",
   "pygments_lexer": "ipython3",
   "version": "3.7.4"
  }
 },
 "nbformat": 4,
 "nbformat_minor": 2
}
