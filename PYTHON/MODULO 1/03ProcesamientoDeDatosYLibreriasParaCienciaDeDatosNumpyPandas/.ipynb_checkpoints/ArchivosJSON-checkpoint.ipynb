{
 "cells": [
  {
   "cell_type": "code",
   "execution_count": 1,
   "id": "4644af9e",
   "metadata": {},
   "outputs": [
    {
     "data": {
      "text/plain": [
       "{'IBEX_35': [{'ACCIONA': [95.95, 14.7, 95.95, 95.95, 6.302]},\n",
       "  {'B. SANTANDER': [2.2195, 9.99, 2.2195, 2.2195, 203.685]},\n",
       "  {'IBERDROLA': [8.588, 4.32, 8.588, 8.588, 98.298]}],\n",
       " 'IBEX_MEDIUM_CAP': [{'EUSKALTEL': [6.15, 3.71, 6.15, 6.02, 947]},\n",
       "  {'LIBERBANK': [0.1552, 7.48, 0.1648, 0.1551, 304.384]},\n",
       "  {'SACYR': [1.196, 4.09, 1.226, 1.196, 125.271]}]}"
      ]
     },
     "execution_count": 1,
     "metadata": {},
     "output_type": "execute_result"
    }
   ],
   "source": [
    "import json\n",
    "with open('mercados.json', 'rb') as f:\n",
    "    mercados = json.load(f)\n",
    "\n",
    "mercados"
   ]
  },
  {
   "cell_type": "code",
   "execution_count": 2,
   "id": "fdacf172",
   "metadata": {},
   "outputs": [
    {
     "data": {
      "text/plain": [
       "dict_keys(['IBEX_35', 'IBEX_MEDIUM_CAP'])"
      ]
     },
     "execution_count": 2,
     "metadata": {},
     "output_type": "execute_result"
    }
   ],
   "source": [
    "mercados.keys()"
   ]
  },
  {
   "cell_type": "code",
   "execution_count": 3,
   "id": "a9762ef0",
   "metadata": {},
   "outputs": [
    {
     "data": {
      "text/plain": [
       "[{'EUSKALTEL': [6.15, 3.71, 6.15, 6.02, 947]},\n",
       " {'LIBERBANK': [0.1552, 7.48, 0.1648, 0.1551, 304.384]},\n",
       " {'SACYR': [1.196, 4.09, 1.226, 1.196, 125.271]}]"
      ]
     },
     "execution_count": 3,
     "metadata": {},
     "output_type": "execute_result"
    }
   ],
   "source": [
    "mercados['IBEX_MEDIUM_CAP']"
   ]
  },
  {
   "cell_type": "code",
   "execution_count": 4,
   "id": "1616e8c1",
   "metadata": {},
   "outputs": [
    {
     "name": "stdout",
     "output_type": "stream",
     "text": [
      "{'EUSKALTEL': [6.15, 3.71, 6.15, 6.02, 947]}\n",
      "{'LIBERBANK': [0.1552, 7.48, 0.1648, 0.1551, 304.384]}\n",
      "{'SACYR': [1.196, 4.09, 1.226, 1.196, 125.271]}\n"
     ]
    }
   ],
   "source": [
    "for company in mercados['IBEX_MEDIUM_CAP']:\n",
    "    print(company)"
   ]
  },
  {
   "cell_type": "code",
   "execution_count": 5,
   "id": "d07db2b1",
   "metadata": {},
   "outputs": [
    {
     "name": "stdout",
     "output_type": "stream",
     "text": [
      "[6.15, 3.71, 6.15, 6.02, 947]\n",
      "[0.1552, 7.48, 0.1648, 0.1551, 304.384]\n",
      "[1.196, 4.09, 1.226, 1.196, 125.271]\n"
     ]
    }
   ],
   "source": [
    "for company in mercados['IBEX_MEDIUM_CAP']:\n",
    "    for value in company.keys():\n",
    "        print(company[value])"
   ]
  },
  {
   "cell_type": "code",
   "execution_count": 6,
   "id": "ba5149d9",
   "metadata": {},
   "outputs": [],
   "source": [
    "new_market = [\n",
    "    {'New_Market_1': [1, 2, 3, 4, 5]},\n",
    "    {'New_Market_2': [5, 4, 3, 2, 1]}\n",
    "]"
   ]
  },
  {
   "cell_type": "code",
   "execution_count": 8,
   "id": "7d7e3738",
   "metadata": {},
   "outputs": [],
   "source": [
    "mercados.update({'NEW_MARKET' : new_market})"
   ]
  },
  {
   "cell_type": "code",
   "execution_count": 9,
   "id": "23ffd88d",
   "metadata": {},
   "outputs": [
    {
     "data": {
      "text/plain": [
       "{'IBEX_35': [{'ACCIONA': [95.95, 14.7, 95.95, 95.95, 6.302]},\n",
       "  {'B. SANTANDER': [2.2195, 9.99, 2.2195, 2.2195, 203.685]},\n",
       "  {'IBERDROLA': [8.588, 4.32, 8.588, 8.588, 98.298]}],\n",
       " 'IBEX_MEDIUM_CAP': [{'EUSKALTEL': [6.15, 3.71, 6.15, 6.02, 947]},\n",
       "  {'LIBERBANK': [0.1552, 7.48, 0.1648, 0.1551, 304.384]},\n",
       "  {'SACYR': [1.196, 4.09, 1.226, 1.196, 125.271]}],\n",
       " 'NEW_MARKET': [{'New_Market_1': [1, 2, 3, 4, 5]},\n",
       "  {'New_Market_2': [5, 4, 3, 2, 1]}]}"
      ]
     },
     "execution_count": 9,
     "metadata": {},
     "output_type": "execute_result"
    }
   ],
   "source": [
    "mercados"
   ]
  },
  {
   "cell_type": "code",
   "execution_count": 10,
   "id": "5c0a5d4b",
   "metadata": {},
   "outputs": [],
   "source": [
    "with open('Mercados_update_ok.json', 'w') as outfile:\n",
    "    json.dump(mercados, outfile, indent=4)"
   ]
  }
 ],
 "metadata": {
  "kernelspec": {
   "display_name": "Python 3 (ipykernel)",
   "language": "python",
   "name": "python3"
  },
  "language_info": {
   "codemirror_mode": {
    "name": "ipython",
    "version": 3
   },
   "file_extension": ".py",
   "mimetype": "text/x-python",
   "name": "python",
   "nbconvert_exporter": "python",
   "pygments_lexer": "ipython3",
   "version": "3.9.7"
  }
 },
 "nbformat": 4,
 "nbformat_minor": 5
}
