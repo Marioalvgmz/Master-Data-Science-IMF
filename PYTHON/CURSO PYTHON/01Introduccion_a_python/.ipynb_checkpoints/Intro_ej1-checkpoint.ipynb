{
 "cells": [
  {
   "cell_type": "markdown",
   "id": "42b00cf9",
   "metadata": {},
   "source": [
    "# Caso práctico 1\n",
    "Pedir el nombre de un producto por teclado y su peso (teniendo en cuenta que puede tener decimales).\n",
    "Mostrar los datos por pantalla teniendo en cuenta que, si el peso introducido tiene más de 3 decimales, se requiere redondearlo exactamente a 2."
   ]
  },
  {
   "cell_type": "code",
   "execution_count": 2,
   "id": "38dc06c9",
   "metadata": {
    "scrolled": true
   },
   "outputs": [
    {
     "name": "stdout",
     "output_type": "stream",
     "text": [
      "nombre producto manzana\n",
      "peso producto 3.46574\n",
      "El producto es manzana y pesa 3.47\n"
     ]
    }
   ],
   "source": [
    "nombre = input (\"nombre producto \")\n",
    "peso = float(input(\"peso producto \"))\n",
    "print (\"El producto es %s y pesa %.2f\" %(nombre, peso) )"
   ]
  },
  {
   "cell_type": "markdown",
   "id": "7c8e08ae",
   "metadata": {},
   "source": [
    "# Caso práctico 2\n",
    "Realizar un programa que pida un número entero al usuario e informe del valor del cociente y el resto de dividirlo por dos."
   ]
  },
  {
   "cell_type": "code",
   "execution_count": 1,
   "id": "4748e994",
   "metadata": {
    "scrolled": true
   },
   "outputs": [
    {
     "name": "stdout",
     "output_type": "stream",
     "text": [
      "Introduce número 23\n",
      "El cociente es 11 y el resto es 1\n"
     ]
    }
   ],
   "source": [
    "numero = int(input(\"Introduce número \"))\n",
    "cociente = numero/2\n",
    "resto =numero%2\n",
    "print (\"El cociente es %d y el resto es %d\" %(cociente, resto))"
   ]
  }
 ],
 "metadata": {
  "kernelspec": {
   "display_name": "Python 3 (ipykernel)",
   "language": "python",
   "name": "python3"
  },
  "language_info": {
   "codemirror_mode": {
    "name": "ipython",
    "version": 3
   },
   "file_extension": ".py",
   "mimetype": "text/x-python",
   "name": "python",
   "nbconvert_exporter": "python",
   "pygments_lexer": "ipython3",
   "version": "3.9.7"
  }
 },
 "nbformat": 4,
 "nbformat_minor": 5
}
