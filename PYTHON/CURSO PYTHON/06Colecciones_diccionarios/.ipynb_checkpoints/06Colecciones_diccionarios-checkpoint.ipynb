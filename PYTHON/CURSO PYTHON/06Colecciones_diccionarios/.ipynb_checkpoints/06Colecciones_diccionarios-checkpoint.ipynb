{
 "cells": [
  {
   "cell_type": "markdown",
   "id": "1573439a",
   "metadata": {},
   "source": [
    "# Definición"
   ]
  },
  {
   "cell_type": "code",
   "execution_count": 8,
   "id": "6657bb2f",
   "metadata": {},
   "outputs": [
    {
     "name": "stdout",
     "output_type": "stream",
     "text": [
      "Valentina\n"
     ]
    }
   ],
   "source": [
    "clase={\"SGE\":\"Valentina\",\"AD\":\"Marta\",\"PDM\":\"Paloma\"}\n",
    "print(Clase[\"SGE\"])"
   ]
  },
  {
   "cell_type": "code",
   "execution_count": 9,
   "id": "3b5c452e",
   "metadata": {},
   "outputs": [
    {
     "data": {
      "text/plain": [
       "True"
      ]
     },
     "execution_count": 9,
     "metadata": {},
     "output_type": "execute_result"
    }
   ],
   "source": [
    "#Devuelve si una clave está en un diccionario:\n",
    "\"SGE\" in clase"
   ]
  },
  {
   "cell_type": "code",
   "execution_count": 13,
   "id": "aa5a795f",
   "metadata": {},
   "outputs": [],
   "source": [
    "# añadir elementos al diccionario:\n",
    "clase[\"clave nueva\"] = \"valor nuevo\""
   ]
  },
  {
   "cell_type": "code",
   "execution_count": 14,
   "id": "21871c47",
   "metadata": {},
   "outputs": [],
   "source": [
    "#borrar elementos:\n",
    "del clase [\"clave nueva\"]"
   ]
  },
  {
   "cell_type": "code",
   "execution_count": 1,
   "id": "9dbfbd5d",
   "metadata": {},
   "outputs": [],
   "source": [
    "#borrar diccionario entero\n",
    "#del clase\n",
    "#clase.clear() (vaciarlo)"
   ]
  },
  {
   "cell_type": "markdown",
   "id": "da9e137f",
   "metadata": {},
   "source": [
    "# Caso práctico 1\n",
    "Crear un diccionario con tres elementos (almacenar como clave el nombre de una fruta y como valor su precio). Luego, hacer las siguientes operaciones:\n",
    "\n",
    "+ Agregar un cuarto elemento.\n",
    "+ Imprimir la cantidad de elementos del diccionario.\n",
    "+ Borrar un elemento del diccionario.\n",
    "+ Imprimir todas las claves.\n",
    "+ Imprimir todos los valores.\n",
    "+ Imprimir claves y valores.\n",
    "+ Borrar el diccionario."
   ]
  },
  {
   "cell_type": "code",
   "execution_count": 1,
   "id": "e510360f",
   "metadata": {
    "scrolled": false
   },
   "outputs": [
    {
     "name": "stdout",
     "output_type": "stream",
     "text": [
      "{'manzana': 1.9, 'pera': 2.3, 'platano': 3.1}\n"
     ]
    }
   ],
   "source": [
    "fruta = {\"manzana\":1.90,\"pera\":2.3,\"platano\":3.1}\n",
    "print(fruta)"
   ]
  },
  {
   "cell_type": "code",
   "execution_count": 2,
   "id": "0ce604e4",
   "metadata": {},
   "outputs": [
    {
     "name": "stdout",
     "output_type": "stream",
     "text": [
      "3\n"
     ]
    }
   ],
   "source": [
    "print(len(fruta)) #Cantidad de elementos"
   ]
  },
  {
   "cell_type": "code",
   "execution_count": 3,
   "id": "c61b87e2",
   "metadata": {},
   "outputs": [
    {
     "name": "stdout",
     "output_type": "stream",
     "text": [
      "{'manzana': 1.9, 'pera': 2.3, 'platano': 3.1, 'sandia': 2.7}\n"
     ]
    }
   ],
   "source": [
    "fruta [\"sandia\"]=2.7 #Agregar elemento\n",
    "print(fruta)"
   ]
  },
  {
   "cell_type": "code",
   "execution_count": 4,
   "id": "250ddf00",
   "metadata": {},
   "outputs": [
    {
     "name": "stdout",
     "output_type": "stream",
     "text": [
      "{'manzana': 1.9, 'pera': 2.3, 'sandia': 2.7}\n"
     ]
    }
   ],
   "source": [
    "del fruta[\"platano\"] #Borrar elemento\n",
    "print(fruta)"
   ]
  },
  {
   "cell_type": "code",
   "execution_count": 5,
   "id": "2327843d",
   "metadata": {},
   "outputs": [
    {
     "name": "stdout",
     "output_type": "stream",
     "text": [
      "dict_keys(['manzana', 'pera', 'sandia'])\n"
     ]
    }
   ],
   "source": [
    "print(fruta.keys()) #Imprimir claves"
   ]
  },
  {
   "cell_type": "code",
   "execution_count": 6,
   "id": "35cf7b36",
   "metadata": {},
   "outputs": [
    {
     "name": "stdout",
     "output_type": "stream",
     "text": [
      "dict_values([1.9, 2.3, 2.7])\n"
     ]
    }
   ],
   "source": [
    "print(fruta.values()) #Imprimir valores"
   ]
  },
  {
   "cell_type": "code",
   "execution_count": 7,
   "id": "ecd91ec2",
   "metadata": {},
   "outputs": [
    {
     "name": "stdout",
     "output_type": "stream",
     "text": [
      "manzana 1.9\n",
      "pera 2.3\n",
      "sandia 2.7\n"
     ]
    }
   ],
   "source": [
    "for i,j in fruta.items(): #Imprimir claves y valores\n",
    "    print(i,j) "
   ]
  },
  {
   "cell_type": "code",
   "execution_count": 14,
   "id": "d7a3ef57",
   "metadata": {
    "scrolled": true
   },
   "outputs": [
    {
     "name": "stdout",
     "output_type": "stream",
     "text": [
      "{}\n"
     ]
    }
   ],
   "source": [
    "fruta.clear() #Vaciar diccionario\n",
    "print(fruta)"
   ]
  },
  {
   "cell_type": "markdown",
   "id": "a1d0c863",
   "metadata": {},
   "source": [
    "# Caso práctico 2\n",
    "Crear un diccionario asociando nombres de países y cantidades de habitantes. Mostrar el país que tiene más habitantes.\n",
    "\n",
    "Países={'argentina':40000000,'españa':46000000,'brasil':190000000}"
   ]
  },
  {
   "cell_type": "code",
   "execution_count": 27,
   "id": "ee9ec2e7",
   "metadata": {},
   "outputs": [
    {
     "name": "stdout",
     "output_type": "stream",
     "text": [
      "[40000000, 46000000, 190000000]\n",
      "190000000\n"
     ]
    }
   ],
   "source": [
    "paises={'argentina':40000000,'españa':46000000,'brasil':190000000}\n",
    "lista=[]\n",
    "for i in paises.values():\n",
    "    lista.append(i)\n",
    "print(lista)\n",
    "print(max(lista))"
   ]
  },
  {
   "cell_type": "code",
   "execution_count": null,
   "id": "351306db",
   "metadata": {},
   "outputs": [],
   "source": []
  }
 ],
 "metadata": {
  "kernelspec": {
   "display_name": "Python 3 (ipykernel)",
   "language": "python",
   "name": "python3"
  },
  "language_info": {
   "codemirror_mode": {
    "name": "ipython",
    "version": 3
   },
   "file_extension": ".py",
   "mimetype": "text/x-python",
   "name": "python",
   "nbconvert_exporter": "python",
   "pygments_lexer": "ipython3",
   "version": "3.9.7"
  }
 },
 "nbformat": 4,
 "nbformat_minor": 5
}
