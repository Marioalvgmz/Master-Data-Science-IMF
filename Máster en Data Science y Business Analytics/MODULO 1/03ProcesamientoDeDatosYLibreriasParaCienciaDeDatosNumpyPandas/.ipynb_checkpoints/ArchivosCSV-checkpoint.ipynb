{
 "cells": [
  {
   "cell_type": "code",
   "execution_count": 72,
   "id": "a28c64fe",
   "metadata": {},
   "outputs": [],
   "source": [
    "import csv"
   ]
  },
  {
   "cell_type": "code",
   "execution_count": 73,
   "id": "9f1918fb",
   "metadata": {},
   "outputs": [],
   "source": [
    "compras_file = open('compras.csv', mode = 'rt')"
   ]
  },
  {
   "cell_type": "code",
   "execution_count": 74,
   "id": "61858396",
   "metadata": {},
   "outputs": [
    {
     "data": {
      "text/plain": [
       "<_io.TextIOWrapper name='compras.csv' mode='rt' encoding='cp1252'>"
      ]
     },
     "execution_count": 74,
     "metadata": {},
     "output_type": "execute_result"
    }
   ],
   "source": [
    "compras_file"
   ]
  },
  {
   "cell_type": "code",
   "execution_count": 75,
   "id": "f3406cfa",
   "metadata": {},
   "outputs": [],
   "source": [
    "reader_compras = csv.reader(compras_file)"
   ]
  },
  {
   "cell_type": "code",
   "execution_count": 76,
   "id": "7aab9144",
   "metadata": {},
   "outputs": [
    {
     "data": {
      "text/plain": [
       "<_csv.reader at 0x149fc6aa520>"
      ]
     },
     "execution_count": 76,
     "metadata": {},
     "output_type": "execute_result"
    }
   ],
   "source": [
    "reader_compras"
   ]
  },
  {
   "cell_type": "code",
   "execution_count": 77,
   "id": "3621c1f6",
   "metadata": {},
   "outputs": [
    {
     "data": {
      "text/plain": [
       "[['FECHA', 'ARTICULO', 'CUANTIA', 'PRECIO UNIDAD', 'TOTAL'],\n",
       " ['15/03/2020', 'Barra Pan', '2', '0.55', '1.1'],\n",
       " ['16/03/2020', 'BolÃ\\xadgrafo Bic', '3', '0.22', '0.66'],\n",
       " ['17/03/2020', 'Cuaderno', '1', '1.25', '1.25'],\n",
       " ['18/03/2020', 'Refresco', '5', '0.8', '4'],\n",
       " ['19/03/2020', 'Silla Gamer', '1', '153', '153'],\n",
       " ['20/03/2020', 'Paquete folios A4', '3', '2.48', '7.44'],\n",
       " ['21/03/2020', 'Pack x6 Vaso cristal', '2', '6', '12'],\n",
       " ['22/03/2020', 'Manzanas (Kg.)', '1', '2.48', '2.48'],\n",
       " ['23/03/2020', 'Naranjas (Kg.)', '2', '1.29', '2.58'],\n",
       " ['24/03/2020', 'Naranja Malla', '1', '1.5', '1.5']]"
      ]
     },
     "execution_count": 77,
     "metadata": {},
     "output_type": "execute_result"
    }
   ],
   "source": [
    "clean_compras = list(reader_compras)\n",
    "clean_compras"
   ]
  },
  {
   "cell_type": "code",
   "execution_count": 78,
   "id": "b41d57ea",
   "metadata": {},
   "outputs": [],
   "source": [
    "clean_compras.append(['24/03/2020', 'Nueva compra 1', '1', '1', '1'])\n",
    "clean_compras.append(['24/03/2020', 'Nueva compra 2', '2', '1.25', '2.5'])\n",
    "clean_compras.append(['24/03/2020', 'Nueva compra 3', '1', '2', '2'])"
   ]
  },
  {
   "cell_type": "code",
   "execution_count": 79,
   "id": "8cc2f091",
   "metadata": {},
   "outputs": [
    {
     "data": {
      "text/plain": [
       "[['FECHA', 'ARTICULO', 'CUANTIA', 'PRECIO UNIDAD', 'TOTAL'],\n",
       " ['15/03/2020', 'Barra Pan', '2', '0.55', '1.1'],\n",
       " ['16/03/2020', 'BolÃ\\xadgrafo Bic', '3', '0.22', '0.66'],\n",
       " ['17/03/2020', 'Cuaderno', '1', '1.25', '1.25'],\n",
       " ['18/03/2020', 'Refresco', '5', '0.8', '4'],\n",
       " ['19/03/2020', 'Silla Gamer', '1', '153', '153'],\n",
       " ['20/03/2020', 'Paquete folios A4', '3', '2.48', '7.44'],\n",
       " ['21/03/2020', 'Pack x6 Vaso cristal', '2', '6', '12'],\n",
       " ['22/03/2020', 'Manzanas (Kg.)', '1', '2.48', '2.48'],\n",
       " ['23/03/2020', 'Naranjas (Kg.)', '2', '1.29', '2.58'],\n",
       " ['24/03/2020', 'Naranja Malla', '1', '1.5', '1.5'],\n",
       " ['24/03/2020', 'Nueva compra 1', '1', '1', '1'],\n",
       " ['24/03/2020', 'Nueva compra 2', '2', '1.25', '2.5'],\n",
       " ['24/03/2020', 'Nueva compra 3', '1', '2', '2']]"
      ]
     },
     "execution_count": 79,
     "metadata": {},
     "output_type": "execute_result"
    }
   ],
   "source": [
    "clean_compras"
   ]
  },
  {
   "cell_type": "code",
   "execution_count": 80,
   "id": "3ff8ab30",
   "metadata": {},
   "outputs": [],
   "source": [
    "file = open('compras_actualizadas.csv', 'wt', newline='')\n",
    "writer = csv.writer(file)\n",
    "writer.writerows(clean_compras)\n",
    "file.close()"
   ]
  }
 ],
 "metadata": {
  "kernelspec": {
   "display_name": "Python 3 (ipykernel)",
   "language": "python",
   "name": "python3"
  },
  "language_info": {
   "codemirror_mode": {
    "name": "ipython",
    "version": 3
   },
   "file_extension": ".py",
   "mimetype": "text/x-python",
   "name": "python",
   "nbconvert_exporter": "python",
   "pygments_lexer": "ipython3",
   "version": "3.9.7"
  }
 },
 "nbformat": 4,
 "nbformat_minor": 5
}
