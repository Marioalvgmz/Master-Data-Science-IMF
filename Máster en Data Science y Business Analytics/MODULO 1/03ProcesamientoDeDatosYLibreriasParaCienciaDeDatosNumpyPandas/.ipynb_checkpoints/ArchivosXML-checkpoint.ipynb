{
 "cells": [
  {
   "cell_type": "code",
   "execution_count": 1,
   "id": "e4e21386",
   "metadata": {},
   "outputs": [],
   "source": [
    "import xml.dom.minidom"
   ]
  },
  {
   "cell_type": "code",
   "execution_count": 3,
   "id": "5608c26b",
   "metadata": {},
   "outputs": [],
   "source": [
    "raw_xml = xml.dom.minidom.parse('books.xml')"
   ]
  },
  {
   "cell_type": "code",
   "execution_count": 5,
   "id": "05ba87ac",
   "metadata": {},
   "outputs": [
    {
     "data": {
      "text/plain": [
       "<xml.dom.minidom.Document at 0x1f5ca1ee100>"
      ]
     },
     "execution_count": 5,
     "metadata": {},
     "output_type": "execute_result"
    }
   ],
   "source": [
    "raw_xml"
   ]
  },
  {
   "cell_type": "code",
   "execution_count": 6,
   "id": "f68f22de",
   "metadata": {},
   "outputs": [],
   "source": [
    "libros_object = raw_xml.documentElement"
   ]
  },
  {
   "cell_type": "code",
   "execution_count": 7,
   "id": "ad2069d7",
   "metadata": {},
   "outputs": [
    {
     "data": {
      "text/plain": [
       "<DOM Element: Catalog at 0x1f5ca2a6550>"
      ]
     },
     "execution_count": 7,
     "metadata": {},
     "output_type": "execute_result"
    }
   ],
   "source": [
    "libros_object"
   ]
  },
  {
   "cell_type": "code",
   "execution_count": 8,
   "id": "dfcedeb9",
   "metadata": {},
   "outputs": [],
   "source": [
    "books = libros_object.getElementsByTagName('Book')"
   ]
  },
  {
   "cell_type": "code",
   "execution_count": 9,
   "id": "74f4e5f9",
   "metadata": {},
   "outputs": [
    {
     "data": {
      "text/plain": [
       "[<DOM Element: Book at 0x1f5c84c0ee0>, <DOM Element: Book at 0x1f5c9d01280>]"
      ]
     },
     "execution_count": 9,
     "metadata": {},
     "output_type": "execute_result"
    }
   ],
   "source": [
    "books"
   ]
  },
  {
   "cell_type": "code",
   "execution_count": 10,
   "id": "75e15303",
   "metadata": {},
   "outputs": [
    {
     "name": "stdout",
     "output_type": "stream",
     "text": [
      "[<DOM Element: Author at 0x1f5ca201e50>]\n",
      "[<DOM Element: Author at 0x1f5c9d01310>]\n"
     ]
    }
   ],
   "source": [
    "for item in books:\n",
    "    Author = item.getElementsByTagName('Author')\n",
    "    print(Author)"
   ]
  },
  {
   "cell_type": "code",
   "execution_count": 17,
   "id": "e9f6fd71",
   "metadata": {},
   "outputs": [
    {
     "name": "stdout",
     "output_type": "stream",
     "text": [
      "1\n",
      "1\n"
     ]
    }
   ],
   "source": [
    "for item in books:\n",
    "    print(len(item.getElementsByTagName('Author')))"
   ]
  },
  {
   "cell_type": "code",
   "execution_count": 20,
   "id": "ea91c297",
   "metadata": {},
   "outputs": [
    {
     "name": "stdout",
     "output_type": "stream",
     "text": [
      "[<DOM Text node \"'Garghentin'...\">]\n",
      "[<DOM Text node \"'Garcia, De'...\">]\n"
     ]
    }
   ],
   "source": [
    "for item in books:\n",
    "    Author = item.getElementsByTagName('Author')[0].childNodes\n",
    "    print(Author)"
   ]
  },
  {
   "cell_type": "code",
   "execution_count": 21,
   "id": "7b39c255",
   "metadata": {},
   "outputs": [
    {
     "name": "stdout",
     "output_type": "stream",
     "text": [
      "Garghentini, Davide\n",
      "Garcia, Debra\n"
     ]
    }
   ],
   "source": [
    "for item in books:\n",
    "    Author = item.getElementsByTagName('Author')[0].childNodes[0].data\n",
    "    print(Author)"
   ]
  },
  {
   "cell_type": "code",
   "execution_count": 23,
   "id": "c1825fac",
   "metadata": {},
   "outputs": [
    {
     "name": "stdout",
     "output_type": "stream",
     "text": [
      "Garghentini, Davide\n",
      "Garcia, Debra\n"
     ]
    }
   ],
   "source": [
    "for item in books:\n",
    "    for tag in item.getElementsByTagName('Author'):\n",
    "        for nodo in tag.childNodes:\n",
    "            autor = nodo.data\n",
    "            print(autor)"
   ]
  },
  {
   "cell_type": "code",
   "execution_count": 25,
   "id": "865d6526",
   "metadata": {},
   "outputs": [
    {
     "name": "stdout",
     "output_type": "stream",
     "text": [
      "Procesando libro ...\n",
      "\t * Autor: Garghentini, Davide \n",
      "\t * Título: XML Developer's Guide \n",
      "\t * Género: Computer \n",
      "\t * Precio: 44.95 \n",
      "\t * Fecha publicación: 2000-10-01 \n",
      "\t * Descripción: An in-depth look at creating applications\n",
      "      with XML. \n",
      "-------------------------\n",
      "Procesando libro ...\n",
      "\t * Autor: Garcia, Debra \n",
      "\t * Título: Midnight Rain \n",
      "\t * Género: Fantasy \n",
      "\t * Precio: 5.95 \n",
      "\t * Fecha publicación: 2000-12-16 \n",
      "\t * Descripción: A former architect battles corporate zombies,\n",
      "      an evil sorceress, and her own childhood to become queen\n",
      "      of the world. \n",
      "-------------------------\n"
     ]
    }
   ],
   "source": [
    "for item in books:\n",
    "    print('Procesando libro ...')\n",
    "    \n",
    "    # Recuperamos los campos\n",
    "    Author = item.getElementsByTagName('Author')[0].childNodes[0].data\n",
    "    Title = item.getElementsByTagName('Title')[0].childNodes[0].data\n",
    "    Genre = item.getElementsByTagName('Genre')[0].childNodes[0].data\n",
    "    Price = item.getElementsByTagName('Price')[0].childNodes[0].data\n",
    "    PublishDate = item.getElementsByTagName('PublishDate')[0].childNodes[0].data\n",
    "    Description = item.getElementsByTagName('Description')[0].childNodes[0].data\n",
    "    \n",
    "    # Imprimimos los campos\n",
    "    print('\\t * Autor: {} '.format(Author))\n",
    "    print('\\t * Título: {} '.format(Title))\n",
    "    print('\\t * Género: {} '.format(Genre))\n",
    "    print('\\t * Precio: {} '.format(Price))\n",
    "    print('\\t * Fecha publicación: {} '.format(PublishDate))\n",
    "    print('\\t * Descripción: {} '.format(Description))\n",
    "    print('-'*25)"
   ]
  },
  {
   "cell_type": "code",
   "execution_count": 26,
   "id": "8356a768",
   "metadata": {},
   "outputs": [
    {
     "name": "stdout",
     "output_type": "stream",
     "text": [
      "Procesando libro ...\n",
      "\t * Author: Garghentini, Davide \n",
      "\t * Title: XML Developer's Guide \n",
      "\t * Genre: Computer \n",
      "\t * Price: 44.95 \n",
      "\t * PublishDate: 2000-10-01 \n",
      "\t * Description: An in-depth look at creating applications\n",
      "      with XML. \n",
      "-------------------------\n",
      "Procesando libro ...\n",
      "\t * Author: Garcia, Debra \n",
      "\t * Title: Midnight Rain \n",
      "\t * Genre: Fantasy \n",
      "\t * Price: 5.95 \n",
      "\t * PublishDate: 2000-12-16 \n",
      "\t * Description: A former architect battles corporate zombies,\n",
      "      an evil sorceress, and her own childhood to become queen\n",
      "      of the world. \n",
      "-------------------------\n"
     ]
    }
   ],
   "source": [
    "for item in books:\n",
    "    print('Procesando libro ...')\n",
    "    \n",
    "    target = ['Author', 'Title', 'Genre', 'Price', 'PublishDate', 'Description']\n",
    "    \n",
    "    for elemento in target:\n",
    "        # Iteramos por cada elemento\n",
    "        for tag in item.getElementsByTagName(elemento):\n",
    "            # Iteramos por cada tag name\n",
    "            for nodo in tag.childNodes:\n",
    "                # Iteramos por cada nodo\n",
    "                final_data = nodo.data\n",
    "                print('\\t * {}: {} '.format(elemento, final_data))\n",
    "    print('-'*25)"
   ]
  },
  {
   "cell_type": "code",
   "execution_count": null,
   "id": "cb688ab2",
   "metadata": {},
   "outputs": [],
   "source": []
  }
 ],
 "metadata": {
  "kernelspec": {
   "display_name": "Python 3 (ipykernel)",
   "language": "python",
   "name": "python3"
  },
  "language_info": {
   "codemirror_mode": {
    "name": "ipython",
    "version": 3
   },
   "file_extension": ".py",
   "mimetype": "text/x-python",
   "name": "python",
   "nbconvert_exporter": "python",
   "pygments_lexer": "ipython3",
   "version": "3.9.7"
  }
 },
 "nbformat": 4,
 "nbformat_minor": 5
}
