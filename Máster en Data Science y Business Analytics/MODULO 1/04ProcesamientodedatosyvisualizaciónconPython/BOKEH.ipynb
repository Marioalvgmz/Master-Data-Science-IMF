{
 "cells": [
  {
   "cell_type": "markdown",
   "metadata": {},
   "source": [
    "# BOKEH\n",
    "\n",
    "En Python, una de las librerías más potentes para comunicar e interactuar con los resultados, **Bokeh** destaca por las siguientes características:\n",
    "* Hace simple la creación de gráficos dinámicos.\n",
    "* Permite crear widgets en los que mostrar la evolución de un gráfico con diferentes valores.\n",
    "* Sus gráficos y cuadros de mando pueden ser publicados en páginas web o notebooks.\n",
    "* Optimizada para trabajar con las librerías más importantes de Python: Pandas, Numpy, Scipy, OpenCV, Scikit-Learn...\n",
    "\n",
    "Lo primero que realizaremos será importar la librería bokeh con la funcionalidad de mostrar los resultados de las gráficas dentro de notebook."
   ]
  },
  {
   "cell_type": "code",
   "execution_count": 2,
   "metadata": {},
   "outputs": [],
   "source": [
    "from bokeh.io import output_notebook, show"
   ]
  },
  {
   "cell_type": "markdown",
   "metadata": {},
   "source": [
    "Ahora, es importante cerciorarnos de que bokeh puede trabajar correctamente, para ello cargaremos la función <code>**output_notebook**</code>"
   ]
  },
  {
   "cell_type": "code",
   "execution_count": 3,
   "metadata": {},
   "outputs": [
    {
     "data": {
      "text/html": [
       "\n",
       "    <div class=\"bk-root\">\n",
       "        <a href=\"https://bokeh.org\" target=\"_blank\" class=\"bk-logo bk-logo-small bk-logo-notebook\"></a>\n",
       "        <span id=\"1001\">Loading BokehJS ...</span>\n",
       "    </div>"
      ]
     },
     "metadata": {},
     "output_type": "display_data"
    },
    {
     "data": {
      "application/javascript": "\n(function(root) {\n  function now() {\n    return new Date();\n  }\n\n  const force = true;\n\n  if (typeof root._bokeh_onload_callbacks === \"undefined\" || force === true) {\n    root._bokeh_onload_callbacks = [];\n    root._bokeh_is_loading = undefined;\n  }\n\n  const JS_MIME_TYPE = 'application/javascript';\n  const HTML_MIME_TYPE = 'text/html';\n  const EXEC_MIME_TYPE = 'application/vnd.bokehjs_exec.v0+json';\n  const CLASS_NAME = 'output_bokeh rendered_html';\n\n  /**\n   * Render data to the DOM node\n   */\n  function render(props, node) {\n    const script = document.createElement(\"script\");\n    node.appendChild(script);\n  }\n\n  /**\n   * Handle when an output is cleared or removed\n   */\n  function handleClearOutput(event, handle) {\n    const cell = handle.cell;\n\n    const id = cell.output_area._bokeh_element_id;\n    const server_id = cell.output_area._bokeh_server_id;\n    // Clean up Bokeh references\n    if (id != null && id in Bokeh.index) {\n      Bokeh.index[id].model.document.clear();\n      delete Bokeh.index[id];\n    }\n\n    if (server_id !== undefined) {\n      // Clean up Bokeh references\n      const cmd_clean = \"from bokeh.io.state import curstate; print(curstate().uuid_to_server['\" + server_id + \"'].get_sessions()[0].document.roots[0]._id)\";\n      cell.notebook.kernel.execute(cmd_clean, {\n        iopub: {\n          output: function(msg) {\n            const id = msg.content.text.trim();\n            if (id in Bokeh.index) {\n              Bokeh.index[id].model.document.clear();\n              delete Bokeh.index[id];\n            }\n          }\n        }\n      });\n      // Destroy server and session\n      const cmd_destroy = \"import bokeh.io.notebook as ion; ion.destroy_server('\" + server_id + \"')\";\n      cell.notebook.kernel.execute(cmd_destroy);\n    }\n  }\n\n  /**\n   * Handle when a new output is added\n   */\n  function handleAddOutput(event, handle) {\n    const output_area = handle.output_area;\n    const output = handle.output;\n\n    // limit handleAddOutput to display_data with EXEC_MIME_TYPE content only\n    if ((output.output_type != \"display_data\") || (!Object.prototype.hasOwnProperty.call(output.data, EXEC_MIME_TYPE))) {\n      return\n    }\n\n    const toinsert = output_area.element.find(\".\" + CLASS_NAME.split(' ')[0]);\n\n    if (output.metadata[EXEC_MIME_TYPE][\"id\"] !== undefined) {\n      toinsert[toinsert.length - 1].firstChild.textContent = output.data[JS_MIME_TYPE];\n      // store reference to embed id on output_area\n      output_area._bokeh_element_id = output.metadata[EXEC_MIME_TYPE][\"id\"];\n    }\n    if (output.metadata[EXEC_MIME_TYPE][\"server_id\"] !== undefined) {\n      const bk_div = document.createElement(\"div\");\n      bk_div.innerHTML = output.data[HTML_MIME_TYPE];\n      const script_attrs = bk_div.children[0].attributes;\n      for (let i = 0; i < script_attrs.length; i++) {\n        toinsert[toinsert.length - 1].firstChild.setAttribute(script_attrs[i].name, script_attrs[i].value);\n        toinsert[toinsert.length - 1].firstChild.textContent = bk_div.children[0].textContent\n      }\n      // store reference to server id on output_area\n      output_area._bokeh_server_id = output.metadata[EXEC_MIME_TYPE][\"server_id\"];\n    }\n  }\n\n  function register_renderer(events, OutputArea) {\n\n    function append_mime(data, metadata, element) {\n      // create a DOM node to render to\n      const toinsert = this.create_output_subarea(\n        metadata,\n        CLASS_NAME,\n        EXEC_MIME_TYPE\n      );\n      this.keyboard_manager.register_events(toinsert);\n      // Render to node\n      const props = {data: data, metadata: metadata[EXEC_MIME_TYPE]};\n      render(props, toinsert[toinsert.length - 1]);\n      element.append(toinsert);\n      return toinsert\n    }\n\n    /* Handle when an output is cleared or removed */\n    events.on('clear_output.CodeCell', handleClearOutput);\n    events.on('delete.Cell', handleClearOutput);\n\n    /* Handle when a new output is added */\n    events.on('output_added.OutputArea', handleAddOutput);\n\n    /**\n     * Register the mime type and append_mime function with output_area\n     */\n    OutputArea.prototype.register_mime_type(EXEC_MIME_TYPE, append_mime, {\n      /* Is output safe? */\n      safe: true,\n      /* Index of renderer in `output_area.display_order` */\n      index: 0\n    });\n  }\n\n  // register the mime type if in Jupyter Notebook environment and previously unregistered\n  if (root.Jupyter !== undefined) {\n    const events = require('base/js/events');\n    const OutputArea = require('notebook/js/outputarea').OutputArea;\n\n    if (OutputArea.prototype.mime_types().indexOf(EXEC_MIME_TYPE) == -1) {\n      register_renderer(events, OutputArea);\n    }\n  }\n\n  \n  if (typeof (root._bokeh_timeout) === \"undefined\" || force === true) {\n    root._bokeh_timeout = Date.now() + 5000;\n    root._bokeh_failed_load = false;\n  }\n\n  const NB_LOAD_WARNING = {'data': {'text/html':\n     \"<div style='background-color: #fdd'>\\n\"+\n     \"<p>\\n\"+\n     \"BokehJS does not appear to have successfully loaded. If loading BokehJS from CDN, this \\n\"+\n     \"may be due to a slow or bad network connection. Possible fixes:\\n\"+\n     \"</p>\\n\"+\n     \"<ul>\\n\"+\n     \"<li>re-rerun `output_notebook()` to attempt to load from CDN again, or</li>\\n\"+\n     \"<li>use INLINE resources instead, as so:</li>\\n\"+\n     \"</ul>\\n\"+\n     \"<code>\\n\"+\n     \"from bokeh.resources import INLINE\\n\"+\n     \"output_notebook(resources=INLINE)\\n\"+\n     \"</code>\\n\"+\n     \"</div>\"}};\n\n  function display_loaded() {\n    const el = document.getElementById(\"1001\");\n    if (el != null) {\n      el.textContent = \"BokehJS is loading...\";\n    }\n    if (root.Bokeh !== undefined) {\n      if (el != null) {\n        el.textContent = \"BokehJS \" + root.Bokeh.version + \" successfully loaded.\";\n      }\n    } else if (Date.now() < root._bokeh_timeout) {\n      setTimeout(display_loaded, 100)\n    }\n  }\n\n\n  function run_callbacks() {\n    try {\n      root._bokeh_onload_callbacks.forEach(function(callback) {\n        if (callback != null)\n          callback();\n      });\n    } finally {\n      delete root._bokeh_onload_callbacks\n    }\n    console.debug(\"Bokeh: all callbacks have finished\");\n  }\n\n  function load_libs(css_urls, js_urls, callback) {\n    if (css_urls == null) css_urls = [];\n    if (js_urls == null) js_urls = [];\n\n    root._bokeh_onload_callbacks.push(callback);\n    if (root._bokeh_is_loading > 0) {\n      console.debug(\"Bokeh: BokehJS is being loaded, scheduling callback at\", now());\n      return null;\n    }\n    if (js_urls == null || js_urls.length === 0) {\n      run_callbacks();\n      return null;\n    }\n    console.debug(\"Bokeh: BokehJS not loaded, scheduling load and callback at\", now());\n    root._bokeh_is_loading = css_urls.length + js_urls.length;\n\n    function on_load() {\n      root._bokeh_is_loading--;\n      if (root._bokeh_is_loading === 0) {\n        console.debug(\"Bokeh: all BokehJS libraries/stylesheets loaded\");\n        run_callbacks()\n      }\n    }\n\n    function on_error(url) {\n      console.error(\"failed to load \" + url);\n    }\n\n    for (let i = 0; i < css_urls.length; i++) {\n      const url = css_urls[i];\n      const element = document.createElement(\"link\");\n      element.onload = on_load;\n      element.onerror = on_error.bind(null, url);\n      element.rel = \"stylesheet\";\n      element.type = \"text/css\";\n      element.href = url;\n      console.debug(\"Bokeh: injecting link tag for BokehJS stylesheet: \", url);\n      document.body.appendChild(element);\n    }\n\n    for (let i = 0; i < js_urls.length; i++) {\n      const url = js_urls[i];\n      const element = document.createElement('script');\n      element.onload = on_load;\n      element.onerror = on_error.bind(null, url);\n      element.async = false;\n      element.src = url;\n      console.debug(\"Bokeh: injecting script tag for BokehJS library: \", url);\n      document.head.appendChild(element);\n    }\n  };\n\n  function inject_raw_css(css) {\n    const element = document.createElement(\"style\");\n    element.appendChild(document.createTextNode(css));\n    document.body.appendChild(element);\n  }\n\n  \n  const js_urls = [\"https://cdn.bokeh.org/bokeh/release/bokeh-2.4.2.min.js\", \"https://cdn.bokeh.org/bokeh/release/bokeh-gl-2.4.2.min.js\", \"https://cdn.bokeh.org/bokeh/release/bokeh-widgets-2.4.2.min.js\", \"https://cdn.bokeh.org/bokeh/release/bokeh-tables-2.4.2.min.js\", \"https://cdn.bokeh.org/bokeh/release/bokeh-mathjax-2.4.2.min.js\"];\n  const css_urls = [];\n  \n\n  const inline_js = [\n    function(Bokeh) {\n      Bokeh.set_log_level(\"info\");\n    },\n    function(Bokeh) {\n    \n    \n    }\n  ];\n\n  function run_inline_js() {\n    \n    if (root.Bokeh !== undefined || force === true) {\n      \n    for (let i = 0; i < inline_js.length; i++) {\n      inline_js[i].call(root, root.Bokeh);\n    }\n    if (force === true) {\n        display_loaded();\n      }} else if (Date.now() < root._bokeh_timeout) {\n      setTimeout(run_inline_js, 100);\n    } else if (!root._bokeh_failed_load) {\n      console.log(\"Bokeh: BokehJS failed to load within specified timeout.\");\n      root._bokeh_failed_load = true;\n    } else if (force !== true) {\n      const cell = $(document.getElementById(\"1001\")).parents('.cell').data().cell;\n      cell.output_area.append_execute_result(NB_LOAD_WARNING)\n    }\n\n  }\n\n  if (root._bokeh_is_loading === 0) {\n    console.debug(\"Bokeh: BokehJS loaded, going straight to plotting\");\n    run_inline_js();\n  } else {\n    load_libs(css_urls, js_urls, function() {\n      console.debug(\"Bokeh: BokehJS plotting callback run at\", now());\n      run_inline_js();\n    });\n  }\n}(window));",
      "application/vnd.bokehjs_load.v0+json": ""
     },
     "metadata": {},
     "output_type": "display_data"
    }
   ],
   "source": [
    "output_notebook()"
   ]
  },
  {
   "cell_type": "markdown",
   "metadata": {},
   "source": [
    "Vemos que no arroja ningún mensaje de error, comenzaremos la creación de nuestro primer gráfico dinámico.\n",
    "\n",
    "El primero elemento que tendremos que configurar es el espacio que ocupará nuestro gráfico, en otras palabras, estaremos inicializando el espacio gráfico. Para ello, utilizamos la función <code>__figure__</code> con los siguientes parámetros **plot_width**, **plot_height**"
   ]
  },
  {
   "cell_type": "code",
   "execution_count": 4,
   "metadata": {},
   "outputs": [],
   "source": [
    "from bokeh.plotting import figure"
   ]
  },
  {
   "cell_type": "code",
   "execution_count": 5,
   "metadata": {},
   "outputs": [],
   "source": [
    "p = figure(plot_width=400, plot_height=400)"
   ]
  },
  {
   "cell_type": "markdown",
   "metadata": {},
   "source": [
    "Lo siguiente, será añadir el tipo de gráfico en sí. En Bokeh soporta una gran cantidad de gráficos, comenzaremos por un gráfico lineal, pero se recomienda visualizar todos los tipos de gráficos principles que podemos realizar desde la función figure https://docs.bokeh.org/en/latest/docs/reference/plotting.html#bokeh-plotting\n",
    "\n",
    "Así mismo, si queremos ver algunas demos de ejemplo sobre Dashboards que pueden realizarse en Bokeh, están disponibles en el siguiente link: https://docs.bokeh.org/en/latest/docs/gallery.html#gallery\n",
    "\n",
    "Un gráfico de líneas lo realizaremos a través de la función <code>**line**</code>"
   ]
  },
  {
   "cell_type": "code",
   "execution_count": 6,
   "metadata": {},
   "outputs": [
    {
     "data": {
      "text/html": [
       "<div style=\"display: table;\"><div style=\"display: table-row;\"><div style=\"display: table-cell;\"><b title=\"bokeh.models.renderers.GlyphRenderer\">GlyphRenderer</b>(</div><div style=\"display: table-cell;\">id&nbsp;=&nbsp;'1038', <span id=\"1041\" style=\"cursor: pointer;\">&hellip;)</span></div></div><div class=\"1040\" style=\"display: none;\"><div style=\"display: table-cell;\"></div><div style=\"display: table-cell;\">coordinates&nbsp;=&nbsp;None,</div></div><div class=\"1040\" style=\"display: none;\"><div style=\"display: table-cell;\"></div><div style=\"display: table-cell;\">data_source&nbsp;=&nbsp;ColumnDataSource(id='1034', ...),</div></div><div class=\"1040\" style=\"display: none;\"><div style=\"display: table-cell;\"></div><div style=\"display: table-cell;\">glyph&nbsp;=&nbsp;Line(id='1035', ...),</div></div><div class=\"1040\" style=\"display: none;\"><div style=\"display: table-cell;\"></div><div style=\"display: table-cell;\">group&nbsp;=&nbsp;None,</div></div><div class=\"1040\" style=\"display: none;\"><div style=\"display: table-cell;\"></div><div style=\"display: table-cell;\">hover_glyph&nbsp;=&nbsp;None,</div></div><div class=\"1040\" style=\"display: none;\"><div style=\"display: table-cell;\"></div><div style=\"display: table-cell;\">js_event_callbacks&nbsp;=&nbsp;{},</div></div><div class=\"1040\" style=\"display: none;\"><div style=\"display: table-cell;\"></div><div style=\"display: table-cell;\">js_property_callbacks&nbsp;=&nbsp;{},</div></div><div class=\"1040\" style=\"display: none;\"><div style=\"display: table-cell;\"></div><div style=\"display: table-cell;\">level&nbsp;=&nbsp;'glyph',</div></div><div class=\"1040\" style=\"display: none;\"><div style=\"display: table-cell;\"></div><div style=\"display: table-cell;\">muted&nbsp;=&nbsp;False,</div></div><div class=\"1040\" style=\"display: none;\"><div style=\"display: table-cell;\"></div><div style=\"display: table-cell;\">muted_glyph&nbsp;=&nbsp;Line(id='1037', ...),</div></div><div class=\"1040\" style=\"display: none;\"><div style=\"display: table-cell;\"></div><div style=\"display: table-cell;\">name&nbsp;=&nbsp;None,</div></div><div class=\"1040\" style=\"display: none;\"><div style=\"display: table-cell;\"></div><div style=\"display: table-cell;\">nonselection_glyph&nbsp;=&nbsp;Line(id='1036', ...),</div></div><div class=\"1040\" style=\"display: none;\"><div style=\"display: table-cell;\"></div><div style=\"display: table-cell;\">selection_glyph&nbsp;=&nbsp;'auto',</div></div><div class=\"1040\" style=\"display: none;\"><div style=\"display: table-cell;\"></div><div style=\"display: table-cell;\">subscribed_events&nbsp;=&nbsp;[],</div></div><div class=\"1040\" style=\"display: none;\"><div style=\"display: table-cell;\"></div><div style=\"display: table-cell;\">syncable&nbsp;=&nbsp;True,</div></div><div class=\"1040\" style=\"display: none;\"><div style=\"display: table-cell;\"></div><div style=\"display: table-cell;\">tags&nbsp;=&nbsp;[],</div></div><div class=\"1040\" style=\"display: none;\"><div style=\"display: table-cell;\"></div><div style=\"display: table-cell;\">view&nbsp;=&nbsp;CDSView(id='1039', ...),</div></div><div class=\"1040\" style=\"display: none;\"><div style=\"display: table-cell;\"></div><div style=\"display: table-cell;\">visible&nbsp;=&nbsp;True,</div></div><div class=\"1040\" style=\"display: none;\"><div style=\"display: table-cell;\"></div><div style=\"display: table-cell;\">x_range_name&nbsp;=&nbsp;'default',</div></div><div class=\"1040\" style=\"display: none;\"><div style=\"display: table-cell;\"></div><div style=\"display: table-cell;\">y_range_name&nbsp;=&nbsp;'default')</div></div></div>\n",
       "<script>\n",
       "(function() {\n",
       "  let expanded = false;\n",
       "  const ellipsis = document.getElementById(\"1041\");\n",
       "  ellipsis.addEventListener(\"click\", function() {\n",
       "    const rows = document.getElementsByClassName(\"1040\");\n",
       "    for (let i = 0; i < rows.length; i++) {\n",
       "      const el = rows[i];\n",
       "      el.style.display = expanded ? \"none\" : \"table-row\";\n",
       "    }\n",
       "    ellipsis.innerHTML = expanded ? \"&hellip;)\" : \"&lsaquo;&lsaquo;&lsaquo;\";\n",
       "    expanded = !expanded;\n",
       "  });\n",
       "})();\n",
       "</script>\n"
      ],
      "text/plain": [
       "GlyphRenderer(id='1038', ...)"
      ]
     },
     "execution_count": 6,
     "metadata": {},
     "output_type": "execute_result"
    }
   ],
   "source": [
    "p.line([1, 2, 3, 4, 5, 6, 7, 8] ,[20, 3, 12, 28, 15, 6, 19, 11])"
   ]
  },
  {
   "cell_type": "markdown",
   "metadata": {},
   "source": [
    "Finalmente, para mostrar el gráfico hacemos uso de la función importada de bokeh.io <code>**show**</code>"
   ]
  },
  {
   "cell_type": "code",
   "execution_count": 7,
   "metadata": {},
   "outputs": [
    {
     "data": {
      "text/html": [
       "\n",
       "\n",
       "\n",
       "\n",
       "\n",
       "\n",
       "  <div class=\"bk-root\" id=\"9bc73060-175a-4698-b821-472af57a61c5\" data-root-id=\"1003\"></div>\n"
      ]
     },
     "metadata": {},
     "output_type": "display_data"
    },
    {
     "data": {
      "application/javascript": "(function(root) {\n  function embed_document(root) {\n    \n  const docs_json = {\"2573493f-82a2-417e-bcb9-6b75a7776c09\":{\"defs\":[],\"roots\":{\"references\":[{\"attributes\":{\"below\":[{\"id\":\"1012\"}],\"center\":[{\"id\":\"1015\"},{\"id\":\"1019\"}],\"height\":400,\"left\":[{\"id\":\"1016\"}],\"renderers\":[{\"id\":\"1038\"}],\"title\":{\"id\":\"1042\"},\"toolbar\":{\"id\":\"1027\"},\"width\":400,\"x_range\":{\"id\":\"1004\"},\"x_scale\":{\"id\":\"1008\"},\"y_range\":{\"id\":\"1006\"},\"y_scale\":{\"id\":\"1010\"}},\"id\":\"1003\",\"subtype\":\"Figure\",\"type\":\"Plot\"},{\"attributes\":{},\"id\":\"1024\",\"type\":\"ResetTool\"},{\"attributes\":{\"source\":{\"id\":\"1034\"}},\"id\":\"1039\",\"type\":\"CDSView\"},{\"attributes\":{},\"id\":\"1051\",\"type\":\"Selection\"},{\"attributes\":{},\"id\":\"1050\",\"type\":\"UnionRenderers\"},{\"attributes\":{},\"id\":\"1049\",\"type\":\"AllLabels\"},{\"attributes\":{\"coordinates\":null,\"data_source\":{\"id\":\"1034\"},\"glyph\":{\"id\":\"1035\"},\"group\":null,\"hover_glyph\":null,\"muted_glyph\":{\"id\":\"1037\"},\"nonselection_glyph\":{\"id\":\"1036\"},\"view\":{\"id\":\"1039\"}},\"id\":\"1038\",\"type\":\"GlyphRenderer\"},{\"attributes\":{},\"id\":\"1025\",\"type\":\"HelpTool\"},{\"attributes\":{\"line_alpha\":0.1,\"line_color\":\"#1f77b4\",\"x\":{\"field\":\"x\"},\"y\":{\"field\":\"y\"}},\"id\":\"1036\",\"type\":\"Line\"},{\"attributes\":{},\"id\":\"1046\",\"type\":\"AllLabels\"},{\"attributes\":{\"tools\":[{\"id\":\"1020\"},{\"id\":\"1021\"},{\"id\":\"1022\"},{\"id\":\"1023\"},{\"id\":\"1024\"},{\"id\":\"1025\"}]},\"id\":\"1027\",\"type\":\"Toolbar\"},{\"attributes\":{},\"id\":\"1017\",\"type\":\"BasicTicker\"},{\"attributes\":{\"coordinates\":null,\"formatter\":{\"id\":\"1045\"},\"group\":null,\"major_label_policy\":{\"id\":\"1046\"},\"ticker\":{\"id\":\"1017\"}},\"id\":\"1016\",\"type\":\"LinearAxis\"},{\"attributes\":{},\"id\":\"1048\",\"type\":\"BasicTickFormatter\"},{\"attributes\":{},\"id\":\"1006\",\"type\":\"DataRange1d\"},{\"attributes\":{\"bottom_units\":\"screen\",\"coordinates\":null,\"fill_alpha\":0.5,\"fill_color\":\"lightgrey\",\"group\":null,\"left_units\":\"screen\",\"level\":\"overlay\",\"line_alpha\":1.0,\"line_color\":\"black\",\"line_dash\":[4,4],\"line_width\":2,\"right_units\":\"screen\",\"syncable\":false,\"top_units\":\"screen\"},\"id\":\"1026\",\"type\":\"BoxAnnotation\"},{\"attributes\":{},\"id\":\"1023\",\"type\":\"SaveTool\"},{\"attributes\":{\"overlay\":{\"id\":\"1026\"}},\"id\":\"1022\",\"type\":\"BoxZoomTool\"},{\"attributes\":{\"axis\":{\"id\":\"1016\"},\"coordinates\":null,\"dimension\":1,\"group\":null,\"ticker\":null},\"id\":\"1019\",\"type\":\"Grid\"},{\"attributes\":{},\"id\":\"1013\",\"type\":\"BasicTicker\"},{\"attributes\":{},\"id\":\"1008\",\"type\":\"LinearScale\"},{\"attributes\":{},\"id\":\"1021\",\"type\":\"WheelZoomTool\"},{\"attributes\":{},\"id\":\"1010\",\"type\":\"LinearScale\"},{\"attributes\":{\"data\":{\"x\":[1,2,3,4,5,6,7,8],\"y\":[20,3,12,28,15,6,19,11]},\"selected\":{\"id\":\"1051\"},\"selection_policy\":{\"id\":\"1050\"}},\"id\":\"1034\",\"type\":\"ColumnDataSource\"},{\"attributes\":{\"coordinates\":null,\"formatter\":{\"id\":\"1048\"},\"group\":null,\"major_label_policy\":{\"id\":\"1049\"},\"ticker\":{\"id\":\"1013\"}},\"id\":\"1012\",\"type\":\"LinearAxis\"},{\"attributes\":{\"line_alpha\":0.2,\"line_color\":\"#1f77b4\",\"x\":{\"field\":\"x\"},\"y\":{\"field\":\"y\"}},\"id\":\"1037\",\"type\":\"Line\"},{\"attributes\":{},\"id\":\"1020\",\"type\":\"PanTool\"},{\"attributes\":{},\"id\":\"1045\",\"type\":\"BasicTickFormatter\"},{\"attributes\":{\"axis\":{\"id\":\"1012\"},\"coordinates\":null,\"group\":null,\"ticker\":null},\"id\":\"1015\",\"type\":\"Grid\"},{\"attributes\":{\"line_color\":\"#1f77b4\",\"x\":{\"field\":\"x\"},\"y\":{\"field\":\"y\"}},\"id\":\"1035\",\"type\":\"Line\"},{\"attributes\":{\"coordinates\":null,\"group\":null},\"id\":\"1042\",\"type\":\"Title\"},{\"attributes\":{},\"id\":\"1004\",\"type\":\"DataRange1d\"}],\"root_ids\":[\"1003\"]},\"title\":\"Bokeh Application\",\"version\":\"2.4.2\"}};\n  const render_items = [{\"docid\":\"2573493f-82a2-417e-bcb9-6b75a7776c09\",\"root_ids\":[\"1003\"],\"roots\":{\"1003\":\"9bc73060-175a-4698-b821-472af57a61c5\"}}];\n  root.Bokeh.embed.embed_items_notebook(docs_json, render_items);\n\n  }\n  if (root.Bokeh !== undefined) {\n    embed_document(root);\n  } else {\n    let attempts = 0;\n    const timer = setInterval(function(root) {\n      if (root.Bokeh !== undefined) {\n        clearInterval(timer);\n        embed_document(root);\n      } else {\n        attempts++;\n        if (attempts > 100) {\n          clearInterval(timer);\n          console.log(\"Bokeh: ERROR: Unable to run BokehJS code because BokehJS library is missing\");\n        }\n      }\n    }, 10, root)\n  }\n})(window);",
      "application/vnd.bokehjs_exec.v0+json": ""
     },
     "metadata": {
      "application/vnd.bokehjs_exec.v0+json": {
       "id": "1003"
      }
     },
     "output_type": "display_data"
    }
   ],
   "source": [
    "show(p)"
   ]
  },
  {
   "cell_type": "markdown",
   "metadata": {},
   "source": [
    "Vemos que aparece nuestro gráfico y a diferencia de otros paquetes de visualización, podemos desplazarnos en el gráfico, hacer zoom, mover con la rueda del ratón y guardar el gráfico de forma muy simple a través del menú de opciones.\n",
    "\n",
    "Agregamos nuevos parámetros."
   ]
  },
  {
   "cell_type": "code",
   "execution_count": 8,
   "metadata": {},
   "outputs": [
    {
     "data": {
      "text/html": [
       "\n",
       "\n",
       "\n",
       "\n",
       "\n",
       "\n",
       "  <div class=\"bk-root\" id=\"167a8d1a-21ef-4cb8-a722-bfd9f73a5c41\" data-root-id=\"1108\"></div>\n"
      ]
     },
     "metadata": {},
     "output_type": "display_data"
    },
    {
     "data": {
      "application/javascript": "(function(root) {\n  function embed_document(root) {\n    \n  const docs_json = {\"d678d58b-9453-4ec1-a648-038e9a3c9d8b\":{\"defs\":[],\"roots\":{\"references\":[{\"attributes\":{\"below\":[{\"id\":\"1117\"}],\"center\":[{\"id\":\"1120\"},{\"id\":\"1124\"}],\"height\":400,\"left\":[{\"id\":\"1121\"}],\"renderers\":[{\"id\":\"1143\"}],\"title\":{\"id\":\"1156\"},\"toolbar\":{\"id\":\"1132\"},\"width\":400,\"x_range\":{\"id\":\"1109\"},\"x_scale\":{\"id\":\"1113\"},\"y_range\":{\"id\":\"1111\"},\"y_scale\":{\"id\":\"1115\"}},\"id\":\"1108\",\"subtype\":\"Figure\",\"type\":\"Plot\"},{\"attributes\":{},\"id\":\"1125\",\"type\":\"PanTool\"},{\"attributes\":{\"line_alpha\":0.2,\"line_color\":\"red\",\"line_width\":5,\"x\":{\"field\":\"x\"},\"y\":{\"field\":\"y\"}},\"id\":\"1142\",\"type\":\"Line\"},{\"attributes\":{},\"id\":\"1129\",\"type\":\"ResetTool\"},{\"attributes\":{},\"id\":\"1126\",\"type\":\"WheelZoomTool\"},{\"attributes\":{\"source\":{\"id\":\"1139\"}},\"id\":\"1144\",\"type\":\"CDSView\"},{\"attributes\":{\"overlay\":{\"id\":\"1131\"}},\"id\":\"1127\",\"type\":\"BoxZoomTool\"},{\"attributes\":{\"coordinates\":null,\"data_source\":{\"id\":\"1139\"},\"glyph\":{\"id\":\"1140\"},\"group\":null,\"hover_glyph\":null,\"muted_glyph\":{\"id\":\"1142\"},\"nonselection_glyph\":{\"id\":\"1141\"},\"view\":{\"id\":\"1144\"}},\"id\":\"1143\",\"type\":\"GlyphRenderer\"},{\"attributes\":{},\"id\":\"1128\",\"type\":\"SaveTool\"},{\"attributes\":{\"line_alpha\":0.5,\"line_color\":\"red\",\"line_width\":5,\"x\":{\"field\":\"x\"},\"y\":{\"field\":\"y\"}},\"id\":\"1140\",\"type\":\"Line\"},{\"attributes\":{},\"id\":\"1118\",\"type\":\"BasicTicker\"},{\"attributes\":{\"coordinates\":null,\"group\":null},\"id\":\"1156\",\"type\":\"Title\"},{\"attributes\":{},\"id\":\"1113\",\"type\":\"LinearScale\"},{\"attributes\":{\"line_alpha\":0.1,\"line_color\":\"red\",\"line_width\":5,\"x\":{\"field\":\"x\"},\"y\":{\"field\":\"y\"}},\"id\":\"1141\",\"type\":\"Line\"},{\"attributes\":{},\"id\":\"1130\",\"type\":\"HelpTool\"},{\"attributes\":{},\"id\":\"1115\",\"type\":\"LinearScale\"},{\"attributes\":{},\"id\":\"1111\",\"type\":\"DataRange1d\"},{\"attributes\":{},\"id\":\"1122\",\"type\":\"BasicTicker\"},{\"attributes\":{\"coordinates\":null,\"formatter\":{\"id\":\"1162\"},\"group\":null,\"major_label_policy\":{\"id\":\"1163\"},\"ticker\":{\"id\":\"1118\"}},\"id\":\"1117\",\"type\":\"LinearAxis\"},{\"attributes\":{},\"id\":\"1160\",\"type\":\"AllLabels\"},{\"attributes\":{},\"id\":\"1163\",\"type\":\"AllLabels\"},{\"attributes\":{},\"id\":\"1162\",\"type\":\"BasicTickFormatter\"},{\"attributes\":{\"axis\":{\"id\":\"1117\"},\"coordinates\":null,\"group\":null,\"ticker\":null},\"id\":\"1120\",\"type\":\"Grid\"},{\"attributes\":{\"coordinates\":null,\"formatter\":{\"id\":\"1159\"},\"group\":null,\"major_label_policy\":{\"id\":\"1160\"},\"ticker\":{\"id\":\"1122\"}},\"id\":\"1121\",\"type\":\"LinearAxis\"},{\"attributes\":{},\"id\":\"1159\",\"type\":\"BasicTickFormatter\"},{\"attributes\":{},\"id\":\"1164\",\"type\":\"UnionRenderers\"},{\"attributes\":{\"bottom_units\":\"screen\",\"coordinates\":null,\"fill_alpha\":0.5,\"fill_color\":\"lightgrey\",\"group\":null,\"left_units\":\"screen\",\"level\":\"overlay\",\"line_alpha\":1.0,\"line_color\":\"black\",\"line_dash\":[4,4],\"line_width\":2,\"right_units\":\"screen\",\"syncable\":false,\"top_units\":\"screen\"},\"id\":\"1131\",\"type\":\"BoxAnnotation\"},{\"attributes\":{\"tools\":[{\"id\":\"1125\"},{\"id\":\"1126\"},{\"id\":\"1127\"},{\"id\":\"1128\"},{\"id\":\"1129\"},{\"id\":\"1130\"}]},\"id\":\"1132\",\"type\":\"Toolbar\"},{\"attributes\":{},\"id\":\"1165\",\"type\":\"Selection\"},{\"attributes\":{\"axis\":{\"id\":\"1121\"},\"coordinates\":null,\"dimension\":1,\"group\":null,\"ticker\":null},\"id\":\"1124\",\"type\":\"Grid\"},{\"attributes\":{\"data\":{\"x\":[1,2,3,4,5,6,7,8],\"y\":[20,3,12,28,15,6,19,11]},\"selected\":{\"id\":\"1165\"},\"selection_policy\":{\"id\":\"1164\"}},\"id\":\"1139\",\"type\":\"ColumnDataSource\"},{\"attributes\":{},\"id\":\"1109\",\"type\":\"DataRange1d\"}],\"root_ids\":[\"1108\"]},\"title\":\"Bokeh Application\",\"version\":\"2.4.2\"}};\n  const render_items = [{\"docid\":\"d678d58b-9453-4ec1-a648-038e9a3c9d8b\",\"root_ids\":[\"1108\"],\"roots\":{\"1108\":\"167a8d1a-21ef-4cb8-a722-bfd9f73a5c41\"}}];\n  root.Bokeh.embed.embed_items_notebook(docs_json, render_items);\n\n  }\n  if (root.Bokeh !== undefined) {\n    embed_document(root);\n  } else {\n    let attempts = 0;\n    const timer = setInterval(function(root) {\n      if (root.Bokeh !== undefined) {\n        clearInterval(timer);\n        embed_document(root);\n      } else {\n        attempts++;\n        if (attempts > 100) {\n          clearInterval(timer);\n          console.log(\"Bokeh: ERROR: Unable to run BokehJS code because BokehJS library is missing\");\n        }\n      }\n    }, 10, root)\n  }\n})(window);",
      "application/vnd.bokehjs_exec.v0+json": ""
     },
     "metadata": {
      "application/vnd.bokehjs_exec.v0+json": {
       "id": "1108"
      }
     },
     "output_type": "display_data"
    }
   ],
   "source": [
    "p = figure(plot_width=400, plot_height=400)\n",
    "\n",
    "p.line([1, 2, 3, 4, 5, 6, 7, 8] ,[20, 3, 12, 28, 15, 6, 19, 11], \n",
    "       color = 'red', line_width=5, line_alpha = 0.5)\n",
    "show(p)"
   ]
  },
  {
   "cell_type": "markdown",
   "metadata": {},
   "source": [
    "Mostramos otro estilo de gráfico, un scatter plot, utilizamos la función <code>**circle**</code>"
   ]
  },
  {
   "cell_type": "code",
   "execution_count": 9,
   "metadata": {},
   "outputs": [
    {
     "data": {
      "text/html": [
       "\n",
       "\n",
       "\n",
       "\n",
       "\n",
       "\n",
       "  <div class=\"bk-root\" id=\"69e49a91-b537-4d72-bbb3-f7d854c942c6\" data-root-id=\"1222\"></div>\n"
      ]
     },
     "metadata": {},
     "output_type": "display_data"
    },
    {
     "data": {
      "application/javascript": "(function(root) {\n  function embed_document(root) {\n    \n  const docs_json = {\"e28707f8-44da-42de-929c-7e06514b9314\":{\"defs\":[],\"roots\":{\"references\":[{\"attributes\":{\"below\":[{\"id\":\"1231\"}],\"center\":[{\"id\":\"1234\"},{\"id\":\"1238\"}],\"height\":500,\"left\":[{\"id\":\"1235\"}],\"renderers\":[{\"id\":\"1257\"}],\"title\":{\"id\":\"1281\"},\"toolbar\":{\"id\":\"1246\"},\"width\":500,\"x_range\":{\"id\":\"1223\"},\"x_scale\":{\"id\":\"1227\"},\"y_range\":{\"id\":\"1225\"},\"y_scale\":{\"id\":\"1229\"}},\"id\":\"1222\",\"subtype\":\"Figure\",\"type\":\"Plot\"},{\"attributes\":{},\"id\":\"1285\",\"type\":\"AllLabels\"},{\"attributes\":{},\"id\":\"1229\",\"type\":\"LinearScale\"},{\"attributes\":{},\"id\":\"1244\",\"type\":\"HelpTool\"},{\"attributes\":{},\"id\":\"1284\",\"type\":\"BasicTickFormatter\"},{\"attributes\":{\"coordinates\":null,\"formatter\":{\"id\":\"1287\"},\"group\":null,\"major_label_policy\":{\"id\":\"1288\"},\"ticker\":{\"id\":\"1232\"}},\"id\":\"1231\",\"type\":\"LinearAxis\"},{\"attributes\":{\"fill_alpha\":{\"value\":0.2},\"fill_color\":{\"value\":\"red\"},\"hatch_alpha\":{\"value\":0.2},\"hatch_color\":{\"value\":\"red\"},\"line_alpha\":{\"value\":0.2},\"line_color\":{\"value\":\"red\"},\"line_width\":{\"value\":5},\"x\":{\"field\":\"x\"},\"y\":{\"field\":\"y\"}},\"id\":\"1256\",\"type\":\"Circle\"},{\"attributes\":{\"axis\":{\"id\":\"1231\"},\"coordinates\":null,\"group\":null,\"ticker\":null},\"id\":\"1234\",\"type\":\"Grid\"},{\"attributes\":{\"tools\":[{\"id\":\"1239\"},{\"id\":\"1240\"},{\"id\":\"1241\"},{\"id\":\"1242\"},{\"id\":\"1243\"},{\"id\":\"1244\"}]},\"id\":\"1246\",\"type\":\"Toolbar\"},{\"attributes\":{},\"id\":\"1236\",\"type\":\"BasicTicker\"},{\"attributes\":{\"coordinates\":null,\"formatter\":{\"id\":\"1284\"},\"group\":null,\"major_label_policy\":{\"id\":\"1285\"},\"ticker\":{\"id\":\"1236\"}},\"id\":\"1235\",\"type\":\"LinearAxis\"},{\"attributes\":{\"bottom_units\":\"screen\",\"coordinates\":null,\"fill_alpha\":0.5,\"fill_color\":\"lightgrey\",\"group\":null,\"left_units\":\"screen\",\"level\":\"overlay\",\"line_alpha\":1.0,\"line_color\":\"black\",\"line_dash\":[4,4],\"line_width\":2,\"right_units\":\"screen\",\"syncable\":false,\"top_units\":\"screen\"},\"id\":\"1245\",\"type\":\"BoxAnnotation\"},{\"attributes\":{\"axis\":{\"id\":\"1235\"},\"coordinates\":null,\"dimension\":1,\"group\":null,\"ticker\":null},\"id\":\"1238\",\"type\":\"Grid\"},{\"attributes\":{\"data\":{\"x\":[1,2,3,4,5,6,7,8],\"y\":[20,3,12,28,15,6,19,11]},\"selected\":{\"id\":\"1290\"},\"selection_policy\":{\"id\":\"1289\"}},\"id\":\"1253\",\"type\":\"ColumnDataSource\"},{\"attributes\":{\"fill_color\":{\"value\":\"red\"},\"hatch_color\":{\"value\":\"red\"},\"line_alpha\":{\"value\":0.5},\"line_color\":{\"value\":\"red\"},\"line_width\":{\"value\":5},\"x\":{\"field\":\"x\"},\"y\":{\"field\":\"y\"}},\"id\":\"1254\",\"type\":\"Circle\"},{\"attributes\":{},\"id\":\"1223\",\"type\":\"DataRange1d\"},{\"attributes\":{\"coordinates\":null,\"data_source\":{\"id\":\"1253\"},\"glyph\":{\"id\":\"1254\"},\"group\":null,\"hover_glyph\":null,\"muted_glyph\":{\"id\":\"1256\"},\"nonselection_glyph\":{\"id\":\"1255\"},\"view\":{\"id\":\"1258\"}},\"id\":\"1257\",\"type\":\"GlyphRenderer\"},{\"attributes\":{},\"id\":\"1287\",\"type\":\"BasicTickFormatter\"},{\"attributes\":{},\"id\":\"1239\",\"type\":\"PanTool\"},{\"attributes\":{},\"id\":\"1225\",\"type\":\"DataRange1d\"},{\"attributes\":{},\"id\":\"1240\",\"type\":\"WheelZoomTool\"},{\"attributes\":{\"source\":{\"id\":\"1253\"}},\"id\":\"1258\",\"type\":\"CDSView\"},{\"attributes\":{\"overlay\":{\"id\":\"1245\"}},\"id\":\"1241\",\"type\":\"BoxZoomTool\"},{\"attributes\":{},\"id\":\"1289\",\"type\":\"UnionRenderers\"},{\"attributes\":{\"fill_alpha\":{\"value\":0.1},\"fill_color\":{\"value\":\"red\"},\"hatch_alpha\":{\"value\":0.1},\"hatch_color\":{\"value\":\"red\"},\"line_alpha\":{\"value\":0.1},\"line_color\":{\"value\":\"red\"},\"line_width\":{\"value\":5},\"x\":{\"field\":\"x\"},\"y\":{\"field\":\"y\"}},\"id\":\"1255\",\"type\":\"Circle\"},{\"attributes\":{},\"id\":\"1242\",\"type\":\"SaveTool\"},{\"attributes\":{},\"id\":\"1288\",\"type\":\"AllLabels\"},{\"attributes\":{},\"id\":\"1243\",\"type\":\"ResetTool\"},{\"attributes\":{},\"id\":\"1232\",\"type\":\"BasicTicker\"},{\"attributes\":{},\"id\":\"1290\",\"type\":\"Selection\"},{\"attributes\":{\"coordinates\":null,\"group\":null},\"id\":\"1281\",\"type\":\"Title\"},{\"attributes\":{},\"id\":\"1227\",\"type\":\"LinearScale\"}],\"root_ids\":[\"1222\"]},\"title\":\"Bokeh Application\",\"version\":\"2.4.2\"}};\n  const render_items = [{\"docid\":\"e28707f8-44da-42de-929c-7e06514b9314\",\"root_ids\":[\"1222\"],\"roots\":{\"1222\":\"69e49a91-b537-4d72-bbb3-f7d854c942c6\"}}];\n  root.Bokeh.embed.embed_items_notebook(docs_json, render_items);\n\n  }\n  if (root.Bokeh !== undefined) {\n    embed_document(root);\n  } else {\n    let attempts = 0;\n    const timer = setInterval(function(root) {\n      if (root.Bokeh !== undefined) {\n        clearInterval(timer);\n        embed_document(root);\n      } else {\n        attempts++;\n        if (attempts > 100) {\n          clearInterval(timer);\n          console.log(\"Bokeh: ERROR: Unable to run BokehJS code because BokehJS library is missing\");\n        }\n      }\n    }, 10, root)\n  }\n})(window);",
      "application/vnd.bokehjs_exec.v0+json": ""
     },
     "metadata": {
      "application/vnd.bokehjs_exec.v0+json": {
       "id": "1222"
      }
     },
     "output_type": "display_data"
    }
   ],
   "source": [
    "p = figure(plot_width=500, plot_height=500)\n",
    "\n",
    "p.circle([1, 2, 3, 4, 5, 6, 7, 8] ,[20, 3, 12, 28, 15, 6, 19, 11], \n",
    "       color = 'red', line_width=5, line_alpha = 0.5)\n",
    "show(p)"
   ]
  },
  {
   "cell_type": "markdown",
   "metadata": {},
   "source": [
    "Añadimos más opciones y, en esta ocasión en lugar de utilizar listas, vamos a comprobar su integración con arrays."
   ]
  },
  {
   "cell_type": "code",
   "execution_count": 10,
   "metadata": {},
   "outputs": [
    {
     "data": {
      "text/html": [
       "\n",
       "\n",
       "\n",
       "\n",
       "\n",
       "\n",
       "  <div class=\"bk-root\" id=\"ae434198-7edf-4ff6-8512-7d438c4d1f9b\" data-root-id=\"1347\"></div>\n"
      ]
     },
     "metadata": {},
     "output_type": "display_data"
    },
    {
     "data": {
      "application/javascript": "(function(root) {\n  function embed_document(root) {\n    \n  const docs_json = {\"d66b096c-a6de-4a1d-a687-0ce35716f894\":{\"defs\":[],\"roots\":{\"references\":[{\"attributes\":{\"below\":[{\"id\":\"1356\"}],\"center\":[{\"id\":\"1359\"},{\"id\":\"1363\"}],\"height\":500,\"left\":[{\"id\":\"1360\"}],\"renderers\":[{\"id\":\"1382\"}],\"title\":{\"id\":\"1417\"},\"toolbar\":{\"id\":\"1371\"},\"width\":500,\"x_range\":{\"id\":\"1348\"},\"x_scale\":{\"id\":\"1352\"},\"y_range\":{\"id\":\"1350\"},\"y_scale\":{\"id\":\"1354\"}},\"id\":\"1347\",\"subtype\":\"Figure\",\"type\":\"Plot\"},{\"attributes\":{},\"id\":\"1350\",\"type\":\"DataRange1d\"},{\"attributes\":{\"coordinates\":null,\"group\":null},\"id\":\"1417\",\"type\":\"Title\"},{\"attributes\":{\"coordinates\":null,\"data_source\":{\"id\":\"1378\"},\"glyph\":{\"id\":\"1379\"},\"group\":null,\"hover_glyph\":null,\"muted_glyph\":{\"id\":\"1381\"},\"nonselection_glyph\":{\"id\":\"1380\"},\"view\":{\"id\":\"1383\"}},\"id\":\"1382\",\"type\":\"GlyphRenderer\"},{\"attributes\":{},\"id\":\"1421\",\"type\":\"AllLabels\"},{\"attributes\":{},\"id\":\"1348\",\"type\":\"DataRange1d\"},{\"attributes\":{\"tools\":[{\"id\":\"1364\"},{\"id\":\"1365\"},{\"id\":\"1366\"},{\"id\":\"1367\"},{\"id\":\"1368\"},{\"id\":\"1369\"}]},\"id\":\"1371\",\"type\":\"Toolbar\"},{\"attributes\":{},\"id\":\"1420\",\"type\":\"BasicTickFormatter\"},{\"attributes\":{\"bottom_units\":\"screen\",\"coordinates\":null,\"fill_alpha\":0.5,\"fill_color\":\"lightgrey\",\"group\":null,\"left_units\":\"screen\",\"level\":\"overlay\",\"line_alpha\":1.0,\"line_color\":\"black\",\"line_dash\":[4,4],\"line_width\":2,\"right_units\":\"screen\",\"syncable\":false,\"top_units\":\"screen\"},\"id\":\"1370\",\"type\":\"BoxAnnotation\"},{\"attributes\":{\"fill_alpha\":{\"value\":0.2},\"fill_color\":{\"value\":\"lightgreen\"},\"hatch_alpha\":{\"value\":0.2},\"line_alpha\":{\"value\":0.2},\"line_color\":{\"value\":\"red\"},\"radius\":{\"value\":0.01},\"x\":{\"field\":\"x\"},\"y\":{\"field\":\"y\"}},\"id\":\"1381\",\"type\":\"Circle\"},{\"attributes\":{},\"id\":\"1364\",\"type\":\"PanTool\"},{\"attributes\":{},\"id\":\"1368\",\"type\":\"ResetTool\"},{\"attributes\":{\"fill_alpha\":{\"value\":0.1},\"fill_color\":{\"value\":\"lightgreen\"},\"hatch_alpha\":{\"value\":0.1},\"line_alpha\":{\"value\":0.1},\"line_color\":{\"value\":\"red\"},\"radius\":{\"value\":0.01},\"x\":{\"field\":\"x\"},\"y\":{\"field\":\"y\"}},\"id\":\"1380\",\"type\":\"Circle\"},{\"attributes\":{},\"id\":\"1365\",\"type\":\"WheelZoomTool\"},{\"attributes\":{},\"id\":\"1426\",\"type\":\"Selection\"},{\"attributes\":{\"overlay\":{\"id\":\"1370\"}},\"id\":\"1366\",\"type\":\"BoxZoomTool\"},{\"attributes\":{\"fill_color\":{\"value\":\"lightgreen\"},\"line_alpha\":{\"value\":0.8},\"line_color\":{\"value\":\"red\"},\"radius\":{\"value\":0.01},\"x\":{\"field\":\"x\"},\"y\":{\"field\":\"y\"}},\"id\":\"1379\",\"type\":\"Circle\"},{\"attributes\":{},\"id\":\"1367\",\"type\":\"SaveTool\"},{\"attributes\":{},\"id\":\"1357\",\"type\":\"BasicTicker\"},{\"attributes\":{},\"id\":\"1423\",\"type\":\"BasicTickFormatter\"},{\"attributes\":{},\"id\":\"1352\",\"type\":\"LinearScale\"},{\"attributes\":{},\"id\":\"1369\",\"type\":\"HelpTool\"},{\"attributes\":{},\"id\":\"1425\",\"type\":\"UnionRenderers\"},{\"attributes\":{},\"id\":\"1424\",\"type\":\"AllLabels\"},{\"attributes\":{\"coordinates\":null,\"formatter\":{\"id\":\"1423\"},\"group\":null,\"major_label_policy\":{\"id\":\"1424\"},\"ticker\":{\"id\":\"1357\"}},\"id\":\"1356\",\"type\":\"LinearAxis\"},{\"attributes\":{},\"id\":\"1354\",\"type\":\"LinearScale\"},{\"attributes\":{\"source\":{\"id\":\"1378\"}},\"id\":\"1383\",\"type\":\"CDSView\"},{\"attributes\":{\"coordinates\":null,\"formatter\":{\"id\":\"1420\"},\"group\":null,\"major_label_policy\":{\"id\":\"1421\"},\"ticker\":{\"id\":\"1361\"}},\"id\":\"1360\",\"type\":\"LinearAxis\"},{\"attributes\":{},\"id\":\"1361\",\"type\":\"BasicTicker\"},{\"attributes\":{\"axis\":{\"id\":\"1356\"},\"coordinates\":null,\"group\":null,\"ticker\":null},\"id\":\"1359\",\"type\":\"Grid\"},{\"attributes\":{\"data\":{\"x\":{\"__ndarray__\":\"WNR+LwNC0T8gaNvtYBiWP9qOvVMBLu0/SOhaM1hE5T9GPPA5K97VP/i+unA8rNk/iiRyjWuf7D8c/WGc9aTrP92Uogkabek/YBatWzVLyj9EIz6IJwXPP+C9Vj26GNs/PCXyZ4n84z/SLUfXFknXP9LkKtATzec/HihPwmEY4D8WSz6nz97QP1vbRXwY0+8/1WSulNo45j/ehr5wT+zYPznr6grI6+g/4Ek9C6bKtz82cHuV86nvP+r7jNzXY9s/DBRjXSHd0j+3v/vpz6ThPwAelt1MHeA/Hz6nyI4I7j+jNNSujNDnPwuwa16j2+U/tgMHIXAI0z+AopZ2BhuDP8DMs+rFUeE/BnlGeZf55T+RHv75KVPjP2OQHxjwAuk/gICy4WlfsD9E/Rzv1WnoP6A7aLJ0F+w/sEJRHoSNrj9qQkGyqHDVP1wyu9ekCNc/YAcxsn0p2D+ZGj3Vb+/vPxL/t8MQ5uc/QPRCVsJ4uj8XPJCgWgDlP4YFLIMdlNI/0or46gUA2D8OvMNCNrfVP5pgwc95a+Q/HGIdcs4f1D/wDd5osWXQPz4Bg0IbxOg/TaNYjnUJ7T+wy4/IR8bOP47NmHMa++E/GGeDuYr1vD+86V7AyXDiP12EdIABCuI/2oaOsuN/4T8wv66RPB3kP3jYrnQ1oOw/bH1wr74/7j+GaC5W5QbfPz14Kk5ZEOQ/pP5HByZO7T9oMNMY6OLFP+ceUAZkKek/0IlADAatxj/QLWM8FqvXP4ju1UBqUNg/WXfdXbIv5T++FAQ0PHvsP2xw5zS6UMM/jgWjkW2N3j/J9WpMHGPqP/h7zEtbmtU/IOsvGGH82z9EUDiPVMPmP7wApd+09ME/zmQu1EUJ0D+IsPvZs3HVP0Ashb6c598/mGfITsDl5D9XeKN4lwngP+CqT7CA4Kc/HmsqcNRM0z/RJnnBvPLnPzWwtzypku8/EfhbmVz85z9Ma8Cn+evaP1TmeVWwbMc/QBHQb6143T+otwEdbjeyPwAfg3KT/Yk/M6TlCEw86D+IC3dUUQK2P+hmqEWoA8g/HAKCOcqN2D8=\",\"dtype\":\"float64\",\"order\":\"little\",\"shape\":[100]},\"y\":{\"__ndarray__\":\"7/s1H1edsj+pJDCzL4M+P/1hmIukm+o/AFxpdotE3D/9MBNoPuO9PzLKUXq9mMQ/mdq+bRaa6T8abcXUsOHnP9vbhKjsM+Q/afhvd+eapT8azoNs/RGuPw1MGmPN8cY/uWrFQ1j32D9J1LzFt/HAP/8SJcHus+E/7Io6rOgw0D8QlWQbvsmxP4juwPtvpu8/AXOaHiPd3j/M+qE9SGnDP7FDY1d1aOM/lpTTA1KwgT83OriNzlTvPwizgsmzccc/f1EYPHs9tj/vYwGC23TTPzzBQGPPOtA/0AEbAg4w7D/TT5xiGbnhPw+Il+ZT3N0/en6jwQ6ktj+0mnj/XNAWP4+gNoBmv9I/0LORHmMu3j+OVav1M1fXP3i/vWqXjOM/bNd5vwzBcD9R6DLwHqDiP4RvoGkdqeg/YQNFj8krbT8Uh50U1Lq8P+se2ktvlMA/suRPV3I+wj8reS496N7vPwK8Xiou2eE/5PlPggPmhT9e8nvn7ZDbP4cqVImdkrU/Zuh14AgAwj/SDjFZIHm9P8SMPXiCD9o/xWSrV8NPuT8wMjcp6c2wP3R/yrHaKuM/OZXQ3SdZ6j9KmAAxk5itP/NJuwP9NNQ/xQQ42w41ij8JuUoD4UDVP43f5qKJVtQ/gdfJFsIj0z86QarYTEnZP3MbGqN/m+k/Mv01hASY7D9L1mXTXRXOP5/4+PfvKNk/zy3DxmPW6j87fQ4rM/CdPw4FZtPhyOM/7Vs+2o8RoD9PaYOsgoHBP4Hh5XVpecI/DTkRZsIN3D8QR0jyg1npPxnELYxRUZc/yUEcgJ4rzT+pq1/zQMLlP1rVdMYAK70/Mmo0U6p5yD8YX16UPDHgP11+4O+eJpQ/2z4cCJESsD98W4EgoL28P2xuIBNMz88/34/L3kNL2z8woUixNBPQP0NnHAng0GE/1/CSd+lHtz8Z1mWhIOzhP1b7bBHIJu8/y5HvT4v64T+VRgTTQabGPw3f66SuJaE/Rrobc4Ekyz8VGEHJd710P3n/FskPHCU/un0uq+Na4j9s5jn+X0Z+P++FftN8BaI/TcNbmSPXwj8=\",\"dtype\":\"float64\",\"order\":\"little\",\"shape\":[100]}},\"selected\":{\"id\":\"1426\"},\"selection_policy\":{\"id\":\"1425\"}},\"id\":\"1378\",\"type\":\"ColumnDataSource\"},{\"attributes\":{\"axis\":{\"id\":\"1360\"},\"coordinates\":null,\"dimension\":1,\"group\":null,\"ticker\":null},\"id\":\"1363\",\"type\":\"Grid\"}],\"root_ids\":[\"1347\"]},\"title\":\"Bokeh Application\",\"version\":\"2.4.2\"}};\n  const render_items = [{\"docid\":\"d66b096c-a6de-4a1d-a687-0ce35716f894\",\"root_ids\":[\"1347\"],\"roots\":{\"1347\":\"ae434198-7edf-4ff6-8512-7d438c4d1f9b\"}}];\n  root.Bokeh.embed.embed_items_notebook(docs_json, render_items);\n\n  }\n  if (root.Bokeh !== undefined) {\n    embed_document(root);\n  } else {\n    let attempts = 0;\n    const timer = setInterval(function(root) {\n      if (root.Bokeh !== undefined) {\n        clearInterval(timer);\n        embed_document(root);\n      } else {\n        attempts++;\n        if (attempts > 100) {\n          clearInterval(timer);\n          console.log(\"Bokeh: ERROR: Unable to run BokehJS code because BokehJS library is missing\");\n        }\n      }\n    }, 10, root)\n  }\n})(window);",
      "application/vnd.bokehjs_exec.v0+json": ""
     },
     "metadata": {
      "application/vnd.bokehjs_exec.v0+json": {
       "id": "1347"
      }
     },
     "output_type": "display_data"
    }
   ],
   "source": [
    "p = figure(plot_width=500, plot_height=500)\n",
    "\n",
    "import numpy as np\n",
    "\n",
    "normal = np.random.rand(100)\n",
    "square = normal**2\n",
    "\n",
    "p.circle(normal ,square, \n",
    "         fill_color  = 'lightgreen',\n",
    "         line_alpha = 0.8,\n",
    "         line_color = 'red',\n",
    "         radius = 0.01)\n",
    "show(p)"
   ]
  },
  {
   "cell_type": "markdown",
   "metadata": {},
   "source": [
    "También es posible combinar dos estilos de gráfico juntos. Probaremos a realizar un scatter plot de dos maneras, a través de círculos <code>**circle**</code> y cuadrados <code>**square**</code>"
   ]
  },
  {
   "cell_type": "code",
   "execution_count": 11,
   "metadata": {},
   "outputs": [
    {
     "data": {
      "text/html": [
       "\n",
       "\n",
       "\n",
       "\n",
       "\n",
       "\n",
       "  <div class=\"bk-root\" id=\"370e0004-37ca-49f1-862a-a02efba06c12\" data-root-id=\"1483\"></div>\n"
      ]
     },
     "metadata": {},
     "output_type": "display_data"
    },
    {
     "data": {
      "application/javascript": "(function(root) {\n  function embed_document(root) {\n    \n  const docs_json = {\"a75924c0-64c5-4ce4-9c6d-241a96848ba4\":{\"defs\":[],\"roots\":{\"references\":[{\"attributes\":{\"below\":[{\"id\":\"1492\"}],\"center\":[{\"id\":\"1495\"},{\"id\":\"1499\"}],\"height\":500,\"left\":[{\"id\":\"1496\"}],\"renderers\":[{\"id\":\"1518\"},{\"id\":\"1524\"}],\"title\":{\"id\":\"1570\"},\"toolbar\":{\"id\":\"1507\"},\"width\":500,\"x_range\":{\"id\":\"1484\"},\"x_scale\":{\"id\":\"1488\"},\"y_range\":{\"id\":\"1486\"},\"y_scale\":{\"id\":\"1490\"}},\"id\":\"1483\",\"subtype\":\"Figure\",\"type\":\"Plot\"},{\"attributes\":{},\"id\":\"1501\",\"type\":\"WheelZoomTool\"},{\"attributes\":{},\"id\":\"1504\",\"type\":\"ResetTool\"},{\"attributes\":{},\"id\":\"1578\",\"type\":\"UnionRenderers\"},{\"attributes\":{\"overlay\":{\"id\":\"1506\"}},\"id\":\"1502\",\"type\":\"BoxZoomTool\"},{\"attributes\":{},\"id\":\"1574\",\"type\":\"AllLabels\"},{\"attributes\":{},\"id\":\"1503\",\"type\":\"SaveTool\"},{\"attributes\":{},\"id\":\"1577\",\"type\":\"AllLabels\"},{\"attributes\":{},\"id\":\"1493\",\"type\":\"BasicTicker\"},{\"attributes\":{},\"id\":\"1576\",\"type\":\"BasicTickFormatter\"},{\"attributes\":{\"fill_alpha\":{\"value\":0.1},\"fill_color\":{\"value\":\"lightgreen\"},\"hatch_alpha\":{\"value\":0.1},\"line_alpha\":{\"value\":0.1},\"line_color\":{\"value\":\"red\"},\"radius\":{\"value\":0.01},\"x\":{\"field\":\"x\"},\"y\":{\"field\":\"y\"}},\"id\":\"1516\",\"type\":\"Circle\"},{\"attributes\":{},\"id\":\"1488\",\"type\":\"LinearScale\"},{\"attributes\":{},\"id\":\"1505\",\"type\":\"HelpTool\"},{\"attributes\":{},\"id\":\"1579\",\"type\":\"Selection\"},{\"attributes\":{},\"id\":\"1490\",\"type\":\"LinearScale\"},{\"attributes\":{\"coordinates\":null,\"formatter\":{\"id\":\"1576\"},\"group\":null,\"major_label_policy\":{\"id\":\"1577\"},\"ticker\":{\"id\":\"1493\"}},\"id\":\"1492\",\"type\":\"LinearAxis\"},{\"attributes\":{},\"id\":\"1581\",\"type\":\"Selection\"},{\"attributes\":{\"axis\":{\"id\":\"1492\"},\"coordinates\":null,\"group\":null,\"ticker\":null},\"id\":\"1495\",\"type\":\"Grid\"},{\"attributes\":{},\"id\":\"1500\",\"type\":\"PanTool\"},{\"attributes\":{\"bottom_units\":\"screen\",\"coordinates\":null,\"fill_alpha\":0.5,\"fill_color\":\"lightgrey\",\"group\":null,\"left_units\":\"screen\",\"level\":\"overlay\",\"line_alpha\":1.0,\"line_color\":\"black\",\"line_dash\":[4,4],\"line_width\":2,\"right_units\":\"screen\",\"syncable\":false,\"top_units\":\"screen\"},\"id\":\"1506\",\"type\":\"BoxAnnotation\"},{\"attributes\":{\"tools\":[{\"id\":\"1500\"},{\"id\":\"1501\"},{\"id\":\"1502\"},{\"id\":\"1503\"},{\"id\":\"1504\"},{\"id\":\"1505\"}]},\"id\":\"1507\",\"type\":\"Toolbar\"},{\"attributes\":{},\"id\":\"1497\",\"type\":\"BasicTicker\"},{\"attributes\":{\"coordinates\":null,\"formatter\":{\"id\":\"1573\"},\"group\":null,\"major_label_policy\":{\"id\":\"1574\"},\"ticker\":{\"id\":\"1497\"}},\"id\":\"1496\",\"type\":\"LinearAxis\"},{\"attributes\":{\"coordinates\":null,\"group\":null},\"id\":\"1570\",\"type\":\"Title\"},{\"attributes\":{\"source\":{\"id\":\"1520\"}},\"id\":\"1525\",\"type\":\"CDSView\"},{\"attributes\":{\"axis\":{\"id\":\"1496\"},\"coordinates\":null,\"dimension\":1,\"group\":null,\"ticker\":null},\"id\":\"1499\",\"type\":\"Grid\"},{\"attributes\":{\"fill_color\":{\"value\":\"lightblue\"},\"line_color\":{\"value\":\"brown\"},\"marker\":{\"value\":\"square\"},\"size\":{\"value\":8},\"x\":{\"field\":\"x\"},\"y\":{\"field\":\"y\"}},\"id\":\"1521\",\"type\":\"Scatter\"},{\"attributes\":{\"fill_alpha\":{\"value\":0.2},\"fill_color\":{\"value\":\"lightblue\"},\"hatch_alpha\":{\"value\":0.2},\"line_alpha\":{\"value\":0.2},\"line_color\":{\"value\":\"brown\"},\"marker\":{\"value\":\"square\"},\"size\":{\"value\":8},\"x\":{\"field\":\"x\"},\"y\":{\"field\":\"y\"}},\"id\":\"1523\",\"type\":\"Scatter\"},{\"attributes\":{\"data\":{\"x\":{\"__ndarray__\":\"+N93A/E+3T8P0oXi9pzuP89apa8nous/Y/g7hgtE5T+810DuyVnkPzhCBUrdteo/KwVkj1Zf4T8ybmI9IZjaPzyhSG0ctdU/LrHA/xiS0D+QjA5ctxzhP8xatZfxHMg/yZ/kP9pI6z/MJWNdNavWP0yz+GoOIew/9jxh//7Z1T9AmdIKRKTbP0D22zZPAs8/2vnTVLqp6z9ijb15qJToPxSy36sITMU/YpMf673l4T8xDYI2HQ7vPxR3VUGdk+E/OX3V+8Fo4z/EEkbCfBjkP9Ad5sykEdA/nGrUWWqy5D8HSIoOW93uP5Xnv0FrZu4/1q9zI1Kq4z9u6CpnTUjaP5Jfv3oobOM/po6ZEdSr1T/ISLlM7T3fP0MTvww0QuQ/iGKvWhUXzz+wlYqi3UTlP/gwog+dy7E/ufJwtl9U6z8ML95q87vEP9iaUrMdl9s/8/HDhqz76D9t1xdo/fjuP9jU8dmwAME/Y2DGKWrn6T8o4+Wu6xnsP6KMnLOWCNQ/gPiwJfvMuD/HjeSO0e7rP/A72UooRu0/r1GQ9syf5D8cRrzXjFTNP01oS1bmOuM/Vm7Z4ztb7j8iDcWum/PRPzALrrhy4OY/RU+GiKYf4j9q5x5FhRnjP/ANSzxSx9E/TrkOBRUB7T8QUDXmu1vHP3o3EMtaQt0/oEQv/hAVpj+W8tYhp1DZP+5u9Sf6KuU/PrTuSQ6z1T+/FKLVMFzjPyvkmi3a3+k/XI93XoXYzD+9TCSek7DmP9imQQ+OkMY/zixpZMXh1j+2tzlNzUzmP8zdd50SptA/4Es4Ud/D2j8EBW7u34/GP9HGK762hO8/n2rdrggD7T8AUP0Jl1kkPzSJuFUHV+4/plUhKrxk6D9gGasyVxrMPyQEXgTycdE/xHF6jllY2T/IT0NSEAXVPyRObpUJRt0/lnboILz93j/iXzbWZKzhP8M6WXl6dO0/5OY82YqowD8ImQ1xIA7vP1gQ0txaRco/eNnShWxq0T/gAoph4NbvPylgUL+oce8/LGK/3ISMzD/gKuQdQuCcPximvQZT0No/wFrBOd3Wvj8=\",\"dtype\":\"float64\",\"order\":\"little\",\"shape\":[100]},\"y\":{\"__ndarray__\":\"s/JNo5C6yj+pQ0zXUEntP1yraqrY3Oc/vLZaor9D3D+vLBG0cOLZPywumC2RS+Y/MZlvBtDc0j85oak/CRrGP+azObJsc70/OO7jB2gpsT98aZYtOU3SP3x9eZGEK6I/fdnBJ5ZD5z8FZhdj/Q7AP7ZZ9mD7ueg/12kOg9fXvT9C/0IMfuDHP9cf9aR5DK4/oK+Cq+7p5z+EbXlQr+HiP6azkBUAWZw/VNHbaBYF1D+DVkbTXiPuP6+ybwoAT9M/vbsUmXqL1z+XzcJfXT3ZP00XoQ5dI7A/AamkYc/F2j/JN//tBcXtP9Z5cuhQ4ew/pcdJJ5gr2D+UNLEkIZbFP/ADZka7k9c/NRsm/kFavT+ZODucc4DOP2sr8A2Uptk/DGt0Bso0rj+Og48y7kXcP4geq+jMynM/4bF6+z9X5z8QwIRjgN6aP9RRA7/Lycc/wjdKKD6B4z/D3NCCbPrtP6yqxNZ3EZI/o0thZx/45D9FaRtxca3oP7lrRl19Fbk/lRxdwpk4gz8EjKvz92HoP9fuI9jCx+o/xd5ObLyV2j/hwN2sHuKqPzSt2N+7HNc/DapHaBTM7D/2LiriJyS0PwEcpAXEWuA/PpBET3WH1D97dPc4xczWP33zYc9BwbM/bc+IIvZJ6j9WQ+kT5QyhP7ailCfOwMo/8USvdwp6Xj8f9/Fr0AbEP9EsfRlEAdw/25jVUdltvT8lxo4tB23XP+8w7dXi6+Q/SWP4b6IAqj/LcOZTmRbgP2l39Kug0p8/K0KmTqhcwD/iqQY9pRTfPy7bSP3gUrE/OM6/0/lixj+AkLKOtdCfP/lRKXhIC+8/7nWUBoBN6j+uNto+7+FZPhLLnXAaxOw/D8CLW1eY4j9EXktHLq6oP+Q8EsJNBbM/N5Yp3P8SxD+swTRyTJ27P/+OyKiKx8o/+jzOqJwDzj+pnazBl4XTP4BAtvXFHOs/mbsAGwVYkT8QKI4XZSPuP4ekr/dJkaU/3kotfer0sj8uUjmc9a3vPzq/7KXK5e4/hhkCj1F4qT/JYHpSlw5KP086IyPTd8Y/bWoogYG4jT8=\",\"dtype\":\"float64\",\"order\":\"little\",\"shape\":[100]}},\"selected\":{\"id\":\"1579\"},\"selection_policy\":{\"id\":\"1578\"}},\"id\":\"1514\",\"type\":\"ColumnDataSource\"},{\"attributes\":{\"fill_alpha\":{\"value\":0.1},\"fill_color\":{\"value\":\"lightblue\"},\"hatch_alpha\":{\"value\":0.1},\"line_alpha\":{\"value\":0.1},\"line_color\":{\"value\":\"brown\"},\"marker\":{\"value\":\"square\"},\"size\":{\"value\":8},\"x\":{\"field\":\"x\"},\"y\":{\"field\":\"y\"}},\"id\":\"1522\",\"type\":\"Scatter\"},{\"attributes\":{},\"id\":\"1573\",\"type\":\"BasicTickFormatter\"},{\"attributes\":{},\"id\":\"1484\",\"type\":\"DataRange1d\"},{\"attributes\":{\"data\":{\"x\":{\"__ndarray__\":\"SPcx3KVtuD86zt4mYwTsP6Tby3BCm+Q/RBOf54/I0j9cEAyRJ3bQP9eWqo8bnOI/X1nmJQJ7xD/dX+ckOl6yP7sSWV1u+qM/1ZKarRzGkT/WPQqh5ZLDP5BG+l0lYns/2TdHbv3V4z8XMrUrcsCmP5DDGeRGvOU/8Xvb6vJgpD/Cg3al+5+0P0qvtwFBHo0//c5PFDis5D8Gw7lf9QHdP2H12xzD3XI/m0pxQt5kxj8vrozZjj/tPwkKf6ETNsU/l7i4p8mPzD+TYc2RVbPPP091pdooNZA/deH86OZQ0T/3ouL1orbsP5Cmjdiqb+s/I/ZC9A+1zT89djrvwLqxP5/56DnPnsw/rB6JJdjgoz9eGzUMd8e9P1wS+9ItPdA/ggW0z+1YjT8wJOu9vMrSP5s4TwhZAzY/Djk81Cjv4z/qE9Pf4GhxP7v9xjaagrQ/ttcsDat03j9hwgfpBwTtP5MwdQpXM2M/jDa+PH354D9g0TGEwKvlP9XMU7ZTaJ8/1GMtASbLTT/VW3mGoUjlP5mscEa/f+g/wqNTC1gi0T+kWrKv86OIPxvQkPwzx8s/dbccYW1R6z/2UEt4E5mWP/78ioM5Ytc/0oYDGQBBxz+8YnUQiDfLP7MNvhdv85U/+D2uo+rT5z83FYjfSuR4P+rPGGU0drg/9P1BePcHFT9GS0DsmK+vP5v290ZxhtI/ciFjOcL0oz/Dxj3vcljMP+VnrrCj6uA/4UjTyX5whz/kHpzYn9DWP1HeEo+PcHY/K499Rkhmpz9h0KkJyqjVP0bUSAOxBpI/qBb9WHK5sj98VO8giG52P5pTAQiuk+4/dJESbbrY5z/0j+QSrHWQPS2taokURus/QOBG2pVZ3D820J1EuayFP1owx8gXvZQ/dVato4jMrz+H2ofUmCOiP7tkcy1yf7g/iv3t4F8RvT81B3tlSJDFPz7+ynjD9Og/yxVE07cOYj8M6Or4lz/tPwdCMZ7KtIE/7OU5SlCilD8RfiNsP4XvP0FZeLNaXO4/b3L3gR+5hj91i9thYIP3PmtHeLSg07I/0UEIw4ikXD8=\",\"dtype\":\"float64\",\"order\":\"little\",\"shape\":[100]},\"y\":{\"__ndarray__\":\"iNVWvWpTpj+9wNx/is3qPzSR251ry+E/+DgSyx73yD/WONdyEvDEP5I8kyM0Ed8/+7y8cbs8tj9FuybNw4eeP7TLulnVGos/8jCROGhocj9hirVdNe+0P9isKaRgolQ/TbmtmLbp4D8nBUnRCB6QPz1hufsxG+M/rpwme+bUiz94eTwY3NChP1u+VfJoN2w/Y5YhOfXe4T+Hf0nPOUjWP1kvNa63HEk/wXdGpLkMuT/DCqvkeGLsP2pXMCkmTbc/GmT1LuBSwT+n7a2SV+jDP31pf0YIR3A/b8ZNxTdmxj/FBGLQ17HrP92vWRGAEOo/Lbernp9Bwj9NzAWulx+dP1BuEToHX8E/B8BiMJbsij/JkXJj3BKtP43ghHiqj8Q/krSq4VGDbD+GQaKq+frIP4mDySixe/g+xrjn3VkG4T9fpx+5m49GP0SjNW8Nr6E/1WnrmgfH1z+0hAZujBXsP953ZLVgZzQ/dag1UFZ72z+sPtI91gfjP4WWM1CiqYM/GE6zZzUXFz/v0jfcH5TiP3AFPaN7aeY/h0IG1w4Wxj93fU+qr5VmP3063t5nscA//P67Ojnq6T9FnkZptVp5P3M46fGKt9A/cSYhFSBXuj8DGaqFrT7AP9dsQpEaZHg/YBSB6tqY5T8JV70ucStSP9OdXK/YXaY/PqY8EKUGzT6x2Mj0CxGZP6iSbTk3gsg/4IKU+pIQiz+rNWXKLSbBP2v4rLpMW9s/kTAs+QchZT+b8TCTUi3QPyNLIa2BpU8/dnG/M2m7kD9Cbx54DTDOPynAumjLwXI/Wz7uSZNSnz8QIr8AsaFPP7nJRmPgHe4/wB7RvKue5T9nhZUFQe/EPOSIDQng2+k//8SiC2+c1T+eTnuC+QhjPyWB/m6anHY/oNoSNpYvmT+STJA3dtSHPw36MZkdaaY/VUrhJMYmrD/yLI3co9G3P3ws2u2n+OY/wjeMEe/MMj/Ybo2yhGLsP4VSLHiJEl0/IF/8lrR1dj8qXrWNvVzvPygFhhhO1e0/Grbz08NFZD+TmzqNvDelPmy7LQAGjZ8/DK1yjZKaKz8=\",\"dtype\":\"float64\",\"order\":\"little\",\"shape\":[100]}},\"selected\":{\"id\":\"1581\"},\"selection_policy\":{\"id\":\"1580\"}},\"id\":\"1520\",\"type\":\"ColumnDataSource\"},{\"attributes\":{\"coordinates\":null,\"data_source\":{\"id\":\"1520\"},\"glyph\":{\"id\":\"1521\"},\"group\":null,\"hover_glyph\":null,\"muted_glyph\":{\"id\":\"1523\"},\"nonselection_glyph\":{\"id\":\"1522\"},\"view\":{\"id\":\"1525\"}},\"id\":\"1524\",\"type\":\"GlyphRenderer\"},{\"attributes\":{\"fill_color\":{\"value\":\"lightgreen\"},\"line_alpha\":{\"value\":0.8},\"line_color\":{\"value\":\"red\"},\"radius\":{\"value\":0.01},\"x\":{\"field\":\"x\"},\"y\":{\"field\":\"y\"}},\"id\":\"1515\",\"type\":\"Circle\"},{\"attributes\":{\"fill_alpha\":{\"value\":0.2},\"fill_color\":{\"value\":\"lightgreen\"},\"hatch_alpha\":{\"value\":0.2},\"line_alpha\":{\"value\":0.2},\"line_color\":{\"value\":\"red\"},\"radius\":{\"value\":0.01},\"x\":{\"field\":\"x\"},\"y\":{\"field\":\"y\"}},\"id\":\"1517\",\"type\":\"Circle\"},{\"attributes\":{\"coordinates\":null,\"data_source\":{\"id\":\"1514\"},\"glyph\":{\"id\":\"1515\"},\"group\":null,\"hover_glyph\":null,\"muted_glyph\":{\"id\":\"1517\"},\"nonselection_glyph\":{\"id\":\"1516\"},\"view\":{\"id\":\"1519\"}},\"id\":\"1518\",\"type\":\"GlyphRenderer\"},{\"attributes\":{\"source\":{\"id\":\"1514\"}},\"id\":\"1519\",\"type\":\"CDSView\"},{\"attributes\":{},\"id\":\"1580\",\"type\":\"UnionRenderers\"},{\"attributes\":{},\"id\":\"1486\",\"type\":\"DataRange1d\"}],\"root_ids\":[\"1483\"]},\"title\":\"Bokeh Application\",\"version\":\"2.4.2\"}};\n  const render_items = [{\"docid\":\"a75924c0-64c5-4ce4-9c6d-241a96848ba4\",\"root_ids\":[\"1483\"],\"roots\":{\"1483\":\"370e0004-37ca-49f1-862a-a02efba06c12\"}}];\n  root.Bokeh.embed.embed_items_notebook(docs_json, render_items);\n\n  }\n  if (root.Bokeh !== undefined) {\n    embed_document(root);\n  } else {\n    let attempts = 0;\n    const timer = setInterval(function(root) {\n      if (root.Bokeh !== undefined) {\n        clearInterval(timer);\n        embed_document(root);\n      } else {\n        attempts++;\n        if (attempts > 100) {\n          clearInterval(timer);\n          console.log(\"Bokeh: ERROR: Unable to run BokehJS code because BokehJS library is missing\");\n        }\n      }\n    }, 10, root)\n  }\n})(window);",
      "application/vnd.bokehjs_exec.v0+json": ""
     },
     "metadata": {
      "application/vnd.bokehjs_exec.v0+json": {
       "id": "1483"
      }
     },
     "output_type": "display_data"
    }
   ],
   "source": [
    "p = figure(plot_width=500, plot_height=500)\n",
    "\n",
    "import numpy as np\n",
    "\n",
    "normal = np.random.rand(100)\n",
    "square = normal**2\n",
    "cubic = normal**3\n",
    "polynomic = normal**4\n",
    "\n",
    "\n",
    "p.circle(normal ,square, \n",
    "         fill_color  = 'lightgreen',\n",
    "         line_alpha = 0.8,\n",
    "         line_color = 'red',\n",
    "         radius = 0.01)\n",
    "\n",
    "p.square(cubic ,polynomic, \n",
    "         fill_color  = 'lightblue',\n",
    "         line_alpha = 1,\n",
    "         line_color = 'brown',\n",
    "         size = 8)\n",
    "show(p)"
   ]
  },
  {
   "cell_type": "markdown",
   "metadata": {},
   "source": [
    "Para añadir texto a nuestra visualización, tenemos que acceder a los propios atributos de nuestro objeto **figure**, para añadir texto en los ejes x e y tenemos que acceder a los siguientes atributos:\n",
    "* **xaxis**\n",
    "* **yaxis**\n",
    "\n",
    "Para ambos atributos, dispondremos del atributo **axis_label**, el título de un gráfico podemos añadir a través del parámetro **title** dentro de la función figure cuando inicializamos el gráfico"
   ]
  },
  {
   "cell_type": "code",
   "execution_count": 12,
   "metadata": {},
   "outputs": [
    {
     "data": {
      "text/html": [
       "\n",
       "\n",
       "\n",
       "\n",
       "\n",
       "\n",
       "  <div class=\"bk-root\" id=\"7004e95c-0ed6-4a76-940a-6763d70eeb8a\" data-root-id=\"1648\"></div>\n"
      ]
     },
     "metadata": {},
     "output_type": "display_data"
    },
    {
     "data": {
      "application/javascript": "(function(root) {\n  function embed_document(root) {\n    \n  const docs_json = {\"d80d046d-fa54-47bd-bcaf-de554bf72697\":{\"defs\":[],\"roots\":{\"references\":[{\"attributes\":{\"below\":[{\"id\":\"1659\"}],\"center\":[{\"id\":\"1662\"},{\"id\":\"1666\"}],\"height\":500,\"left\":[{\"id\":\"1663\"}],\"renderers\":[{\"id\":\"1685\"},{\"id\":\"1691\"}],\"title\":{\"id\":\"1649\"},\"toolbar\":{\"id\":\"1674\"},\"width\":500,\"x_range\":{\"id\":\"1651\"},\"x_scale\":{\"id\":\"1655\"},\"y_range\":{\"id\":\"1653\"},\"y_scale\":{\"id\":\"1657\"}},\"id\":\"1648\",\"subtype\":\"Figure\",\"type\":\"Plot\"},{\"attributes\":{\"axis\":{\"id\":\"1663\"},\"coordinates\":null,\"dimension\":1,\"group\":null,\"ticker\":null},\"id\":\"1666\",\"type\":\"Grid\"},{\"attributes\":{\"fill_alpha\":{\"value\":0.1},\"fill_color\":{\"value\":\"lightgreen\"},\"hatch_alpha\":{\"value\":0.1},\"line_alpha\":{\"value\":0.1},\"line_color\":{\"value\":\"red\"},\"radius\":{\"value\":0.01},\"x\":{\"field\":\"x\"},\"y\":{\"field\":\"y\"}},\"id\":\"1683\",\"type\":\"Circle\"},{\"attributes\":{\"fill_alpha\":{\"value\":0.2},\"fill_color\":{\"value\":\"lightgreen\"},\"hatch_alpha\":{\"value\":0.2},\"line_alpha\":{\"value\":0.2},\"line_color\":{\"value\":\"red\"},\"radius\":{\"value\":0.01},\"x\":{\"field\":\"x\"},\"y\":{\"field\":\"y\"}},\"id\":\"1684\",\"type\":\"Circle\"},{\"attributes\":{\"fill_color\":{\"value\":\"lightgreen\"},\"line_alpha\":{\"value\":0.8},\"line_color\":{\"value\":\"red\"},\"radius\":{\"value\":0.01},\"x\":{\"field\":\"x\"},\"y\":{\"field\":\"y\"}},\"id\":\"1682\",\"type\":\"Circle\"},{\"attributes\":{},\"id\":\"1760\",\"type\":\"Selection\"},{\"attributes\":{\"data\":{\"x\":{\"__ndarray__\":\"UlF6pZ2B4D/N5pq7COrhPzO73I3g1O4/Lynkdynr4z/eVtmxDMTiP6QSsU0qTsk/uJAdk1ZSyz8OeBvIP9XjP4CQRQF0dcI/eGRTswAP6D+/8TMEqJzjP7KZpKYpX9I/Ss1qrmfy0j8AWtnuR6u7P/ZIfWs2e+0/OoUTb/ea1j9eqRfChAHWP5yXSI3vrME/k+Bb86VE5j/UPpYBp7zdPyADw7Is7aU/7L6dlRJy6z9QbomkL0rcP5PKWbZHl+Y/AJnqERZbdD+lMac6GyHsPyQur1K4zcI/irHFmRC35T/2Ilh1BHTpP42gFVNWgO8/0TPI51aZ7D9JTsP+28nsP6oF2Wh4sdk/6+d1zPE75D/uMQw8T9vpP/sWA0c1DOk/2Fl46y6Kvz8MoxyX0DLpP+DfgGMO/eA/ity6NMmw3T9zWJR21bPiP8C5TUP5H+A/lR0L7dOA5D+e8iBgCRHqP0w+gBIpx80/YNthpXIAwj+cHx+z2N/YPwgXWkDEOc0/eNywtFJRwT9140YqRRTsP7gBiQ2TGM8/ON3XeN1Awz8nlSKpOQHiPyADFO6PMKE/WDb3iECN1T+P1LTEY5/tP7tOSkxbdO0/ugOMePgp6D8uoPzCUSTdP8D08kxZfcE/HIPMbBnu2D9TF5lb64DjP1VSXhBgwOo/PJV8LNGxxj/uyOpeQy3VP9mlJjkXfOk/0Lj5N1An6D980eAX21jUP2CC3ZlT87o/KoUU6qTX1D/IGzKe0GfEPz2/mC3KZe8/X40ELN+U4z8UoAnSTOzNP4Lxoz6L5Nk/fGcxpWtn7z/+m3LxWN/TPxbdCDJDr9w/KKIBc+w6zj+8Tk8NewHPP3Ll2MivAOo/ybHS1urM6T9OdQKboenSP1dPLkEeJ+I/L2v3TmwE4D/h2q9QeZ3nP5Rj20B2S8I/ur5XCEzo5z8sB4uzRbTnP/nmqHzWu+A/Bxd/nE7V7D8wusBDGKHoP2+/ZzGNdeI/9vPBomho7z9EWsPqVKTVPwoUUmoa9+A/5HLt8nhH7j/ccB3vCevcP8D+y3P/K74/+sff+VFg1D8=\",\"dtype\":\"float64\",\"order\":\"little\",\"shape\":[100]},\"y\":{\"__ndarray__\":\"Mz0ST1UH0T+FYR3OsQ7UPzdQfS+ttO0//SlLzwLM2D/DYjjHfgLWPwlZ1wfhAqQ/HxXe9MVTpz8dWm+ukZXYP/IwuDajS5U/zzilFYgW4j9UqzHdDArYP0Wp+bVTGLU/tUlsy8Fvtj+tLXksnuyHP4/ziQ0tKes/ol6CWwXwvz9x4KY6LUS+P59smjjKhpM/RnCK5u793j/Tj5rgRqLLP26Y7BFRDF4/LAHvABaK5z9Ma5BcfwLJP182SpCb5d8/Zrz0t73l+T4du+TmEbroPzhgnMUzGZY/mbV1H7p43T+iFK2X6z7kP4Jze/SpAu8/gMmS3TaP6T+FrW5XOubpP1sNoGEkocQ/79KwFL2W2T/cJR3TiuTkPxHKQucXm+M/2OcsnQ8Wjz9+p0SdttfjP/R7GR6/CdI/9tXHWT2Myz/a5iqOhdzVP56Aq2syQNA/i4VjGh9G2j92bC5OuDvlP2RDk/jRtas/+KhR9wFBlD9Bp6rm4lXDP4IffPwbsao/RdcIF22+kj8zZQbhhaPoPziFccmvN64/KwrB9hQrlz/9v5LUwULUPzO8jT7Fd1I/E0D7aagHvT8clDG9/mvrPwpENJGMHOs/oToQwSs/4j9/gjFq/YnKP8kFycgzHpM/Olp5vRFswz+YPcu8PcbXP+QTfpwgXeY/v7x+tFsYoD885TnlUAe8PzYpWH3FS+Q/LR5IoCg74j+E0nAxEeC5PxkxkxiisoY/aQDqr3Ymuz/NIRIkKwaaP6cmlYF7zu4/cf9hNfv21z8u64MqHPurPzeyetR588Q/mkJxzq7R7j9g+6j+oK64P6zdD391tsk/7BeX1+eOrD/Yq1N73gquP4oWJqodIeU/kJ+XKE/N5D/3dOgV/1q2P74pX7ZjmNQ/pX3z1tkI0D81czBUZW3hP32m9/kt65Q/HMIrm4Pc4T+XiNPCG4/hP3oELypKgNE/GOIicdf66T/KQN1hz/TiP2fz+VTdS9U/h9rPZJ/T7j8lINC29kW9P4xqYhQd/dE/Qlr8aaKm7D9mm168DyLKPwvxnHe7cow/ifIJyhDzuT8=\",\"dtype\":\"float64\",\"order\":\"little\",\"shape\":[100]}},\"selected\":{\"id\":\"1758\"},\"selection_policy\":{\"id\":\"1757\"}},\"id\":\"1681\",\"type\":\"ColumnDataSource\"},{\"attributes\":{\"tools\":[{\"id\":\"1667\"},{\"id\":\"1668\"},{\"id\":\"1669\"},{\"id\":\"1670\"},{\"id\":\"1671\"},{\"id\":\"1672\"}]},\"id\":\"1674\",\"type\":\"Toolbar\"},{\"attributes\":{\"data\":{\"x\":{\"__ndarray__\":\"WqbyNkiRwT87eezF/nTGP9toTcz/nuw/5wQEBLjezj8Ri62nftDJP6S7AI5Cpn8/xT9BzrTqgz8a1usiRnnOP2T3Hx1rkWg/BXnGCsIy2z+6QO+zTXfNP5hDzYfVOJg/F0YDvKWRmj8IMVWqs69UPz0bKUrlBek/3Ww3vK2Ppj/a1IrKTtCkP6Oq3TNEkmU/3jEykxCR1T+vUzTU+a25P+gd+2TKlhQ/WV3oKmww5D9xscdzKhy2PwBxeOSlhNY/x2zuwk15gD5HzM+WZLzlPwtNqrl7+Gk/sYQF19P/0z8IT6D2jhrgP+ckVvTyhu4/KAY5KsrX5j/JzsY400znP3QUYV1NkLA/qetLdCUu0D/YyG5GvOHgPy//CPRKsd4/3rAO2JujXj/dBxQgEkDfPypC2nQJJ8M/oQERIUiPuT/twc3/zI3JP0ONyPirYMA/TU7l7ZnV0D9mHASy00vhP7CiAYw8yYk/UiTEVrPJZj9shlxEVw+uP2sBI4mwYIg/wpNa1JhJZD9QHriZsJ7lPwWTlOsmXY0//oDt6hXhaz+D0EE/p8zGP5LPcQNP1wM/QIExzyqNoz/Ig93zdGLpP546+Dp09Og/KrdW3p6O2z+b3lO0LCu4P7wI2K3d5WQ/SuUFASFDrj9ycd31+PrMP4O1o2UcsuI/XDKZ+V3Udj/q2qRicoyiP9sC6KHmKeA/WuUFi4iF2z9p+vIW5HOgP47aWX+7HVM/8B4bhwCvoT8wDyd6SJhwP8WIqv4FOu4/J2ZNJ0VUzT9xUkyiMCqKP8UKphzZ87A/dHnf7rs+7j8tnDJH6qeeP5759p96DLc/oETlYo/6ij9D8rJk6xuNP0Bd9ytcK+E/YAxSWZvF4D+bT5DnzWyaPzI+2ZHKXcc/dr9KmEgNwD9Fk4A+x7jZP8r0+Ls862c/WjgahE+w2j/9MZFejgPaP6r8NinATcI/S8KC/6lo5z8QMRE5Ey7dP3R/Z7DPkcg/KDVB/JZB7j+icMsmPsyjP1yDJTjuEsM/O48ZRjYc6z9J/DwFwJ23Pw1qQwWt0lo/gqeHKgaGoD8=\",\"dtype\":\"float64\",\"order\":\"little\",\"shape\":[100]},\"y\":{\"__ndarray__\":\"q8typJgfsj/hESoCyiS5P+ysEgZ2k+s/e/zD2hg3wz8ZaXkH3Ua+P/hAORgzB1k/qxSu30cBYT+qrOacFePCP+pqRQDyVzw/RLZ069Fy1D/n69lzFg/CP2RBh7oA0Hs/3457iWF2fz91BAwA+eIhP5vqigKxDec/hCCqsRLgjz9uF3IOZqCMP5mynsuP1Dc/WovYAP8Dzj9x7EOJDt2nPwlyNr8cN8w+YcAuf9NQ4T96IYgy54ujP9wvBeVMy88/RA4s12n1BD5/P33KVBvjP5QW3xF2hT4/ztkr0Zgkyz8PLpVqRJ7ZP91kdIIpDe4/j7zvrEZq5D/+I7CPM/bkPxWQj+AxmZo/xH9TgU12xD/2If6IG0jbP+MDgyQ4Btg/UL0Gds0yLj/F4mn5rZvYP2oSpvPzVbQ/5mzIIA63pz9CClHyvd69PwZBU2tmgbA/oGcTM4ySxT+/esW0oi3cPzFCJmjb/mc/wttFCo2jOT+/4znrx12XPylK+7ehQ2Y/TcCe1U/1NT+mJZ5vjPjiP0D4voHKiGw/SWEaIyjGQD8EvrQb+6e5Pxn5QFz8ULU+PBw8FeNVij9PxcBWqn/nP2XHb61G+OY/iYps2xvP1D+LlETWjgKmP235tf/z1zY/8ceREYSTlz/Fl9vbxKnBP05ouLk3Qt8/yZIoftwwUD8JG1Y9z4yIP/ojWY7Uvtk/cn+nJPbF1D9Gsf3NO+yEP+rhUBCEGSA/l+F0hBYJhz/TJgVLBypFPwK3+OpbqO0/tK/FWnvywT/2XLIJcndoPzZ1aJspb5s/me43uoWu7T9C4fh3qgmDP/OJvfAnqaQ/FH1x6ZN8aT+Fx1TYZDRsPyPYOGky59s/gt1yY5AL2z87g9gBQzx/P2xh5LCkgro/ndBTk7gRsD+QwQNKY/vSP0YI/sdzWTs/o7Ii0Xbw0z84Mmz+GkXTP26gnj2iJLM/Jry47J4X5T+SpNpbdHXWP3ODAraMWLw/3iEhXkKy7T+iursiaMeKP9KkKvOBObQ/l4q98f+m6T99wpHTfVelP8IjUW1jSik/D9G0ggALhT8=\",\"dtype\":\"float64\",\"order\":\"little\",\"shape\":[100]}},\"selected\":{\"id\":\"1760\"},\"selection_policy\":{\"id\":\"1759\"}},\"id\":\"1687\",\"type\":\"ColumnDataSource\"},{\"attributes\":{},\"id\":\"1752\",\"type\":\"BasicTickFormatter\"},{\"attributes\":{},\"id\":\"1755\",\"type\":\"BasicTickFormatter\"},{\"attributes\":{\"bottom_units\":\"screen\",\"coordinates\":null,\"fill_alpha\":0.5,\"fill_color\":\"lightgrey\",\"group\":null,\"left_units\":\"screen\",\"level\":\"overlay\",\"line_alpha\":1.0,\"line_color\":\"black\",\"line_dash\":[4,4],\"line_width\":2,\"right_units\":\"screen\",\"syncable\":false,\"top_units\":\"screen\"},\"id\":\"1673\",\"type\":\"BoxAnnotation\"},{\"attributes\":{},\"id\":\"1651\",\"type\":\"DataRange1d\"},{\"attributes\":{},\"id\":\"1667\",\"type\":\"PanTool\"},{\"attributes\":{\"coordinates\":null,\"group\":null,\"text\":\"Transformaciones de distribuci\\u00f3n normal\"},\"id\":\"1649\",\"type\":\"Title\"},{\"attributes\":{},\"id\":\"1671\",\"type\":\"ResetTool\"},{\"attributes\":{},\"id\":\"1757\",\"type\":\"UnionRenderers\"},{\"attributes\":{},\"id\":\"1759\",\"type\":\"UnionRenderers\"},{\"attributes\":{\"coordinates\":null,\"data_source\":{\"id\":\"1681\"},\"glyph\":{\"id\":\"1682\"},\"group\":null,\"hover_glyph\":null,\"muted_glyph\":{\"id\":\"1684\"},\"nonselection_glyph\":{\"id\":\"1683\"},\"view\":{\"id\":\"1686\"}},\"id\":\"1685\",\"type\":\"GlyphRenderer\"},{\"attributes\":{},\"id\":\"1668\",\"type\":\"WheelZoomTool\"},{\"attributes\":{},\"id\":\"1653\",\"type\":\"DataRange1d\"},{\"attributes\":{\"overlay\":{\"id\":\"1673\"}},\"id\":\"1669\",\"type\":\"BoxZoomTool\"},{\"attributes\":{\"source\":{\"id\":\"1681\"}},\"id\":\"1686\",\"type\":\"CDSView\"},{\"attributes\":{},\"id\":\"1670\",\"type\":\"SaveTool\"},{\"attributes\":{},\"id\":\"1756\",\"type\":\"AllLabels\"},{\"attributes\":{},\"id\":\"1660\",\"type\":\"BasicTicker\"},{\"attributes\":{},\"id\":\"1655\",\"type\":\"LinearScale\"},{\"attributes\":{},\"id\":\"1672\",\"type\":\"HelpTool\"},{\"attributes\":{\"source\":{\"id\":\"1687\"}},\"id\":\"1692\",\"type\":\"CDSView\"},{\"attributes\":{},\"id\":\"1657\",\"type\":\"LinearScale\"},{\"attributes\":{},\"id\":\"1753\",\"type\":\"AllLabels\"},{\"attributes\":{\"axis_label\":\"Valor de distribuci\\u00f3n X\",\"coordinates\":null,\"formatter\":{\"id\":\"1755\"},\"group\":null,\"major_label_policy\":{\"id\":\"1756\"},\"ticker\":{\"id\":\"1660\"}},\"id\":\"1659\",\"type\":\"LinearAxis\"},{\"attributes\":{\"fill_color\":{\"value\":\"lightblue\"},\"line_color\":{\"value\":\"brown\"},\"marker\":{\"value\":\"square\"},\"size\":{\"value\":8},\"x\":{\"field\":\"x\"},\"y\":{\"field\":\"y\"}},\"id\":\"1688\",\"type\":\"Scatter\"},{\"attributes\":{\"axis\":{\"id\":\"1659\"},\"coordinates\":null,\"group\":null,\"ticker\":null},\"id\":\"1662\",\"type\":\"Grid\"},{\"attributes\":{},\"id\":\"1758\",\"type\":\"Selection\"},{\"attributes\":{\"fill_alpha\":{\"value\":0.2},\"fill_color\":{\"value\":\"lightblue\"},\"hatch_alpha\":{\"value\":0.2},\"line_alpha\":{\"value\":0.2},\"line_color\":{\"value\":\"brown\"},\"marker\":{\"value\":\"square\"},\"size\":{\"value\":8},\"x\":{\"field\":\"x\"},\"y\":{\"field\":\"y\"}},\"id\":\"1690\",\"type\":\"Scatter\"},{\"attributes\":{},\"id\":\"1664\",\"type\":\"BasicTicker\"},{\"attributes\":{\"coordinates\":null,\"data_source\":{\"id\":\"1687\"},\"glyph\":{\"id\":\"1688\"},\"group\":null,\"hover_glyph\":null,\"muted_glyph\":{\"id\":\"1690\"},\"nonselection_glyph\":{\"id\":\"1689\"},\"view\":{\"id\":\"1692\"}},\"id\":\"1691\",\"type\":\"GlyphRenderer\"},{\"attributes\":{\"axis_label\":\"Valor de distribuci\\u00f3n Y\",\"coordinates\":null,\"formatter\":{\"id\":\"1752\"},\"group\":null,\"major_label_policy\":{\"id\":\"1753\"},\"ticker\":{\"id\":\"1664\"}},\"id\":\"1663\",\"type\":\"LinearAxis\"},{\"attributes\":{\"fill_alpha\":{\"value\":0.1},\"fill_color\":{\"value\":\"lightblue\"},\"hatch_alpha\":{\"value\":0.1},\"line_alpha\":{\"value\":0.1},\"line_color\":{\"value\":\"brown\"},\"marker\":{\"value\":\"square\"},\"size\":{\"value\":8},\"x\":{\"field\":\"x\"},\"y\":{\"field\":\"y\"}},\"id\":\"1689\",\"type\":\"Scatter\"}],\"root_ids\":[\"1648\"]},\"title\":\"Bokeh Application\",\"version\":\"2.4.2\"}};\n  const render_items = [{\"docid\":\"d80d046d-fa54-47bd-bcaf-de554bf72697\",\"root_ids\":[\"1648\"],\"roots\":{\"1648\":\"7004e95c-0ed6-4a76-940a-6763d70eeb8a\"}}];\n  root.Bokeh.embed.embed_items_notebook(docs_json, render_items);\n\n  }\n  if (root.Bokeh !== undefined) {\n    embed_document(root);\n  } else {\n    let attempts = 0;\n    const timer = setInterval(function(root) {\n      if (root.Bokeh !== undefined) {\n        clearInterval(timer);\n        embed_document(root);\n      } else {\n        attempts++;\n        if (attempts > 100) {\n          clearInterval(timer);\n          console.log(\"Bokeh: ERROR: Unable to run BokehJS code because BokehJS library is missing\");\n        }\n      }\n    }, 10, root)\n  }\n})(window);",
      "application/vnd.bokehjs_exec.v0+json": ""
     },
     "metadata": {
      "application/vnd.bokehjs_exec.v0+json": {
       "id": "1648"
      }
     },
     "output_type": "display_data"
    }
   ],
   "source": [
    "p = figure(plot_width=500, plot_height=500, title='Transformaciones de distribución normal')\n",
    "\n",
    "normal = np.random.rand(100)\n",
    "square = normal**2\n",
    "cubic = normal**3\n",
    "polynomic = normal**4\n",
    "\n",
    "\n",
    "p.circle(normal ,square, \n",
    "         fill_color  = 'lightgreen',\n",
    "         line_alpha = 0.8,\n",
    "         line_color = 'red',\n",
    "         radius = 0.01)\n",
    "\n",
    "p.square(cubic ,polynomic, \n",
    "         fill_color  = 'lightblue',\n",
    "         line_alpha = 1,\n",
    "         line_color = 'brown',\n",
    "         size = 8)\n",
    "\n",
    "p.xaxis.axis_label = 'Valor de distribución X'\n",
    "p.yaxis.axis_label = 'Valor de distribución Y'\n",
    "\n",
    "\n",
    "show(p)\n"
   ]
  },
  {
   "cell_type": "markdown",
   "metadata": {},
   "source": [
    "También podemos cambiar elementos descriptivos de los ejes"
   ]
  },
  {
   "cell_type": "code",
   "execution_count": 13,
   "metadata": {},
   "outputs": [
    {
     "data": {
      "text/html": [
       "\n",
       "\n",
       "\n",
       "\n",
       "\n",
       "\n",
       "  <div class=\"bk-root\" id=\"9299ade9-3cf6-44ff-b4da-54835329aacb\" data-root-id=\"1822\"></div>\n"
      ]
     },
     "metadata": {},
     "output_type": "display_data"
    },
    {
     "data": {
      "application/javascript": "(function(root) {\n  function embed_document(root) {\n    \n  const docs_json = {\"00fb5ca0-c9ba-477e-8ab6-dbdd197527a2\":{\"defs\":[],\"roots\":{\"references\":[{\"attributes\":{\"below\":[{\"id\":\"1833\"}],\"center\":[{\"id\":\"1836\"},{\"id\":\"1840\"}],\"height\":500,\"left\":[{\"id\":\"1837\"}],\"renderers\":[{\"id\":\"1859\"},{\"id\":\"1865\"}],\"title\":{\"id\":\"1823\"},\"toolbar\":{\"id\":\"1848\"},\"width\":500,\"x_range\":{\"id\":\"1825\"},\"x_scale\":{\"id\":\"1829\"},\"y_range\":{\"id\":\"1827\"},\"y_scale\":{\"id\":\"1831\"}},\"id\":\"1822\",\"subtype\":\"Figure\",\"type\":\"Plot\"},{\"attributes\":{},\"id\":\"1942\",\"type\":\"AllLabels\"},{\"attributes\":{},\"id\":\"1825\",\"type\":\"DataRange1d\"},{\"attributes\":{},\"id\":\"1943\",\"type\":\"UnionRenderers\"},{\"attributes\":{\"coordinates\":null,\"group\":null,\"text\":\"Transformaciones de distribuci\\u00f3n normal\"},\"id\":\"1823\",\"type\":\"Title\"},{\"attributes\":{},\"id\":\"1841\",\"type\":\"PanTool\"},{\"attributes\":{\"fill_alpha\":{\"value\":0.2},\"fill_color\":{\"value\":\"lightgreen\"},\"hatch_alpha\":{\"value\":0.2},\"line_alpha\":{\"value\":0.2},\"line_color\":{\"value\":\"red\"},\"radius\":{\"value\":0.01},\"x\":{\"field\":\"x\"},\"y\":{\"field\":\"y\"}},\"id\":\"1858\",\"type\":\"Circle\"},{\"attributes\":{},\"id\":\"1845\",\"type\":\"ResetTool\"},{\"attributes\":{},\"id\":\"1945\",\"type\":\"UnionRenderers\"},{\"attributes\":{},\"id\":\"1827\",\"type\":\"DataRange1d\"},{\"attributes\":{},\"id\":\"1842\",\"type\":\"WheelZoomTool\"},{\"attributes\":{},\"id\":\"1946\",\"type\":\"Selection\"},{\"attributes\":{\"source\":{\"id\":\"1855\"}},\"id\":\"1860\",\"type\":\"CDSView\"},{\"attributes\":{\"overlay\":{\"id\":\"1847\"}},\"id\":\"1843\",\"type\":\"BoxZoomTool\"},{\"attributes\":{\"fill_alpha\":{\"value\":0.1},\"fill_color\":{\"value\":\"lightgreen\"},\"hatch_alpha\":{\"value\":0.1},\"line_alpha\":{\"value\":0.1},\"line_color\":{\"value\":\"red\"},\"radius\":{\"value\":0.01},\"x\":{\"field\":\"x\"},\"y\":{\"field\":\"y\"}},\"id\":\"1857\",\"type\":\"Circle\"},{\"attributes\":{},\"id\":\"1844\",\"type\":\"SaveTool\"},{\"attributes\":{},\"id\":\"1834\",\"type\":\"BasicTicker\"},{\"attributes\":{},\"id\":\"1829\",\"type\":\"LinearScale\"},{\"attributes\":{},\"id\":\"1846\",\"type\":\"HelpTool\"},{\"attributes\":{},\"id\":\"1831\",\"type\":\"LinearScale\"},{\"attributes\":{\"coordinates\":null,\"data_source\":{\"id\":\"1855\"},\"glyph\":{\"id\":\"1856\"},\"group\":null,\"hover_glyph\":null,\"muted_glyph\":{\"id\":\"1858\"},\"nonselection_glyph\":{\"id\":\"1857\"},\"view\":{\"id\":\"1860\"}},\"id\":\"1859\",\"type\":\"GlyphRenderer\"},{\"attributes\":{\"axis_label\":\"Valor de distribuci\\u00f3n X\",\"axis_line_color\":\"blue\",\"axis_line_width\":2,\"coordinates\":null,\"formatter\":{\"id\":\"1941\"},\"group\":null,\"major_label_policy\":{\"id\":\"1942\"},\"major_label_text_color\":\"blue\",\"ticker\":{\"id\":\"1834\"}},\"id\":\"1833\",\"type\":\"LinearAxis\"},{\"attributes\":{\"source\":{\"id\":\"1861\"}},\"id\":\"1866\",\"type\":\"CDSView\"},{\"attributes\":{},\"id\":\"1941\",\"type\":\"BasicTickFormatter\"},{\"attributes\":{\"fill_color\":{\"value\":\"lightblue\"},\"line_color\":{\"value\":\"brown\"},\"marker\":{\"value\":\"square\"},\"size\":{\"value\":8},\"x\":{\"field\":\"x\"},\"y\":{\"field\":\"y\"}},\"id\":\"1862\",\"type\":\"Scatter\"},{\"attributes\":{\"axis\":{\"id\":\"1833\"},\"coordinates\":null,\"group\":null,\"ticker\":null},\"id\":\"1836\",\"type\":\"Grid\"},{\"attributes\":{\"fill_alpha\":{\"value\":0.2},\"fill_color\":{\"value\":\"lightblue\"},\"hatch_alpha\":{\"value\":0.2},\"line_alpha\":{\"value\":0.2},\"line_color\":{\"value\":\"brown\"},\"marker\":{\"value\":\"square\"},\"size\":{\"value\":8},\"x\":{\"field\":\"x\"},\"y\":{\"field\":\"y\"}},\"id\":\"1864\",\"type\":\"Scatter\"},{\"attributes\":{\"tools\":[{\"id\":\"1841\"},{\"id\":\"1842\"},{\"id\":\"1843\"},{\"id\":\"1844\"},{\"id\":\"1845\"},{\"id\":\"1846\"}]},\"id\":\"1848\",\"type\":\"Toolbar\"},{\"attributes\":{},\"id\":\"1838\",\"type\":\"BasicTicker\"},{\"attributes\":{\"axis_label\":\"Valor de distribuci\\u00f3n Y\",\"coordinates\":null,\"formatter\":{\"id\":\"1938\"},\"group\":null,\"major_label_orientation\":\"vertical\",\"major_label_policy\":{\"id\":\"1939\"},\"major_label_text_color\":\"red\",\"ticker\":{\"id\":\"1838\"}},\"id\":\"1837\",\"type\":\"LinearAxis\"},{\"attributes\":{\"fill_alpha\":{\"value\":0.1},\"fill_color\":{\"value\":\"lightblue\"},\"hatch_alpha\":{\"value\":0.1},\"line_alpha\":{\"value\":0.1},\"line_color\":{\"value\":\"brown\"},\"marker\":{\"value\":\"square\"},\"size\":{\"value\":8},\"x\":{\"field\":\"x\"},\"y\":{\"field\":\"y\"}},\"id\":\"1863\",\"type\":\"Scatter\"},{\"attributes\":{\"bottom_units\":\"screen\",\"coordinates\":null,\"fill_alpha\":0.5,\"fill_color\":\"lightgrey\",\"group\":null,\"left_units\":\"screen\",\"level\":\"overlay\",\"line_alpha\":1.0,\"line_color\":\"black\",\"line_dash\":[4,4],\"line_width\":2,\"right_units\":\"screen\",\"syncable\":false,\"top_units\":\"screen\"},\"id\":\"1847\",\"type\":\"BoxAnnotation\"},{\"attributes\":{},\"id\":\"1944\",\"type\":\"Selection\"},{\"attributes\":{\"coordinates\":null,\"data_source\":{\"id\":\"1861\"},\"glyph\":{\"id\":\"1862\"},\"group\":null,\"hover_glyph\":null,\"muted_glyph\":{\"id\":\"1864\"},\"nonselection_glyph\":{\"id\":\"1863\"},\"view\":{\"id\":\"1866\"}},\"id\":\"1865\",\"type\":\"GlyphRenderer\"},{\"attributes\":{\"axis\":{\"id\":\"1837\"},\"coordinates\":null,\"dimension\":1,\"group\":null,\"ticker\":null},\"id\":\"1840\",\"type\":\"Grid\"},{\"attributes\":{\"fill_color\":{\"value\":\"lightgreen\"},\"line_alpha\":{\"value\":0.8},\"line_color\":{\"value\":\"red\"},\"radius\":{\"value\":0.01},\"x\":{\"field\":\"x\"},\"y\":{\"field\":\"y\"}},\"id\":\"1856\",\"type\":\"Circle\"},{\"attributes\":{\"data\":{\"x\":{\"__ndarray__\":\"m93QX7Li4j8EiKerilLqP5GH1X5HnOU/sAbxW6j6xD9LzdJ9oe7iP0iZDZAppOw/li0iWuqF2j8MSpN9tx/GPyAr2ejepMI/oQZpmTyJ6T+y36JeMFLgP8TxOz/lUMs//KoMw01mwD8bPDjpyjDqP1GCaT3+MOI/Lu9u6WLR6T/ecMs3qdHfPw5yDrQrluI/uKdu4aUs1j8ccyy/flTmPxg6kZJwbMM/unvgBhFZ4T84P+WcXJvtP0CFAtQd8s4/Rr0oZb885T8AgGxIsgI6P/oHEGZ5WO8/vC4DNVGM3D8YOSYDOHXhP5wmUxHuJ80/0CxQXOclxT+gSXpNbejAPyRDOP8YHdM/iz+9apP17j9GNx0+fJXhPwD1WHZgK70/5INlsXDz6T+8JGGmJ9DEP1RPc1mCpcY/HDV7bxqRwD9WOS8xXrLnP1ANfaqRkto/T+jyYVVA4j9g9IcNAFPiP/xGi0MaZ+U/3jhmMJ+07j+ETrMjBC/jP5gCTBCWQdQ/Cx3OasCQ5T8NCZuPnU3rP0bJIQgq0e0/3LTwcS1N0T8s/VxuypzoPwomYaMzpeU/ChhHrwEB5T++GdkMiKvrP0jADcSz+dE/NKq7T64c6D+2M3gh7h7kP/E0kGoJweQ/jSDvj94w4j+6Taq+tFDQPyCz3RpVEqc/PojARffP6T8o8fNV6X6zP5Fw7xdMVus/tDLBDOWzzD8Z8UJh3dnuP146ElcMZ+c/gAfTRl4Sqj/ao0i1MNzjP75b62sd5Ns/bDvVVQ/Yzj8+xiXiaTXpP/M/EuLNteo/tueHOlRp5T+yRFH1ayHrPxJj04i779I/zPv5X6ZFyz9cUcAVLuTePxF48Nz6nuU/q4fA5Shl4j8oL2B/0N7QP2DkB48I7cY/P9OGPV3K6j8g9oBsizfVPwxRQ/+SGes/1iWOC1f53j+wum9BrF26P7YPYglDKOg/iLe6y28s7j+KKUwkL5zePwtwxZ4w1Og/jFGBf7lNwj8ts8MkUdzrP9E/m9FsSe0/h2PpBtdY6D9S0qA6dCruP4xZVAro68I/cJMFdKD1rz8=\",\"dtype\":\"float64\",\"order\":\"little\",\"shape\":[100]},\"y\":{\"__ndarray__\":\"NlVtTp1K1j+94/g/9qblP0VBWSAyMN0/n0n/ufuBmz9Uhddl0mbWP0xTUuaSouk/YA05Pc37xT/D8pN4d5eeP8OPr3GYuZU/zm8IP7tg5D/a/qHtBqbQPzqlW1tPUac/ICYKpynPkD9qsb0glG/lPwa9ZQ/SrtQ/Okv4oYTU5D/X0QGKlaPPPzLvB8ljl9U/x/P/wkS7vj8um33EGirfP7mb605qlJc/7KYb/DPP0j+ReJsmimTrP7ktx9Af7a0/ECTzDV0w3D/ro9rvYSSFPr/0PNNftO4/WoIjZPV3yT9iXqPKcQzTP2cSnFKRkKo/EeRuHdnzmz+wHqb/Ct6RP/nY6UhQ1bY/EGccBNHz7T9QucehHFPTP+4S4qLZloo/dbFBDpwL5T9t+zon9xKbP/n5S0XrBqA/tLBGzlgnkT8LUayfSYzhP1X/1QjMEMY/AcU5ycLR1D9rSP6ubvzUPylYnlM9odw/4RG4/KV27T8Qqhz9MwDXP7PhgQEEpbk/Y5DpqBYR3T8HhaAjtkvnP3+r/ltzyOs/NkEJ2HS1sj85GUDgL+7iP5pfj0ZRSN0/ZrVQfKSS2z/uGPoNDe3nP7Agt/PWMbQ/l4taLB8r4j8HKIIej03ZPwDmmH2w69o/O4NRB4qu1D9VDcGUAKOwP7hBP9dkomA/KP2J6znS5D8E+HfUWMF3P7WmGSKJWuc/tEg4J8S+qT+JKNBeSr7tP3l7n5RtHeE/TVo8vuM9ZT95GprqyabYP7IReslLT8g/a+f9j8+6rT84fXaZztvjPyW1l3V3S+Y/aF/gfDKn3D9yUw8WiQDnP/dcCe9tabY/2MPUWiA+pz+s68B5MdLNP7UM4C1+N90/l1mumRsm1T8n/yvjv8mxP+7Ic4vHbKA/h4szPtdt5j/RbBvQjiK8Py2zE3888+Y/9yE7CRr7zT/CKDEfSrmFPwb8NjaXPOI/COz0Uo9z7D9BJ/av0kfNP4G/qfLHQ+M/ssy08FrwlD+Fg5HKtUHoPzPE17W9zeo/0P2oLjmG4j/7ma1A0m/sP9ZiklRgYJY/5+zfRETrbz8=\",\"dtype\":\"float64\",\"order\":\"little\",\"shape\":[100]}},\"selected\":{\"id\":\"1944\"},\"selection_policy\":{\"id\":\"1943\"}},\"id\":\"1855\",\"type\":\"ColumnDataSource\"},{\"attributes\":{},\"id\":\"1939\",\"type\":\"AllLabels\"},{\"attributes\":{\"data\":{\"x\":{\"__ndarray__\":\"btXCacdPyj/2qSm/gc/hP44HOBAtttM/dw1PjLUIcj9a7QxHyIHKP8ofFwbD8eY/x0v9TZY4sj8NOeJIdCZ1P8P0v4WoUGk/jOr0AfdC4D93iLEljPvAP6BgbUeN54M/WZV1AqQ6YT9zZVylV4vhP98+Km4BhMc/bqSVA1TO4D9eLneVxHW/P7ZkfIP2FMk/SaW1EqBLpT/aI1JdPL/VP2n4NPINoGw/0pBE0dtkxD9pdIN3G1jpP5LAf/m68Iw/tatpWUC10j/B9DqjVy/RPcGeIFihE+4/wokLK6S4tj8De7WWxsjEP4fJlIUpNIg/VDNFhyJ5cj9DGVGumOFiP9NASqTVRps/2QwTqHD67D/4Bqp12jzFP4nW8hbAPFg/9sF8MSwR4T8Dp+VK95txPySoVGtNr3Y/CnCJuunCYT8MCLrWSf3ZP5Yuwtu2UrI/hnFUR7G/xz/rRMkU2gjIP8MXtbsOJtM/YvOylIlF7D9MwqhI1JPLP/FvpvOxO6A/typdjLKW0z+K/FWQYuDjP8d99jpC4+k/9h9tiwo7lD84lNqkyR7dP3y2JHqhztM/DzNV+hkZ0j+KaKB6Q7DkP5EPLOkesJY/XXWSKEBh2z+L2hrp3NHPPwK/5LqzddE/mtgZloaDxz+yF7CH6/aQP0sugyGA/Bc/WxfBCo7L4D/CkxKHBvI8P33Lzo1e8+M/CFT7AqcXhz9iws7l5azsPwS3RyqICNk/Y4F8b3pOIT9YPZ0qUJnOP7Mk00czMLU/TphZz92njD/S81BXvknfP0phM1z7m+I//ELqKgks0z9HlBzSeYDjP8A96jZphpo/kTllGgLPgz/4oxT1ssm8P0piYNiRvdM/OikTqpVQyD/f3Pb1dsGSP4juuHTmiHc/2fWbmxXH4j8iC4qzg6eiP9h7Un+Sb+M/uovB2AMFvT+pNx2pI+ZRP5oQxbPGiNs/4+3TqNjT6j/ahMTKPgK8P1rQ0I8o5d0/+Flqxh30Zz/i3O2mch7lP81shGv0h+g/dwwf9DAw3D/CZQsqj87qP/LS5WlYdmo/mv93cevgLz8=\",\"dtype\":\"float64\",\"order\":\"little\",\"shape\":[100]},\"y\":{\"__ndarray__\":\"S7LMjIwOvz9ssmqsFE3dP0hXUXGjn8o/jJgmx2ilRz9t3nFdV12/P9z/3nk/ieQ/4VJfgnU0nj8DZlXzzD5NP2xIXgWZfz0/Hc8Y7Rz02T8f3wmryFKxP5IJ162w/WA/vuFClM2oMT+sl5Py7rfcP5sRE0qDvLo/xGb8U1Ie2z+eSIz5NUivP0ablV3+Ir0/6rna2WiDjT9jig1Dy1nOP9beLSoJYEE/xmkCSbActj9SFOwC5XLnPwgrzcmm/Gs/o/Gh8OvUyD9xwKzQ0+8bPVSsOWMsdu0/XwrqHDFFpD+BPR3vl622PwkQuUR5DWY/TzzbkMBqSD+P0n7Q4PMzP6ag1VncSoA/3yc3iywJ7D/gDHy5E1e3P4uSzsboFyY/NiLyEYKu2z9xkLRPDOhGP7Bxj4jZDVA/iLcwef1jMj/+Ogt96j7TP34LiLpCbp4/WMsc8SQXuz+XrAFXo4a7P0UL5MNXnck/4muSxcQg6z8Vqy28SojAP3D8qjMpjYQ/mtlKMgJnyj8UdQr1iPXgPwWP204qH+g/B+wBzVDgdT9u7W6JxWXWP0jQb762y8o/sg4EkhXCxz/J33vNnuPhP0NZJqE0fXk/Hd2WW3qh1D+0Se6a6wHEP/CSGrjGpcY/PLMREcm7uj+B/VjFfUxxP0nSAOs5S9E+24oR/loY2z+88eXpf6IBPw5csEYlC+E/mw5Mu4O2ZD/1CKxfUqXrP+Mm/Pu+TtI/AaiSOGUz3D5xOMMzlP3CP6RiHS22d6I/gWwox9qeaz9zKo5e1qXYP/qIy3bsEN8//rTP8QGoyT/nTAESxYjgP19xLgelZH8/qIgSIMfhYD/qLVhWXsqrP7tS1e70rMo/x0OzNmP0uz/ye+awp8ZzP5TOeqZy3FA/nNYM+wFx3z/xlCc+n7yIPxJw9w2sdeA/OCxBkdEWrD+PvElVxH4dP3Rjp605ydQ/s8vSIdxL6T+6JEYTz8qqPxUnpgQaMtc/0hH+A/5mOz/+9GmeF2PiP2MrjRJ/c+Y/qiaWp2Zy1T898zWxNkXpPwtlzW5NSz8/Mxm3+JXW7z4=\",\"dtype\":\"float64\",\"order\":\"little\",\"shape\":[100]}},\"selected\":{\"id\":\"1946\"},\"selection_policy\":{\"id\":\"1945\"}},\"id\":\"1861\",\"type\":\"ColumnDataSource\"},{\"attributes\":{},\"id\":\"1938\",\"type\":\"BasicTickFormatter\"}],\"root_ids\":[\"1822\"]},\"title\":\"Bokeh Application\",\"version\":\"2.4.2\"}};\n  const render_items = [{\"docid\":\"00fb5ca0-c9ba-477e-8ab6-dbdd197527a2\",\"root_ids\":[\"1822\"],\"roots\":{\"1822\":\"9299ade9-3cf6-44ff-b4da-54835329aacb\"}}];\n  root.Bokeh.embed.embed_items_notebook(docs_json, render_items);\n\n  }\n  if (root.Bokeh !== undefined) {\n    embed_document(root);\n  } else {\n    let attempts = 0;\n    const timer = setInterval(function(root) {\n      if (root.Bokeh !== undefined) {\n        clearInterval(timer);\n        embed_document(root);\n      } else {\n        attempts++;\n        if (attempts > 100) {\n          clearInterval(timer);\n          console.log(\"Bokeh: ERROR: Unable to run BokehJS code because BokehJS library is missing\");\n        }\n      }\n    }, 10, root)\n  }\n})(window);",
      "application/vnd.bokehjs_exec.v0+json": ""
     },
     "metadata": {
      "application/vnd.bokehjs_exec.v0+json": {
       "id": "1822"
      }
     },
     "output_type": "display_data"
    }
   ],
   "source": [
    "p = figure(plot_width=500, plot_height=500, title='Transformaciones de distribución normal')\n",
    "\n",
    "normal = np.random.rand(100)\n",
    "square = normal**2\n",
    "cubic = normal**3\n",
    "polynomic = normal**4\n",
    "\n",
    "\n",
    "p.circle(normal ,square, \n",
    "         fill_color  = 'lightgreen',\n",
    "         line_alpha = 0.8,\n",
    "         line_color = 'red',\n",
    "         radius = 0.01)\n",
    "\n",
    "p.square(cubic ,polynomic, \n",
    "         fill_color  = 'lightblue',\n",
    "         line_alpha = 1,\n",
    "         line_color = 'brown',\n",
    "         size = 8)\n",
    "\n",
    "p.xaxis.axis_label = 'Valor de distribución X'\n",
    "p.yaxis.axis_label = 'Valor de distribución Y'\n",
    "\n",
    "p.yaxis.major_label_text_color = \"red\"\n",
    "p.yaxis.major_label_orientation = \"vertical\"\n",
    "\n",
    "p.xaxis.axis_line_width = 2\n",
    "p.xaxis.axis_line_color = \"blue\"\n",
    "p.xaxis.major_label_text_color = \"blue\"\n",
    "\n",
    "\n",
    "show(p)\n"
   ]
  },
  {
   "cell_type": "markdown",
   "metadata": {},
   "source": [
    "A continuación, mostraremos cómo generar un diagrama de barras, primero vamos a diseñar un dataframe sencillo."
   ]
  },
  {
   "cell_type": "code",
   "execution_count": 14,
   "metadata": {},
   "outputs": [],
   "source": [
    "import pandas as pd\n",
    "items = ['Naranjas', 'Fresas', 'Manzanas', 'Plátanos', 'Mango']\n",
    "volumen_venta = np.random.randint(100, 1000, 5)\n",
    "ingresos_totales = np.random.randint(1000, 25000, 5)\n",
    "\n",
    "df = pd.DataFrame({\n",
    "    'Productos': items,\n",
    "    'Volumen': volumen_venta,\n",
    "    'Ingresos': ingresos_totales\n",
    "})"
   ]
  },
  {
   "cell_type": "markdown",
   "metadata": {},
   "source": [
    "Seguidamente, con <code>**vbar**</code> mostraremos un diagrama de barras sobre el volumen de ventas por producto."
   ]
  },
  {
   "cell_type": "code",
   "execution_count": 15,
   "metadata": {},
   "outputs": [
    {
     "data": {
      "text/html": [
       "\n",
       "\n",
       "\n",
       "\n",
       "\n",
       "\n",
       "  <div class=\"bk-root\" id=\"7c7bee80-8b13-4d4e-98b9-af390096da2c\" data-root-id=\"2008\"></div>\n"
      ]
     },
     "metadata": {},
     "output_type": "display_data"
    },
    {
     "data": {
      "application/javascript": "(function(root) {\n  function embed_document(root) {\n    \n  const docs_json = {\"c588ea11-4952-4b14-b01a-9ce98e374ab2\":{\"defs\":[],\"roots\":{\"references\":[{\"attributes\":{\"below\":[{\"id\":\"2019\"}],\"center\":[{\"id\":\"2021\"},{\"id\":\"2025\"}],\"height\":350,\"left\":[{\"id\":\"2022\"}],\"renderers\":[{\"id\":\"2044\"}],\"title\":{\"id\":\"2009\"},\"toolbar\":{\"id\":\"2033\"},\"x_range\":{\"id\":\"2011\"},\"x_scale\":{\"id\":\"2015\"},\"y_range\":{\"id\":\"2013\"},\"y_scale\":{\"id\":\"2017\"}},\"id\":\"2008\",\"subtype\":\"Figure\",\"type\":\"Plot\"},{\"attributes\":{},\"id\":\"2015\",\"type\":\"CategoricalScale\"},{\"attributes\":{\"bottom_units\":\"screen\",\"coordinates\":null,\"fill_alpha\":0.5,\"fill_color\":\"lightgrey\",\"group\":null,\"left_units\":\"screen\",\"level\":\"overlay\",\"line_alpha\":1.0,\"line_color\":\"black\",\"line_dash\":[4,4],\"line_width\":2,\"right_units\":\"screen\",\"syncable\":false,\"top_units\":\"screen\"},\"id\":\"2032\",\"type\":\"BoxAnnotation\"},{\"attributes\":{\"coordinates\":null,\"data_source\":{\"id\":\"2040\"},\"glyph\":{\"id\":\"2041\"},\"group\":null,\"hover_glyph\":null,\"muted_glyph\":{\"id\":\"2043\"},\"nonselection_glyph\":{\"id\":\"2042\"},\"view\":{\"id\":\"2045\"}},\"id\":\"2044\",\"type\":\"GlyphRenderer\"},{\"attributes\":{},\"id\":\"2029\",\"type\":\"SaveTool\"},{\"attributes\":{},\"id\":\"2133\",\"type\":\"AllLabels\"},{\"attributes\":{\"data\":{\"fill_color\":[\"#DF5837\",\"#A9E915\",\"#CA09A9\",\"#1E82A8\",\"#F9E13A\"],\"top\":{\"__ndarray__\":\"NAIAAK8CAACXAgAAbAMAAAACAAA=\",\"dtype\":\"int32\",\"order\":\"little\",\"shape\":[5]},\"x\":[\"Naranjas\",\"Fresas\",\"Manzanas\",\"Pl\\u00e1tanos\",\"Mango\"]},\"selected\":{\"id\":\"2135\"},\"selection_policy\":{\"id\":\"2134\"}},\"id\":\"2040\",\"type\":\"ColumnDataSource\"},{\"attributes\":{},\"id\":\"2130\",\"type\":\"AllLabels\"},{\"attributes\":{\"fill_alpha\":{\"value\":0.1},\"fill_color\":{\"field\":\"fill_color\"},\"hatch_alpha\":{\"value\":0.1},\"line_alpha\":{\"value\":0.1},\"line_color\":{\"value\":\"#1f77b4\"},\"top\":{\"field\":\"top\"},\"width\":{\"value\":0.9},\"x\":{\"field\":\"x\"}},\"id\":\"2042\",\"type\":\"VBar\"},{\"attributes\":{},\"id\":\"2013\",\"type\":\"DataRange1d\"},{\"attributes\":{\"axis\":{\"id\":\"2022\"},\"coordinates\":null,\"dimension\":1,\"group\":null,\"ticker\":null},\"id\":\"2025\",\"type\":\"Grid\"},{\"attributes\":{\"tools\":[{\"id\":\"2026\"},{\"id\":\"2027\"},{\"id\":\"2028\"},{\"id\":\"2029\"},{\"id\":\"2030\"},{\"id\":\"2031\"}]},\"id\":\"2033\",\"type\":\"Toolbar\"},{\"attributes\":{\"fill_alpha\":{\"value\":0.2},\"fill_color\":{\"field\":\"fill_color\"},\"hatch_alpha\":{\"value\":0.2},\"line_alpha\":{\"value\":0.2},\"line_color\":{\"value\":\"#1f77b4\"},\"top\":{\"field\":\"top\"},\"width\":{\"value\":0.9},\"x\":{\"field\":\"x\"}},\"id\":\"2043\",\"type\":\"VBar\"},{\"attributes\":{},\"id\":\"2030\",\"type\":\"ResetTool\"},{\"attributes\":{\"fill_alpha\":{\"value\":0.6},\"fill_color\":{\"field\":\"fill_color\"},\"line_color\":{\"value\":\"#1f77b4\"},\"top\":{\"field\":\"top\"},\"width\":{\"value\":0.9},\"x\":{\"field\":\"x\"}},\"id\":\"2041\",\"type\":\"VBar\"},{\"attributes\":{},\"id\":\"2031\",\"type\":\"HelpTool\"},{\"attributes\":{\"coordinates\":null,\"formatter\":{\"id\":\"2129\"},\"group\":null,\"major_label_policy\":{\"id\":\"2130\"},\"ticker\":{\"id\":\"2023\"}},\"id\":\"2022\",\"type\":\"LinearAxis\"},{\"attributes\":{\"source\":{\"id\":\"2040\"}},\"id\":\"2045\",\"type\":\"CDSView\"},{\"attributes\":{},\"id\":\"2023\",\"type\":\"BasicTicker\"},{\"attributes\":{\"factors\":[\"Naranjas\",\"Fresas\",\"Manzanas\",\"Pl\\u00e1tanos\",\"Mango\"]},\"id\":\"2011\",\"type\":\"FactorRange\"},{\"attributes\":{\"axis\":{\"id\":\"2019\"},\"coordinates\":null,\"group\":null,\"ticker\":null},\"id\":\"2021\",\"type\":\"Grid\"},{\"attributes\":{},\"id\":\"2129\",\"type\":\"BasicTickFormatter\"},{\"attributes\":{},\"id\":\"2134\",\"type\":\"UnionRenderers\"},{\"attributes\":{\"coordinates\":null,\"formatter\":{\"id\":\"2132\"},\"group\":null,\"major_label_policy\":{\"id\":\"2133\"},\"ticker\":{\"id\":\"2020\"}},\"id\":\"2019\",\"type\":\"CategoricalAxis\"},{\"attributes\":{},\"id\":\"2017\",\"type\":\"LinearScale\"},{\"attributes\":{\"overlay\":{\"id\":\"2032\"}},\"id\":\"2028\",\"type\":\"BoxZoomTool\"},{\"attributes\":{},\"id\":\"2020\",\"type\":\"CategoricalTicker\"},{\"attributes\":{\"coordinates\":null,\"group\":null,\"text\":\"Volumen de ventas\"},\"id\":\"2009\",\"type\":\"Title\"},{\"attributes\":{},\"id\":\"2132\",\"type\":\"CategoricalTickFormatter\"},{\"attributes\":{},\"id\":\"2135\",\"type\":\"Selection\"},{\"attributes\":{},\"id\":\"2026\",\"type\":\"PanTool\"},{\"attributes\":{},\"id\":\"2027\",\"type\":\"WheelZoomTool\"}],\"root_ids\":[\"2008\"]},\"title\":\"Bokeh Application\",\"version\":\"2.4.2\"}};\n  const render_items = [{\"docid\":\"c588ea11-4952-4b14-b01a-9ce98e374ab2\",\"root_ids\":[\"2008\"],\"roots\":{\"2008\":\"7c7bee80-8b13-4d4e-98b9-af390096da2c\"}}];\n  root.Bokeh.embed.embed_items_notebook(docs_json, render_items);\n\n  }\n  if (root.Bokeh !== undefined) {\n    embed_document(root);\n  } else {\n    let attempts = 0;\n    const timer = setInterval(function(root) {\n      if (root.Bokeh !== undefined) {\n        clearInterval(timer);\n        embed_document(root);\n      } else {\n        attempts++;\n        if (attempts > 100) {\n          clearInterval(timer);\n          console.log(\"Bokeh: ERROR: Unable to run BokehJS code because BokehJS library is missing\");\n        }\n      }\n    }, 10, root)\n  }\n})(window);",
      "application/vnd.bokehjs_exec.v0+json": ""
     },
     "metadata": {
      "application/vnd.bokehjs_exec.v0+json": {
       "id": "2008"
      }
     },
     "output_type": "display_data"
    }
   ],
   "source": [
    "p = figure(x_range=df['Productos'], plot_height=350, \n",
    "           title=\"Volumen de ventas\")\n",
    "\n",
    "p.vbar(x=df['Productos'], top=df['Volumen'], \n",
    "       width=0.9, \n",
    "       fill_color=['#DF5837', '#A9E915', '#CA09A9', '#1E82A8', '#F9E13A'], \n",
    "       fill_alpha=0.6)\n",
    "\n",
    "# Podemos generar colores en hexadecimal con https://htmlcolorcodes.com/\n",
    "\n",
    "show(p)"
   ]
  },
  {
   "cell_type": "markdown",
   "metadata": {},
   "source": [
    "Aunque de una forma algo más compleja que utilizando Seaborn o Ggplot, en Bokeh, también podemos generar gradientes de color en función de una variable. Para ello tenemos que tener en cuenta tres funciones:\n",
    "* <code>__LinearColorMapper__</code>: Pasamos como parámetros **palette**, que toma valor de una paleta de colores que podemos encontrar disponbiles en el siguiente enlace https://docs.bokeh.org/en/latest/docs/reference/palettes.html#bokeh-palettes **low**: Valor mínimo de la variable, **high**: Valor máximo de la variable. Generamos una secuencia de colores en función del rango de nuestra variable.\n",
    "* <code>**ColorBar**</code>: Dentro de los parámetros que recibe, el más importante es **color_mapper** que recibe un objeto generado previamente LinearColorMapper. Esta función genera una leyenda con los colores de nuestra variable.\n",
    "* Dentro de la función de nuestro gráfico, en este caso nube de puntos, en el parámetro color utilizaremos la función <code>**transform**</code> a la cuál pasaremos el nombre de la columna y nuestro objeto LinearColorMapper.\n"
   ]
  },
  {
   "cell_type": "code",
   "execution_count": 16,
   "metadata": {},
   "outputs": [
    {
     "data": {
      "text/html": [
       "\n",
       "\n",
       "\n",
       "\n",
       "\n",
       "\n",
       "  <div class=\"bk-root\" id=\"b43453fa-d365-4c02-ac53-97f445d23a73\" data-root-id=\"2189\"></div>\n"
      ]
     },
     "metadata": {},
     "output_type": "display_data"
    },
    {
     "data": {
      "application/javascript": "(function(root) {\n  function embed_document(root) {\n    \n  const docs_json = {\"12b9a19f-011b-47ca-bee7-a7b6b2de1b0e\":{\"defs\":[],\"roots\":{\"references\":[{\"attributes\":{\"below\":[{\"id\":\"2198\"}],\"center\":[{\"id\":\"2201\"},{\"id\":\"2205\"}],\"height\":400,\"left\":[{\"id\":\"2202\"}],\"renderers\":[{\"id\":\"2225\"}],\"right\":[{\"id\":\"2188\"}],\"title\":{\"id\":\"2318\"},\"toolbar\":{\"id\":\"2213\"},\"x_range\":{\"id\":\"2190\"},\"x_scale\":{\"id\":\"2194\"},\"y_range\":{\"id\":\"2192\"},\"y_scale\":{\"id\":\"2196\"}},\"id\":\"2189\",\"subtype\":\"Figure\",\"type\":\"Plot\"},{\"attributes\":{},\"id\":\"2190\",\"type\":\"DataRange1d\"},{\"attributes\":{\"fill_alpha\":{\"value\":0.6},\"fill_color\":{\"field\":\"Ingresos\",\"transform\":{\"id\":\"2187\"}},\"hatch_alpha\":{\"value\":0.6},\"hatch_color\":{\"field\":\"Ingresos\",\"transform\":{\"id\":\"2187\"}},\"line_alpha\":{\"value\":0.6},\"line_color\":{\"field\":\"Ingresos\",\"transform\":{\"id\":\"2187\"}},\"size\":{\"value\":20},\"x\":{\"field\":\"Volumen\"},\"y\":{\"field\":\"Ingresos\"}},\"id\":\"2222\",\"type\":\"Circle\"},{\"attributes\":{\"data\":{\"Ingresos\":{\"__ndarray__\":\"JxUAAENYAAAcMgAAZAwAAK1WAAA=\",\"dtype\":\"int32\",\"order\":\"little\",\"shape\":[5]},\"Productos\":[\"Naranjas\",\"Fresas\",\"Manzanas\",\"Pl\\u00e1tanos\",\"Mango\"],\"Volumen\":{\"__ndarray__\":\"NAIAAK8CAACXAgAAbAMAAAACAAA=\",\"dtype\":\"int32\",\"order\":\"little\",\"shape\":[5]},\"index\":[0,1,2,3,4]},\"selected\":{\"id\":\"2328\"},\"selection_policy\":{\"id\":\"2327\"}},\"id\":\"2220\",\"type\":\"ColumnDataSource\"},{\"attributes\":{\"coordinates\":null,\"group\":null},\"id\":\"2318\",\"type\":\"Title\"},{\"attributes\":{\"tools\":[{\"id\":\"2206\"},{\"id\":\"2207\"},{\"id\":\"2208\"},{\"id\":\"2209\"},{\"id\":\"2210\"},{\"id\":\"2211\"}]},\"id\":\"2213\",\"type\":\"Toolbar\"},{\"attributes\":{\"color_mapper\":{\"id\":\"2187\"},\"coordinates\":null,\"group\":null,\"label_standoff\":12,\"location\":[0,0],\"major_label_policy\":{\"id\":\"2323\"},\"title\":\"Ingresos\"},\"id\":\"2188\",\"type\":\"ColorBar\"},{\"attributes\":{\"axis\":{\"id\":\"2198\"},\"coordinates\":null,\"group\":null,\"ticker\":null},\"id\":\"2201\",\"type\":\"Grid\"},{\"attributes\":{},\"id\":\"2328\",\"type\":\"Selection\"},{\"attributes\":{\"bottom_units\":\"screen\",\"coordinates\":null,\"fill_alpha\":0.5,\"fill_color\":\"lightgrey\",\"group\":null,\"left_units\":\"screen\",\"level\":\"overlay\",\"line_alpha\":1.0,\"line_color\":\"black\",\"line_dash\":[4,4],\"line_width\":2,\"right_units\":\"screen\",\"syncable\":false,\"top_units\":\"screen\"},\"id\":\"2212\",\"type\":\"BoxAnnotation\"},{\"attributes\":{},\"id\":\"2206\",\"type\":\"PanTool\"},{\"attributes\":{\"source\":{\"id\":\"2220\"}},\"id\":\"2226\",\"type\":\"CDSView\"},{\"attributes\":{},\"id\":\"2210\",\"type\":\"ResetTool\"},{\"attributes\":{},\"id\":\"2192\",\"type\":\"DataRange1d\"},{\"attributes\":{},\"id\":\"2207\",\"type\":\"WheelZoomTool\"},{\"attributes\":{\"overlay\":{\"id\":\"2212\"}},\"id\":\"2208\",\"type\":\"BoxZoomTool\"},{\"attributes\":{},\"id\":\"2209\",\"type\":\"SaveTool\"},{\"attributes\":{\"axis_label\":\"Volumen de ventas\",\"coordinates\":null,\"formatter\":{\"id\":\"2325\"},\"group\":null,\"major_label_policy\":{\"id\":\"2326\"},\"ticker\":{\"id\":\"2199\"}},\"id\":\"2198\",\"type\":\"LinearAxis\"},{\"attributes\":{},\"id\":\"2326\",\"type\":\"AllLabels\"},{\"attributes\":{},\"id\":\"2194\",\"type\":\"LinearScale\"},{\"attributes\":{\"coordinates\":null,\"data_source\":{\"id\":\"2220\"},\"glyph\":{\"id\":\"2222\"},\"group\":null,\"hover_glyph\":null,\"muted_glyph\":{\"id\":\"2224\"},\"nonselection_glyph\":{\"id\":\"2223\"},\"view\":{\"id\":\"2226\"}},\"id\":\"2225\",\"type\":\"GlyphRenderer\"},{\"attributes\":{},\"id\":\"2211\",\"type\":\"HelpTool\"},{\"attributes\":{},\"id\":\"2196\",\"type\":\"LinearScale\"},{\"attributes\":{\"fill_alpha\":{\"value\":0.1},\"fill_color\":{\"field\":\"Ingresos\",\"transform\":{\"id\":\"2187\"}},\"hatch_alpha\":{\"value\":0.1},\"hatch_color\":{\"field\":\"Ingresos\",\"transform\":{\"id\":\"2187\"}},\"line_alpha\":{\"value\":0.1},\"line_color\":{\"field\":\"Ingresos\",\"transform\":{\"id\":\"2187\"}},\"size\":{\"value\":20},\"x\":{\"field\":\"Volumen\"},\"y\":{\"field\":\"Ingresos\"}},\"id\":\"2223\",\"type\":\"Circle\"},{\"attributes\":{},\"id\":\"2322\",\"type\":\"AllLabels\"},{\"attributes\":{\"axis\":{\"id\":\"2202\"},\"coordinates\":null,\"dimension\":1,\"group\":null,\"ticker\":null},\"id\":\"2205\",\"type\":\"Grid\"},{\"attributes\":{},\"id\":\"2199\",\"type\":\"BasicTicker\"},{\"attributes\":{},\"id\":\"2323\",\"type\":\"NoOverlap\"},{\"attributes\":{\"fill_alpha\":{\"value\":0.2},\"fill_color\":{\"field\":\"Ingresos\",\"transform\":{\"id\":\"2187\"}},\"hatch_alpha\":{\"value\":0.2},\"hatch_color\":{\"field\":\"Ingresos\",\"transform\":{\"id\":\"2187\"}},\"line_alpha\":{\"value\":0.2},\"line_color\":{\"field\":\"Ingresos\",\"transform\":{\"id\":\"2187\"}},\"size\":{\"value\":20},\"x\":{\"field\":\"Volumen\"},\"y\":{\"field\":\"Ingresos\"}},\"id\":\"2224\",\"type\":\"Circle\"},{\"attributes\":{},\"id\":\"2321\",\"type\":\"BasicTickFormatter\"},{\"attributes\":{\"axis_label\":\"Ingresos totales\",\"coordinates\":null,\"formatter\":{\"id\":\"2321\"},\"group\":null,\"major_label_policy\":{\"id\":\"2322\"},\"ticker\":{\"id\":\"2203\"}},\"id\":\"2202\",\"type\":\"LinearAxis\"},{\"attributes\":{},\"id\":\"2325\",\"type\":\"BasicTickFormatter\"},{\"attributes\":{},\"id\":\"2203\",\"type\":\"BasicTicker\"},{\"attributes\":{},\"id\":\"2327\",\"type\":\"UnionRenderers\"},{\"attributes\":{\"high\":22595,\"low\":3172,\"palette\":[\"#440154\",\"#440255\",\"#440357\",\"#450558\",\"#45065A\",\"#45085B\",\"#46095C\",\"#460B5E\",\"#460C5F\",\"#460E61\",\"#470F62\",\"#471163\",\"#471265\",\"#471466\",\"#471567\",\"#471669\",\"#47186A\",\"#48196B\",\"#481A6C\",\"#481C6E\",\"#481D6F\",\"#481E70\",\"#482071\",\"#482172\",\"#482273\",\"#482374\",\"#472575\",\"#472676\",\"#472777\",\"#472878\",\"#472A79\",\"#472B7A\",\"#472C7B\",\"#462D7C\",\"#462F7C\",\"#46307D\",\"#46317E\",\"#45327F\",\"#45347F\",\"#453580\",\"#453681\",\"#443781\",\"#443982\",\"#433A83\",\"#433B83\",\"#433C84\",\"#423D84\",\"#423E85\",\"#424085\",\"#414186\",\"#414286\",\"#404387\",\"#404487\",\"#3F4587\",\"#3F4788\",\"#3E4888\",\"#3E4989\",\"#3D4A89\",\"#3D4B89\",\"#3D4C89\",\"#3C4D8A\",\"#3C4E8A\",\"#3B508A\",\"#3B518A\",\"#3A528B\",\"#3A538B\",\"#39548B\",\"#39558B\",\"#38568B\",\"#38578C\",\"#37588C\",\"#37598C\",\"#365A8C\",\"#365B8C\",\"#355C8C\",\"#355D8C\",\"#345E8D\",\"#345F8D\",\"#33608D\",\"#33618D\",\"#32628D\",\"#32638D\",\"#31648D\",\"#31658D\",\"#31668D\",\"#30678D\",\"#30688D\",\"#2F698D\",\"#2F6A8D\",\"#2E6B8E\",\"#2E6C8E\",\"#2E6D8E\",\"#2D6E8E\",\"#2D6F8E\",\"#2C708E\",\"#2C718E\",\"#2C728E\",\"#2B738E\",\"#2B748E\",\"#2A758E\",\"#2A768E\",\"#2A778E\",\"#29788E\",\"#29798E\",\"#287A8E\",\"#287A8E\",\"#287B8E\",\"#277C8E\",\"#277D8E\",\"#277E8E\",\"#267F8E\",\"#26808E\",\"#26818E\",\"#25828E\",\"#25838D\",\"#24848D\",\"#24858D\",\"#24868D\",\"#23878D\",\"#23888D\",\"#23898D\",\"#22898D\",\"#228A8D\",\"#228B8D\",\"#218C8D\",\"#218D8C\",\"#218E8C\",\"#208F8C\",\"#20908C\",\"#20918C\",\"#1F928C\",\"#1F938B\",\"#1F948B\",\"#1F958B\",\"#1F968B\",\"#1E978A\",\"#1E988A\",\"#1E998A\",\"#1E998A\",\"#1E9A89\",\"#1E9B89\",\"#1E9C89\",\"#1E9D88\",\"#1E9E88\",\"#1E9F88\",\"#1EA087\",\"#1FA187\",\"#1FA286\",\"#1FA386\",\"#20A485\",\"#20A585\",\"#21A685\",\"#21A784\",\"#22A784\",\"#23A883\",\"#23A982\",\"#24AA82\",\"#25AB81\",\"#26AC81\",\"#27AD80\",\"#28AE7F\",\"#29AF7F\",\"#2AB07E\",\"#2BB17D\",\"#2CB17D\",\"#2EB27C\",\"#2FB37B\",\"#30B47A\",\"#32B57A\",\"#33B679\",\"#35B778\",\"#36B877\",\"#38B976\",\"#39B976\",\"#3BBA75\",\"#3DBB74\",\"#3EBC73\",\"#40BD72\",\"#42BE71\",\"#44BE70\",\"#45BF6F\",\"#47C06E\",\"#49C16D\",\"#4BC26C\",\"#4DC26B\",\"#4FC369\",\"#51C468\",\"#53C567\",\"#55C666\",\"#57C665\",\"#59C764\",\"#5BC862\",\"#5EC961\",\"#60C960\",\"#62CA5F\",\"#64CB5D\",\"#67CC5C\",\"#69CC5B\",\"#6BCD59\",\"#6DCE58\",\"#70CE56\",\"#72CF55\",\"#74D054\",\"#77D052\",\"#79D151\",\"#7CD24F\",\"#7ED24E\",\"#81D34C\",\"#83D34B\",\"#86D449\",\"#88D547\",\"#8BD546\",\"#8DD644\",\"#90D643\",\"#92D741\",\"#95D73F\",\"#97D83E\",\"#9AD83C\",\"#9DD93A\",\"#9FD938\",\"#A2DA37\",\"#A5DA35\",\"#A7DB33\",\"#AADB32\",\"#ADDC30\",\"#AFDC2E\",\"#B2DD2C\",\"#B5DD2B\",\"#B7DD29\",\"#BADE27\",\"#BDDE26\",\"#BFDF24\",\"#C2DF22\",\"#C5DF21\",\"#C7E01F\",\"#CAE01E\",\"#CDE01D\",\"#CFE11C\",\"#D2E11B\",\"#D4E11A\",\"#D7E219\",\"#DAE218\",\"#DCE218\",\"#DFE318\",\"#E1E318\",\"#E4E318\",\"#E7E419\",\"#E9E419\",\"#ECE41A\",\"#EEE51B\",\"#F1E51C\",\"#F3E51E\",\"#F6E61F\",\"#F8E621\",\"#FAE622\",\"#FDE724\"]},\"id\":\"2187\",\"type\":\"LinearColorMapper\"}],\"root_ids\":[\"2189\"]},\"title\":\"Bokeh Application\",\"version\":\"2.4.2\"}};\n  const render_items = [{\"docid\":\"12b9a19f-011b-47ca-bee7-a7b6b2de1b0e\",\"root_ids\":[\"2189\"],\"roots\":{\"2189\":\"b43453fa-d365-4c02-ac53-97f445d23a73\"}}];\n  root.Bokeh.embed.embed_items_notebook(docs_json, render_items);\n\n  }\n  if (root.Bokeh !== undefined) {\n    embed_document(root);\n  } else {\n    let attempts = 0;\n    const timer = setInterval(function(root) {\n      if (root.Bokeh !== undefined) {\n        clearInterval(timer);\n        embed_document(root);\n      } else {\n        attempts++;\n        if (attempts > 100) {\n          clearInterval(timer);\n          console.log(\"Bokeh: ERROR: Unable to run BokehJS code because BokehJS library is missing\");\n        }\n      }\n    }, 10, root)\n  }\n})(window);",
      "application/vnd.bokehjs_exec.v0+json": ""
     },
     "metadata": {
      "application/vnd.bokehjs_exec.v0+json": {
       "id": "2189"
      }
     },
     "output_type": "display_data"
    }
   ],
   "source": [
    "from bokeh.models import LinearColorMapper, ColorBar\n",
    "from bokeh.transform import transform\n",
    "\n",
    "color_mapper = LinearColorMapper(palette=\"Viridis256\", low=df.Ingresos.min(), \n",
    "                                 high=df.Ingresos.max())\n",
    "color_bar = ColorBar(color_mapper=color_mapper, label_standoff=12, location=(0,0), \n",
    "                     title='Ingresos')\n",
    "\n",
    "p = figure(x_axis_label='Volumen de ventas', # Otra forma de añadir texto en los ejes\n",
    "           y_axis_label='Ingresos totales', \n",
    "           plot_height=400)\n",
    "\n",
    "p.circle(x='Volumen', y='Ingresos', \n",
    "         color=transform('Ingresos', color_mapper), \n",
    "         size=20, alpha=0.6, \n",
    "         source=df)\n",
    "\n",
    "p.add_layout(color_bar, 'right') # Posición del gradiente de color\n",
    "\n",
    "show(p)"
   ]
  },
  {
   "cell_type": "markdown",
   "metadata": {},
   "source": [
    "Algo que todavía no hemos mostrado es podemos desactivar el panel lateral para gestionar el gráfico añadiendo los siguientes parámetros a la función figure.\n",
    "* **tools**: Lo dejamso vacío\n",
    "* **toolbar_location**: Valor None"
   ]
  },
  {
   "cell_type": "code",
   "execution_count": 17,
   "metadata": {},
   "outputs": [
    {
     "data": {
      "text/html": [
       "\n",
       "\n",
       "\n",
       "\n",
       "\n",
       "\n",
       "  <div class=\"bk-root\" id=\"028cdad0-38e0-44ac-ab7f-a901de4f58d4\" data-root-id=\"2392\"></div>\n"
      ]
     },
     "metadata": {},
     "output_type": "display_data"
    },
    {
     "data": {
      "application/javascript": "(function(root) {\n  function embed_document(root) {\n    \n  const docs_json = {\"96094788-ae8b-4120-8593-d47fe8e81226\":{\"defs\":[],\"roots\":{\"references\":[{\"attributes\":{\"below\":[{\"id\":\"2401\"}],\"center\":[{\"id\":\"2404\"},{\"id\":\"2408\"}],\"height\":400,\"left\":[{\"id\":\"2405\"}],\"renderers\":[{\"id\":\"2415\"}],\"right\":[{\"id\":\"2391\"}],\"title\":{\"id\":\"2520\"},\"toolbar\":{\"id\":\"2409\"},\"toolbar_location\":null,\"x_range\":{\"id\":\"2393\"},\"x_scale\":{\"id\":\"2397\"},\"y_range\":{\"id\":\"2395\"},\"y_scale\":{\"id\":\"2399\"}},\"id\":\"2392\",\"subtype\":\"Figure\",\"type\":\"Plot\"},{\"attributes\":{},\"id\":\"2393\",\"type\":\"DataRange1d\"},{\"attributes\":{\"coordinates\":null,\"group\":null},\"id\":\"2520\",\"type\":\"Title\"},{\"attributes\":{\"coordinates\":null,\"data_source\":{\"id\":\"2410\"},\"glyph\":{\"id\":\"2412\"},\"group\":null,\"hover_glyph\":null,\"muted_glyph\":{\"id\":\"2414\"},\"nonselection_glyph\":{\"id\":\"2413\"},\"view\":{\"id\":\"2416\"}},\"id\":\"2415\",\"type\":\"GlyphRenderer\"},{\"attributes\":{\"axis\":{\"id\":\"2401\"},\"coordinates\":null,\"group\":null,\"ticker\":null},\"id\":\"2404\",\"type\":\"Grid\"},{\"attributes\":{\"source\":{\"id\":\"2410\"}},\"id\":\"2416\",\"type\":\"CDSView\"},{\"attributes\":{\"axis_label\":\"Volumen de ventas\",\"coordinates\":null,\"formatter\":{\"id\":\"2527\"},\"group\":null,\"major_label_policy\":{\"id\":\"2528\"},\"ticker\":{\"id\":\"2402\"}},\"id\":\"2401\",\"type\":\"LinearAxis\"},{\"attributes\":{},\"id\":\"2529\",\"type\":\"UnionRenderers\"},{\"attributes\":{},\"id\":\"2397\",\"type\":\"LinearScale\"},{\"attributes\":{},\"id\":\"2399\",\"type\":\"LinearScale\"},{\"attributes\":{},\"id\":\"2409\",\"type\":\"Toolbar\"},{\"attributes\":{\"axis\":{\"id\":\"2405\"},\"coordinates\":null,\"dimension\":1,\"group\":null,\"ticker\":null},\"id\":\"2408\",\"type\":\"Grid\"},{\"attributes\":{},\"id\":\"2402\",\"type\":\"BasicTicker\"},{\"attributes\":{},\"id\":\"2530\",\"type\":\"Selection\"},{\"attributes\":{\"fill_alpha\":{\"value\":0.1},\"fill_color\":{\"field\":\"Ingresos\",\"transform\":{\"id\":\"2390\"}},\"hatch_alpha\":{\"value\":0.1},\"hatch_color\":{\"field\":\"Ingresos\",\"transform\":{\"id\":\"2390\"}},\"line_alpha\":{\"value\":0.1},\"line_color\":{\"field\":\"Ingresos\",\"transform\":{\"id\":\"2390\"}},\"size\":{\"value\":20},\"x\":{\"field\":\"Volumen\"},\"y\":{\"field\":\"Ingresos\"}},\"id\":\"2413\",\"type\":\"Circle\"},{\"attributes\":{\"axis_label\":\"Ingresos totales\",\"coordinates\":null,\"formatter\":{\"id\":\"2523\"},\"group\":null,\"major_label_policy\":{\"id\":\"2524\"},\"ticker\":{\"id\":\"2406\"}},\"id\":\"2405\",\"type\":\"LinearAxis\"},{\"attributes\":{},\"id\":\"2406\",\"type\":\"BasicTicker\"},{\"attributes\":{},\"id\":\"2525\",\"type\":\"NoOverlap\"},{\"attributes\":{\"fill_alpha\":{\"value\":0.6},\"fill_color\":{\"field\":\"Ingresos\",\"transform\":{\"id\":\"2390\"}},\"hatch_alpha\":{\"value\":0.6},\"hatch_color\":{\"field\":\"Ingresos\",\"transform\":{\"id\":\"2390\"}},\"line_alpha\":{\"value\":0.6},\"line_color\":{\"field\":\"Ingresos\",\"transform\":{\"id\":\"2390\"}},\"size\":{\"value\":20},\"x\":{\"field\":\"Volumen\"},\"y\":{\"field\":\"Ingresos\"}},\"id\":\"2412\",\"type\":\"Circle\"},{\"attributes\":{},\"id\":\"2527\",\"type\":\"BasicTickFormatter\"},{\"attributes\":{\"fill_alpha\":{\"value\":0.2},\"fill_color\":{\"field\":\"Ingresos\",\"transform\":{\"id\":\"2390\"}},\"hatch_alpha\":{\"value\":0.2},\"hatch_color\":{\"field\":\"Ingresos\",\"transform\":{\"id\":\"2390\"}},\"line_alpha\":{\"value\":0.2},\"line_color\":{\"field\":\"Ingresos\",\"transform\":{\"id\":\"2390\"}},\"size\":{\"value\":20},\"x\":{\"field\":\"Volumen\"},\"y\":{\"field\":\"Ingresos\"}},\"id\":\"2414\",\"type\":\"Circle\"},{\"attributes\":{},\"id\":\"2528\",\"type\":\"AllLabels\"},{\"attributes\":{\"color_mapper\":{\"id\":\"2390\"},\"coordinates\":null,\"group\":null,\"label_standoff\":12,\"location\":[0,0],\"major_label_policy\":{\"id\":\"2525\"},\"title\":\"Ingresos\"},\"id\":\"2391\",\"type\":\"ColorBar\"},{\"attributes\":{\"high\":22595,\"low\":3172,\"palette\":[\"#440154\",\"#440255\",\"#440357\",\"#450558\",\"#45065A\",\"#45085B\",\"#46095C\",\"#460B5E\",\"#460C5F\",\"#460E61\",\"#470F62\",\"#471163\",\"#471265\",\"#471466\",\"#471567\",\"#471669\",\"#47186A\",\"#48196B\",\"#481A6C\",\"#481C6E\",\"#481D6F\",\"#481E70\",\"#482071\",\"#482172\",\"#482273\",\"#482374\",\"#472575\",\"#472676\",\"#472777\",\"#472878\",\"#472A79\",\"#472B7A\",\"#472C7B\",\"#462D7C\",\"#462F7C\",\"#46307D\",\"#46317E\",\"#45327F\",\"#45347F\",\"#453580\",\"#453681\",\"#443781\",\"#443982\",\"#433A83\",\"#433B83\",\"#433C84\",\"#423D84\",\"#423E85\",\"#424085\",\"#414186\",\"#414286\",\"#404387\",\"#404487\",\"#3F4587\",\"#3F4788\",\"#3E4888\",\"#3E4989\",\"#3D4A89\",\"#3D4B89\",\"#3D4C89\",\"#3C4D8A\",\"#3C4E8A\",\"#3B508A\",\"#3B518A\",\"#3A528B\",\"#3A538B\",\"#39548B\",\"#39558B\",\"#38568B\",\"#38578C\",\"#37588C\",\"#37598C\",\"#365A8C\",\"#365B8C\",\"#355C8C\",\"#355D8C\",\"#345E8D\",\"#345F8D\",\"#33608D\",\"#33618D\",\"#32628D\",\"#32638D\",\"#31648D\",\"#31658D\",\"#31668D\",\"#30678D\",\"#30688D\",\"#2F698D\",\"#2F6A8D\",\"#2E6B8E\",\"#2E6C8E\",\"#2E6D8E\",\"#2D6E8E\",\"#2D6F8E\",\"#2C708E\",\"#2C718E\",\"#2C728E\",\"#2B738E\",\"#2B748E\",\"#2A758E\",\"#2A768E\",\"#2A778E\",\"#29788E\",\"#29798E\",\"#287A8E\",\"#287A8E\",\"#287B8E\",\"#277C8E\",\"#277D8E\",\"#277E8E\",\"#267F8E\",\"#26808E\",\"#26818E\",\"#25828E\",\"#25838D\",\"#24848D\",\"#24858D\",\"#24868D\",\"#23878D\",\"#23888D\",\"#23898D\",\"#22898D\",\"#228A8D\",\"#228B8D\",\"#218C8D\",\"#218D8C\",\"#218E8C\",\"#208F8C\",\"#20908C\",\"#20918C\",\"#1F928C\",\"#1F938B\",\"#1F948B\",\"#1F958B\",\"#1F968B\",\"#1E978A\",\"#1E988A\",\"#1E998A\",\"#1E998A\",\"#1E9A89\",\"#1E9B89\",\"#1E9C89\",\"#1E9D88\",\"#1E9E88\",\"#1E9F88\",\"#1EA087\",\"#1FA187\",\"#1FA286\",\"#1FA386\",\"#20A485\",\"#20A585\",\"#21A685\",\"#21A784\",\"#22A784\",\"#23A883\",\"#23A982\",\"#24AA82\",\"#25AB81\",\"#26AC81\",\"#27AD80\",\"#28AE7F\",\"#29AF7F\",\"#2AB07E\",\"#2BB17D\",\"#2CB17D\",\"#2EB27C\",\"#2FB37B\",\"#30B47A\",\"#32B57A\",\"#33B679\",\"#35B778\",\"#36B877\",\"#38B976\",\"#39B976\",\"#3BBA75\",\"#3DBB74\",\"#3EBC73\",\"#40BD72\",\"#42BE71\",\"#44BE70\",\"#45BF6F\",\"#47C06E\",\"#49C16D\",\"#4BC26C\",\"#4DC26B\",\"#4FC369\",\"#51C468\",\"#53C567\",\"#55C666\",\"#57C665\",\"#59C764\",\"#5BC862\",\"#5EC961\",\"#60C960\",\"#62CA5F\",\"#64CB5D\",\"#67CC5C\",\"#69CC5B\",\"#6BCD59\",\"#6DCE58\",\"#70CE56\",\"#72CF55\",\"#74D054\",\"#77D052\",\"#79D151\",\"#7CD24F\",\"#7ED24E\",\"#81D34C\",\"#83D34B\",\"#86D449\",\"#88D547\",\"#8BD546\",\"#8DD644\",\"#90D643\",\"#92D741\",\"#95D73F\",\"#97D83E\",\"#9AD83C\",\"#9DD93A\",\"#9FD938\",\"#A2DA37\",\"#A5DA35\",\"#A7DB33\",\"#AADB32\",\"#ADDC30\",\"#AFDC2E\",\"#B2DD2C\",\"#B5DD2B\",\"#B7DD29\",\"#BADE27\",\"#BDDE26\",\"#BFDF24\",\"#C2DF22\",\"#C5DF21\",\"#C7E01F\",\"#CAE01E\",\"#CDE01D\",\"#CFE11C\",\"#D2E11B\",\"#D4E11A\",\"#D7E219\",\"#DAE218\",\"#DCE218\",\"#DFE318\",\"#E1E318\",\"#E4E318\",\"#E7E419\",\"#E9E419\",\"#ECE41A\",\"#EEE51B\",\"#F1E51C\",\"#F3E51E\",\"#F6E61F\",\"#F8E621\",\"#FAE622\",\"#FDE724\"]},\"id\":\"2390\",\"type\":\"LinearColorMapper\"},{\"attributes\":{},\"id\":\"2524\",\"type\":\"AllLabels\"},{\"attributes\":{\"data\":{\"Ingresos\":{\"__ndarray__\":\"JxUAAENYAAAcMgAAZAwAAK1WAAA=\",\"dtype\":\"int32\",\"order\":\"little\",\"shape\":[5]},\"Productos\":[\"Naranjas\",\"Fresas\",\"Manzanas\",\"Pl\\u00e1tanos\",\"Mango\"],\"Volumen\":{\"__ndarray__\":\"NAIAAK8CAACXAgAAbAMAAAACAAA=\",\"dtype\":\"int32\",\"order\":\"little\",\"shape\":[5]},\"index\":[0,1,2,3,4]},\"selected\":{\"id\":\"2530\"},\"selection_policy\":{\"id\":\"2529\"}},\"id\":\"2410\",\"type\":\"ColumnDataSource\"},{\"attributes\":{},\"id\":\"2523\",\"type\":\"BasicTickFormatter\"},{\"attributes\":{},\"id\":\"2395\",\"type\":\"DataRange1d\"}],\"root_ids\":[\"2392\"]},\"title\":\"Bokeh Application\",\"version\":\"2.4.2\"}};\n  const render_items = [{\"docid\":\"96094788-ae8b-4120-8593-d47fe8e81226\",\"root_ids\":[\"2392\"],\"roots\":{\"2392\":\"028cdad0-38e0-44ac-ab7f-a901de4f58d4\"}}];\n  root.Bokeh.embed.embed_items_notebook(docs_json, render_items);\n\n  }\n  if (root.Bokeh !== undefined) {\n    embed_document(root);\n  } else {\n    let attempts = 0;\n    const timer = setInterval(function(root) {\n      if (root.Bokeh !== undefined) {\n        clearInterval(timer);\n        embed_document(root);\n      } else {\n        attempts++;\n        if (attempts > 100) {\n          clearInterval(timer);\n          console.log(\"Bokeh: ERROR: Unable to run BokehJS code because BokehJS library is missing\");\n        }\n      }\n    }, 10, root)\n  }\n})(window);",
      "application/vnd.bokehjs_exec.v0+json": ""
     },
     "metadata": {
      "application/vnd.bokehjs_exec.v0+json": {
       "id": "2392"
      }
     },
     "output_type": "display_data"
    }
   ],
   "source": [
    "color_mapper = LinearColorMapper(palette=\"Viridis256\", low=df.Ingresos.min(), high=df.Ingresos.max())\n",
    "color_bar = ColorBar(color_mapper=color_mapper, label_standoff=12, location=(0,0), title='Ingresos')\n",
    "\n",
    "p = figure(x_axis_label='Volumen de ventas', # Otra forma de añadir texto en los ejes\n",
    "           y_axis_label='Ingresos totales', \n",
    "           plot_height=400, \n",
    "           tools='', toolbar_location=None)\n",
    "\n",
    "p.circle(x='Volumen', y='Ingresos', \n",
    "         color=transform('Ingresos', color_mapper), \n",
    "         size=20, alpha=0.6, \n",
    "         source=df)\n",
    "\n",
    "p.add_layout(color_bar, 'right') # Posición del gradiente de color\n",
    "\n",
    "show(p)\n"
   ]
  },
  {
   "cell_type": "markdown",
   "metadata": {},
   "source": [
    "Finalmente, mostraremos cómo añadir elementos dinámmicos a un gráfico, es decir, cuando pasemos el cursor por un elemento del gráfico éste nos muestre información. Esto en Bokeh se consigue a través de **HoverTool**, se trata de una función que integra funcionalidades para mostrar diferentes elementos textuales en los datos, es importante mencionar que para poder utilizar las funciones de HoverTool, también tenemos que pasar nuestros datos a un tipo especial de Bokeh, llamado sources, para ello, utilizaremos **ColumnDataSource**. El funcionamiento por lo tanto es el siguiente.\n",
    "* Tomaremos el set de datos y lo pasaremos a la función <code>**ColumnDataSource**</code>, sources nos devolverá los tipos de columnas que podemos mostrar en nuestro gráfico, por ejemplo, si pasamos a la función un conjunto de datos previamente agrupado con groupby, nos permitirá acceder a estadísticas básicas como mínimo, máximo, media y cuartieles, pudiendo posteriormente, proyectar esta información en el gráfico.\n",
    "* Ahora cuando vayamos a definir el tipo de gráfico, no utilizaremos como tal los nombres de las columnas del dataframe, si no las de sources.\n",
    "* Cuando hayamos definido el tipo de gráfica llamaremos a la función <code>**HoverTool**</code> y, a su atributo **tooltips** en el cuál pasaremos con la siguiente estructura la información a proyectar: 'Nombre que se mostrará': @columna_de_source."
   ]
  },
  {
   "cell_type": "code",
   "execution_count": 18,
   "metadata": {},
   "outputs": [
    {
     "data": {
      "text/plain": [
       "['index', 'Productos', 'Volumen', 'Ingresos']"
      ]
     },
     "execution_count": 18,
     "metadata": {},
     "output_type": "execute_result"
    }
   ],
   "source": [
    "from bokeh.models import ColumnDataSource, HoverTool\n",
    "from bokeh.transform import factor_cmap\n",
    "from bokeh.palettes import Spectral5\n",
    "\n",
    "source = ColumnDataSource(df)\n",
    "source.column_names"
   ]
  },
  {
   "cell_type": "markdown",
   "metadata": {},
   "source": [
    "Mostramos por otro ejemplo en el que hubíeramos realizado un groupby."
   ]
  },
  {
   "cell_type": "code",
   "execution_count": 19,
   "metadata": {},
   "outputs": [
    {
     "data": {
      "text/plain": [
       "['Productos',\n",
       " 'Volumen_count',\n",
       " 'Volumen_mean',\n",
       " 'Volumen_std',\n",
       " 'Volumen_min',\n",
       " 'Volumen_25%',\n",
       " 'Volumen_50%',\n",
       " 'Volumen_75%',\n",
       " 'Volumen_max',\n",
       " 'Ingresos_count',\n",
       " 'Ingresos_mean',\n",
       " 'Ingresos_std',\n",
       " 'Ingresos_min',\n",
       " 'Ingresos_25%',\n",
       " 'Ingresos_50%',\n",
       " 'Ingresos_75%',\n",
       " 'Ingresos_max']"
      ]
     },
     "execution_count": 19,
     "metadata": {},
     "output_type": "execute_result"
    }
   ],
   "source": [
    "groups = df.groupby(by=['Productos'])\n",
    "source_dos = ColumnDataSource(groups)\n",
    "source_dos.column_names"
   ]
  },
  {
   "cell_type": "code",
   "execution_count": 20,
   "metadata": {},
   "outputs": [
    {
     "data": {
      "text/html": [
       "\n",
       "\n",
       "\n",
       "\n",
       "\n",
       "\n",
       "  <div class=\"bk-root\" id=\"b6e65ad0-d3b6-4606-809b-e1dcb6e24c34\" data-root-id=\"2588\"></div>\n"
      ]
     },
     "metadata": {},
     "output_type": "display_data"
    },
    {
     "data": {
      "application/javascript": "(function(root) {\n  function embed_document(root) {\n    \n  const docs_json = {\"5e8fb516-cc03-487f-a8d5-b928516a9be5\":{\"defs\":[],\"roots\":{\"references\":[{\"attributes\":{\"below\":[{\"id\":\"2599\"}],\"center\":[{\"id\":\"2601\"},{\"id\":\"2605\"}],\"height\":350,\"left\":[{\"id\":\"2602\"}],\"renderers\":[{\"id\":\"2625\"}],\"title\":{\"id\":\"2589\"},\"toolbar\":{\"id\":\"2613\"},\"x_range\":{\"id\":\"2591\"},\"x_scale\":{\"id\":\"2595\"},\"y_range\":{\"id\":\"2593\"},\"y_scale\":{\"id\":\"2597\"}},\"id\":\"2588\",\"subtype\":\"Figure\",\"type\":\"Plot\"},{\"attributes\":{\"source\":{\"id\":\"2586\"}},\"id\":\"2626\",\"type\":\"CDSView\"},{\"attributes\":{\"fill_alpha\":{\"value\":0.2},\"fill_color\":{\"field\":\"Productos\",\"transform\":{\"id\":\"2620\"}},\"hatch_alpha\":{\"value\":0.2},\"hatch_color\":{\"field\":\"Productos\",\"transform\":{\"id\":\"2620\"}},\"line_alpha\":{\"value\":0.2},\"line_color\":{\"field\":\"Productos\",\"transform\":{\"id\":\"2620\"}},\"top\":{\"field\":\"Volumen\"},\"width\":{\"value\":0.5},\"x\":{\"field\":\"Productos\"}},\"id\":\"2624\",\"type\":\"VBar\"},{\"attributes\":{},\"id\":\"2606\",\"type\":\"PanTool\"},{\"attributes\":{},\"id\":\"2749\",\"type\":\"AllLabels\"},{\"attributes\":{},\"id\":\"2593\",\"type\":\"DataRange1d\"},{\"attributes\":{},\"id\":\"2751\",\"type\":\"Selection\"},{\"attributes\":{\"tools\":[{\"id\":\"2606\"},{\"id\":\"2607\"},{\"id\":\"2608\"},{\"id\":\"2609\"},{\"id\":\"2610\"},{\"id\":\"2611\"},{\"id\":\"2627\"}]},\"id\":\"2613\",\"type\":\"Toolbar\"},{\"attributes\":{},\"id\":\"2750\",\"type\":\"UnionRenderers\"},{\"attributes\":{\"factors\":[\"Naranjas\",\"Fresas\",\"Manzanas\",\"Pl\\u00e1tanos\",\"Mango\"]},\"id\":\"2591\",\"type\":\"FactorRange\"},{\"attributes\":{},\"id\":\"2607\",\"type\":\"WheelZoomTool\"},{\"attributes\":{\"bottom_units\":\"screen\",\"coordinates\":null,\"fill_alpha\":0.5,\"fill_color\":\"lightgrey\",\"group\":null,\"left_units\":\"screen\",\"level\":\"overlay\",\"line_alpha\":1.0,\"line_color\":\"black\",\"line_dash\":[4,4],\"line_width\":2,\"right_units\":\"screen\",\"syncable\":false,\"top_units\":\"screen\"},\"id\":\"2612\",\"type\":\"BoxAnnotation\"},{\"attributes\":{\"coordinates\":null,\"group\":null,\"text\":\"Volumen de ventas\"},\"id\":\"2589\",\"type\":\"Title\"},{\"attributes\":{\"axis\":{\"id\":\"2599\"},\"coordinates\":null,\"group\":null,\"ticker\":null},\"id\":\"2601\",\"type\":\"Grid\"},{\"attributes\":{},\"id\":\"2600\",\"type\":\"CategoricalTicker\"},{\"attributes\":{},\"id\":\"2595\",\"type\":\"CategoricalScale\"},{\"attributes\":{},\"id\":\"2597\",\"type\":\"LinearScale\"},{\"attributes\":{},\"id\":\"2610\",\"type\":\"ResetTool\"},{\"attributes\":{},\"id\":\"2748\",\"type\":\"CategoricalTickFormatter\"},{\"attributes\":{\"coordinates\":null,\"formatter\":{\"id\":\"2748\"},\"group\":null,\"major_label_policy\":{\"id\":\"2749\"},\"ticker\":{\"id\":\"2600\"}},\"id\":\"2599\",\"type\":\"CategoricalAxis\"},{\"attributes\":{\"data\":{\"Ingresos\":{\"__ndarray__\":\"JxUAAENYAAAcMgAAZAwAAK1WAAA=\",\"dtype\":\"int32\",\"order\":\"little\",\"shape\":[5]},\"Productos\":[\"Naranjas\",\"Fresas\",\"Manzanas\",\"Pl\\u00e1tanos\",\"Mango\"],\"Volumen\":{\"__ndarray__\":\"NAIAAK8CAACXAgAAbAMAAAACAAA=\",\"dtype\":\"int32\",\"order\":\"little\",\"shape\":[5]},\"index\":[0,1,2,3,4]},\"selected\":{\"id\":\"2751\"},\"selection_policy\":{\"id\":\"2750\"}},\"id\":\"2586\",\"type\":\"ColumnDataSource\"},{\"attributes\":{\"fill_alpha\":{\"value\":0.1},\"fill_color\":{\"field\":\"Productos\",\"transform\":{\"id\":\"2620\"}},\"hatch_alpha\":{\"value\":0.1},\"hatch_color\":{\"field\":\"Productos\",\"transform\":{\"id\":\"2620\"}},\"line_alpha\":{\"value\":0.1},\"line_color\":{\"field\":\"Productos\",\"transform\":{\"id\":\"2620\"}},\"top\":{\"field\":\"Volumen\"},\"width\":{\"value\":0.5},\"x\":{\"field\":\"Productos\"}},\"id\":\"2623\",\"type\":\"VBar\"},{\"attributes\":{\"factors\":[\"Naranjas\",\"Fresas\",\"Manzanas\",\"Pl\\u00e1tanos\",\"Mango\"],\"palette\":[\"#2b83ba\",\"#abdda4\",\"#ffffbf\",\"#fdae61\",\"#d7191c\"]},\"id\":\"2620\",\"type\":\"CategoricalColorMapper\"},{\"attributes\":{\"coordinates\":null,\"data_source\":{\"id\":\"2586\"},\"glyph\":{\"id\":\"2622\"},\"group\":null,\"hover_glyph\":null,\"muted_glyph\":{\"id\":\"2624\"},\"nonselection_glyph\":{\"id\":\"2623\"},\"view\":{\"id\":\"2626\"}},\"id\":\"2625\",\"type\":\"GlyphRenderer\"},{\"attributes\":{\"overlay\":{\"id\":\"2612\"}},\"id\":\"2608\",\"type\":\"BoxZoomTool\"},{\"attributes\":{\"axis\":{\"id\":\"2602\"},\"coordinates\":null,\"dimension\":1,\"group\":null,\"ticker\":null},\"id\":\"2605\",\"type\":\"Grid\"},{\"attributes\":{},\"id\":\"2745\",\"type\":\"BasicTickFormatter\"},{\"attributes\":{},\"id\":\"2609\",\"type\":\"SaveTool\"},{\"attributes\":{},\"id\":\"2746\",\"type\":\"AllLabels\"},{\"attributes\":{},\"id\":\"2603\",\"type\":\"BasicTicker\"},{\"attributes\":{},\"id\":\"2611\",\"type\":\"HelpTool\"},{\"attributes\":{\"callback\":null,\"tooltips\":[[\"Volumen de ventas\",\"@Volumen\"],[\"Ingresos totales\",\"@Ingresos\"]]},\"id\":\"2627\",\"type\":\"HoverTool\"},{\"attributes\":{\"coordinates\":null,\"formatter\":{\"id\":\"2745\"},\"group\":null,\"major_label_policy\":{\"id\":\"2746\"},\"ticker\":{\"id\":\"2603\"}},\"id\":\"2602\",\"type\":\"LinearAxis\"},{\"attributes\":{\"fill_color\":{\"field\":\"Productos\",\"transform\":{\"id\":\"2620\"}},\"hatch_color\":{\"field\":\"Productos\",\"transform\":{\"id\":\"2620\"}},\"line_color\":{\"field\":\"Productos\",\"transform\":{\"id\":\"2620\"}},\"top\":{\"field\":\"Volumen\"},\"width\":{\"value\":0.5},\"x\":{\"field\":\"Productos\"}},\"id\":\"2622\",\"type\":\"VBar\"}],\"root_ids\":[\"2588\"]},\"title\":\"Bokeh Application\",\"version\":\"2.4.2\"}};\n  const render_items = [{\"docid\":\"5e8fb516-cc03-487f-a8d5-b928516a9be5\",\"root_ids\":[\"2588\"],\"roots\":{\"2588\":\"b6e65ad0-d3b6-4606-809b-e1dcb6e24c34\"}}];\n  root.Bokeh.embed.embed_items_notebook(docs_json, render_items);\n\n  }\n  if (root.Bokeh !== undefined) {\n    embed_document(root);\n  } else {\n    let attempts = 0;\n    const timer = setInterval(function(root) {\n      if (root.Bokeh !== undefined) {\n        clearInterval(timer);\n        embed_document(root);\n      } else {\n        attempts++;\n        if (attempts > 100) {\n          clearInterval(timer);\n          console.log(\"Bokeh: ERROR: Unable to run BokehJS code because BokehJS library is missing\");\n        }\n      }\n    }, 10, root)\n  }\n})(window);",
      "application/vnd.bokehjs_exec.v0+json": ""
     },
     "metadata": {
      "application/vnd.bokehjs_exec.v0+json": {
       "id": "2588"
      }
     },
     "output_type": "display_data"
    }
   ],
   "source": [
    "products = source.data['Productos'].tolist()\n",
    "\n",
    "p = figure(x_range = products,\n",
    "           plot_height=350, \n",
    "           title=\"Volumen de ventas\")\n",
    "\n",
    "color_map = factor_cmap(field_name='Productos',\n",
    "                    palette=Spectral5, factors=products)\n",
    "\n",
    "p.vbar(x='Productos', top='Volumen', source = source,\n",
    "       width = 0.5, color=color_map)\n",
    "\n",
    "# Podemos generar colores en hexadecimal con https://htmlcolorcodes.com/\n",
    "\n",
    "hover = HoverTool()\n",
    "hover.tooltips=[\n",
    "    ('Volumen de ventas', '@Volumen'),\n",
    "    ('Ingresos totales', '@Ingresos')\n",
    "]\n",
    "\n",
    "p.add_tools(hover)\n",
    "\n",
    "# Podemos generar colores en hexadecimal con https://htmlcolorcodes.com/\n",
    "\n",
    "show(p)"
   ]
  }
 ],
 "metadata": {
  "kernelspec": {
   "display_name": "Python 3.7.12 ('env_ciencia_de_datos')",
   "language": "python",
   "name": "python3"
  },
  "language_info": {
   "codemirror_mode": {
    "name": "ipython",
    "version": 3
   },
   "file_extension": ".py",
   "mimetype": "text/x-python",
   "name": "python",
   "nbconvert_exporter": "python",
   "pygments_lexer": "ipython3",
   "version": "3.7.12"
  },
  "vscode": {
   "interpreter": {
    "hash": "4ca24653328a13a7b0a38d2f10f1efd1d9c49da6bf221cce4e65da976a54b279"
   }
  }
 },
 "nbformat": 4,
 "nbformat_minor": 2
}
