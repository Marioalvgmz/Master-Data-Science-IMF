{
 "cells": [
  {
   "cell_type": "markdown",
   "metadata": {},
   "source": [
    "# BOKEH\n",
    "\n",
    "En Python, una de las librerías más potentes para comunicar e interactuar con los resultados, **Bokeh** destaca por las siguientes características:\n",
    "* Hace simple la creación de gráficos dinámicos.\n",
    "* Permite crear widgets en los que mostrar la evolución de un gráfico con diferentes valores.\n",
    "* Sus gráficos y cuadros de mando pueden ser publicados en páginas web o notebooks.\n",
    "* Optimizada para trabajar con las librerías más importantes de Python: Pandas, Numpy, Scipy, OpenCV, Scikit-Learn...\n",
    "\n",
    "Lo primero que realizaremos será importar la librería bokeh con la funcionalidad de mostrar los resultados de las gráficas dentro de notebook."
   ]
  },
  {
   "cell_type": "code",
   "execution_count": 1,
   "metadata": {},
   "outputs": [],
   "source": [
    "from bokeh.io import output_notebook, show"
   ]
  },
  {
   "cell_type": "markdown",
   "metadata": {},
   "source": [
    "Ahora, es importante cerciorarnos de que bokeh puede trabajar correctamente, para ello cargaremos la función <code>**output_notebook**</code>"
   ]
  },
  {
   "cell_type": "code",
   "execution_count": 2,
   "metadata": {},
   "outputs": [
    {
     "data": {
      "text/html": [
       "\n",
       "    <div class=\"bk-root\">\n",
       "        <a href=\"https://bokeh.org\" target=\"_blank\" class=\"bk-logo bk-logo-small bk-logo-notebook\"></a>\n",
       "        <span id=\"1001\">Loading BokehJS ...</span>\n",
       "    </div>"
      ]
     },
     "metadata": {},
     "output_type": "display_data"
    },
    {
     "data": {
      "application/javascript": "\n(function(root) {\n  function now() {\n    return new Date();\n  }\n\n  const force = true;\n\n  if (typeof root._bokeh_onload_callbacks === \"undefined\" || force === true) {\n    root._bokeh_onload_callbacks = [];\n    root._bokeh_is_loading = undefined;\n  }\n\n  const JS_MIME_TYPE = 'application/javascript';\n  const HTML_MIME_TYPE = 'text/html';\n  const EXEC_MIME_TYPE = 'application/vnd.bokehjs_exec.v0+json';\n  const CLASS_NAME = 'output_bokeh rendered_html';\n\n  /**\n   * Render data to the DOM node\n   */\n  function render(props, node) {\n    const script = document.createElement(\"script\");\n    node.appendChild(script);\n  }\n\n  /**\n   * Handle when an output is cleared or removed\n   */\n  function handleClearOutput(event, handle) {\n    const cell = handle.cell;\n\n    const id = cell.output_area._bokeh_element_id;\n    const server_id = cell.output_area._bokeh_server_id;\n    // Clean up Bokeh references\n    if (id != null && id in Bokeh.index) {\n      Bokeh.index[id].model.document.clear();\n      delete Bokeh.index[id];\n    }\n\n    if (server_id !== undefined) {\n      // Clean up Bokeh references\n      const cmd_clean = \"from bokeh.io.state import curstate; print(curstate().uuid_to_server['\" + server_id + \"'].get_sessions()[0].document.roots[0]._id)\";\n      cell.notebook.kernel.execute(cmd_clean, {\n        iopub: {\n          output: function(msg) {\n            const id = msg.content.text.trim();\n            if (id in Bokeh.index) {\n              Bokeh.index[id].model.document.clear();\n              delete Bokeh.index[id];\n            }\n          }\n        }\n      });\n      // Destroy server and session\n      const cmd_destroy = \"import bokeh.io.notebook as ion; ion.destroy_server('\" + server_id + \"')\";\n      cell.notebook.kernel.execute(cmd_destroy);\n    }\n  }\n\n  /**\n   * Handle when a new output is added\n   */\n  function handleAddOutput(event, handle) {\n    const output_area = handle.output_area;\n    const output = handle.output;\n\n    // limit handleAddOutput to display_data with EXEC_MIME_TYPE content only\n    if ((output.output_type != \"display_data\") || (!Object.prototype.hasOwnProperty.call(output.data, EXEC_MIME_TYPE))) {\n      return\n    }\n\n    const toinsert = output_area.element.find(\".\" + CLASS_NAME.split(' ')[0]);\n\n    if (output.metadata[EXEC_MIME_TYPE][\"id\"] !== undefined) {\n      toinsert[toinsert.length - 1].firstChild.textContent = output.data[JS_MIME_TYPE];\n      // store reference to embed id on output_area\n      output_area._bokeh_element_id = output.metadata[EXEC_MIME_TYPE][\"id\"];\n    }\n    if (output.metadata[EXEC_MIME_TYPE][\"server_id\"] !== undefined) {\n      const bk_div = document.createElement(\"div\");\n      bk_div.innerHTML = output.data[HTML_MIME_TYPE];\n      const script_attrs = bk_div.children[0].attributes;\n      for (let i = 0; i < script_attrs.length; i++) {\n        toinsert[toinsert.length - 1].firstChild.setAttribute(script_attrs[i].name, script_attrs[i].value);\n        toinsert[toinsert.length - 1].firstChild.textContent = bk_div.children[0].textContent\n      }\n      // store reference to server id on output_area\n      output_area._bokeh_server_id = output.metadata[EXEC_MIME_TYPE][\"server_id\"];\n    }\n  }\n\n  function register_renderer(events, OutputArea) {\n\n    function append_mime(data, metadata, element) {\n      // create a DOM node to render to\n      const toinsert = this.create_output_subarea(\n        metadata,\n        CLASS_NAME,\n        EXEC_MIME_TYPE\n      );\n      this.keyboard_manager.register_events(toinsert);\n      // Render to node\n      const props = {data: data, metadata: metadata[EXEC_MIME_TYPE]};\n      render(props, toinsert[toinsert.length - 1]);\n      element.append(toinsert);\n      return toinsert\n    }\n\n    /* Handle when an output is cleared or removed */\n    events.on('clear_output.CodeCell', handleClearOutput);\n    events.on('delete.Cell', handleClearOutput);\n\n    /* Handle when a new output is added */\n    events.on('output_added.OutputArea', handleAddOutput);\n\n    /**\n     * Register the mime type and append_mime function with output_area\n     */\n    OutputArea.prototype.register_mime_type(EXEC_MIME_TYPE, append_mime, {\n      /* Is output safe? */\n      safe: true,\n      /* Index of renderer in `output_area.display_order` */\n      index: 0\n    });\n  }\n\n  // register the mime type if in Jupyter Notebook environment and previously unregistered\n  if (root.Jupyter !== undefined) {\n    const events = require('base/js/events');\n    const OutputArea = require('notebook/js/outputarea').OutputArea;\n\n    if (OutputArea.prototype.mime_types().indexOf(EXEC_MIME_TYPE) == -1) {\n      register_renderer(events, OutputArea);\n    }\n  }\n\n  \n  if (typeof (root._bokeh_timeout) === \"undefined\" || force === true) {\n    root._bokeh_timeout = Date.now() + 5000;\n    root._bokeh_failed_load = false;\n  }\n\n  const NB_LOAD_WARNING = {'data': {'text/html':\n     \"<div style='background-color: #fdd'>\\n\"+\n     \"<p>\\n\"+\n     \"BokehJS does not appear to have successfully loaded. If loading BokehJS from CDN, this \\n\"+\n     \"may be due to a slow or bad network connection. Possible fixes:\\n\"+\n     \"</p>\\n\"+\n     \"<ul>\\n\"+\n     \"<li>re-rerun `output_notebook()` to attempt to load from CDN again, or</li>\\n\"+\n     \"<li>use INLINE resources instead, as so:</li>\\n\"+\n     \"</ul>\\n\"+\n     \"<code>\\n\"+\n     \"from bokeh.resources import INLINE\\n\"+\n     \"output_notebook(resources=INLINE)\\n\"+\n     \"</code>\\n\"+\n     \"</div>\"}};\n\n  function display_loaded() {\n    const el = document.getElementById(\"1001\");\n    if (el != null) {\n      el.textContent = \"BokehJS is loading...\";\n    }\n    if (root.Bokeh !== undefined) {\n      if (el != null) {\n        el.textContent = \"BokehJS \" + root.Bokeh.version + \" successfully loaded.\";\n      }\n    } else if (Date.now() < root._bokeh_timeout) {\n      setTimeout(display_loaded, 100)\n    }\n  }\n\n\n  function run_callbacks() {\n    try {\n      root._bokeh_onload_callbacks.forEach(function(callback) {\n        if (callback != null)\n          callback();\n      });\n    } finally {\n      delete root._bokeh_onload_callbacks\n    }\n    console.debug(\"Bokeh: all callbacks have finished\");\n  }\n\n  function load_libs(css_urls, js_urls, callback) {\n    if (css_urls == null) css_urls = [];\n    if (js_urls == null) js_urls = [];\n\n    root._bokeh_onload_callbacks.push(callback);\n    if (root._bokeh_is_loading > 0) {\n      console.debug(\"Bokeh: BokehJS is being loaded, scheduling callback at\", now());\n      return null;\n    }\n    if (js_urls == null || js_urls.length === 0) {\n      run_callbacks();\n      return null;\n    }\n    console.debug(\"Bokeh: BokehJS not loaded, scheduling load and callback at\", now());\n    root._bokeh_is_loading = css_urls.length + js_urls.length;\n\n    function on_load() {\n      root._bokeh_is_loading--;\n      if (root._bokeh_is_loading === 0) {\n        console.debug(\"Bokeh: all BokehJS libraries/stylesheets loaded\");\n        run_callbacks()\n      }\n    }\n\n    function on_error(url) {\n      console.error(\"failed to load \" + url);\n    }\n\n    for (let i = 0; i < css_urls.length; i++) {\n      const url = css_urls[i];\n      const element = document.createElement(\"link\");\n      element.onload = on_load;\n      element.onerror = on_error.bind(null, url);\n      element.rel = \"stylesheet\";\n      element.type = \"text/css\";\n      element.href = url;\n      console.debug(\"Bokeh: injecting link tag for BokehJS stylesheet: \", url);\n      document.body.appendChild(element);\n    }\n\n    for (let i = 0; i < js_urls.length; i++) {\n      const url = js_urls[i];\n      const element = document.createElement('script');\n      element.onload = on_load;\n      element.onerror = on_error.bind(null, url);\n      element.async = false;\n      element.src = url;\n      console.debug(\"Bokeh: injecting script tag for BokehJS library: \", url);\n      document.head.appendChild(element);\n    }\n  };\n\n  function inject_raw_css(css) {\n    const element = document.createElement(\"style\");\n    element.appendChild(document.createTextNode(css));\n    document.body.appendChild(element);\n  }\n\n  \n  const js_urls = [\"https://cdn.bokeh.org/bokeh/release/bokeh-2.4.1.min.js\", \"https://cdn.bokeh.org/bokeh/release/bokeh-gl-2.4.1.min.js\", \"https://cdn.bokeh.org/bokeh/release/bokeh-widgets-2.4.1.min.js\", \"https://cdn.bokeh.org/bokeh/release/bokeh-tables-2.4.1.min.js\", \"https://cdn.bokeh.org/bokeh/release/bokeh-mathjax-2.4.1.min.js\"];\n  const css_urls = [];\n  \n\n  const inline_js = [\n    function(Bokeh) {\n      Bokeh.set_log_level(\"info\");\n    },\n    function(Bokeh) {\n    \n    \n    }\n  ];\n\n  function run_inline_js() {\n    \n    if (root.Bokeh !== undefined || force === true) {\n      \n    for (let i = 0; i < inline_js.length; i++) {\n      inline_js[i].call(root, root.Bokeh);\n    }\n    if (force === true) {\n        display_loaded();\n      }} else if (Date.now() < root._bokeh_timeout) {\n      setTimeout(run_inline_js, 100);\n    } else if (!root._bokeh_failed_load) {\n      console.log(\"Bokeh: BokehJS failed to load within specified timeout.\");\n      root._bokeh_failed_load = true;\n    } else if (force !== true) {\n      const cell = $(document.getElementById(\"1001\")).parents('.cell').data().cell;\n      cell.output_area.append_execute_result(NB_LOAD_WARNING)\n    }\n\n  }\n\n  if (root._bokeh_is_loading === 0) {\n    console.debug(\"Bokeh: BokehJS loaded, going straight to plotting\");\n    run_inline_js();\n  } else {\n    load_libs(css_urls, js_urls, function() {\n      console.debug(\"Bokeh: BokehJS plotting callback run at\", now());\n      run_inline_js();\n    });\n  }\n}(window));",
      "application/vnd.bokehjs_load.v0+json": ""
     },
     "metadata": {},
     "output_type": "display_data"
    }
   ],
   "source": [
    "output_notebook()"
   ]
  },
  {
   "cell_type": "markdown",
   "metadata": {},
   "source": [
    "Vemos que no arroja ningún mensaje de error, comenzaremos la creación de nuestro primer gráfico dinámico.\n",
    "\n",
    "El primero elemento que tendremos que configurar es el espacio que ocupará nuestro gráfico, en otras palabras, estaremos inicializando el espacio gráfico. Para ello, utilizamos la función <code>__figure__</code> con los siguientes parámetros **plot_width**, **plot_height**"
   ]
  },
  {
   "cell_type": "code",
   "execution_count": 3,
   "metadata": {},
   "outputs": [],
   "source": [
    "from bokeh.plotting import figure"
   ]
  },
  {
   "cell_type": "code",
   "execution_count": 4,
   "metadata": {},
   "outputs": [],
   "source": [
    "p = figure(plot_width=400, plot_height=400)"
   ]
  },
  {
   "cell_type": "markdown",
   "metadata": {},
   "source": [
    "Lo siguiente, será añadir el tipo de gráfico en sí. En Bokeh soporta una gran cantidad de gráficos, comenzaremos por un gráfico lineal, pero se recomienda visualizar todos los tipos de gráficos principles que podemos realizar desde la función figure https://docs.bokeh.org/en/latest/docs/reference/plotting.html#bokeh-plotting\n",
    "\n",
    "Así mismo, si queremos ver algunas demos de ejemplo sobre Dashboards que pueden realizarse en Bokeh, están disponibles en el siguiente link: https://docs.bokeh.org/en/latest/docs/gallery.html#gallery\n",
    "\n",
    "Un gráfico de líneas lo realizaremos a través de la función <code>**line**</code>"
   ]
  },
  {
   "cell_type": "code",
   "execution_count": 5,
   "metadata": {},
   "outputs": [
    {
     "data": {
      "text/html": [
       "<div style=\"display: table;\"><div style=\"display: table-row;\"><div style=\"display: table-cell;\"><b title=\"bokeh.models.renderers.GlyphRenderer\">GlyphRenderer</b>(</div><div style=\"display: table-cell;\">id&nbsp;=&nbsp;'1038', <span id=\"1041\" style=\"cursor: pointer;\">&hellip;)</span></div></div><div class=\"1040\" style=\"display: none;\"><div style=\"display: table-cell;\"></div><div style=\"display: table-cell;\">coordinates&nbsp;=&nbsp;None,</div></div><div class=\"1040\" style=\"display: none;\"><div style=\"display: table-cell;\"></div><div style=\"display: table-cell;\">data_source&nbsp;=&nbsp;ColumnDataSource(id='1034', ...),</div></div><div class=\"1040\" style=\"display: none;\"><div style=\"display: table-cell;\"></div><div style=\"display: table-cell;\">glyph&nbsp;=&nbsp;Line(id='1035', ...),</div></div><div class=\"1040\" style=\"display: none;\"><div style=\"display: table-cell;\"></div><div style=\"display: table-cell;\">group&nbsp;=&nbsp;None,</div></div><div class=\"1040\" style=\"display: none;\"><div style=\"display: table-cell;\"></div><div style=\"display: table-cell;\">hover_glyph&nbsp;=&nbsp;None,</div></div><div class=\"1040\" style=\"display: none;\"><div style=\"display: table-cell;\"></div><div style=\"display: table-cell;\">js_event_callbacks&nbsp;=&nbsp;{},</div></div><div class=\"1040\" style=\"display: none;\"><div style=\"display: table-cell;\"></div><div style=\"display: table-cell;\">js_property_callbacks&nbsp;=&nbsp;{},</div></div><div class=\"1040\" style=\"display: none;\"><div style=\"display: table-cell;\"></div><div style=\"display: table-cell;\">level&nbsp;=&nbsp;'glyph',</div></div><div class=\"1040\" style=\"display: none;\"><div style=\"display: table-cell;\"></div><div style=\"display: table-cell;\">muted&nbsp;=&nbsp;False,</div></div><div class=\"1040\" style=\"display: none;\"><div style=\"display: table-cell;\"></div><div style=\"display: table-cell;\">muted_glyph&nbsp;=&nbsp;Line(id='1037', ...),</div></div><div class=\"1040\" style=\"display: none;\"><div style=\"display: table-cell;\"></div><div style=\"display: table-cell;\">name&nbsp;=&nbsp;None,</div></div><div class=\"1040\" style=\"display: none;\"><div style=\"display: table-cell;\"></div><div style=\"display: table-cell;\">nonselection_glyph&nbsp;=&nbsp;Line(id='1036', ...),</div></div><div class=\"1040\" style=\"display: none;\"><div style=\"display: table-cell;\"></div><div style=\"display: table-cell;\">selection_glyph&nbsp;=&nbsp;'auto',</div></div><div class=\"1040\" style=\"display: none;\"><div style=\"display: table-cell;\"></div><div style=\"display: table-cell;\">subscribed_events&nbsp;=&nbsp;[],</div></div><div class=\"1040\" style=\"display: none;\"><div style=\"display: table-cell;\"></div><div style=\"display: table-cell;\">syncable&nbsp;=&nbsp;True,</div></div><div class=\"1040\" style=\"display: none;\"><div style=\"display: table-cell;\"></div><div style=\"display: table-cell;\">tags&nbsp;=&nbsp;[],</div></div><div class=\"1040\" style=\"display: none;\"><div style=\"display: table-cell;\"></div><div style=\"display: table-cell;\">view&nbsp;=&nbsp;CDSView(id='1039', ...),</div></div><div class=\"1040\" style=\"display: none;\"><div style=\"display: table-cell;\"></div><div style=\"display: table-cell;\">visible&nbsp;=&nbsp;True,</div></div><div class=\"1040\" style=\"display: none;\"><div style=\"display: table-cell;\"></div><div style=\"display: table-cell;\">x_range_name&nbsp;=&nbsp;'default',</div></div><div class=\"1040\" style=\"display: none;\"><div style=\"display: table-cell;\"></div><div style=\"display: table-cell;\">y_range_name&nbsp;=&nbsp;'default')</div></div></div>\n",
       "<script>\n",
       "(function() {\n",
       "  let expanded = false;\n",
       "  const ellipsis = document.getElementById(\"1041\");\n",
       "  ellipsis.addEventListener(\"click\", function() {\n",
       "    const rows = document.getElementsByClassName(\"1040\");\n",
       "    for (let i = 0; i < rows.length; i++) {\n",
       "      const el = rows[i];\n",
       "      el.style.display = expanded ? \"none\" : \"table-row\";\n",
       "    }\n",
       "    ellipsis.innerHTML = expanded ? \"&hellip;)\" : \"&lsaquo;&lsaquo;&lsaquo;\";\n",
       "    expanded = !expanded;\n",
       "  });\n",
       "})();\n",
       "</script>\n"
      ],
      "text/plain": [
       "GlyphRenderer(id='1038', ...)"
      ]
     },
     "execution_count": 5,
     "metadata": {},
     "output_type": "execute_result"
    }
   ],
   "source": [
    "p.line([1, 2, 3, 4, 5, 6, 7, 8] ,[20, 3, 12, 28, 15, 6, 19, 11])"
   ]
  },
  {
   "cell_type": "markdown",
   "metadata": {},
   "source": [
    "Finalmente, para mostrar el gráfico hacemos uso de la función importada de bokeh.io <code>**show**</code>"
   ]
  },
  {
   "cell_type": "code",
   "execution_count": 6,
   "metadata": {},
   "outputs": [
    {
     "data": {
      "text/html": [
       "\n",
       "\n",
       "\n",
       "\n",
       "\n",
       "\n",
       "  <div class=\"bk-root\" id=\"f6509856-1f39-416f-932f-7cef7ffaa6ac\" data-root-id=\"1003\"></div>\n"
      ]
     },
     "metadata": {},
     "output_type": "display_data"
    },
    {
     "data": {
      "application/javascript": "(function(root) {\n  function embed_document(root) {\n    \n  const docs_json = {\"6bb90a76-6055-4bf6-a1c1-fdeceae14a80\":{\"defs\":[],\"roots\":{\"references\":[{\"attributes\":{\"below\":[{\"id\":\"1012\"}],\"center\":[{\"id\":\"1015\"},{\"id\":\"1019\"}],\"height\":400,\"left\":[{\"id\":\"1016\"}],\"renderers\":[{\"id\":\"1038\"}],\"title\":{\"id\":\"1042\"},\"toolbar\":{\"id\":\"1027\"},\"width\":400,\"x_range\":{\"id\":\"1004\"},\"x_scale\":{\"id\":\"1008\"},\"y_range\":{\"id\":\"1006\"},\"y_scale\":{\"id\":\"1010\"}},\"id\":\"1003\",\"subtype\":\"Figure\",\"type\":\"Plot\"},{\"attributes\":{\"bottom_units\":\"screen\",\"coordinates\":null,\"fill_alpha\":0.5,\"fill_color\":\"lightgrey\",\"group\":null,\"left_units\":\"screen\",\"level\":\"overlay\",\"line_alpha\":1.0,\"line_color\":\"black\",\"line_dash\":[4,4],\"line_width\":2,\"right_units\":\"screen\",\"syncable\":false,\"top_units\":\"screen\"},\"id\":\"1026\",\"type\":\"BoxAnnotation\"},{\"attributes\":{\"source\":{\"id\":\"1034\"}},\"id\":\"1039\",\"type\":\"CDSView\"},{\"attributes\":{\"line_alpha\":0.2,\"line_color\":\"#1f77b4\",\"x\":{\"field\":\"x\"},\"y\":{\"field\":\"y\"}},\"id\":\"1037\",\"type\":\"Line\"},{\"attributes\":{\"coordinates\":null,\"formatter\":{\"id\":\"1045\"},\"group\":null,\"major_label_policy\":{\"id\":\"1046\"},\"ticker\":{\"id\":\"1017\"}},\"id\":\"1016\",\"type\":\"LinearAxis\"},{\"attributes\":{\"line_color\":\"#1f77b4\",\"x\":{\"field\":\"x\"},\"y\":{\"field\":\"y\"}},\"id\":\"1035\",\"type\":\"Line\"},{\"attributes\":{},\"id\":\"1008\",\"type\":\"LinearScale\"},{\"attributes\":{},\"id\":\"1050\",\"type\":\"UnionRenderers\"},{\"attributes\":{},\"id\":\"1051\",\"type\":\"Selection\"},{\"attributes\":{},\"id\":\"1006\",\"type\":\"DataRange1d\"},{\"attributes\":{},\"id\":\"1004\",\"type\":\"DataRange1d\"},{\"attributes\":{\"coordinates\":null,\"formatter\":{\"id\":\"1048\"},\"group\":null,\"major_label_policy\":{\"id\":\"1049\"},\"ticker\":{\"id\":\"1013\"}},\"id\":\"1012\",\"type\":\"LinearAxis\"},{\"attributes\":{\"tools\":[{\"id\":\"1020\"},{\"id\":\"1021\"},{\"id\":\"1022\"},{\"id\":\"1023\"},{\"id\":\"1024\"},{\"id\":\"1025\"}]},\"id\":\"1027\",\"type\":\"Toolbar\"},{\"attributes\":{},\"id\":\"1025\",\"type\":\"HelpTool\"},{\"attributes\":{},\"id\":\"1010\",\"type\":\"LinearScale\"},{\"attributes\":{},\"id\":\"1013\",\"type\":\"BasicTicker\"},{\"attributes\":{\"axis\":{\"id\":\"1012\"},\"coordinates\":null,\"group\":null,\"ticker\":null},\"id\":\"1015\",\"type\":\"Grid\"},{\"attributes\":{\"data\":{\"x\":[1,2,3,4,5,6,7,8],\"y\":[20,3,12,28,15,6,19,11]},\"selected\":{\"id\":\"1051\"},\"selection_policy\":{\"id\":\"1050\"}},\"id\":\"1034\",\"type\":\"ColumnDataSource\"},{\"attributes\":{\"axis\":{\"id\":\"1016\"},\"coordinates\":null,\"dimension\":1,\"group\":null,\"ticker\":null},\"id\":\"1019\",\"type\":\"Grid\"},{\"attributes\":{\"coordinates\":null,\"group\":null},\"id\":\"1042\",\"type\":\"Title\"},{\"attributes\":{},\"id\":\"1017\",\"type\":\"BasicTicker\"},{\"attributes\":{},\"id\":\"1045\",\"type\":\"BasicTickFormatter\"},{\"attributes\":{\"line_alpha\":0.1,\"line_color\":\"#1f77b4\",\"x\":{\"field\":\"x\"},\"y\":{\"field\":\"y\"}},\"id\":\"1036\",\"type\":\"Line\"},{\"attributes\":{},\"id\":\"1021\",\"type\":\"WheelZoomTool\"},{\"attributes\":{},\"id\":\"1020\",\"type\":\"PanTool\"},{\"attributes\":{\"overlay\":{\"id\":\"1026\"}},\"id\":\"1022\",\"type\":\"BoxZoomTool\"},{\"attributes\":{},\"id\":\"1046\",\"type\":\"AllLabels\"},{\"attributes\":{},\"id\":\"1023\",\"type\":\"SaveTool\"},{\"attributes\":{},\"id\":\"1024\",\"type\":\"ResetTool\"},{\"attributes\":{},\"id\":\"1048\",\"type\":\"BasicTickFormatter\"},{\"attributes\":{\"coordinates\":null,\"data_source\":{\"id\":\"1034\"},\"glyph\":{\"id\":\"1035\"},\"group\":null,\"hover_glyph\":null,\"muted_glyph\":{\"id\":\"1037\"},\"nonselection_glyph\":{\"id\":\"1036\"},\"view\":{\"id\":\"1039\"}},\"id\":\"1038\",\"type\":\"GlyphRenderer\"},{\"attributes\":{},\"id\":\"1049\",\"type\":\"AllLabels\"}],\"root_ids\":[\"1003\"]},\"title\":\"Bokeh Application\",\"version\":\"2.4.1\"}};\n  const render_items = [{\"docid\":\"6bb90a76-6055-4bf6-a1c1-fdeceae14a80\",\"root_ids\":[\"1003\"],\"roots\":{\"1003\":\"f6509856-1f39-416f-932f-7cef7ffaa6ac\"}}];\n  root.Bokeh.embed.embed_items_notebook(docs_json, render_items);\n\n  }\n  if (root.Bokeh !== undefined) {\n    embed_document(root);\n  } else {\n    let attempts = 0;\n    const timer = setInterval(function(root) {\n      if (root.Bokeh !== undefined) {\n        clearInterval(timer);\n        embed_document(root);\n      } else {\n        attempts++;\n        if (attempts > 100) {\n          clearInterval(timer);\n          console.log(\"Bokeh: ERROR: Unable to run BokehJS code because BokehJS library is missing\");\n        }\n      }\n    }, 10, root)\n  }\n})(window);",
      "application/vnd.bokehjs_exec.v0+json": ""
     },
     "metadata": {
      "application/vnd.bokehjs_exec.v0+json": {
       "id": "1003"
      }
     },
     "output_type": "display_data"
    }
   ],
   "source": [
    "show(p)"
   ]
  },
  {
   "cell_type": "markdown",
   "metadata": {},
   "source": [
    "Vemos que aparece nuestro gráfico y a diferencia de otros paquetes de visualización, podemos desplazarnos en el gráfico, hacer zoom, mover con la rueda del ratón y guardar el gráfico de forma muy simple a través del menú de opciones.\n",
    "\n",
    "Agregamos nuevos parámetros."
   ]
  },
  {
   "cell_type": "code",
   "execution_count": 7,
   "metadata": {},
   "outputs": [
    {
     "data": {
      "text/html": [
       "\n",
       "\n",
       "\n",
       "\n",
       "\n",
       "\n",
       "  <div class=\"bk-root\" id=\"052bf4fe-2892-477d-b1a9-fcd0215085c8\" data-root-id=\"1108\"></div>\n"
      ]
     },
     "metadata": {},
     "output_type": "display_data"
    },
    {
     "data": {
      "application/javascript": "(function(root) {\n  function embed_document(root) {\n    \n  const docs_json = {\"d1574c3a-e9e2-46ca-9684-42b7f34f4fc7\":{\"defs\":[],\"roots\":{\"references\":[{\"attributes\":{\"below\":[{\"id\":\"1117\"}],\"center\":[{\"id\":\"1120\"},{\"id\":\"1124\"}],\"height\":400,\"left\":[{\"id\":\"1121\"}],\"renderers\":[{\"id\":\"1143\"}],\"title\":{\"id\":\"1156\"},\"toolbar\":{\"id\":\"1132\"},\"width\":400,\"x_range\":{\"id\":\"1109\"},\"x_scale\":{\"id\":\"1113\"},\"y_range\":{\"id\":\"1111\"},\"y_scale\":{\"id\":\"1115\"}},\"id\":\"1108\",\"subtype\":\"Figure\",\"type\":\"Plot\"},{\"attributes\":{},\"id\":\"1113\",\"type\":\"LinearScale\"},{\"attributes\":{},\"id\":\"1115\",\"type\":\"LinearScale\"},{\"attributes\":{},\"id\":\"1159\",\"type\":\"BasicTickFormatter\"},{\"attributes\":{},\"id\":\"1160\",\"type\":\"AllLabels\"},{\"attributes\":{\"line_alpha\":0.2,\"line_color\":\"red\",\"line_width\":5,\"x\":{\"field\":\"x\"},\"y\":{\"field\":\"y\"}},\"id\":\"1142\",\"type\":\"Line\"},{\"attributes\":{\"bottom_units\":\"screen\",\"coordinates\":null,\"fill_alpha\":0.5,\"fill_color\":\"lightgrey\",\"group\":null,\"left_units\":\"screen\",\"level\":\"overlay\",\"line_alpha\":1.0,\"line_color\":\"black\",\"line_dash\":[4,4],\"line_width\":2,\"right_units\":\"screen\",\"syncable\":false,\"top_units\":\"screen\"},\"id\":\"1131\",\"type\":\"BoxAnnotation\"},{\"attributes\":{\"line_alpha\":0.1,\"line_color\":\"red\",\"line_width\":5,\"x\":{\"field\":\"x\"},\"y\":{\"field\":\"y\"}},\"id\":\"1141\",\"type\":\"Line\"},{\"attributes\":{},\"id\":\"1162\",\"type\":\"BasicTickFormatter\"},{\"attributes\":{},\"id\":\"1109\",\"type\":\"DataRange1d\"},{\"attributes\":{},\"id\":\"1130\",\"type\":\"HelpTool\"},{\"attributes\":{},\"id\":\"1163\",\"type\":\"AllLabels\"},{\"attributes\":{},\"id\":\"1118\",\"type\":\"BasicTicker\"},{\"attributes\":{\"axis\":{\"id\":\"1117\"},\"coordinates\":null,\"group\":null,\"ticker\":null},\"id\":\"1120\",\"type\":\"Grid\"},{\"attributes\":{\"axis\":{\"id\":\"1121\"},\"coordinates\":null,\"dimension\":1,\"group\":null,\"ticker\":null},\"id\":\"1124\",\"type\":\"Grid\"},{\"attributes\":{},\"id\":\"1122\",\"type\":\"BasicTicker\"},{\"attributes\":{\"source\":{\"id\":\"1139\"}},\"id\":\"1144\",\"type\":\"CDSView\"},{\"attributes\":{},\"id\":\"1129\",\"type\":\"ResetTool\"},{\"attributes\":{\"line_alpha\":0.5,\"line_color\":\"red\",\"line_width\":5,\"x\":{\"field\":\"x\"},\"y\":{\"field\":\"y\"}},\"id\":\"1140\",\"type\":\"Line\"},{\"attributes\":{},\"id\":\"1128\",\"type\":\"SaveTool\"},{\"attributes\":{},\"id\":\"1164\",\"type\":\"UnionRenderers\"},{\"attributes\":{\"tools\":[{\"id\":\"1125\"},{\"id\":\"1126\"},{\"id\":\"1127\"},{\"id\":\"1128\"},{\"id\":\"1129\"},{\"id\":\"1130\"}]},\"id\":\"1132\",\"type\":\"Toolbar\"},{\"attributes\":{},\"id\":\"1165\",\"type\":\"Selection\"},{\"attributes\":{\"coordinates\":null,\"formatter\":{\"id\":\"1159\"},\"group\":null,\"major_label_policy\":{\"id\":\"1160\"},\"ticker\":{\"id\":\"1122\"}},\"id\":\"1121\",\"type\":\"LinearAxis\"},{\"attributes\":{\"coordinates\":null,\"data_source\":{\"id\":\"1139\"},\"glyph\":{\"id\":\"1140\"},\"group\":null,\"hover_glyph\":null,\"muted_glyph\":{\"id\":\"1142\"},\"nonselection_glyph\":{\"id\":\"1141\"},\"view\":{\"id\":\"1144\"}},\"id\":\"1143\",\"type\":\"GlyphRenderer\"},{\"attributes\":{},\"id\":\"1111\",\"type\":\"DataRange1d\"},{\"attributes\":{},\"id\":\"1126\",\"type\":\"WheelZoomTool\"},{\"attributes\":{},\"id\":\"1125\",\"type\":\"PanTool\"},{\"attributes\":{\"overlay\":{\"id\":\"1131\"}},\"id\":\"1127\",\"type\":\"BoxZoomTool\"},{\"attributes\":{\"data\":{\"x\":[1,2,3,4,5,6,7,8],\"y\":[20,3,12,28,15,6,19,11]},\"selected\":{\"id\":\"1165\"},\"selection_policy\":{\"id\":\"1164\"}},\"id\":\"1139\",\"type\":\"ColumnDataSource\"},{\"attributes\":{\"coordinates\":null,\"group\":null},\"id\":\"1156\",\"type\":\"Title\"},{\"attributes\":{\"coordinates\":null,\"formatter\":{\"id\":\"1162\"},\"group\":null,\"major_label_policy\":{\"id\":\"1163\"},\"ticker\":{\"id\":\"1118\"}},\"id\":\"1117\",\"type\":\"LinearAxis\"}],\"root_ids\":[\"1108\"]},\"title\":\"Bokeh Application\",\"version\":\"2.4.1\"}};\n  const render_items = [{\"docid\":\"d1574c3a-e9e2-46ca-9684-42b7f34f4fc7\",\"root_ids\":[\"1108\"],\"roots\":{\"1108\":\"052bf4fe-2892-477d-b1a9-fcd0215085c8\"}}];\n  root.Bokeh.embed.embed_items_notebook(docs_json, render_items);\n\n  }\n  if (root.Bokeh !== undefined) {\n    embed_document(root);\n  } else {\n    let attempts = 0;\n    const timer = setInterval(function(root) {\n      if (root.Bokeh !== undefined) {\n        clearInterval(timer);\n        embed_document(root);\n      } else {\n        attempts++;\n        if (attempts > 100) {\n          clearInterval(timer);\n          console.log(\"Bokeh: ERROR: Unable to run BokehJS code because BokehJS library is missing\");\n        }\n      }\n    }, 10, root)\n  }\n})(window);",
      "application/vnd.bokehjs_exec.v0+json": ""
     },
     "metadata": {
      "application/vnd.bokehjs_exec.v0+json": {
       "id": "1108"
      }
     },
     "output_type": "display_data"
    }
   ],
   "source": [
    "p = figure(plot_width=400, plot_height=400)\n",
    "\n",
    "p.line([1, 2, 3, 4, 5, 6, 7, 8] ,[20, 3, 12, 28, 15, 6, 19, 11], \n",
    "       color = 'red', line_width=5, line_alpha = 0.5)\n",
    "show(p)"
   ]
  },
  {
   "cell_type": "markdown",
   "metadata": {},
   "source": [
    "Mostramos otro estilo de gráfico, un scatter plot, utilizamos la función <code>**circle**</code>"
   ]
  },
  {
   "cell_type": "code",
   "execution_count": 8,
   "metadata": {},
   "outputs": [
    {
     "data": {
      "text/html": [
       "\n",
       "\n",
       "\n",
       "\n",
       "\n",
       "\n",
       "  <div class=\"bk-root\" id=\"f02a7962-5859-4b18-944f-82067b95b0b0\" data-root-id=\"1222\"></div>\n"
      ]
     },
     "metadata": {},
     "output_type": "display_data"
    },
    {
     "data": {
      "application/javascript": "(function(root) {\n  function embed_document(root) {\n    \n  const docs_json = {\"5a262e76-e2eb-4603-8be6-7fa6fb9e8d83\":{\"defs\":[],\"roots\":{\"references\":[{\"attributes\":{\"below\":[{\"id\":\"1231\"}],\"center\":[{\"id\":\"1234\"},{\"id\":\"1238\"}],\"height\":500,\"left\":[{\"id\":\"1235\"}],\"renderers\":[{\"id\":\"1257\"}],\"title\":{\"id\":\"1281\"},\"toolbar\":{\"id\":\"1246\"},\"width\":500,\"x_range\":{\"id\":\"1223\"},\"x_scale\":{\"id\":\"1227\"},\"y_range\":{\"id\":\"1225\"},\"y_scale\":{\"id\":\"1229\"}},\"id\":\"1222\",\"subtype\":\"Figure\",\"type\":\"Plot\"},{\"attributes\":{},\"id\":\"1244\",\"type\":\"HelpTool\"},{\"attributes\":{},\"id\":\"1240\",\"type\":\"WheelZoomTool\"},{\"attributes\":{},\"id\":\"1242\",\"type\":\"SaveTool\"},{\"attributes\":{},\"id\":\"1243\",\"type\":\"ResetTool\"},{\"attributes\":{},\"id\":\"1289\",\"type\":\"UnionRenderers\"},{\"attributes\":{},\"id\":\"1288\",\"type\":\"AllLabels\"},{\"attributes\":{},\"id\":\"1290\",\"type\":\"Selection\"},{\"attributes\":{\"bottom_units\":\"screen\",\"coordinates\":null,\"fill_alpha\":0.5,\"fill_color\":\"lightgrey\",\"group\":null,\"left_units\":\"screen\",\"level\":\"overlay\",\"line_alpha\":1.0,\"line_color\":\"black\",\"line_dash\":[4,4],\"line_width\":2,\"right_units\":\"screen\",\"syncable\":false,\"top_units\":\"screen\"},\"id\":\"1245\",\"type\":\"BoxAnnotation\"},{\"attributes\":{},\"id\":\"1284\",\"type\":\"BasicTickFormatter\"},{\"attributes\":{},\"id\":\"1223\",\"type\":\"DataRange1d\"},{\"attributes\":{},\"id\":\"1236\",\"type\":\"BasicTicker\"},{\"attributes\":{\"tools\":[{\"id\":\"1239\"},{\"id\":\"1240\"},{\"id\":\"1241\"},{\"id\":\"1242\"},{\"id\":\"1243\"},{\"id\":\"1244\"}]},\"id\":\"1246\",\"type\":\"Toolbar\"},{\"attributes\":{\"coordinates\":null,\"group\":null},\"id\":\"1281\",\"type\":\"Title\"},{\"attributes\":{\"overlay\":{\"id\":\"1245\"}},\"id\":\"1241\",\"type\":\"BoxZoomTool\"},{\"attributes\":{\"fill_color\":{\"value\":\"red\"},\"hatch_color\":{\"value\":\"red\"},\"line_alpha\":{\"value\":0.5},\"line_color\":{\"value\":\"red\"},\"line_width\":{\"value\":5},\"x\":{\"field\":\"x\"},\"y\":{\"field\":\"y\"}},\"id\":\"1254\",\"type\":\"Circle\"},{\"attributes\":{\"fill_alpha\":{\"value\":0.2},\"fill_color\":{\"value\":\"red\"},\"hatch_alpha\":{\"value\":0.2},\"hatch_color\":{\"value\":\"red\"},\"line_alpha\":{\"value\":0.2},\"line_color\":{\"value\":\"red\"},\"line_width\":{\"value\":5},\"x\":{\"field\":\"x\"},\"y\":{\"field\":\"y\"}},\"id\":\"1256\",\"type\":\"Circle\"},{\"attributes\":{\"fill_alpha\":{\"value\":0.1},\"fill_color\":{\"value\":\"red\"},\"hatch_alpha\":{\"value\":0.1},\"hatch_color\":{\"value\":\"red\"},\"line_alpha\":{\"value\":0.1},\"line_color\":{\"value\":\"red\"},\"line_width\":{\"value\":5},\"x\":{\"field\":\"x\"},\"y\":{\"field\":\"y\"}},\"id\":\"1255\",\"type\":\"Circle\"},{\"attributes\":{\"source\":{\"id\":\"1253\"}},\"id\":\"1258\",\"type\":\"CDSView\"},{\"attributes\":{\"axis\":{\"id\":\"1231\"},\"coordinates\":null,\"group\":null,\"ticker\":null},\"id\":\"1234\",\"type\":\"Grid\"},{\"attributes\":{},\"id\":\"1232\",\"type\":\"BasicTicker\"},{\"attributes\":{},\"id\":\"1239\",\"type\":\"PanTool\"},{\"attributes\":{},\"id\":\"1227\",\"type\":\"LinearScale\"},{\"attributes\":{},\"id\":\"1285\",\"type\":\"AllLabels\"},{\"attributes\":{},\"id\":\"1229\",\"type\":\"LinearScale\"},{\"attributes\":{\"axis\":{\"id\":\"1235\"},\"coordinates\":null,\"dimension\":1,\"group\":null,\"ticker\":null},\"id\":\"1238\",\"type\":\"Grid\"},{\"attributes\":{\"coordinates\":null,\"data_source\":{\"id\":\"1253\"},\"glyph\":{\"id\":\"1254\"},\"group\":null,\"hover_glyph\":null,\"muted_glyph\":{\"id\":\"1256\"},\"nonselection_glyph\":{\"id\":\"1255\"},\"view\":{\"id\":\"1258\"}},\"id\":\"1257\",\"type\":\"GlyphRenderer\"},{\"attributes\":{},\"id\":\"1287\",\"type\":\"BasicTickFormatter\"},{\"attributes\":{\"coordinates\":null,\"formatter\":{\"id\":\"1287\"},\"group\":null,\"major_label_policy\":{\"id\":\"1288\"},\"ticker\":{\"id\":\"1232\"}},\"id\":\"1231\",\"type\":\"LinearAxis\"},{\"attributes\":{\"coordinates\":null,\"formatter\":{\"id\":\"1284\"},\"group\":null,\"major_label_policy\":{\"id\":\"1285\"},\"ticker\":{\"id\":\"1236\"}},\"id\":\"1235\",\"type\":\"LinearAxis\"},{\"attributes\":{},\"id\":\"1225\",\"type\":\"DataRange1d\"},{\"attributes\":{\"data\":{\"x\":[1,2,3,4,5,6,7,8],\"y\":[20,3,12,28,15,6,19,11]},\"selected\":{\"id\":\"1290\"},\"selection_policy\":{\"id\":\"1289\"}},\"id\":\"1253\",\"type\":\"ColumnDataSource\"}],\"root_ids\":[\"1222\"]},\"title\":\"Bokeh Application\",\"version\":\"2.4.1\"}};\n  const render_items = [{\"docid\":\"5a262e76-e2eb-4603-8be6-7fa6fb9e8d83\",\"root_ids\":[\"1222\"],\"roots\":{\"1222\":\"f02a7962-5859-4b18-944f-82067b95b0b0\"}}];\n  root.Bokeh.embed.embed_items_notebook(docs_json, render_items);\n\n  }\n  if (root.Bokeh !== undefined) {\n    embed_document(root);\n  } else {\n    let attempts = 0;\n    const timer = setInterval(function(root) {\n      if (root.Bokeh !== undefined) {\n        clearInterval(timer);\n        embed_document(root);\n      } else {\n        attempts++;\n        if (attempts > 100) {\n          clearInterval(timer);\n          console.log(\"Bokeh: ERROR: Unable to run BokehJS code because BokehJS library is missing\");\n        }\n      }\n    }, 10, root)\n  }\n})(window);",
      "application/vnd.bokehjs_exec.v0+json": ""
     },
     "metadata": {
      "application/vnd.bokehjs_exec.v0+json": {
       "id": "1222"
      }
     },
     "output_type": "display_data"
    }
   ],
   "source": [
    "p = figure(plot_width=500, plot_height=500)\n",
    "\n",
    "p.circle([1, 2, 3, 4, 5, 6, 7, 8] ,[20, 3, 12, 28, 15, 6, 19, 11], \n",
    "       color = 'red', line_width=5, line_alpha = 0.5)\n",
    "show(p)"
   ]
  },
  {
   "cell_type": "markdown",
   "metadata": {},
   "source": [
    "Añadimos más opciones y, en esta ocasión en lugar de utilizar listas, vamos a comprobar su integración con arrays."
   ]
  },
  {
   "cell_type": "code",
   "execution_count": 9,
   "metadata": {},
   "outputs": [
    {
     "data": {
      "text/html": [
       "\n",
       "\n",
       "\n",
       "\n",
       "\n",
       "\n",
       "  <div class=\"bk-root\" id=\"c7eb090a-a50a-4674-9e51-b10473b32ebb\" data-root-id=\"1347\"></div>\n"
      ]
     },
     "metadata": {},
     "output_type": "display_data"
    },
    {
     "data": {
      "application/javascript": "(function(root) {\n  function embed_document(root) {\n    \n  const docs_json = {\"928e1e58-7de1-43f0-b187-bb6f14f44be2\":{\"defs\":[],\"roots\":{\"references\":[{\"attributes\":{\"below\":[{\"id\":\"1356\"}],\"center\":[{\"id\":\"1359\"},{\"id\":\"1363\"}],\"height\":500,\"left\":[{\"id\":\"1360\"}],\"renderers\":[{\"id\":\"1382\"}],\"title\":{\"id\":\"1417\"},\"toolbar\":{\"id\":\"1371\"},\"width\":500,\"x_range\":{\"id\":\"1348\"},\"x_scale\":{\"id\":\"1352\"},\"y_range\":{\"id\":\"1350\"},\"y_scale\":{\"id\":\"1354\"}},\"id\":\"1347\",\"subtype\":\"Figure\",\"type\":\"Plot\"},{\"attributes\":{},\"id\":\"1425\",\"type\":\"UnionRenderers\"},{\"attributes\":{},\"id\":\"1368\",\"type\":\"ResetTool\"},{\"attributes\":{\"bottom_units\":\"screen\",\"coordinates\":null,\"fill_alpha\":0.5,\"fill_color\":\"lightgrey\",\"group\":null,\"left_units\":\"screen\",\"level\":\"overlay\",\"line_alpha\":1.0,\"line_color\":\"black\",\"line_dash\":[4,4],\"line_width\":2,\"right_units\":\"screen\",\"syncable\":false,\"top_units\":\"screen\"},\"id\":\"1370\",\"type\":\"BoxAnnotation\"},{\"attributes\":{},\"id\":\"1424\",\"type\":\"AllLabels\"},{\"attributes\":{},\"id\":\"1426\",\"type\":\"Selection\"},{\"attributes\":{},\"id\":\"1367\",\"type\":\"SaveTool\"},{\"attributes\":{\"fill_color\":{\"value\":\"lightgreen\"},\"line_alpha\":{\"value\":0.8},\"line_color\":{\"value\":\"red\"},\"radius\":{\"value\":0.01},\"x\":{\"field\":\"x\"},\"y\":{\"field\":\"y\"}},\"id\":\"1379\",\"type\":\"Circle\"},{\"attributes\":{\"coordinates\":null,\"data_source\":{\"id\":\"1378\"},\"glyph\":{\"id\":\"1379\"},\"group\":null,\"hover_glyph\":null,\"muted_glyph\":{\"id\":\"1381\"},\"nonselection_glyph\":{\"id\":\"1380\"},\"view\":{\"id\":\"1383\"}},\"id\":\"1382\",\"type\":\"GlyphRenderer\"},{\"attributes\":{\"overlay\":{\"id\":\"1370\"}},\"id\":\"1366\",\"type\":\"BoxZoomTool\"},{\"attributes\":{},\"id\":\"1420\",\"type\":\"BasicTickFormatter\"},{\"attributes\":{\"fill_alpha\":{\"value\":0.2},\"fill_color\":{\"value\":\"lightgreen\"},\"hatch_alpha\":{\"value\":0.2},\"line_alpha\":{\"value\":0.2},\"line_color\":{\"value\":\"red\"},\"radius\":{\"value\":0.01},\"x\":{\"field\":\"x\"},\"y\":{\"field\":\"y\"}},\"id\":\"1381\",\"type\":\"Circle\"},{\"attributes\":{},\"id\":\"1361\",\"type\":\"BasicTicker\"},{\"attributes\":{\"source\":{\"id\":\"1378\"}},\"id\":\"1383\",\"type\":\"CDSView\"},{\"attributes\":{\"coordinates\":null,\"formatter\":{\"id\":\"1420\"},\"group\":null,\"major_label_policy\":{\"id\":\"1421\"},\"ticker\":{\"id\":\"1361\"}},\"id\":\"1360\",\"type\":\"LinearAxis\"},{\"attributes\":{\"coordinates\":null,\"group\":null},\"id\":\"1417\",\"type\":\"Title\"},{\"attributes\":{\"fill_alpha\":{\"value\":0.1},\"fill_color\":{\"value\":\"lightgreen\"},\"hatch_alpha\":{\"value\":0.1},\"line_alpha\":{\"value\":0.1},\"line_color\":{\"value\":\"red\"},\"radius\":{\"value\":0.01},\"x\":{\"field\":\"x\"},\"y\":{\"field\":\"y\"}},\"id\":\"1380\",\"type\":\"Circle\"},{\"attributes\":{\"axis\":{\"id\":\"1360\"},\"coordinates\":null,\"dimension\":1,\"group\":null,\"ticker\":null},\"id\":\"1363\",\"type\":\"Grid\"},{\"attributes\":{\"coordinates\":null,\"formatter\":{\"id\":\"1423\"},\"group\":null,\"major_label_policy\":{\"id\":\"1424\"},\"ticker\":{\"id\":\"1357\"}},\"id\":\"1356\",\"type\":\"LinearAxis\"},{\"attributes\":{},\"id\":\"1357\",\"type\":\"BasicTicker\"},{\"attributes\":{},\"id\":\"1421\",\"type\":\"AllLabels\"},{\"attributes\":{},\"id\":\"1352\",\"type\":\"LinearScale\"},{\"attributes\":{},\"id\":\"1348\",\"type\":\"DataRange1d\"},{\"attributes\":{},\"id\":\"1350\",\"type\":\"DataRange1d\"},{\"attributes\":{},\"id\":\"1369\",\"type\":\"HelpTool\"},{\"attributes\":{},\"id\":\"1423\",\"type\":\"BasicTickFormatter\"},{\"attributes\":{\"data\":{\"x\":{\"__ndarray__\":\"CAy1+3lfyz+yG3GcTkHvP2ICKFxs/ds/aO+AVEQFzj8N7BHLZVnuPzI/gxe4S+I/Me0cjz816T8YcT2zivW1PyTXB4lfj9c/FYnd0j1Q7D+Yax+r/ffFP9zsP1GkM9U/oPKzBpgU3T8FmOgUMibhP9109NRJ7ek/IMTkbDRv3z9VCnliyNXqPzeSYEudpOs/G1aPpjq96T+4BGRanIXmP6hCpzvpYbY/fm5LLmNc6T+4vkw91S3oPxCoII4FpOQ/UPSzGR/Ktz92k1FmTCThP8iFq3ZwIMM/VwhZCkzT5T/L28Z1tF/kP6IaaGfuH+k/QLECP46Q3j/K8b0ixEPTP7y2chIIgN8/i85LAe9R6j+cwl9xqdrGPy0opKrDWe0/fAYuCO/46z9geQldpuGvP9S146I8S+I/YMpoDAl4yj9w8IuHlEupP29jJmO1pec/fmhBBMw07j9kRIG9fk/TP76FUCxeSdc/SAXzXXWauT/gLt+brvHZP0Cw0ggIGJg/5Ox8YAWY5z8H/FahT/vtP/gPTxsJSeo/gOq+0cisdj+wDoFKn+vLP+Bjuddixdw/0EPMa7Lhoz9OWA+kb1LoP3IHYrpkmuU/mqR2zZ/b2z+vq0iu2NzlP7Cz6nDfMbo/pe1yKZ787z8oBCmkJ5HVP+lgESm8be4/wGPqmiTEjj9jeBpvaH/nP6nwurCU9Ow/hqH+JeGc7j+uDEGDnZfcP+AknF2ujas//IzkD9jO4T+Yg+aBS4DfP4C3piBzmJc/ClMlUUVE6z9gAZyACd2rP8A7eGpOuI4/wL83GxJqtj9UZOl5hmrpP+uxSsnZj+M/sJKVL6L70j+yxbZkQqvgP9uohl73IeU/XV0+KK5h6T/0XhnhUdXEP2YLoUc5it0/eOF9walcuD941H+qKILnP4RTW9FzoNs/zhHjPeWb0j+Mu5k5ZUrAP4RMJed0qeI/iMBMXKPCsj9cskFRoajQP6ZRpW8ardE/Bp6rcBLd4j9EU83oN9XoP+hPI15jMLg/nPyfpevvyj+bXNLau9jpPzAdefO8EbU/SFXGrFuAtz8=\",\"dtype\":\"float64\",\"order\":\"little\",\"shape\":[100]},\"y\":{\"__ndarray__\":\"igbZtjpqpz/OzjeXDYfuP8OrY9Z9e8g/MRFe/OAprD8z/T6cmMjsP47ZCYvE69Q/cICl6ovb4z9C3uRCRCN+P0Az8bObWME/7HSZZjUN6T9xn+uY/SmeP4NIZQM2GLw/YMgAzWBtyj+mVu6ahWHSP8G0CuuiAeU/aZIEB/jgzj88bIrY+YDmP+3AfD4Y4ec/3vJ6oQq05D9lsOm1ybPfP5wdR42YT38/FnXTs2UZ5D9vfjyBAUXiP2AvNVWfoNo/AWm1XYmvgT8Il6aydF3SP6SMyN5M3ZY/dQQkAo7F3T9LHFudf/HZP8sma14EuuM/R3TUuJcxzT+CaIrWEDK3PwbhU+QPAs8/xNoKK/al5T9nmw0kf1KgPzAlW3Ku6+o/h/bF3aNz6D+2lh+DacNvPww83Teq6tQ/yukJ+NDkpT+zb7eWyv5jP6bVGdmOeeE/wi4dpFWD7D9pUI75V063PzoUc5Yf8sA/aHMi7kB8hD8CTVElwgjFP9RISxkeJEI/nB7J7Vll4T8p1Wb+NRfsPyCq731Vl+U/+okhFDkRAD9h/Wi8Y1yoP2TYtYMu3sk/WJPicXe0WD+NUMXTe3ziP99Uvz4aK90/o4QiAYFAyD8x+q0bod/dPxpi39FYcYU/Ezhprjz57z8xSc3tLBK9P9q+Khs57+w/yxEL43aULT/YwvxlIUHhP48ugZNRM+o//P+fQCdJ7T8h3j//IYzJP1OJRoqJuWc/8ZXEKP3R0z8L/m+olALPP2cKRMb7ZUE/gQEeoMY75z+Cf0rU9kJoPyT/KY64fS0/aG/W+nBmfz/PdZm71C/kP6nrk46y6tc/CYMRYqKFtj+Ez6nlrV3RP2Pfd3Nx6ds/0EFpSsoh5D9itGvIaCCbP3k5RODcRMs/WO7Z9QqMgj/XvbTfK0XhP0zcGvnn2cc//HOiwbKktT8jrQheJJaQP8EE/cBJxNU/H+GuTy//dT9APYjkM1ixP2tSGfkoh7M/Fun/Clg91j8q2eCNYEXjP1vxgzjeSII/Qkzlu+Wspj/nk0FyYeDkPxO2Wqmjvns/j+/JpoZCgT8=\",\"dtype\":\"float64\",\"order\":\"little\",\"shape\":[100]}},\"selected\":{\"id\":\"1426\"},\"selection_policy\":{\"id\":\"1425\"}},\"id\":\"1378\",\"type\":\"ColumnDataSource\"},{\"attributes\":{\"tools\":[{\"id\":\"1364\"},{\"id\":\"1365\"},{\"id\":\"1366\"},{\"id\":\"1367\"},{\"id\":\"1368\"},{\"id\":\"1369\"}]},\"id\":\"1371\",\"type\":\"Toolbar\"},{\"attributes\":{},\"id\":\"1364\",\"type\":\"PanTool\"},{\"attributes\":{},\"id\":\"1354\",\"type\":\"LinearScale\"},{\"attributes\":{\"axis\":{\"id\":\"1356\"},\"coordinates\":null,\"group\":null,\"ticker\":null},\"id\":\"1359\",\"type\":\"Grid\"},{\"attributes\":{},\"id\":\"1365\",\"type\":\"WheelZoomTool\"}],\"root_ids\":[\"1347\"]},\"title\":\"Bokeh Application\",\"version\":\"2.4.1\"}};\n  const render_items = [{\"docid\":\"928e1e58-7de1-43f0-b187-bb6f14f44be2\",\"root_ids\":[\"1347\"],\"roots\":{\"1347\":\"c7eb090a-a50a-4674-9e51-b10473b32ebb\"}}];\n  root.Bokeh.embed.embed_items_notebook(docs_json, render_items);\n\n  }\n  if (root.Bokeh !== undefined) {\n    embed_document(root);\n  } else {\n    let attempts = 0;\n    const timer = setInterval(function(root) {\n      if (root.Bokeh !== undefined) {\n        clearInterval(timer);\n        embed_document(root);\n      } else {\n        attempts++;\n        if (attempts > 100) {\n          clearInterval(timer);\n          console.log(\"Bokeh: ERROR: Unable to run BokehJS code because BokehJS library is missing\");\n        }\n      }\n    }, 10, root)\n  }\n})(window);",
      "application/vnd.bokehjs_exec.v0+json": ""
     },
     "metadata": {
      "application/vnd.bokehjs_exec.v0+json": {
       "id": "1347"
      }
     },
     "output_type": "display_data"
    }
   ],
   "source": [
    "p = figure(plot_width=500, plot_height=500)\n",
    "\n",
    "import numpy as np\n",
    "\n",
    "normal = np.random.rand(100)\n",
    "square = normal**2\n",
    "\n",
    "p.circle(normal ,square, \n",
    "         fill_color  = 'lightgreen',\n",
    "         line_alpha = 0.8,\n",
    "         line_color = 'red',\n",
    "         radius = 0.01)\n",
    "show(p)"
   ]
  },
  {
   "cell_type": "markdown",
   "metadata": {},
   "source": [
    "También es posible combinar dos estilos de gráfico juntos. Probaremos a realizar un scatter plot de dos maneras, a través de círculos <code>**circle**</code> y cuadrados <code>**square**</code>"
   ]
  },
  {
   "cell_type": "code",
   "execution_count": 10,
   "metadata": {},
   "outputs": [
    {
     "data": {
      "text/html": [
       "\n",
       "\n",
       "\n",
       "\n",
       "\n",
       "\n",
       "  <div class=\"bk-root\" id=\"7829cf21-0e32-4cb4-a75b-d736b610cc10\" data-root-id=\"1483\"></div>\n"
      ]
     },
     "metadata": {},
     "output_type": "display_data"
    },
    {
     "data": {
      "application/javascript": "(function(root) {\n  function embed_document(root) {\n    \n  const docs_json = {\"892c2782-860a-4a4e-8350-199dfa8b62c4\":{\"defs\":[],\"roots\":{\"references\":[{\"attributes\":{\"below\":[{\"id\":\"1492\"}],\"center\":[{\"id\":\"1495\"},{\"id\":\"1499\"}],\"height\":500,\"left\":[{\"id\":\"1496\"}],\"renderers\":[{\"id\":\"1518\"},{\"id\":\"1524\"}],\"title\":{\"id\":\"1570\"},\"toolbar\":{\"id\":\"1507\"},\"width\":500,\"x_range\":{\"id\":\"1484\"},\"x_scale\":{\"id\":\"1488\"},\"y_range\":{\"id\":\"1486\"},\"y_scale\":{\"id\":\"1490\"}},\"id\":\"1483\",\"subtype\":\"Figure\",\"type\":\"Plot\"},{\"attributes\":{},\"id\":\"1579\",\"type\":\"Selection\"},{\"attributes\":{\"fill_alpha\":{\"value\":0.1},\"fill_color\":{\"value\":\"lightblue\"},\"hatch_alpha\":{\"value\":0.1},\"line_alpha\":{\"value\":0.1},\"line_color\":{\"value\":\"brown\"},\"marker\":{\"value\":\"square\"},\"size\":{\"value\":8},\"x\":{\"field\":\"x\"},\"y\":{\"field\":\"y\"}},\"id\":\"1522\",\"type\":\"Scatter\"},{\"attributes\":{},\"id\":\"1484\",\"type\":\"DataRange1d\"},{\"attributes\":{\"data\":{\"x\":{\"__ndarray__\":\"PqUinRr05j9iZJYlbs3sP3KCvLKjQus/Ko1W3q7k6T+4iW3pOyzCP1rvzwVuldM/ONGlMJAhyT+YaNaM3wrcP51f//o18OA//Gbm9Cvo3z+VDQMhSDjuP+L6Nq/hkuE/BDMJIoHY1z9gKcXlYJCyP3arJUKJC9E/YksYAOQk5D/YaVdoiWnBP2Lcdb7a59M/IBuHOpB56j8QjdMKKyWkPzbxY8oEG+o/wPDmpXZ5yz9QYVa7Xj7WPyBqMnoEP+U/6nojoN810D96qFFO+NHcP8Z/5lztGeo/hDltTbDayz/nZZnYOlTkPzIUDnt+yd8/cC6hYpeL3D+2KliUlWHeP+AAoR7GKt4/QnOmc+pa7z8QMhjH56S1P9g609wqM70/o+2rCqAT7D9GapXNcRfgPxWt4bPzYe4/OkULu/7m2T8ooc89KNXmP8bzXohPv+Q/UBBbsLcj0T/U6lsn/OTQP2GNjYfsFe4/bECiTAOJ2j9wethyosrLP3Lts9y9oe8/8oXm4xxx6D9uNDdhgg/rP4Gh9SqCtOc/nvsV8Bo36T+86NgS20nvP8S8A5PFxtk/EIBx/Klr7z+KcPlCRm7bPx0757Xuoug/eFNTkf0yyz/c17iv4gHIP4ClvviKb8g/2Fahq4yOxj/Gm3asTPzjP0cA2xvxD+0/lpMGMf1r1z9zgfh2sjbvP5G2KWQAaOs/hXmfatOa5j+CSZ3ZSAbQP8jXI2Kz790/rOMbn08D7z/01v3sw/7OP8SdR1Fwn8Y/ADWbWyWhbj81R6BSOZLnP2ZgCGhnVOU/qLlFBngj4z+1HuJYZEbpP/ChBQdSwao/Nk+H0DuX3D8zRM3O59zrP/7YMERyE9E/VGyQCoID1z8QJgJbYdy6P3AN462oZeg/1gteMr5S2z8g1/yzDYypP/mpExczaec/sp8XqlBZ3j8KDkJCoofsPwC3RDVLbn0/ztgOKjLS2j/0aMM+VUvSP5g6EkYoddM/n1MYfdz05z+WGt7FemDkPwhRtuASme0/gJ24Nk78tj/KtecxiO3qPyADQuuX99w/LEVN6qrCyj8=\",\"dtype\":\"float64\",\"order\":\"little\",\"shape\":[100]},\"y\":{\"__ndarray__\":\"6RUCrup24D8o6YOOp+zpP4HOJAT/OOc/4yUDe7Pz5D8pp5oXAaSUPy2p7uFY+Lc/BSPxf5S8oz9k8kjoCpPIP6zKHkqC7tE/29UZqGnQzz/X2Ps66onsP+zXgfdjTdM/FdBBcvLEwT8iTG7X8Il1P/195P2LKLI/fSzuDo9c2T+6Sc8d/PKSP4sFQkzHw7g//DhgLFjn5T9NvZbyQV1ZPzio+Jj+S+U/pEP0QsWWpz/XSoqjd+y+P1bkB/RjNtw/AmcBpnRssD8wsBRE1PTJP+1guLg2SuU/q5WSCOA+qD88NzqITtTZP+cSSc1Zk88/iRWP2ql2yT+91rMLItjMP2zjSKZscMw/ncSSjSi57j/0gS4HhEd9P5ElGIEPpYo/wvbZG2Si6D9OVIP1BS/QP5ek+cXU2Ow/xhvueXH3xD+n9OY0o0rgP5+TUFE259o/zOqhEjZcsj99aZ9wxdaxP4akb4MqSew/DS3IAPAAxj8T6O9H9SKoP5Lrf16RRO8/J2r9KTur4j9Dg1uIM+LmP8jgNVh1j+E/5VHS+3je4z+WCubpwpfuP/QBdWdnw8Q/XhlrlQPa7j9epquUkoPHP7xTwaij9+I/yQV8JV0epz8vFQYk1AKiP9Yrl0PVqKI/UOG23fjMnz/Lt0GKwPbYP3y5n/PsZOo/pp+EY6gkwT/LTrZEV3LuP3F0kavSeOc/BpvklZ/v3z8SeykrlAywP6CBWKV4Acw/Cfv5m2oO7j/vx12nmwWuP8LU6Kqp/J8/AmrYi1FR7T4WDD+SzlzhPxCjdrFMb9w/FGiFr4vk1j+92SCjl/bjPxYfsDG1XmY/3JXcaXOLyT9sIOUmvELoP/rNeXNqObI/pgyiUQuNwD8lDK/vC4yGP+5iF/m/meI/Ykwr6HZUxz+u0idhOmVkPwFHxUiTIOE/1MRpiHDIzD9OZTnYmm/pPyWGS3ZkEQs/0sYON/Z6xj/vPyp+4uq0P1B10YOZqbc/J+U1nE7v4T/Avp+zePPZPzxl2nNOYOs/Yt/a27CCgD8caL984KjmP4mLxI/FOMo/d1mn+PVgpj8=\",\"dtype\":\"float64\",\"order\":\"little\",\"shape\":[100]}},\"selected\":{\"id\":\"1579\"},\"selection_policy\":{\"id\":\"1578\"}},\"id\":\"1514\",\"type\":\"ColumnDataSource\"},{\"attributes\":{\"source\":{\"id\":\"1514\"}},\"id\":\"1519\",\"type\":\"CDSView\"},{\"attributes\":{},\"id\":\"1486\",\"type\":\"DataRange1d\"},{\"attributes\":{\"coordinates\":null,\"formatter\":{\"id\":\"1573\"},\"group\":null,\"major_label_policy\":{\"id\":\"1574\"},\"ticker\":{\"id\":\"1497\"}},\"id\":\"1496\",\"type\":\"LinearAxis\"},{\"attributes\":{\"coordinates\":null,\"formatter\":{\"id\":\"1576\"},\"group\":null,\"major_label_policy\":{\"id\":\"1577\"},\"ticker\":{\"id\":\"1493\"}},\"id\":\"1492\",\"type\":\"LinearAxis\"},{\"attributes\":{},\"id\":\"1490\",\"type\":\"LinearScale\"},{\"attributes\":{},\"id\":\"1488\",\"type\":\"LinearScale\"},{\"attributes\":{},\"id\":\"1493\",\"type\":\"BasicTicker\"},{\"attributes\":{\"fill_alpha\":{\"value\":0.2},\"fill_color\":{\"value\":\"lightgreen\"},\"hatch_alpha\":{\"value\":0.2},\"line_alpha\":{\"value\":0.2},\"line_color\":{\"value\":\"red\"},\"radius\":{\"value\":0.01},\"x\":{\"field\":\"x\"},\"y\":{\"field\":\"y\"}},\"id\":\"1517\",\"type\":\"Circle\"},{\"attributes\":{\"axis\":{\"id\":\"1492\"},\"coordinates\":null,\"group\":null,\"ticker\":null},\"id\":\"1495\",\"type\":\"Grid\"},{\"attributes\":{\"data\":{\"x\":{\"__ndarray__\":\"Ol4QjbOe1z9X2w/qf1XnP05vgIVzyOM/bjGaFR/04D89i3SHkXFnPw+YGxzHVp0/2m9r1w4Afz8DZYQrA4m1Pz0W02u4+8I/WfJjDLm4vz9TS/NEffPqPw0I26psM8U/bYf0to57qj8NtOPaiv04P7oCQmQsWJM/lmaoeyzuzz8/i1EyKZ9kPy8aMspZz54/M4ySIi0f4j/XS4hTfu8PP2QoTSu6X+E/2lGmAMBAhD96tOTz136lP4LrdZ9Au9I/QQ9idMGjkD+w0uIuimC3P6EeSlyMXeE/3lDw8b4ahT+vNe3irWjQPzAbjliRXb8/2Ll3h+i2tj9Fr0HmlWK7PwhWV31pz7o/ah82JKka7j/4R8c70c1DP+ylNs4wUFg/lub6NzOd5T/G9B+qvEbAPzs9Sm+UY+s/d36ADar4sD8xz/X+qj/XP+9IfNxYcdE/vxIe8/Wqkz+C86sQE9aSP44/ivL4l+o/u0juSPk+sj+JFKIoVvaEP+wskVN36O4/lIdmxtOE3D8Woqu/8lnjP/NnrXNVBNo/Wz8DPQtQ3z9PHN93oOntPzsy/AqiubA/WpWAVwBL7j90MFeWCyi0PwiadNGbNN0/KHA5OnWmgz/O4A6RXQZ7P/hQLj9Vf3w/4QcWdJRqdj+tytedqi7PP6BI7eqc+Oc/nCFWfWYYqT9LEQxLz7LtPwl+6LY6GuQ/orN75UGP1j+Oy5z14RKQP1ffCVEdM7o/as8hahMh7T+qaexARhSNPxpBGlYUnXY/QThWz98PbD60mXoDFpTZP2G4d2AK9NI/c3sPjSViyz/tImf6IInfP3S+y8QXtCI/7cjPxL7Stj/ULeRMyR/lPxSq3G8nc5M/XcRhPGHOpz9gAXIdEe1SPyOQ/ZnOXNw/cATSbpfrsz8iRyc3WUggPwJ9si9wD9k/RPn1hj9Muz8gAh1Md63mP5R4XXIO5Zg+zdkxOpLXsj/A0X9Fu+qXP5llvQ6qxpw/Cm4Nlnna2j/84BFraYbQP1kXgrY7Uuk/j3BpRQ64Rz/tKwiVaRHjPxPwZI+PvLc/kjgxNOu2gj8=\",\"dtype\":\"float64\",\"order\":\"little\",\"shape\":[100]},\"y\":{\"__ndarray__\":\"t/P8Lknx0D/5j5H5mwDlP7izcxpU2uA/b7Idl8Bv2z9fl2bRk6A6P0vnayeH9IE/0Jj9Vo9YWD+MQacINN+iP4Z4w0W4GLQ/0TiYFBqhrz/4RoRLrHPpP2o4c8BDSbc/DeoUdfu7kz/0EhRwvf78Pg5tALyhm3Q/eoxpQKsZxD+RzxxdIXE2Px+qLbxYKoM/odhjeFj83T+ofOXSxhrEPkkTOkTlWNw/IdRS7oFjYT+7zw65M+KNP2+fnV2L38g/wU4WdsjbcD9sle7U3A2lPyHPy98nVNw/i5Adl8teYj8JtChGO9nEPwinx38kKK8/QAOxbSFDpD+A7Dxg7/+pPwFy/BxJRqk/CIaLZlt/7T8t5QQhP8oKPx8JspmMLyY/MB+aQM724j9URAsell6wPytObJgxAeo/7aqMc455mz81CPiVopbQP3Qetdw+nsY/MlR5GI0RdT/d0Ft6puNzP2mIM7CxAOk/WZM2EJRCnj8V0HgcljRiP5LZfZNsje4/sX32n23I1T8C3rbTRV3gP7XcV6DfRdM/rl/ytnSs2D+Q+bEyXT/tP5CPuu3U8Zo/hwn9CJS+7T/aa3ewP0ehP7ZSNw8pfNY/6LKXtcKzYD8ibBPRXUZUP/EhumHVwlU/1qIsGkOaTz+EwzaEj3nDP2PEsFs/xeU/W9Ql0Dlekj/gZI0v/PfsP7nJEgh3N+E/dc9VjUffzz9R0+85MhlwP84TrDKTgqg/vF0gYw477D/2RGnVhCpsPxuI6q5T+U8/GAYcczLc6j3LycJIUdfSPzOTVlNJRMk/wFw+WqBgwD/UVOOfgOjYP7QfsOGiRt8+vZiwCURkpD/7aspmpWTiP50QDY39wXQ/SuPK+vEekT9SwAyk6sUfPw/Y72C1n9U/8fe630kCoT8mKMNkkv/ZPnEWEk17VdI/uv/tbqzjqT9WAwMv5zfkP6qHmPti5SY+3SH9ENaVnz+xI9porlh7P6zj3Y1Pf4E/FIrvSYIa1D9M65gLqQvFP6L/9zqma+c/D1RNOY0JET9K3cvmrwvgP1FH2sGlfKU/VWw5AvBMXz8=\",\"dtype\":\"float64\",\"order\":\"little\",\"shape\":[100]}},\"selected\":{\"id\":\"1581\"},\"selection_policy\":{\"id\":\"1580\"}},\"id\":\"1520\",\"type\":\"ColumnDataSource\"},{\"attributes\":{\"source\":{\"id\":\"1520\"}},\"id\":\"1525\",\"type\":\"CDSView\"},{\"attributes\":{},\"id\":\"1500\",\"type\":\"PanTool\"},{\"attributes\":{\"fill_color\":{\"value\":\"lightblue\"},\"line_color\":{\"value\":\"brown\"},\"marker\":{\"value\":\"square\"},\"size\":{\"value\":8},\"x\":{\"field\":\"x\"},\"y\":{\"field\":\"y\"}},\"id\":\"1521\",\"type\":\"Scatter\"},{\"attributes\":{},\"id\":\"1504\",\"type\":\"ResetTool\"},{\"attributes\":{},\"id\":\"1580\",\"type\":\"UnionRenderers\"},{\"attributes\":{},\"id\":\"1573\",\"type\":\"BasicTickFormatter\"},{\"attributes\":{\"fill_alpha\":{\"value\":0.1},\"fill_color\":{\"value\":\"lightgreen\"},\"hatch_alpha\":{\"value\":0.1},\"line_alpha\":{\"value\":0.1},\"line_color\":{\"value\":\"red\"},\"radius\":{\"value\":0.01},\"x\":{\"field\":\"x\"},\"y\":{\"field\":\"y\"}},\"id\":\"1516\",\"type\":\"Circle\"},{\"attributes\":{},\"id\":\"1581\",\"type\":\"Selection\"},{\"attributes\":{},\"id\":\"1574\",\"type\":\"AllLabels\"},{\"attributes\":{\"tools\":[{\"id\":\"1500\"},{\"id\":\"1501\"},{\"id\":\"1502\"},{\"id\":\"1503\"},{\"id\":\"1504\"},{\"id\":\"1505\"}]},\"id\":\"1507\",\"type\":\"Toolbar\"},{\"attributes\":{},\"id\":\"1576\",\"type\":\"BasicTickFormatter\"},{\"attributes\":{\"bottom_units\":\"screen\",\"coordinates\":null,\"fill_alpha\":0.5,\"fill_color\":\"lightgrey\",\"group\":null,\"left_units\":\"screen\",\"level\":\"overlay\",\"line_alpha\":1.0,\"line_color\":\"black\",\"line_dash\":[4,4],\"line_width\":2,\"right_units\":\"screen\",\"syncable\":false,\"top_units\":\"screen\"},\"id\":\"1506\",\"type\":\"BoxAnnotation\"},{\"attributes\":{\"fill_alpha\":{\"value\":0.2},\"fill_color\":{\"value\":\"lightblue\"},\"hatch_alpha\":{\"value\":0.2},\"line_alpha\":{\"value\":0.2},\"line_color\":{\"value\":\"brown\"},\"marker\":{\"value\":\"square\"},\"size\":{\"value\":8},\"x\":{\"field\":\"x\"},\"y\":{\"field\":\"y\"}},\"id\":\"1523\",\"type\":\"Scatter\"},{\"attributes\":{},\"id\":\"1577\",\"type\":\"AllLabels\"},{\"attributes\":{\"coordinates\":null,\"data_source\":{\"id\":\"1520\"},\"glyph\":{\"id\":\"1521\"},\"group\":null,\"hover_glyph\":null,\"muted_glyph\":{\"id\":\"1523\"},\"nonselection_glyph\":{\"id\":\"1522\"},\"view\":{\"id\":\"1525\"}},\"id\":\"1524\",\"type\":\"GlyphRenderer\"},{\"attributes\":{},\"id\":\"1501\",\"type\":\"WheelZoomTool\"},{\"attributes\":{\"overlay\":{\"id\":\"1506\"}},\"id\":\"1502\",\"type\":\"BoxZoomTool\"},{\"attributes\":{\"coordinates\":null,\"group\":null},\"id\":\"1570\",\"type\":\"Title\"},{\"attributes\":{},\"id\":\"1503\",\"type\":\"SaveTool\"},{\"attributes\":{},\"id\":\"1505\",\"type\":\"HelpTool\"},{\"attributes\":{\"coordinates\":null,\"data_source\":{\"id\":\"1514\"},\"glyph\":{\"id\":\"1515\"},\"group\":null,\"hover_glyph\":null,\"muted_glyph\":{\"id\":\"1517\"},\"nonselection_glyph\":{\"id\":\"1516\"},\"view\":{\"id\":\"1519\"}},\"id\":\"1518\",\"type\":\"GlyphRenderer\"},{\"attributes\":{\"axis\":{\"id\":\"1496\"},\"coordinates\":null,\"dimension\":1,\"group\":null,\"ticker\":null},\"id\":\"1499\",\"type\":\"Grid\"},{\"attributes\":{},\"id\":\"1578\",\"type\":\"UnionRenderers\"},{\"attributes\":{},\"id\":\"1497\",\"type\":\"BasicTicker\"},{\"attributes\":{\"fill_color\":{\"value\":\"lightgreen\"},\"line_alpha\":{\"value\":0.8},\"line_color\":{\"value\":\"red\"},\"radius\":{\"value\":0.01},\"x\":{\"field\":\"x\"},\"y\":{\"field\":\"y\"}},\"id\":\"1515\",\"type\":\"Circle\"}],\"root_ids\":[\"1483\"]},\"title\":\"Bokeh Application\",\"version\":\"2.4.1\"}};\n  const render_items = [{\"docid\":\"892c2782-860a-4a4e-8350-199dfa8b62c4\",\"root_ids\":[\"1483\"],\"roots\":{\"1483\":\"7829cf21-0e32-4cb4-a75b-d736b610cc10\"}}];\n  root.Bokeh.embed.embed_items_notebook(docs_json, render_items);\n\n  }\n  if (root.Bokeh !== undefined) {\n    embed_document(root);\n  } else {\n    let attempts = 0;\n    const timer = setInterval(function(root) {\n      if (root.Bokeh !== undefined) {\n        clearInterval(timer);\n        embed_document(root);\n      } else {\n        attempts++;\n        if (attempts > 100) {\n          clearInterval(timer);\n          console.log(\"Bokeh: ERROR: Unable to run BokehJS code because BokehJS library is missing\");\n        }\n      }\n    }, 10, root)\n  }\n})(window);",
      "application/vnd.bokehjs_exec.v0+json": ""
     },
     "metadata": {
      "application/vnd.bokehjs_exec.v0+json": {
       "id": "1483"
      }
     },
     "output_type": "display_data"
    }
   ],
   "source": [
    "p = figure(plot_width=500, plot_height=500)\n",
    "\n",
    "import numpy as np\n",
    "\n",
    "normal = np.random.rand(100)\n",
    "square = normal**2\n",
    "cubic = normal**3\n",
    "polynomic = normal**4\n",
    "\n",
    "\n",
    "p.circle(normal ,square, \n",
    "         fill_color  = 'lightgreen',\n",
    "         line_alpha = 0.8,\n",
    "         line_color = 'red',\n",
    "         radius = 0.01)\n",
    "\n",
    "p.square(cubic ,polynomic, \n",
    "         fill_color  = 'lightblue',\n",
    "         line_alpha = 1,\n",
    "         line_color = 'brown',\n",
    "         size = 8)\n",
    "show(p)"
   ]
  },
  {
   "cell_type": "markdown",
   "metadata": {},
   "source": [
    "Para añadir texto a nuestra visualización, tenemos que acceder a los propios atributos de nuestro objeto **figure**, para añadir texto en los ejes x e y tenemos que acceder a los siguientes atributos:\n",
    "* **xaxis**\n",
    "* **yaxis**\n",
    "\n",
    "Para ambos atributos, dispondremos del atributo **axis_label**, el título de un gráfico podemos añadir a través del parámetro **title** dentro de la función figure cuando inicializamos el gráfico"
   ]
  },
  {
   "cell_type": "code",
   "execution_count": 11,
   "metadata": {},
   "outputs": [
    {
     "data": {
      "text/html": [
       "\n",
       "\n",
       "\n",
       "\n",
       "\n",
       "\n",
       "  <div class=\"bk-root\" id=\"7ee15ff6-a63a-4863-9279-a962abea97c0\" data-root-id=\"1648\"></div>\n"
      ]
     },
     "metadata": {},
     "output_type": "display_data"
    },
    {
     "data": {
      "application/javascript": "(function(root) {\n  function embed_document(root) {\n    \n  const docs_json = {\"da169eb8-d1fc-41a4-a922-b19d31322220\":{\"defs\":[],\"roots\":{\"references\":[{\"attributes\":{\"below\":[{\"id\":\"1659\"}],\"center\":[{\"id\":\"1662\"},{\"id\":\"1666\"}],\"height\":500,\"left\":[{\"id\":\"1663\"}],\"renderers\":[{\"id\":\"1685\"},{\"id\":\"1691\"}],\"title\":{\"id\":\"1649\"},\"toolbar\":{\"id\":\"1674\"},\"width\":500,\"x_range\":{\"id\":\"1651\"},\"x_scale\":{\"id\":\"1655\"},\"y_range\":{\"id\":\"1653\"},\"y_scale\":{\"id\":\"1657\"}},\"id\":\"1648\",\"subtype\":\"Figure\",\"type\":\"Plot\"},{\"attributes\":{},\"id\":\"1660\",\"type\":\"BasicTicker\"},{\"attributes\":{\"fill_color\":{\"value\":\"lightblue\"},\"line_color\":{\"value\":\"brown\"},\"marker\":{\"value\":\"square\"},\"size\":{\"value\":8},\"x\":{\"field\":\"x\"},\"y\":{\"field\":\"y\"}},\"id\":\"1688\",\"type\":\"Scatter\"},{\"attributes\":{\"fill_alpha\":{\"value\":0.2},\"fill_color\":{\"value\":\"lightblue\"},\"hatch_alpha\":{\"value\":0.2},\"line_alpha\":{\"value\":0.2},\"line_color\":{\"value\":\"brown\"},\"marker\":{\"value\":\"square\"},\"size\":{\"value\":8},\"x\":{\"field\":\"x\"},\"y\":{\"field\":\"y\"}},\"id\":\"1690\",\"type\":\"Scatter\"},{\"attributes\":{},\"id\":\"1664\",\"type\":\"BasicTicker\"},{\"attributes\":{\"coordinates\":null,\"data_source\":{\"id\":\"1681\"},\"glyph\":{\"id\":\"1682\"},\"group\":null,\"hover_glyph\":null,\"muted_glyph\":{\"id\":\"1684\"},\"nonselection_glyph\":{\"id\":\"1683\"},\"view\":{\"id\":\"1686\"}},\"id\":\"1685\",\"type\":\"GlyphRenderer\"},{\"attributes\":{\"fill_alpha\":{\"value\":0.1},\"fill_color\":{\"value\":\"lightblue\"},\"hatch_alpha\":{\"value\":0.1},\"line_alpha\":{\"value\":0.1},\"line_color\":{\"value\":\"brown\"},\"marker\":{\"value\":\"square\"},\"size\":{\"value\":8},\"x\":{\"field\":\"x\"},\"y\":{\"field\":\"y\"}},\"id\":\"1689\",\"type\":\"Scatter\"},{\"attributes\":{},\"id\":\"1670\",\"type\":\"SaveTool\"},{\"attributes\":{},\"id\":\"1759\",\"type\":\"UnionRenderers\"},{\"attributes\":{},\"id\":\"1672\",\"type\":\"HelpTool\"},{\"attributes\":{},\"id\":\"1752\",\"type\":\"BasicTickFormatter\"},{\"attributes\":{\"fill_alpha\":{\"value\":0.2},\"fill_color\":{\"value\":\"lightgreen\"},\"hatch_alpha\":{\"value\":0.2},\"line_alpha\":{\"value\":0.2},\"line_color\":{\"value\":\"red\"},\"radius\":{\"value\":0.01},\"x\":{\"field\":\"x\"},\"y\":{\"field\":\"y\"}},\"id\":\"1684\",\"type\":\"Circle\"},{\"attributes\":{\"source\":{\"id\":\"1681\"}},\"id\":\"1686\",\"type\":\"CDSView\"},{\"attributes\":{},\"id\":\"1753\",\"type\":\"AllLabels\"},{\"attributes\":{},\"id\":\"1760\",\"type\":\"Selection\"},{\"attributes\":{\"fill_alpha\":{\"value\":0.1},\"fill_color\":{\"value\":\"lightgreen\"},\"hatch_alpha\":{\"value\":0.1},\"line_alpha\":{\"value\":0.1},\"line_color\":{\"value\":\"red\"},\"radius\":{\"value\":0.01},\"x\":{\"field\":\"x\"},\"y\":{\"field\":\"y\"}},\"id\":\"1683\",\"type\":\"Circle\"},{\"attributes\":{},\"id\":\"1755\",\"type\":\"BasicTickFormatter\"},{\"attributes\":{},\"id\":\"1756\",\"type\":\"AllLabels\"},{\"attributes\":{\"tools\":[{\"id\":\"1667\"},{\"id\":\"1668\"},{\"id\":\"1669\"},{\"id\":\"1670\"},{\"id\":\"1671\"},{\"id\":\"1672\"}]},\"id\":\"1674\",\"type\":\"Toolbar\"},{\"attributes\":{},\"id\":\"1655\",\"type\":\"LinearScale\"},{\"attributes\":{\"data\":{\"x\":{\"__ndarray__\":\"0LQ1JqFRXT8SX5tlYcbdP6EMMemR3uY/EW4R9DDhqT85EKLgEpRUP6eSGUMJic4/0oxOrK8zTD+xD/tChPHaPyXKRDjNlXQ/lDTKTxM77D91CIAVtKBmP5Lp0fe7Rrs/38wdjgUu6D8BkyfbwAjyPkwgPmteKbk/uthLFck3nj/LNifYloBEP0aidA6t35c/0odRvJJpuT/PPYWxybrgPzx5C0iQpeA/rGmv7NudcT9tEGw5TmJ1Py+4E85LVYM/10BzvORJuz81gdEi62/OP9RQ6CqNp7s/JeG0YcEroz9Ic7DzqVOxPy7JYtcuWJA/+sQ6wpLHeD+tAmHQRaHePzJg7cvlUoE/gdc+RP/8zT8XzXTTvIhbP5/+88AkOe4/+vy01KjGMj+IebR55WByP2ZH89r2Ru8/rxeqacQ+5T//SSs1VH+8P5N/GfqcaO0/0LKJehLeyD+k7P88cqXkP1wyAwjA1ew/QaECBACluj/xUxijIt7lP5EMJkdAyHo/PptEBUAHsj9v9gu5YiHNP8nqTIyusLI/gCBXZTNtkj8NmnqQLrjWP7ysqdomU+g/QvyeMMW0OT+ah++rt6ngP8FTUyupT6I/q1O7NFyJMz9h2AwtGB+1PwPI0TBu36w/jbv6Q4QtuT+LhFinnsnZP49HCuKxa+0/mXJ6/WfP6j+LJTabJ46hP9JXOkkcH8g/LVSQ2YQc5D/xYZJIwAq+P81ME0eWYdQ/dJnhWvmwLj+g4/xcyx63P8AXE2ySBFk/wA0RW5AukT+fUYGGEYLdP1Z//RJ/Gnw/VUuBoKRtMD9c6+JWEwrNP083qFcHf9I/By8FOI/Ogj+zDhsAapXkPw7ixT4Fd4o/9XOJLZxfHD/Gxgd77U8iP2IXz5H+Rdw/XtnCZKnR0D/HCrUKzfvGP/d4SGmD2No/ieodNprmkT9nLTB263fQP5NCr9KUuec/Vl0eBC8CxD9bGZWsiWjTP5iFKoShlts/yO03Y3a04j8tPrBMNPyWP/P4RcgiqtM/kMyUQzm/5T95uK8MMK/IP77CiIr/JGY/hBdCMeqbvD8=\",\"dtype\":\"float64\",\"order\":\"little\",\"shape\":[100]},\"y\":{\"__ndarray__\":\"6at6kN15LD+vq7c0SBLXP/fCoG5bcuQ/2rbbfTEjkz8gr+AJJsMhP46zVUMd8MI/DlJ6YvJ1FT8dop6OhTHUP55gyShONUw/3kRtBmMT6z9VDPsYH2Y5P6+ECrOz3Kk/uvZx6AMG5j8pPN1C6sqdPgdzIXBOOac/oksBzwqtgj+uwRQIkw4MP421c/vUR3s/PAjmVHOIpz90OZEGUPTaP91ANnTBxto/bf+e7VTrRj85XJhHWa1NP8CYHzgHWGA/gYN8ObLgqT8C2/TWWtvCP/cW5XBhV6o/Icfp24GniT+f77ABqj6cPx64lUf/dXA/3fK5A4MPUj8lZL9tgfXXP9jZNq3/PFw/mWKRpah8wj9X2IVcRjAqPwoVY0E1p+0/T8IHpfXN8z6GX6eDEkBIPwwvTxw4Cu8/zvgS2KWI4j8N5HgizmqrPxGp/well+w/8ByWdxjOvD/PiVguJ9fhP2zRTFbi2es/KODPwQcRqT+tqQNH60LjP5zES39TCFQ/UMJ6o5rHnT8EQYkmA8nBP6dV2i4IP58/6b4SDopQcz/SKe4HOxbQPxUORPYmM+Y/9v7hpokb/j52Lrtzqs/aP3AhpJbEIYg/cehk95zh9D5Y4sTF12OiPyQWjcfjJJY/xKouV2k+pz/LChpe9wvTP8lIfcejm+w/4DZ8OkdG6T8GkYkPG9CGPxn0UtilqLs/U/i4ZxQ64T/jb3AwlGqtPzgHvvUP1ss/HLlEJF9E7j6HE0XIDr+kP0ujfsMQDCc/BgFUWE6YcT8tEI2yz8vWP2i6DktnXFU/FrQF0taS8D6I/pTvC7bBP/5Ksigkdcg/OzkoTbOBXz8liOzxsMThP+4Bsn9r12g/EZr/346i1T6V0WgyF2jePiMsAtSHiNU/YvJzRtGLxT8Jq5zz0O65Pz3lVQyNGNQ/Z0/5eVOVcj8dKl3eEPPEPxGeQTwNeeU/cm3dSH2OtT90D4qBLhTKPzl8X+cs19Q/7nec2HVH3z94lBZMbO95P0jgaNv2ico/QjjLOKYe4z/wynYExoW8Pw/Uj7ekrTg/uJ3Hun+Pqz8=\",\"dtype\":\"float64\",\"order\":\"little\",\"shape\":[100]}},\"selected\":{\"id\":\"1760\"},\"selection_policy\":{\"id\":\"1759\"}},\"id\":\"1687\",\"type\":\"ColumnDataSource\"},{\"attributes\":{\"data\":{\"x\":{\"__ndarray__\":\"OAFRQ4EUvz85Vx1kqMvoPzaERAArnOw/Tg5w/NCp1z9wsSYG8Z67P2t1u5Oq2OM/oJOFldhZuD+35oOktPvnP+hqs9HS7MU//RRrG9Ww7j8ghGKAoPXBP7a972pFV94/kZPEqHYl7T/ggj5PoG6aP4rK3Tceid0/9mdqhwDH0z8AANZGSOW1P16r+zCDSNI/qm2QJyii3T9D+bxxXcfpPzFSWwhyvOk/bNcQj+bQxD+06YlcgjTGPwyfHhNXDcs/ROxSQHFY3j/sW///N9PjP0a8Hj0Be94/Pp0igTlp1T/CAfSi+BTaP9J0DZUvHdA/2Fo6tLxSxz+xcePk2AfpP4yOCDWWFMo/l25r2iS64z+AKCjgqm++Pw71rC98Ze8/8IVuFV/gsD8wXrR1oxzFP6UWQ+PZwe8/SMSeO4Dq6z+Aow8ZfcneP1x8wDyeHO8/Q4FTvZKI4j8noJ6gtKbrP574Hft86O4/MNWXZNUa3j8lB0cBoi/sPxBV7utv78c/rFeGRuRt2j+zUJKUhYnjP9Z+9Iyxv9o/Fm+skWbF0D81/8VmdqjmPxRwfEhaNO0/4ArLclK9sj+sVlvclb7pP5STtuEHFtU/iIY6cu8ZsT9YYq3tmdzbPy41T9zjitg/luB/m72K3T/nweCfn6LnPwvguGW0He8/Pk+njsUq7j9EvJM7tcrUP9dKK2+mWOI/42iAtwpp6z8gmwlxY1XfP9pNV2I52uU/IPa4SMSOrz+mHx1D2rbcPyDpdFSxer0/pkQ97Xdi0D9a/P5ho7joP9y2mWeWUsg/GEUG8jkksD/vnHoeToTjP1b0SuImKOU/3Pbb1OrNyj+QAPCGip/rP4Dw0EB6Cc4/4EYoZ3ZmqD9g7Pi+OJGqP/1L/2kcX+g/f98+Wzp/5D9iqIBUmg3iP5PsEiRH9Oc/+KVBsyuc0D/DmOIfhFrkP80CzZhh9uw/I9hS0Og84T/v4aCWwn/lP6RaaKBPLOg/+YC0JH/B6j/yPHVdtQ3SPzuLwzLgl+U/P6VXyVMi7D8uEryf5XziP0gUK8ep1ME/cjoi/MTT3j8=\",\"dtype\":\"float64\",\"order\":\"little\",\"shape\":[100]},\"y\":{\"__ndarray__\":\"6T4Llscvjj+FUxi6jDbjPyBM9GNFlOk/n02gl6F/wT8tbpUtTNeHP+SEjCMLntg/u/nBIsGHgj/0Lk6Kj/nhP9XwerxaC54/WpYhwWBv7T+LLXfaryiUP9yRjSqQxMw/MJIC7hKM6j+lewnyQtVFP1LjHFDSQss/PDLFXkxyuD+A7CNgs/Z9P0nNIs9v5LQ/NMB4fh5xyz+Ewv4UXMTkP/88h+rHsuQ/kiYs3ecUmz/25PrREtGeP0cl8H+I3qY/3hEOycjGzD9kacJViZDYP5GJHyR7CM0/O2+I9uqmvD/hFCTHIULFP4e7JGeUOrA/TVeILsX/oD+KnUXSRJTjP95DsVSBQaU/+0rqH41S2D9W1k4R5vKMP1kALnbize4/IzFqkwjNcT8lYJtXYNubP63tYnoshO8/lboF2m5a6D/kMnE8v57NPyy6rS2MP+4/YDbQ7dd31T8erglFteTnP5iG+WyD2u0/1irvnGZSzD8VOlRpotPoP+9FgnQw56E/Qy8XVAzUxT+zBMdEO9vXP4MWadj8W8Y/4Jqtk1CUsT8fdT2qGQvgP/HXy0k5p+o/MrHJr7nydT8SRqU+ObbkP2rbLwbzybs/ibwA3UZHcj+sFX2INELIP4B+GZ6w0sI/y22YMdFFyz9QGiLp/3ThP8+KBxipQe4/rNLTlmtw7D/IfRY9zQS7P2KKq6dhCdU/fIIA5Jp65z+RJICEVK7OP3DGqv522N0/5cGfPxkfbz+kFf/NEsTJPyiRDtU3KIs/gp4X203HsD9fnidtHhnjP6Ry/MC2fKI/IYGf6cVIcD87hdeSf87XP4y3ztTK+ds/CQJoqcpzpj8IoKkuVdjnPzRHHwjIMaw/KSVEr/maYj/V0PtAjw5mP62IzU/Fj+I/aoxakwVC2j9ZaLvOpl7UP+h8XwFv7uE/biciu0s+sT94QWBiSuTZPya+HcmTNuo/mhwGmlaS0j9eFbz1WuPcPxfKW8y0QuI/az5JowBf5j9CfAfR4160P2MGRSlOJN0/15xAcze86D+kfnKb01zVP9AJY2Hz3pM/Xsk5y4qyzT8=\",\"dtype\":\"float64\",\"order\":\"little\",\"shape\":[100]}},\"selected\":{\"id\":\"1758\"},\"selection_policy\":{\"id\":\"1757\"}},\"id\":\"1681\",\"type\":\"ColumnDataSource\"},{\"attributes\":{},\"id\":\"1671\",\"type\":\"ResetTool\"},{\"attributes\":{\"axis_label\":\"Valor de distribuci\\u00f3n X\",\"coordinates\":null,\"formatter\":{\"id\":\"1755\"},\"group\":null,\"major_label_policy\":{\"id\":\"1756\"},\"ticker\":{\"id\":\"1660\"}},\"id\":\"1659\",\"type\":\"LinearAxis\"},{\"attributes\":{\"axis\":{\"id\":\"1663\"},\"coordinates\":null,\"dimension\":1,\"group\":null,\"ticker\":null},\"id\":\"1666\",\"type\":\"Grid\"},{\"attributes\":{},\"id\":\"1757\",\"type\":\"UnionRenderers\"},{\"attributes\":{},\"id\":\"1667\",\"type\":\"PanTool\"},{\"attributes\":{},\"id\":\"1668\",\"type\":\"WheelZoomTool\"},{\"attributes\":{},\"id\":\"1651\",\"type\":\"DataRange1d\"},{\"attributes\":{},\"id\":\"1758\",\"type\":\"Selection\"},{\"attributes\":{\"axis\":{\"id\":\"1659\"},\"coordinates\":null,\"group\":null,\"ticker\":null},\"id\":\"1662\",\"type\":\"Grid\"},{\"attributes\":{\"fill_color\":{\"value\":\"lightgreen\"},\"line_alpha\":{\"value\":0.8},\"line_color\":{\"value\":\"red\"},\"radius\":{\"value\":0.01},\"x\":{\"field\":\"x\"},\"y\":{\"field\":\"y\"}},\"id\":\"1682\",\"type\":\"Circle\"},{\"attributes\":{},\"id\":\"1657\",\"type\":\"LinearScale\"},{\"attributes\":{\"coordinates\":null,\"data_source\":{\"id\":\"1687\"},\"glyph\":{\"id\":\"1688\"},\"group\":null,\"hover_glyph\":null,\"muted_glyph\":{\"id\":\"1690\"},\"nonselection_glyph\":{\"id\":\"1689\"},\"view\":{\"id\":\"1692\"}},\"id\":\"1691\",\"type\":\"GlyphRenderer\"},{\"attributes\":{},\"id\":\"1653\",\"type\":\"DataRange1d\"},{\"attributes\":{\"source\":{\"id\":\"1687\"}},\"id\":\"1692\",\"type\":\"CDSView\"},{\"attributes\":{\"coordinates\":null,\"group\":null,\"text\":\"Transformaciones de distribuci\\u00f3n normal\"},\"id\":\"1649\",\"type\":\"Title\"},{\"attributes\":{\"bottom_units\":\"screen\",\"coordinates\":null,\"fill_alpha\":0.5,\"fill_color\":\"lightgrey\",\"group\":null,\"left_units\":\"screen\",\"level\":\"overlay\",\"line_alpha\":1.0,\"line_color\":\"black\",\"line_dash\":[4,4],\"line_width\":2,\"right_units\":\"screen\",\"syncable\":false,\"top_units\":\"screen\"},\"id\":\"1673\",\"type\":\"BoxAnnotation\"},{\"attributes\":{\"axis_label\":\"Valor de distribuci\\u00f3n Y\",\"coordinates\":null,\"formatter\":{\"id\":\"1752\"},\"group\":null,\"major_label_policy\":{\"id\":\"1753\"},\"ticker\":{\"id\":\"1664\"}},\"id\":\"1663\",\"type\":\"LinearAxis\"},{\"attributes\":{\"overlay\":{\"id\":\"1673\"}},\"id\":\"1669\",\"type\":\"BoxZoomTool\"}],\"root_ids\":[\"1648\"]},\"title\":\"Bokeh Application\",\"version\":\"2.4.1\"}};\n  const render_items = [{\"docid\":\"da169eb8-d1fc-41a4-a922-b19d31322220\",\"root_ids\":[\"1648\"],\"roots\":{\"1648\":\"7ee15ff6-a63a-4863-9279-a962abea97c0\"}}];\n  root.Bokeh.embed.embed_items_notebook(docs_json, render_items);\n\n  }\n  if (root.Bokeh !== undefined) {\n    embed_document(root);\n  } else {\n    let attempts = 0;\n    const timer = setInterval(function(root) {\n      if (root.Bokeh !== undefined) {\n        clearInterval(timer);\n        embed_document(root);\n      } else {\n        attempts++;\n        if (attempts > 100) {\n          clearInterval(timer);\n          console.log(\"Bokeh: ERROR: Unable to run BokehJS code because BokehJS library is missing\");\n        }\n      }\n    }, 10, root)\n  }\n})(window);",
      "application/vnd.bokehjs_exec.v0+json": ""
     },
     "metadata": {
      "application/vnd.bokehjs_exec.v0+json": {
       "id": "1648"
      }
     },
     "output_type": "display_data"
    }
   ],
   "source": [
    "p = figure(plot_width=500, plot_height=500, title='Transformaciones de distribución normal')\n",
    "\n",
    "normal = np.random.rand(100)\n",
    "square = normal**2\n",
    "cubic = normal**3\n",
    "polynomic = normal**4\n",
    "\n",
    "\n",
    "p.circle(normal ,square, \n",
    "         fill_color  = 'lightgreen',\n",
    "         line_alpha = 0.8,\n",
    "         line_color = 'red',\n",
    "         radius = 0.01)\n",
    "\n",
    "p.square(cubic ,polynomic, \n",
    "         fill_color  = 'lightblue',\n",
    "         line_alpha = 1,\n",
    "         line_color = 'brown',\n",
    "         size = 8)\n",
    "\n",
    "p.xaxis.axis_label = 'Valor de distribución X'\n",
    "p.yaxis.axis_label = 'Valor de distribución Y'\n",
    "\n",
    "\n",
    "show(p)\n"
   ]
  },
  {
   "cell_type": "markdown",
   "metadata": {},
   "source": [
    "También podemos cambiar elementos descriptivos de los ejes"
   ]
  },
  {
   "cell_type": "code",
   "execution_count": 12,
   "metadata": {},
   "outputs": [
    {
     "data": {
      "text/html": [
       "\n",
       "\n",
       "\n",
       "\n",
       "\n",
       "\n",
       "  <div class=\"bk-root\" id=\"af21ffb6-ee22-48e8-9c20-f34e55f90376\" data-root-id=\"1822\"></div>\n"
      ]
     },
     "metadata": {},
     "output_type": "display_data"
    },
    {
     "data": {
      "application/javascript": "(function(root) {\n  function embed_document(root) {\n    \n  const docs_json = {\"c1355836-d753-43a5-8473-8e4db6011573\":{\"defs\":[],\"roots\":{\"references\":[{\"attributes\":{\"below\":[{\"id\":\"1833\"}],\"center\":[{\"id\":\"1836\"},{\"id\":\"1840\"}],\"height\":500,\"left\":[{\"id\":\"1837\"}],\"renderers\":[{\"id\":\"1859\"},{\"id\":\"1865\"}],\"title\":{\"id\":\"1823\"},\"toolbar\":{\"id\":\"1848\"},\"width\":500,\"x_range\":{\"id\":\"1825\"},\"x_scale\":{\"id\":\"1829\"},\"y_range\":{\"id\":\"1827\"},\"y_scale\":{\"id\":\"1831\"}},\"id\":\"1822\",\"subtype\":\"Figure\",\"type\":\"Plot\"},{\"attributes\":{},\"id\":\"1946\",\"type\":\"Selection\"},{\"attributes\":{},\"id\":\"1938\",\"type\":\"BasicTickFormatter\"},{\"attributes\":{\"source\":{\"id\":\"1861\"}},\"id\":\"1866\",\"type\":\"CDSView\"},{\"attributes\":{},\"id\":\"1939\",\"type\":\"AllLabels\"},{\"attributes\":{},\"id\":\"1941\",\"type\":\"BasicTickFormatter\"},{\"attributes\":{\"coordinates\":null,\"data_source\":{\"id\":\"1861\"},\"glyph\":{\"id\":\"1862\"},\"group\":null,\"hover_glyph\":null,\"muted_glyph\":{\"id\":\"1864\"},\"nonselection_glyph\":{\"id\":\"1863\"},\"view\":{\"id\":\"1866\"}},\"id\":\"1865\",\"type\":\"GlyphRenderer\"},{\"attributes\":{\"coordinates\":null,\"data_source\":{\"id\":\"1855\"},\"glyph\":{\"id\":\"1856\"},\"group\":null,\"hover_glyph\":null,\"muted_glyph\":{\"id\":\"1858\"},\"nonselection_glyph\":{\"id\":\"1857\"},\"view\":{\"id\":\"1860\"}},\"id\":\"1859\",\"type\":\"GlyphRenderer\"},{\"attributes\":{},\"id\":\"1942\",\"type\":\"AllLabels\"},{\"attributes\":{\"source\":{\"id\":\"1855\"}},\"id\":\"1860\",\"type\":\"CDSView\"},{\"attributes\":{\"fill_alpha\":{\"value\":0.1},\"fill_color\":{\"value\":\"lightblue\"},\"hatch_alpha\":{\"value\":0.1},\"line_alpha\":{\"value\":0.1},\"line_color\":{\"value\":\"brown\"},\"marker\":{\"value\":\"square\"},\"size\":{\"value\":8},\"x\":{\"field\":\"x\"},\"y\":{\"field\":\"y\"}},\"id\":\"1863\",\"type\":\"Scatter\"},{\"attributes\":{\"data\":{\"x\":{\"__ndarray__\":\"vflnoFCDGT4CX8OHSdjvPwmzJd/J1sQ/EfGqJHxP2T9poBs6Xem1P6F65c7PSIw/NukgCgHuyz/7Dz2qZNN1P/dN3KQeMbE/WJzTIP+WxT+iu6HTTH/CP30FJiSEPLI/vLfWM4uc1z+G4SxOlcHUPyz7d0Ywi64/vI6u0Kpnxz+01s28PnirP52DKz3n6OU/TTwgCnJiij8+Z65hCjPhPwlYWGziquQ/8x870aiaUT8GdkTS4d15P+vqcQn3M+o/g9KSc/C3oj8uska9hTqxPl4SNP9n6Mo/y2Jz2yfq1z6Q+3jhrssuP6ENGOJEXuo/aviJO1uy7j8M4uhZQlPnP2fg1oYic+I/NEhtDt8ZqT81uKkVnArjP+IGEV0Cx9g/TYyabpuDcj8fvfsjekqsP8Ww4KU083A/NTdb5S2Q5T8bbKPQBqHIP7kyhzLH0RI/K8fbDU/Ikz+K4vM4KinpP9vNxk27pGU/TrvgePpf7j8NZvsbar/hPwsF/oMyrWw/LCYWbM3goj5rMJ5BloytP+1v5N5aNrQ/tAtT/zfClz879XP1xMPuP55MfFAGfdI/C3AkvWZL7D/WuMzb+ILDP+d3MovbFIo/C3Xt/c5h5T9pKq+R3+FLP+CfQShhD68//m8l127otz86sMlhGj7bP9ypk4h2CMs/VAgVy23s3j/gqwbrVLS7P8OMfmarlWA/vN24la4bwD8/L/n4biPmP8LYlqVeXkI/CuBk0ijU2z+QnGduvJuIP8N7MHj+cNE+vi5g6fH2mD8Jy4sUrqIAP6ooMQZF5ds/8a4htqXV0D84QENCZq7UP9o7vqqKzcU/2A6Z/2+A0T8saI/wk9mSP20ySPt5luw//hb6KlNYxT9syJ1td1C7P9IvO7ChuG0/emCqWJNTyz9SWGF/K3hBP9pldiuv9eU/Ti1qWF4G4D8jteEZiQDRP72X6l4fbjo/t0O1Njmuxz8M7yVqgJllPymWs5KuDuE/jQ0Y1tNawD/Pi1dTpWrtP67uiplo9cM/c+Jk0ZbwGT/qIgmeiTzpP6v5G9wkOqk/5IWNaJ/RgT8=\",\"dtype\":\"float64\",\"order\":\"little\",\"shape\":[100]},\"y\":{\"__ndarray__\":\"kr4GXWfOfT2e9sirF8vvP+45khb9wbY/KBrjYQ+U0j9CCjFhHFCjP4jLcEf1JGs/N417/YXQwD8Z2lGJU39OP3KxxyCu85s/Db8usofbtz9u6dvV2WmzPzkZBfskPZ4/ADVO8zjv0D+JEqGnaIXMPzz84N973pc/8j4nTpaRuj8M8rOll7iUP7jltbiRT+M/d/SftK69aD+5Gk822PfbP7FRN3Br3eE/Xc+n9WHZHD9L7+VP7h9TP4ybycaig+g/Owv01q3ZiD+vkPK8pj9GPkQpUNan/78/xltArc1Xez5LtPTqgmfuPoaOwxp2uOg/K8dbeDBG7j8EovCu6/3kP8r0Nngitt4/fox+Uqlfkj8KVc5nDgTgP1+XhrH2DtI/j/Tj9zZ9SD/ter9IFY2VPxKztgUwxUU/NBc7QpTn4j+9P/Tc9m+8Pwc1FiZ1B8k+osTLbII7dT8a0+czDjnnP0NZB4LG7zc/BA1tuQ3a7T+Mi+hrzSndP+W7wfqsakE/neagbsLyMz4Ep0X+pdaWP5qzIZGcV6E/Pb2uofwaez9fkAp1GF3uP/bo5Lebccg/y+sVnEUo6z93kwLqgti0PyVrUs3cXGg/iW9+UXOx4j+/IUg+GCMVPwryRdWbaJg/tZFczqmxpT9sC1gkMn7UP3SuihJDGcA/CJxeogNE2D/9v1fhnWeqP/9mINbDyDA/LzAkaPMksD9G/hC9eJTjPwla2KKgOwg/vLXTzDwV1T/St7DYpYtmP96zkIU883E+pNwzGIn0fD/dCl17VNqwPv83NyOHJtU/bE+iVKCSxT+7MiRdSGLMP24aHhQHLLg/3cAuw1m4xj8SiOlQlehzP9/we7ODiOs/TQrBnF1/tz/0zjklAumpP0s8o2GMREI/HfxFxQJVwD8MaNl2C6oGPz4zJ0OYXuM/j7DSOHpz2T8QWQ/cBtzFPyq7hONWPv8+GwJFc5b8uj8Z6HWgON83P2mnJkwfqds/AvuYd4x5sD+zbi6aR5rsP+GXJk4lfLU/jrU2kWEy0z5gLoJ66FDnP4hjEnQvf5I/sGhs67hRXT8=\",\"dtype\":\"float64\",\"order\":\"little\",\"shape\":[100]}},\"selected\":{\"id\":\"1946\"},\"selection_policy\":{\"id\":\"1945\"}},\"id\":\"1861\",\"type\":\"ColumnDataSource\"},{\"attributes\":{},\"id\":\"1846\",\"type\":\"HelpTool\"},{\"attributes\":{\"axis_label\":\"Valor de distribuci\\u00f3n Y\",\"coordinates\":null,\"formatter\":{\"id\":\"1938\"},\"group\":null,\"major_label_orientation\":\"vertical\",\"major_label_policy\":{\"id\":\"1939\"},\"major_label_text_color\":\"red\",\"ticker\":{\"id\":\"1838\"}},\"id\":\"1837\",\"type\":\"LinearAxis\"},{\"attributes\":{\"axis\":{\"id\":\"1833\"},\"coordinates\":null,\"group\":null,\"ticker\":null},\"id\":\"1836\",\"type\":\"Grid\"},{\"attributes\":{},\"id\":\"1943\",\"type\":\"UnionRenderers\"},{\"attributes\":{},\"id\":\"1825\",\"type\":\"DataRange1d\"},{\"attributes\":{},\"id\":\"1834\",\"type\":\"BasicTicker\"},{\"attributes\":{},\"id\":\"1944\",\"type\":\"Selection\"},{\"attributes\":{\"fill_color\":{\"value\":\"lightgreen\"},\"line_alpha\":{\"value\":0.8},\"line_color\":{\"value\":\"red\"},\"radius\":{\"value\":0.01},\"x\":{\"field\":\"x\"},\"y\":{\"field\":\"y\"}},\"id\":\"1856\",\"type\":\"Circle\"},{\"attributes\":{\"tools\":[{\"id\":\"1841\"},{\"id\":\"1842\"},{\"id\":\"1843\"},{\"id\":\"1844\"},{\"id\":\"1845\"},{\"id\":\"1846\"}]},\"id\":\"1848\",\"type\":\"Toolbar\"},{\"attributes\":{},\"id\":\"1831\",\"type\":\"LinearScale\"},{\"attributes\":{\"bottom_units\":\"screen\",\"coordinates\":null,\"fill_alpha\":0.5,\"fill_color\":\"lightgrey\",\"group\":null,\"left_units\":\"screen\",\"level\":\"overlay\",\"line_alpha\":1.0,\"line_color\":\"black\",\"line_dash\":[4,4],\"line_width\":2,\"right_units\":\"screen\",\"syncable\":false,\"top_units\":\"screen\"},\"id\":\"1847\",\"type\":\"BoxAnnotation\"},{\"attributes\":{},\"id\":\"1829\",\"type\":\"LinearScale\"},{\"attributes\":{\"fill_alpha\":{\"value\":0.2},\"fill_color\":{\"value\":\"lightblue\"},\"hatch_alpha\":{\"value\":0.2},\"line_alpha\":{\"value\":0.2},\"line_color\":{\"value\":\"brown\"},\"marker\":{\"value\":\"square\"},\"size\":{\"value\":8},\"x\":{\"field\":\"x\"},\"y\":{\"field\":\"y\"}},\"id\":\"1864\",\"type\":\"Scatter\"},{\"attributes\":{},\"id\":\"1845\",\"type\":\"ResetTool\"},{\"attributes\":{\"coordinates\":null,\"group\":null,\"text\":\"Transformaciones de distribuci\\u00f3n normal\"},\"id\":\"1823\",\"type\":\"Title\"},{\"attributes\":{\"fill_alpha\":{\"value\":0.2},\"fill_color\":{\"value\":\"lightgreen\"},\"hatch_alpha\":{\"value\":0.2},\"line_alpha\":{\"value\":0.2},\"line_color\":{\"value\":\"red\"},\"radius\":{\"value\":0.01},\"x\":{\"field\":\"x\"},\"y\":{\"field\":\"y\"}},\"id\":\"1858\",\"type\":\"Circle\"},{\"attributes\":{},\"id\":\"1844\",\"type\":\"SaveTool\"},{\"attributes\":{\"overlay\":{\"id\":\"1847\"}},\"id\":\"1843\",\"type\":\"BoxZoomTool\"},{\"attributes\":{},\"id\":\"1841\",\"type\":\"PanTool\"},{\"attributes\":{\"axis_label\":\"Valor de distribuci\\u00f3n X\",\"axis_line_color\":\"blue\",\"axis_line_width\":2,\"coordinates\":null,\"formatter\":{\"id\":\"1941\"},\"group\":null,\"major_label_policy\":{\"id\":\"1942\"},\"major_label_text_color\":\"blue\",\"ticker\":{\"id\":\"1834\"}},\"id\":\"1833\",\"type\":\"LinearAxis\"},{\"attributes\":{\"fill_alpha\":{\"value\":0.1},\"fill_color\":{\"value\":\"lightgreen\"},\"hatch_alpha\":{\"value\":0.1},\"line_alpha\":{\"value\":0.1},\"line_color\":{\"value\":\"red\"},\"radius\":{\"value\":0.01},\"x\":{\"field\":\"x\"},\"y\":{\"field\":\"y\"}},\"id\":\"1857\",\"type\":\"Circle\"},{\"attributes\":{},\"id\":\"1842\",\"type\":\"WheelZoomTool\"},{\"attributes\":{\"fill_color\":{\"value\":\"lightblue\"},\"line_color\":{\"value\":\"brown\"},\"marker\":{\"value\":\"square\"},\"size\":{\"value\":8},\"x\":{\"field\":\"x\"},\"y\":{\"field\":\"y\"}},\"id\":\"1862\",\"type\":\"Scatter\"},{\"attributes\":{},\"id\":\"1838\",\"type\":\"BasicTicker\"},{\"attributes\":{\"axis\":{\"id\":\"1837\"},\"coordinates\":null,\"dimension\":1,\"group\":null,\"ticker\":null},\"id\":\"1840\",\"type\":\"Grid\"},{\"attributes\":{\"data\":{\"x\":{\"__ndarray__\":\"APoIO0axUj+FnpivvfLvP/yMzoQjeeE/EDmXzhN95z8EML47dDTcPwwdYJvOtc4/I/jJT9ZD4z9sPwHWYlvGP361EdCXA9o/iLRyMzqu4T+rBXF+4srgPzpw20HSh9o/LDa+q2fz5j+SvmEQU/zlP8z1km7TAdk/lfNZm6wp4j++UhltbCPYP8G7T5tBNOw/GDBvhK8Bzj9VsGjNjwTqP0CajOwhqes/mBjs52c4uj9c8o2/zqjHP65gzU0G8O0/AG5MucM91T+A0gXoe6mEP+MkI+/wBuM/oCNnqC9Lkj+gDqkl6ZevP9j2zR8aAO4/GNzkkD2P7z/srZsfgszsPwKP2JI0ouo/1uuYVXJs1z8r4mAIVOrqPyqnW2aPUuc/KMIpo+UpxT+snksUZmDYP8D9A7bRjMQ/ctZjlPsN7D+PWFXhW3niP/DwqFGFR6U/4rry5Dks0T9pU23LCYntP5RL4T35scE/9UcG/ehy7z9nHSHLmkrqPzB0MyBpb8M/QKqeoDDogD+mTkYBk7vYP9BQCILCdNs/FuXXB/tA0j/aiysdNJXvPx3HaT9jJ+U/K9XEgb627j/J7owTEhjhPyDgWsUo5M0/AOO16tD56z+Qp5CZNUK4PxAflmqzJdk/dp8mtGUJ3T+9OfmXWBLoP9uW90d8DuM/Hy/oLEEc6T9k76KLsn/eP6wlJFJLMcA/lAS05DQJ4D/U8M/QSE3sPwDVNL2rG7U/DtqwyTo+6D+YSfz0SVHNP+B2CJ16d5A/SHTbi76O0j9gYcExhjWgP/0JYLYxQ+g/GJKRtdiA5D8q9tz9ivXlPyIuLXQRveE/gGsme0nF5D9EMYI6CObQP6aeNs/Q0e4/c89N6Q2d4T+2hrDI4FreP2hoebobq8M/5m0GZRIg4z8AemSxA8K0P6wFuYK8Oew/pn2R3lxp6T9ZoOJgM5LkP0jmBhzy6bI/XOToqto74j8AAx076a7BP0cadXUt8uk/50i7BA4e4D+Unh+3VR3vP1emhdg8OeE/kCZOfIGupz9Gr5FmnJDtP8BPqfB3dtc/BGvBeJVTyj8=\",\"dtype\":\"float64\",\"order\":\"little\",\"shape\":[100]},\"y\":{\"__ndarray__\":\"hJ7iJ4rWtT5+/ZvdgOXvPwJ5vqMAFdM//qHDW7U94T+1L/VjIdzIPyfZx1HseK0/uoCSmzwy1z9YRSjDWT2fPy8DZBnXJcU/HXQG4KSJ0z8F6WCg0Z/RP8nCdSb2/sU/hcD1++l14D851TNF5TXeP+6EcXfaisM/AqNs6TCe1D9hBUTaSTXCP5rNiiXI2+g/xHMLLykjrD+0sUNUaiflPyDIoy3n6Oc/3sXcRQx8hT+TJW+zI36hP9CFlMsTAuw/kMQnNBAzvD+9lVMRua4aPwvm0jp/oNY/YMtAiozqND9qpO3fJDFvP6OCt/swIOw/1tpwdwgg7z83knS0/urpP+0YRaPLKuY/Ah5m4FMlwT9wpHR7fKPmPyDykiSD/+A/t6gRgmj+mz8p1TCEu5HCP3jrt6fjZJo/9CrRX36Y6D+t0b86p1TVPwoT56n9TFw/MoDARXVusj/D/pacrELrPzZwIk3tkZM/11TnDEDo7j8YEe546ZnlP8K0y3Ghm5c/zhcDxIrdET9mr6sCqB3DP14PO0Kyjsc/tAhHuTzTtD9l4yimzCvvPw9wsnzF99s/uVXDzrh67T9MjtqfSkPSP1j35Krk66s/o4+rzC516D+bN8xj2WOCP4P9XsEUw8M/6pP+GAtZyj+pFZZojxviP1FUL0h0stY/oR6+yD604z/+EepabBHNP3f8AYMuY5A/BC+YFW8S0D8kf34U+gfpP3amfKvS2Hs/etTCMtFd4j+rbxyLJNyqP29snG1x8jA/VXu9OSaGtT/n5fFwv2tQP7v7CKpXZeI/xDS8XCtG2j8BALoPRSPeP5a3S0N/qtM/ShaqVrj22j/pvJqh+9ixP/OtaznHru0/RAjUMMNj0z8d3N6OZ8vMP+ZIwruHLZg/hoSY+Wvc1j/DzwnVOe56PyX/qxBy5eg/7XRFBvwt5D+8tINcuHLaPxdfz2i9W3Y/z+/k6IvH1D/pJ6u7J4uTP0UYWNePCeU/aZgUflQ80D9+xQ738EDuPxcdig5uitI/ax3kxJGGYT8uln/8qFDrP03QQwADNME/k+dWNq2opT8=\",\"dtype\":\"float64\",\"order\":\"little\",\"shape\":[100]}},\"selected\":{\"id\":\"1944\"},\"selection_policy\":{\"id\":\"1943\"}},\"id\":\"1855\",\"type\":\"ColumnDataSource\"},{\"attributes\":{},\"id\":\"1827\",\"type\":\"DataRange1d\"},{\"attributes\":{},\"id\":\"1945\",\"type\":\"UnionRenderers\"}],\"root_ids\":[\"1822\"]},\"title\":\"Bokeh Application\",\"version\":\"2.4.1\"}};\n  const render_items = [{\"docid\":\"c1355836-d753-43a5-8473-8e4db6011573\",\"root_ids\":[\"1822\"],\"roots\":{\"1822\":\"af21ffb6-ee22-48e8-9c20-f34e55f90376\"}}];\n  root.Bokeh.embed.embed_items_notebook(docs_json, render_items);\n\n  }\n  if (root.Bokeh !== undefined) {\n    embed_document(root);\n  } else {\n    let attempts = 0;\n    const timer = setInterval(function(root) {\n      if (root.Bokeh !== undefined) {\n        clearInterval(timer);\n        embed_document(root);\n      } else {\n        attempts++;\n        if (attempts > 100) {\n          clearInterval(timer);\n          console.log(\"Bokeh: ERROR: Unable to run BokehJS code because BokehJS library is missing\");\n        }\n      }\n    }, 10, root)\n  }\n})(window);",
      "application/vnd.bokehjs_exec.v0+json": ""
     },
     "metadata": {
      "application/vnd.bokehjs_exec.v0+json": {
       "id": "1822"
      }
     },
     "output_type": "display_data"
    }
   ],
   "source": [
    "p = figure(plot_width=500, plot_height=500, title='Transformaciones de distribución normal')\n",
    "\n",
    "normal = np.random.rand(100)\n",
    "square = normal**2\n",
    "cubic = normal**3\n",
    "polynomic = normal**4\n",
    "\n",
    "\n",
    "p.circle(normal ,square, \n",
    "         fill_color  = 'lightgreen',\n",
    "         line_alpha = 0.8,\n",
    "         line_color = 'red',\n",
    "         radius = 0.01)\n",
    "\n",
    "p.square(cubic ,polynomic, \n",
    "         fill_color  = 'lightblue',\n",
    "         line_alpha = 1,\n",
    "         line_color = 'brown',\n",
    "         size = 8)\n",
    "\n",
    "p.xaxis.axis_label = 'Valor de distribución X'\n",
    "p.yaxis.axis_label = 'Valor de distribución Y'\n",
    "\n",
    "p.yaxis.major_label_text_color = \"red\"\n",
    "p.yaxis.major_label_orientation = \"vertical\"\n",
    "\n",
    "p.xaxis.axis_line_width = 2\n",
    "p.xaxis.axis_line_color = \"blue\"\n",
    "p.xaxis.major_label_text_color = \"blue\"\n",
    "\n",
    "\n",
    "show(p)\n"
   ]
  },
  {
   "cell_type": "markdown",
   "metadata": {},
   "source": [
    "A continuación, mostraremos cómo generar un diagrama de barras, primero vamos a diseñar un dataframe sencillo."
   ]
  },
  {
   "cell_type": "code",
   "execution_count": 13,
   "metadata": {},
   "outputs": [],
   "source": [
    "import pandas as pd\n",
    "items = ['Naranjas', 'Fresas', 'Manzanas', 'Plátanos', 'Mango']\n",
    "volumen_venta = np.random.randint(100, 1000, 5)\n",
    "ingresos_totales = np.random.randint(1000, 25000, 5)\n",
    "\n",
    "df = pd.DataFrame({\n",
    "    'Productos': items,\n",
    "    'Volumen': volumen_venta,\n",
    "    'Ingresos': ingresos_totales\n",
    "})"
   ]
  },
  {
   "cell_type": "markdown",
   "metadata": {},
   "source": [
    "Seguidamente, con <code>**vbar**</code> mostraremos un diagrama de barras sobre el volumen de ventas por producto."
   ]
  },
  {
   "cell_type": "code",
   "execution_count": 14,
   "metadata": {},
   "outputs": [
    {
     "data": {
      "text/html": [
       "\n",
       "\n",
       "\n",
       "\n",
       "\n",
       "\n",
       "  <div class=\"bk-root\" id=\"7e93f582-1c9d-40db-bbe2-eba5e370fa2a\" data-root-id=\"2008\"></div>\n"
      ]
     },
     "metadata": {},
     "output_type": "display_data"
    },
    {
     "data": {
      "application/javascript": "(function(root) {\n  function embed_document(root) {\n    \n  const docs_json = {\"005d5810-6a41-4af3-bd8c-1130f3750d11\":{\"defs\":[],\"roots\":{\"references\":[{\"attributes\":{\"below\":[{\"id\":\"2019\"}],\"center\":[{\"id\":\"2021\"},{\"id\":\"2025\"}],\"height\":350,\"left\":[{\"id\":\"2022\"}],\"renderers\":[{\"id\":\"2044\"}],\"title\":{\"id\":\"2009\"},\"toolbar\":{\"id\":\"2033\"},\"x_range\":{\"id\":\"2011\"},\"x_scale\":{\"id\":\"2015\"},\"y_range\":{\"id\":\"2013\"},\"y_scale\":{\"id\":\"2017\"}},\"id\":\"2008\",\"subtype\":\"Figure\",\"type\":\"Plot\"},{\"attributes\":{\"coordinates\":null,\"data_source\":{\"id\":\"2040\"},\"glyph\":{\"id\":\"2041\"},\"group\":null,\"hover_glyph\":null,\"muted_glyph\":{\"id\":\"2043\"},\"nonselection_glyph\":{\"id\":\"2042\"},\"view\":{\"id\":\"2045\"}},\"id\":\"2044\",\"type\":\"GlyphRenderer\"},{\"attributes\":{\"coordinates\":null,\"group\":null,\"text\":\"Volumen de ventas\"},\"id\":\"2009\",\"type\":\"Title\"},{\"attributes\":{},\"id\":\"2134\",\"type\":\"UnionRenderers\"},{\"attributes\":{},\"id\":\"2135\",\"type\":\"Selection\"},{\"attributes\":{},\"id\":\"2130\",\"type\":\"AllLabels\"},{\"attributes\":{},\"id\":\"2015\",\"type\":\"CategoricalScale\"},{\"attributes\":{\"fill_alpha\":{\"value\":0.2},\"fill_color\":{\"field\":\"fill_color\"},\"hatch_alpha\":{\"value\":0.2},\"line_alpha\":{\"value\":0.2},\"line_color\":{\"value\":\"#1f77b4\"},\"top\":{\"field\":\"top\"},\"width\":{\"value\":0.9},\"x\":{\"field\":\"x\"}},\"id\":\"2043\",\"type\":\"VBar\"},{\"attributes\":{\"axis\":{\"id\":\"2019\"},\"coordinates\":null,\"group\":null,\"ticker\":null},\"id\":\"2021\",\"type\":\"Grid\"},{\"attributes\":{},\"id\":\"2017\",\"type\":\"LinearScale\"},{\"attributes\":{\"fill_alpha\":{\"value\":0.1},\"fill_color\":{\"field\":\"fill_color\"},\"hatch_alpha\":{\"value\":0.1},\"line_alpha\":{\"value\":0.1},\"line_color\":{\"value\":\"#1f77b4\"},\"top\":{\"field\":\"top\"},\"width\":{\"value\":0.9},\"x\":{\"field\":\"x\"}},\"id\":\"2042\",\"type\":\"VBar\"},{\"attributes\":{\"coordinates\":null,\"formatter\":{\"id\":\"2129\"},\"group\":null,\"major_label_policy\":{\"id\":\"2130\"},\"ticker\":{\"id\":\"2023\"}},\"id\":\"2022\",\"type\":\"LinearAxis\"},{\"attributes\":{},\"id\":\"2129\",\"type\":\"BasicTickFormatter\"},{\"attributes\":{},\"id\":\"2031\",\"type\":\"HelpTool\"},{\"attributes\":{},\"id\":\"2026\",\"type\":\"PanTool\"},{\"attributes\":{},\"id\":\"2132\",\"type\":\"CategoricalTickFormatter\"},{\"attributes\":{\"factors\":[\"Naranjas\",\"Fresas\",\"Manzanas\",\"Pl\\u00e1tanos\",\"Mango\"]},\"id\":\"2011\",\"type\":\"FactorRange\"},{\"attributes\":{\"overlay\":{\"id\":\"2032\"}},\"id\":\"2028\",\"type\":\"BoxZoomTool\"},{\"attributes\":{},\"id\":\"2029\",\"type\":\"SaveTool\"},{\"attributes\":{\"fill_alpha\":{\"value\":0.6},\"fill_color\":{\"field\":\"fill_color\"},\"line_color\":{\"value\":\"#1f77b4\"},\"top\":{\"field\":\"top\"},\"width\":{\"value\":0.9},\"x\":{\"field\":\"x\"}},\"id\":\"2041\",\"type\":\"VBar\"},{\"attributes\":{},\"id\":\"2013\",\"type\":\"DataRange1d\"},{\"attributes\":{\"source\":{\"id\":\"2040\"}},\"id\":\"2045\",\"type\":\"CDSView\"},{\"attributes\":{\"tools\":[{\"id\":\"2026\"},{\"id\":\"2027\"},{\"id\":\"2028\"},{\"id\":\"2029\"},{\"id\":\"2030\"},{\"id\":\"2031\"}]},\"id\":\"2033\",\"type\":\"Toolbar\"},{\"attributes\":{},\"id\":\"2023\",\"type\":\"BasicTicker\"},{\"attributes\":{\"axis\":{\"id\":\"2022\"},\"coordinates\":null,\"dimension\":1,\"group\":null,\"ticker\":null},\"id\":\"2025\",\"type\":\"Grid\"},{\"attributes\":{\"data\":{\"fill_color\":[\"#DF5837\",\"#A9E915\",\"#CA09A9\",\"#1E82A8\",\"#F9E13A\"],\"top\":{\"__ndarray__\":\"+QEAAGIDAAAuAQAAhAEAADQBAAA=\",\"dtype\":\"int32\",\"order\":\"little\",\"shape\":[5]},\"x\":[\"Naranjas\",\"Fresas\",\"Manzanas\",\"Pl\\u00e1tanos\",\"Mango\"]},\"selected\":{\"id\":\"2135\"},\"selection_policy\":{\"id\":\"2134\"}},\"id\":\"2040\",\"type\":\"ColumnDataSource\"},{\"attributes\":{\"bottom_units\":\"screen\",\"coordinates\":null,\"fill_alpha\":0.5,\"fill_color\":\"lightgrey\",\"group\":null,\"left_units\":\"screen\",\"level\":\"overlay\",\"line_alpha\":1.0,\"line_color\":\"black\",\"line_dash\":[4,4],\"line_width\":2,\"right_units\":\"screen\",\"syncable\":false,\"top_units\":\"screen\"},\"id\":\"2032\",\"type\":\"BoxAnnotation\"},{\"attributes\":{},\"id\":\"2027\",\"type\":\"WheelZoomTool\"},{\"attributes\":{},\"id\":\"2020\",\"type\":\"CategoricalTicker\"},{\"attributes\":{},\"id\":\"2030\",\"type\":\"ResetTool\"},{\"attributes\":{\"coordinates\":null,\"formatter\":{\"id\":\"2132\"},\"group\":null,\"major_label_policy\":{\"id\":\"2133\"},\"ticker\":{\"id\":\"2020\"}},\"id\":\"2019\",\"type\":\"CategoricalAxis\"},{\"attributes\":{},\"id\":\"2133\",\"type\":\"AllLabels\"}],\"root_ids\":[\"2008\"]},\"title\":\"Bokeh Application\",\"version\":\"2.4.1\"}};\n  const render_items = [{\"docid\":\"005d5810-6a41-4af3-bd8c-1130f3750d11\",\"root_ids\":[\"2008\"],\"roots\":{\"2008\":\"7e93f582-1c9d-40db-bbe2-eba5e370fa2a\"}}];\n  root.Bokeh.embed.embed_items_notebook(docs_json, render_items);\n\n  }\n  if (root.Bokeh !== undefined) {\n    embed_document(root);\n  } else {\n    let attempts = 0;\n    const timer = setInterval(function(root) {\n      if (root.Bokeh !== undefined) {\n        clearInterval(timer);\n        embed_document(root);\n      } else {\n        attempts++;\n        if (attempts > 100) {\n          clearInterval(timer);\n          console.log(\"Bokeh: ERROR: Unable to run BokehJS code because BokehJS library is missing\");\n        }\n      }\n    }, 10, root)\n  }\n})(window);",
      "application/vnd.bokehjs_exec.v0+json": ""
     },
     "metadata": {
      "application/vnd.bokehjs_exec.v0+json": {
       "id": "2008"
      }
     },
     "output_type": "display_data"
    }
   ],
   "source": [
    "p = figure(x_range=df['Productos'], plot_height=350, \n",
    "           title=\"Volumen de ventas\")\n",
    "\n",
    "p.vbar(x=df['Productos'], top=df['Volumen'], \n",
    "       width=0.9, \n",
    "       fill_color=['#DF5837', '#A9E915', '#CA09A9', '#1E82A8', '#F9E13A'], \n",
    "       fill_alpha=0.6)\n",
    "\n",
    "# Podemos generar colores en hexadecimal con https://htmlcolorcodes.com/\n",
    "\n",
    "show(p)"
   ]
  },
  {
   "cell_type": "markdown",
   "metadata": {},
   "source": [
    "Aunque de una forma algo más compleja que utilizando Seaborn o Ggplot, en Bokeh, también podemos generar gradientes de color en función de una variable. Para ello tenemos que tener en cuenta tres funciones:\n",
    "* <code>__LinearColorMapper__</code>: Pasamos como parámetros **palette**, que toma valor de una paleta de colores que podemos encontrar disponbiles en el siguiente enlace https://docs.bokeh.org/en/latest/docs/reference/palettes.html#bokeh-palettes **low**: Valor mínimo de la variable, **high**: Valor máximo de la variable. Generamos una secuencia de colores en función del rango de nuestra variable.\n",
    "* <code>**ColorBar**</code>: Dentro de los parámetros que recibe, el más importante es **color_mapper** que recibe un objeto generado previamente LinearColorMapper. Esta función genera una leyenda con los colores de nuestra variable.\n",
    "* Dentro de la función de nuestro gráfico, en este caso nube de puntos, en el parámetro color utilizaremos la función <code>**transform**</code> a la cuál pasaremos el nombre de la columna y nuestro objeto LinearColorMapper.\n"
   ]
  },
  {
   "cell_type": "code",
   "execution_count": 15,
   "metadata": {},
   "outputs": [
    {
     "data": {
      "text/html": [
       "\n",
       "\n",
       "\n",
       "\n",
       "\n",
       "\n",
       "  <div class=\"bk-root\" id=\"a3d6fde2-e848-4275-969a-a916686d05e4\" data-root-id=\"2189\"></div>\n"
      ]
     },
     "metadata": {},
     "output_type": "display_data"
    },
    {
     "data": {
      "application/javascript": "(function(root) {\n  function embed_document(root) {\n    \n  const docs_json = {\"1a5c06f2-e5b7-426b-ad6d-37f9b90cf034\":{\"defs\":[],\"roots\":{\"references\":[{\"attributes\":{\"below\":[{\"id\":\"2198\"}],\"center\":[{\"id\":\"2201\"},{\"id\":\"2205\"}],\"height\":400,\"left\":[{\"id\":\"2202\"}],\"renderers\":[{\"id\":\"2225\"}],\"right\":[{\"id\":\"2188\"}],\"title\":{\"id\":\"2318\"},\"toolbar\":{\"id\":\"2213\"},\"x_range\":{\"id\":\"2190\"},\"x_scale\":{\"id\":\"2194\"},\"y_range\":{\"id\":\"2192\"},\"y_scale\":{\"id\":\"2196\"}},\"id\":\"2189\",\"subtype\":\"Figure\",\"type\":\"Plot\"},{\"attributes\":{\"bottom_units\":\"screen\",\"coordinates\":null,\"fill_alpha\":0.5,\"fill_color\":\"lightgrey\",\"group\":null,\"left_units\":\"screen\",\"level\":\"overlay\",\"line_alpha\":1.0,\"line_color\":\"black\",\"line_dash\":[4,4],\"line_width\":2,\"right_units\":\"screen\",\"syncable\":false,\"top_units\":\"screen\"},\"id\":\"2212\",\"type\":\"BoxAnnotation\"},{\"attributes\":{\"source\":{\"id\":\"2220\"}},\"id\":\"2226\",\"type\":\"CDSView\"},{\"attributes\":{\"coordinates\":null,\"group\":null},\"id\":\"2318\",\"type\":\"Title\"},{\"attributes\":{\"data\":{\"Ingresos\":{\"__ndarray__\":\"hzUAAMsFAAC/VgAAIEkAALYFAAA=\",\"dtype\":\"int32\",\"order\":\"little\",\"shape\":[5]},\"Productos\":[\"Naranjas\",\"Fresas\",\"Manzanas\",\"Pl\\u00e1tanos\",\"Mango\"],\"Volumen\":{\"__ndarray__\":\"+QEAAGIDAAAuAQAAhAEAADQBAAA=\",\"dtype\":\"int32\",\"order\":\"little\",\"shape\":[5]},\"index\":[0,1,2,3,4]},\"selected\":{\"id\":\"2328\"},\"selection_policy\":{\"id\":\"2327\"}},\"id\":\"2220\",\"type\":\"ColumnDataSource\"},{\"attributes\":{},\"id\":\"2192\",\"type\":\"DataRange1d\"},{\"attributes\":{\"fill_alpha\":{\"value\":0.2},\"fill_color\":{\"field\":\"Ingresos\",\"transform\":{\"id\":\"2187\"}},\"hatch_alpha\":{\"value\":0.2},\"hatch_color\":{\"field\":\"Ingresos\",\"transform\":{\"id\":\"2187\"}},\"line_alpha\":{\"value\":0.2},\"line_color\":{\"field\":\"Ingresos\",\"transform\":{\"id\":\"2187\"}},\"size\":{\"value\":20},\"x\":{\"field\":\"Volumen\"},\"y\":{\"field\":\"Ingresos\"}},\"id\":\"2224\",\"type\":\"Circle\"},{\"attributes\":{},\"id\":\"2196\",\"type\":\"LinearScale\"},{\"attributes\":{},\"id\":\"2325\",\"type\":\"BasicTickFormatter\"},{\"attributes\":{\"tools\":[{\"id\":\"2206\"},{\"id\":\"2207\"},{\"id\":\"2208\"},{\"id\":\"2209\"},{\"id\":\"2210\"},{\"id\":\"2211\"}]},\"id\":\"2213\",\"type\":\"Toolbar\"},{\"attributes\":{},\"id\":\"2194\",\"type\":\"LinearScale\"},{\"attributes\":{\"fill_alpha\":{\"value\":0.6},\"fill_color\":{\"field\":\"Ingresos\",\"transform\":{\"id\":\"2187\"}},\"hatch_alpha\":{\"value\":0.6},\"hatch_color\":{\"field\":\"Ingresos\",\"transform\":{\"id\":\"2187\"}},\"line_alpha\":{\"value\":0.6},\"line_color\":{\"field\":\"Ingresos\",\"transform\":{\"id\":\"2187\"}},\"size\":{\"value\":20},\"x\":{\"field\":\"Volumen\"},\"y\":{\"field\":\"Ingresos\"}},\"id\":\"2222\",\"type\":\"Circle\"},{\"attributes\":{\"color_mapper\":{\"id\":\"2187\"},\"coordinates\":null,\"group\":null,\"label_standoff\":12,\"location\":[0,0],\"major_label_policy\":{\"id\":\"2323\"},\"title\":\"Ingresos\"},\"id\":\"2188\",\"type\":\"ColorBar\"},{\"attributes\":{\"axis_label\":\"Volumen de ventas\",\"coordinates\":null,\"formatter\":{\"id\":\"2325\"},\"group\":null,\"major_label_policy\":{\"id\":\"2326\"},\"ticker\":{\"id\":\"2199\"}},\"id\":\"2198\",\"type\":\"LinearAxis\"},{\"attributes\":{\"fill_alpha\":{\"value\":0.1},\"fill_color\":{\"field\":\"Ingresos\",\"transform\":{\"id\":\"2187\"}},\"hatch_alpha\":{\"value\":0.1},\"hatch_color\":{\"field\":\"Ingresos\",\"transform\":{\"id\":\"2187\"}},\"line_alpha\":{\"value\":0.1},\"line_color\":{\"field\":\"Ingresos\",\"transform\":{\"id\":\"2187\"}},\"size\":{\"value\":20},\"x\":{\"field\":\"Volumen\"},\"y\":{\"field\":\"Ingresos\"}},\"id\":\"2223\",\"type\":\"Circle\"},{\"attributes\":{},\"id\":\"2199\",\"type\":\"BasicTicker\"},{\"attributes\":{\"axis\":{\"id\":\"2198\"},\"coordinates\":null,\"group\":null,\"ticker\":null},\"id\":\"2201\",\"type\":\"Grid\"},{\"attributes\":{},\"id\":\"2207\",\"type\":\"WheelZoomTool\"},{\"attributes\":{\"high\":22207,\"low\":1462,\"palette\":[\"#440154\",\"#440255\",\"#440357\",\"#450558\",\"#45065A\",\"#45085B\",\"#46095C\",\"#460B5E\",\"#460C5F\",\"#460E61\",\"#470F62\",\"#471163\",\"#471265\",\"#471466\",\"#471567\",\"#471669\",\"#47186A\",\"#48196B\",\"#481A6C\",\"#481C6E\",\"#481D6F\",\"#481E70\",\"#482071\",\"#482172\",\"#482273\",\"#482374\",\"#472575\",\"#472676\",\"#472777\",\"#472878\",\"#472A79\",\"#472B7A\",\"#472C7B\",\"#462D7C\",\"#462F7C\",\"#46307D\",\"#46317E\",\"#45327F\",\"#45347F\",\"#453580\",\"#453681\",\"#443781\",\"#443982\",\"#433A83\",\"#433B83\",\"#433C84\",\"#423D84\",\"#423E85\",\"#424085\",\"#414186\",\"#414286\",\"#404387\",\"#404487\",\"#3F4587\",\"#3F4788\",\"#3E4888\",\"#3E4989\",\"#3D4A89\",\"#3D4B89\",\"#3D4C89\",\"#3C4D8A\",\"#3C4E8A\",\"#3B508A\",\"#3B518A\",\"#3A528B\",\"#3A538B\",\"#39548B\",\"#39558B\",\"#38568B\",\"#38578C\",\"#37588C\",\"#37598C\",\"#365A8C\",\"#365B8C\",\"#355C8C\",\"#355D8C\",\"#345E8D\",\"#345F8D\",\"#33608D\",\"#33618D\",\"#32628D\",\"#32638D\",\"#31648D\",\"#31658D\",\"#31668D\",\"#30678D\",\"#30688D\",\"#2F698D\",\"#2F6A8D\",\"#2E6B8E\",\"#2E6C8E\",\"#2E6D8E\",\"#2D6E8E\",\"#2D6F8E\",\"#2C708E\",\"#2C718E\",\"#2C728E\",\"#2B738E\",\"#2B748E\",\"#2A758E\",\"#2A768E\",\"#2A778E\",\"#29788E\",\"#29798E\",\"#287A8E\",\"#287A8E\",\"#287B8E\",\"#277C8E\",\"#277D8E\",\"#277E8E\",\"#267F8E\",\"#26808E\",\"#26818E\",\"#25828E\",\"#25838D\",\"#24848D\",\"#24858D\",\"#24868D\",\"#23878D\",\"#23888D\",\"#23898D\",\"#22898D\",\"#228A8D\",\"#228B8D\",\"#218C8D\",\"#218D8C\",\"#218E8C\",\"#208F8C\",\"#20908C\",\"#20918C\",\"#1F928C\",\"#1F938B\",\"#1F948B\",\"#1F958B\",\"#1F968B\",\"#1E978A\",\"#1E988A\",\"#1E998A\",\"#1E998A\",\"#1E9A89\",\"#1E9B89\",\"#1E9C89\",\"#1E9D88\",\"#1E9E88\",\"#1E9F88\",\"#1EA087\",\"#1FA187\",\"#1FA286\",\"#1FA386\",\"#20A485\",\"#20A585\",\"#21A685\",\"#21A784\",\"#22A784\",\"#23A883\",\"#23A982\",\"#24AA82\",\"#25AB81\",\"#26AC81\",\"#27AD80\",\"#28AE7F\",\"#29AF7F\",\"#2AB07E\",\"#2BB17D\",\"#2CB17D\",\"#2EB27C\",\"#2FB37B\",\"#30B47A\",\"#32B57A\",\"#33B679\",\"#35B778\",\"#36B877\",\"#38B976\",\"#39B976\",\"#3BBA75\",\"#3DBB74\",\"#3EBC73\",\"#40BD72\",\"#42BE71\",\"#44BE70\",\"#45BF6F\",\"#47C06E\",\"#49C16D\",\"#4BC26C\",\"#4DC26B\",\"#4FC369\",\"#51C468\",\"#53C567\",\"#55C666\",\"#57C665\",\"#59C764\",\"#5BC862\",\"#5EC961\",\"#60C960\",\"#62CA5F\",\"#64CB5D\",\"#67CC5C\",\"#69CC5B\",\"#6BCD59\",\"#6DCE58\",\"#70CE56\",\"#72CF55\",\"#74D054\",\"#77D052\",\"#79D151\",\"#7CD24F\",\"#7ED24E\",\"#81D34C\",\"#83D34B\",\"#86D449\",\"#88D547\",\"#8BD546\",\"#8DD644\",\"#90D643\",\"#92D741\",\"#95D73F\",\"#97D83E\",\"#9AD83C\",\"#9DD93A\",\"#9FD938\",\"#A2DA37\",\"#A5DA35\",\"#A7DB33\",\"#AADB32\",\"#ADDC30\",\"#AFDC2E\",\"#B2DD2C\",\"#B5DD2B\",\"#B7DD29\",\"#BADE27\",\"#BDDE26\",\"#BFDF24\",\"#C2DF22\",\"#C5DF21\",\"#C7E01F\",\"#CAE01E\",\"#CDE01D\",\"#CFE11C\",\"#D2E11B\",\"#D4E11A\",\"#D7E219\",\"#DAE218\",\"#DCE218\",\"#DFE318\",\"#E1E318\",\"#E4E318\",\"#E7E419\",\"#E9E419\",\"#ECE41A\",\"#EEE51B\",\"#F1E51C\",\"#F3E51E\",\"#F6E61F\",\"#F8E621\",\"#FAE622\",\"#FDE724\"]},\"id\":\"2187\",\"type\":\"LinearColorMapper\"},{\"attributes\":{},\"id\":\"2190\",\"type\":\"DataRange1d\"},{\"attributes\":{},\"id\":\"2206\",\"type\":\"PanTool\"},{\"attributes\":{},\"id\":\"2211\",\"type\":\"HelpTool\"},{\"attributes\":{},\"id\":\"2327\",\"type\":\"UnionRenderers\"},{\"attributes\":{},\"id\":\"2328\",\"type\":\"Selection\"},{\"attributes\":{},\"id\":\"2203\",\"type\":\"BasicTicker\"},{\"attributes\":{\"axis\":{\"id\":\"2202\"},\"coordinates\":null,\"dimension\":1,\"group\":null,\"ticker\":null},\"id\":\"2205\",\"type\":\"Grid\"},{\"attributes\":{},\"id\":\"2326\",\"type\":\"AllLabels\"},{\"attributes\":{},\"id\":\"2322\",\"type\":\"AllLabels\"},{\"attributes\":{},\"id\":\"2321\",\"type\":\"BasicTickFormatter\"},{\"attributes\":{\"overlay\":{\"id\":\"2212\"}},\"id\":\"2208\",\"type\":\"BoxZoomTool\"},{\"attributes\":{\"coordinates\":null,\"data_source\":{\"id\":\"2220\"},\"glyph\":{\"id\":\"2222\"},\"group\":null,\"hover_glyph\":null,\"muted_glyph\":{\"id\":\"2224\"},\"nonselection_glyph\":{\"id\":\"2223\"},\"view\":{\"id\":\"2226\"}},\"id\":\"2225\",\"type\":\"GlyphRenderer\"},{\"attributes\":{},\"id\":\"2209\",\"type\":\"SaveTool\"},{\"attributes\":{},\"id\":\"2210\",\"type\":\"ResetTool\"},{\"attributes\":{},\"id\":\"2323\",\"type\":\"NoOverlap\"},{\"attributes\":{\"axis_label\":\"Ingresos totales\",\"coordinates\":null,\"formatter\":{\"id\":\"2321\"},\"group\":null,\"major_label_policy\":{\"id\":\"2322\"},\"ticker\":{\"id\":\"2203\"}},\"id\":\"2202\",\"type\":\"LinearAxis\"}],\"root_ids\":[\"2189\"]},\"title\":\"Bokeh Application\",\"version\":\"2.4.1\"}};\n  const render_items = [{\"docid\":\"1a5c06f2-e5b7-426b-ad6d-37f9b90cf034\",\"root_ids\":[\"2189\"],\"roots\":{\"2189\":\"a3d6fde2-e848-4275-969a-a916686d05e4\"}}];\n  root.Bokeh.embed.embed_items_notebook(docs_json, render_items);\n\n  }\n  if (root.Bokeh !== undefined) {\n    embed_document(root);\n  } else {\n    let attempts = 0;\n    const timer = setInterval(function(root) {\n      if (root.Bokeh !== undefined) {\n        clearInterval(timer);\n        embed_document(root);\n      } else {\n        attempts++;\n        if (attempts > 100) {\n          clearInterval(timer);\n          console.log(\"Bokeh: ERROR: Unable to run BokehJS code because BokehJS library is missing\");\n        }\n      }\n    }, 10, root)\n  }\n})(window);",
      "application/vnd.bokehjs_exec.v0+json": ""
     },
     "metadata": {
      "application/vnd.bokehjs_exec.v0+json": {
       "id": "2189"
      }
     },
     "output_type": "display_data"
    }
   ],
   "source": [
    "from bokeh.models import LinearColorMapper, ColorBar\n",
    "from bokeh.transform import transform\n",
    "\n",
    "color_mapper = LinearColorMapper(palette=\"Viridis256\", low=df.Ingresos.min(), \n",
    "                                 high=df.Ingresos.max())\n",
    "color_bar = ColorBar(color_mapper=color_mapper, label_standoff=12, location=(0,0), \n",
    "                     title='Ingresos')\n",
    "\n",
    "p = figure(x_axis_label='Volumen de ventas', # Otra forma de añadir texto en los ejes\n",
    "           y_axis_label='Ingresos totales', \n",
    "           plot_height=400)\n",
    "\n",
    "p.circle(x='Volumen', y='Ingresos', \n",
    "         color=transform('Ingresos', color_mapper), \n",
    "         size=20, alpha=0.6, \n",
    "         source=df)\n",
    "\n",
    "p.add_layout(color_bar, 'right') # Posición del gradiente de color\n",
    "\n",
    "show(p)"
   ]
  },
  {
   "cell_type": "markdown",
   "metadata": {},
   "source": [
    "Algo que todavía no hemos mostrado es podemos desactivar el panel lateral para gestionar el gráfico añadiendo los siguientes parámetros a la función figure.\n",
    "* **tools**: Lo dejamso vacío\n",
    "* **toolbar_location**: Valor None"
   ]
  },
  {
   "cell_type": "code",
   "execution_count": 16,
   "metadata": {},
   "outputs": [
    {
     "data": {
      "text/html": [
       "\n",
       "\n",
       "\n",
       "\n",
       "\n",
       "\n",
       "  <div class=\"bk-root\" id=\"976b4013-fca5-4880-8fca-d28b1248859f\" data-root-id=\"2392\"></div>\n"
      ]
     },
     "metadata": {},
     "output_type": "display_data"
    },
    {
     "data": {
      "application/javascript": "(function(root) {\n  function embed_document(root) {\n    \n  const docs_json = {\"9a4c83d5-4b3f-4aee-9805-72b556631301\":{\"defs\":[],\"roots\":{\"references\":[{\"attributes\":{\"below\":[{\"id\":\"2401\"}],\"center\":[{\"id\":\"2404\"},{\"id\":\"2408\"}],\"height\":400,\"left\":[{\"id\":\"2405\"}],\"renderers\":[{\"id\":\"2415\"}],\"right\":[{\"id\":\"2391\"}],\"title\":{\"id\":\"2520\"},\"toolbar\":{\"id\":\"2409\"},\"toolbar_location\":null,\"x_range\":{\"id\":\"2393\"},\"x_scale\":{\"id\":\"2397\"},\"y_range\":{\"id\":\"2395\"},\"y_scale\":{\"id\":\"2399\"}},\"id\":\"2392\",\"subtype\":\"Figure\",\"type\":\"Plot\"},{\"attributes\":{},\"id\":\"2397\",\"type\":\"LinearScale\"},{\"attributes\":{},\"id\":\"2399\",\"type\":\"LinearScale\"},{\"attributes\":{\"coordinates\":null,\"group\":null},\"id\":\"2520\",\"type\":\"Title\"},{\"attributes\":{},\"id\":\"2523\",\"type\":\"BasicTickFormatter\"},{\"attributes\":{},\"id\":\"2529\",\"type\":\"UnionRenderers\"},{\"attributes\":{},\"id\":\"2524\",\"type\":\"AllLabels\"},{\"attributes\":{},\"id\":\"2530\",\"type\":\"Selection\"},{\"attributes\":{},\"id\":\"2395\",\"type\":\"DataRange1d\"},{\"attributes\":{\"source\":{\"id\":\"2410\"}},\"id\":\"2416\",\"type\":\"CDSView\"},{\"attributes\":{\"axis_label\":\"Volumen de ventas\",\"coordinates\":null,\"formatter\":{\"id\":\"2527\"},\"group\":null,\"major_label_policy\":{\"id\":\"2528\"},\"ticker\":{\"id\":\"2402\"}},\"id\":\"2401\",\"type\":\"LinearAxis\"},{\"attributes\":{\"axis\":{\"id\":\"2401\"},\"coordinates\":null,\"group\":null,\"ticker\":null},\"id\":\"2404\",\"type\":\"Grid\"},{\"attributes\":{\"data\":{\"Ingresos\":{\"__ndarray__\":\"hzUAAMsFAAC/VgAAIEkAALYFAAA=\",\"dtype\":\"int32\",\"order\":\"little\",\"shape\":[5]},\"Productos\":[\"Naranjas\",\"Fresas\",\"Manzanas\",\"Pl\\u00e1tanos\",\"Mango\"],\"Volumen\":{\"__ndarray__\":\"+QEAAGIDAAAuAQAAhAEAADQBAAA=\",\"dtype\":\"int32\",\"order\":\"little\",\"shape\":[5]},\"index\":[0,1,2,3,4]},\"selected\":{\"id\":\"2530\"},\"selection_policy\":{\"id\":\"2529\"}},\"id\":\"2410\",\"type\":\"ColumnDataSource\"},{\"attributes\":{},\"id\":\"2393\",\"type\":\"DataRange1d\"},{\"attributes\":{\"axis_label\":\"Ingresos totales\",\"coordinates\":null,\"formatter\":{\"id\":\"2523\"},\"group\":null,\"major_label_policy\":{\"id\":\"2524\"},\"ticker\":{\"id\":\"2406\"}},\"id\":\"2405\",\"type\":\"LinearAxis\"},{\"attributes\":{\"fill_alpha\":{\"value\":0.2},\"fill_color\":{\"field\":\"Ingresos\",\"transform\":{\"id\":\"2390\"}},\"hatch_alpha\":{\"value\":0.2},\"hatch_color\":{\"field\":\"Ingresos\",\"transform\":{\"id\":\"2390\"}},\"line_alpha\":{\"value\":0.2},\"line_color\":{\"field\":\"Ingresos\",\"transform\":{\"id\":\"2390\"}},\"size\":{\"value\":20},\"x\":{\"field\":\"Volumen\"},\"y\":{\"field\":\"Ingresos\"}},\"id\":\"2414\",\"type\":\"Circle\"},{\"attributes\":{\"axis\":{\"id\":\"2405\"},\"coordinates\":null,\"dimension\":1,\"group\":null,\"ticker\":null},\"id\":\"2408\",\"type\":\"Grid\"},{\"attributes\":{},\"id\":\"2406\",\"type\":\"BasicTicker\"},{\"attributes\":{\"fill_alpha\":{\"value\":0.6},\"fill_color\":{\"field\":\"Ingresos\",\"transform\":{\"id\":\"2390\"}},\"hatch_alpha\":{\"value\":0.6},\"hatch_color\":{\"field\":\"Ingresos\",\"transform\":{\"id\":\"2390\"}},\"line_alpha\":{\"value\":0.6},\"line_color\":{\"field\":\"Ingresos\",\"transform\":{\"id\":\"2390\"}},\"size\":{\"value\":20},\"x\":{\"field\":\"Volumen\"},\"y\":{\"field\":\"Ingresos\"}},\"id\":\"2412\",\"type\":\"Circle\"},{\"attributes\":{},\"id\":\"2402\",\"type\":\"BasicTicker\"},{\"attributes\":{},\"id\":\"2525\",\"type\":\"NoOverlap\"},{\"attributes\":{},\"id\":\"2527\",\"type\":\"BasicTickFormatter\"},{\"attributes\":{\"color_mapper\":{\"id\":\"2390\"},\"coordinates\":null,\"group\":null,\"label_standoff\":12,\"location\":[0,0],\"major_label_policy\":{\"id\":\"2525\"},\"title\":\"Ingresos\"},\"id\":\"2391\",\"type\":\"ColorBar\"},{\"attributes\":{\"high\":22207,\"low\":1462,\"palette\":[\"#440154\",\"#440255\",\"#440357\",\"#450558\",\"#45065A\",\"#45085B\",\"#46095C\",\"#460B5E\",\"#460C5F\",\"#460E61\",\"#470F62\",\"#471163\",\"#471265\",\"#471466\",\"#471567\",\"#471669\",\"#47186A\",\"#48196B\",\"#481A6C\",\"#481C6E\",\"#481D6F\",\"#481E70\",\"#482071\",\"#482172\",\"#482273\",\"#482374\",\"#472575\",\"#472676\",\"#472777\",\"#472878\",\"#472A79\",\"#472B7A\",\"#472C7B\",\"#462D7C\",\"#462F7C\",\"#46307D\",\"#46317E\",\"#45327F\",\"#45347F\",\"#453580\",\"#453681\",\"#443781\",\"#443982\",\"#433A83\",\"#433B83\",\"#433C84\",\"#423D84\",\"#423E85\",\"#424085\",\"#414186\",\"#414286\",\"#404387\",\"#404487\",\"#3F4587\",\"#3F4788\",\"#3E4888\",\"#3E4989\",\"#3D4A89\",\"#3D4B89\",\"#3D4C89\",\"#3C4D8A\",\"#3C4E8A\",\"#3B508A\",\"#3B518A\",\"#3A528B\",\"#3A538B\",\"#39548B\",\"#39558B\",\"#38568B\",\"#38578C\",\"#37588C\",\"#37598C\",\"#365A8C\",\"#365B8C\",\"#355C8C\",\"#355D8C\",\"#345E8D\",\"#345F8D\",\"#33608D\",\"#33618D\",\"#32628D\",\"#32638D\",\"#31648D\",\"#31658D\",\"#31668D\",\"#30678D\",\"#30688D\",\"#2F698D\",\"#2F6A8D\",\"#2E6B8E\",\"#2E6C8E\",\"#2E6D8E\",\"#2D6E8E\",\"#2D6F8E\",\"#2C708E\",\"#2C718E\",\"#2C728E\",\"#2B738E\",\"#2B748E\",\"#2A758E\",\"#2A768E\",\"#2A778E\",\"#29788E\",\"#29798E\",\"#287A8E\",\"#287A8E\",\"#287B8E\",\"#277C8E\",\"#277D8E\",\"#277E8E\",\"#267F8E\",\"#26808E\",\"#26818E\",\"#25828E\",\"#25838D\",\"#24848D\",\"#24858D\",\"#24868D\",\"#23878D\",\"#23888D\",\"#23898D\",\"#22898D\",\"#228A8D\",\"#228B8D\",\"#218C8D\",\"#218D8C\",\"#218E8C\",\"#208F8C\",\"#20908C\",\"#20918C\",\"#1F928C\",\"#1F938B\",\"#1F948B\",\"#1F958B\",\"#1F968B\",\"#1E978A\",\"#1E988A\",\"#1E998A\",\"#1E998A\",\"#1E9A89\",\"#1E9B89\",\"#1E9C89\",\"#1E9D88\",\"#1E9E88\",\"#1E9F88\",\"#1EA087\",\"#1FA187\",\"#1FA286\",\"#1FA386\",\"#20A485\",\"#20A585\",\"#21A685\",\"#21A784\",\"#22A784\",\"#23A883\",\"#23A982\",\"#24AA82\",\"#25AB81\",\"#26AC81\",\"#27AD80\",\"#28AE7F\",\"#29AF7F\",\"#2AB07E\",\"#2BB17D\",\"#2CB17D\",\"#2EB27C\",\"#2FB37B\",\"#30B47A\",\"#32B57A\",\"#33B679\",\"#35B778\",\"#36B877\",\"#38B976\",\"#39B976\",\"#3BBA75\",\"#3DBB74\",\"#3EBC73\",\"#40BD72\",\"#42BE71\",\"#44BE70\",\"#45BF6F\",\"#47C06E\",\"#49C16D\",\"#4BC26C\",\"#4DC26B\",\"#4FC369\",\"#51C468\",\"#53C567\",\"#55C666\",\"#57C665\",\"#59C764\",\"#5BC862\",\"#5EC961\",\"#60C960\",\"#62CA5F\",\"#64CB5D\",\"#67CC5C\",\"#69CC5B\",\"#6BCD59\",\"#6DCE58\",\"#70CE56\",\"#72CF55\",\"#74D054\",\"#77D052\",\"#79D151\",\"#7CD24F\",\"#7ED24E\",\"#81D34C\",\"#83D34B\",\"#86D449\",\"#88D547\",\"#8BD546\",\"#8DD644\",\"#90D643\",\"#92D741\",\"#95D73F\",\"#97D83E\",\"#9AD83C\",\"#9DD93A\",\"#9FD938\",\"#A2DA37\",\"#A5DA35\",\"#A7DB33\",\"#AADB32\",\"#ADDC30\",\"#AFDC2E\",\"#B2DD2C\",\"#B5DD2B\",\"#B7DD29\",\"#BADE27\",\"#BDDE26\",\"#BFDF24\",\"#C2DF22\",\"#C5DF21\",\"#C7E01F\",\"#CAE01E\",\"#CDE01D\",\"#CFE11C\",\"#D2E11B\",\"#D4E11A\",\"#D7E219\",\"#DAE218\",\"#DCE218\",\"#DFE318\",\"#E1E318\",\"#E4E318\",\"#E7E419\",\"#E9E419\",\"#ECE41A\",\"#EEE51B\",\"#F1E51C\",\"#F3E51E\",\"#F6E61F\",\"#F8E621\",\"#FAE622\",\"#FDE724\"]},\"id\":\"2390\",\"type\":\"LinearColorMapper\"},{\"attributes\":{},\"id\":\"2409\",\"type\":\"Toolbar\"},{\"attributes\":{\"fill_alpha\":{\"value\":0.1},\"fill_color\":{\"field\":\"Ingresos\",\"transform\":{\"id\":\"2390\"}},\"hatch_alpha\":{\"value\":0.1},\"hatch_color\":{\"field\":\"Ingresos\",\"transform\":{\"id\":\"2390\"}},\"line_alpha\":{\"value\":0.1},\"line_color\":{\"field\":\"Ingresos\",\"transform\":{\"id\":\"2390\"}},\"size\":{\"value\":20},\"x\":{\"field\":\"Volumen\"},\"y\":{\"field\":\"Ingresos\"}},\"id\":\"2413\",\"type\":\"Circle\"},{\"attributes\":{},\"id\":\"2528\",\"type\":\"AllLabels\"},{\"attributes\":{\"coordinates\":null,\"data_source\":{\"id\":\"2410\"},\"glyph\":{\"id\":\"2412\"},\"group\":null,\"hover_glyph\":null,\"muted_glyph\":{\"id\":\"2414\"},\"nonselection_glyph\":{\"id\":\"2413\"},\"view\":{\"id\":\"2416\"}},\"id\":\"2415\",\"type\":\"GlyphRenderer\"}],\"root_ids\":[\"2392\"]},\"title\":\"Bokeh Application\",\"version\":\"2.4.1\"}};\n  const render_items = [{\"docid\":\"9a4c83d5-4b3f-4aee-9805-72b556631301\",\"root_ids\":[\"2392\"],\"roots\":{\"2392\":\"976b4013-fca5-4880-8fca-d28b1248859f\"}}];\n  root.Bokeh.embed.embed_items_notebook(docs_json, render_items);\n\n  }\n  if (root.Bokeh !== undefined) {\n    embed_document(root);\n  } else {\n    let attempts = 0;\n    const timer = setInterval(function(root) {\n      if (root.Bokeh !== undefined) {\n        clearInterval(timer);\n        embed_document(root);\n      } else {\n        attempts++;\n        if (attempts > 100) {\n          clearInterval(timer);\n          console.log(\"Bokeh: ERROR: Unable to run BokehJS code because BokehJS library is missing\");\n        }\n      }\n    }, 10, root)\n  }\n})(window);",
      "application/vnd.bokehjs_exec.v0+json": ""
     },
     "metadata": {
      "application/vnd.bokehjs_exec.v0+json": {
       "id": "2392"
      }
     },
     "output_type": "display_data"
    }
   ],
   "source": [
    "color_mapper = LinearColorMapper(palette=\"Viridis256\", low=df.Ingresos.min(), high=df.Ingresos.max())\n",
    "color_bar = ColorBar(color_mapper=color_mapper, label_standoff=12, location=(0,0), title='Ingresos')\n",
    "\n",
    "p = figure(x_axis_label='Volumen de ventas', # Otra forma de añadir texto en los ejes\n",
    "           y_axis_label='Ingresos totales', \n",
    "           plot_height=400, \n",
    "           tools='', toolbar_location=None)\n",
    "\n",
    "p.circle(x='Volumen', y='Ingresos', \n",
    "         color=transform('Ingresos', color_mapper), \n",
    "         size=20, alpha=0.6, \n",
    "         source=df)\n",
    "\n",
    "p.add_layout(color_bar, 'right') # Posición del gradiente de color\n",
    "\n",
    "show(p)\n"
   ]
  },
  {
   "cell_type": "markdown",
   "metadata": {},
   "source": [
    "Finalmente, mostraremos cómo añadir elementos dinámmicos a un gráfico, es decir, cuando pasemos el cursor por un elemento del gráfico éste nos muestre información. Esto en Bokeh se consigue a través de **HoverTool**, se trata de una función que integra funcionalidades para mostrar diferentes elementos textuales en los datos, es importante mencionar que para poder utilizar las funciones de HoverTool, también tenemos que pasar nuestros datos a un tipo especial de Bokeh, llamado sources, para ello, utilizaremos **ColumnDataSource**. El funcionamiento por lo tanto es el siguiente.\n",
    "* Tomaremos el set de datos y lo pasaremos a la función <code>**ColumnDataSource**</code>, sources nos devolverá los tipos de columnas que podemos mostrar en nuestro gráfico, por ejemplo, si pasamos a la función un conjunto de datos previamente agrupado con groupby, nos permitirá acceder a estadísticas básicas como mínimo, máximo, media y cuartieles, pudiendo posteriormente, proyectar esta información en el gráfico.\n",
    "* Ahora cuando vayamos a definir el tipo de gráfico, no utilizaremos como tal los nombres de las columnas del dataframe, si no las de sources.\n",
    "* Cuando hayamos definido el tipo de gráfica llamaremos a la función <code>**HoverTool**</code> y, a su atributo **tooltips** en el cuál pasaremos con la siguiente estructura la información a proyectar: 'Nombre que se mostrará': @columna_de_source."
   ]
  },
  {
   "cell_type": "code",
   "execution_count": 17,
   "metadata": {},
   "outputs": [
    {
     "data": {
      "text/plain": [
       "['index', 'Productos', 'Volumen', 'Ingresos']"
      ]
     },
     "execution_count": 17,
     "metadata": {},
     "output_type": "execute_result"
    }
   ],
   "source": [
    "from bokeh.models import ColumnDataSource, HoverTool\n",
    "from bokeh.transform import factor_cmap\n",
    "from bokeh.palettes import Spectral5\n",
    "\n",
    "source = ColumnDataSource(df)\n",
    "source.column_names"
   ]
  },
  {
   "cell_type": "markdown",
   "metadata": {},
   "source": [
    "Mostramos por otro ejemplo en el que hubíeramos realizado un groupby."
   ]
  },
  {
   "cell_type": "code",
   "execution_count": 18,
   "metadata": {},
   "outputs": [
    {
     "data": {
      "text/plain": [
       "['Productos',\n",
       " 'Volumen_count',\n",
       " 'Volumen_mean',\n",
       " 'Volumen_std',\n",
       " 'Volumen_min',\n",
       " 'Volumen_25%',\n",
       " 'Volumen_50%',\n",
       " 'Volumen_75%',\n",
       " 'Volumen_max',\n",
       " 'Ingresos_count',\n",
       " 'Ingresos_mean',\n",
       " 'Ingresos_std',\n",
       " 'Ingresos_min',\n",
       " 'Ingresos_25%',\n",
       " 'Ingresos_50%',\n",
       " 'Ingresos_75%',\n",
       " 'Ingresos_max']"
      ]
     },
     "execution_count": 18,
     "metadata": {},
     "output_type": "execute_result"
    }
   ],
   "source": [
    "groups = df.groupby(by=['Productos'])\n",
    "source_dos = ColumnDataSource(groups)\n",
    "source_dos.column_names"
   ]
  },
  {
   "cell_type": "code",
   "execution_count": 19,
   "metadata": {},
   "outputs": [
    {
     "data": {
      "text/html": [
       "\n",
       "\n",
       "\n",
       "\n",
       "\n",
       "\n",
       "  <div class=\"bk-root\" id=\"83804c4d-fdd2-4e3b-b8d8-9a9d50da0c37\" data-root-id=\"2588\"></div>\n"
      ]
     },
     "metadata": {},
     "output_type": "display_data"
    },
    {
     "data": {
      "application/javascript": "(function(root) {\n  function embed_document(root) {\n    \n  const docs_json = {\"750e75cd-46dc-4e17-8214-f43b0508c211\":{\"defs\":[],\"roots\":{\"references\":[{\"attributes\":{\"below\":[{\"id\":\"2599\"}],\"center\":[{\"id\":\"2601\"},{\"id\":\"2605\"}],\"height\":350,\"left\":[{\"id\":\"2602\"}],\"renderers\":[{\"id\":\"2625\"}],\"title\":{\"id\":\"2589\"},\"toolbar\":{\"id\":\"2613\"},\"x_range\":{\"id\":\"2591\"},\"x_scale\":{\"id\":\"2595\"},\"y_range\":{\"id\":\"2593\"},\"y_scale\":{\"id\":\"2597\"}},\"id\":\"2588\",\"subtype\":\"Figure\",\"type\":\"Plot\"},{\"attributes\":{},\"id\":\"2749\",\"type\":\"AllLabels\"},{\"attributes\":{\"callback\":null,\"tooltips\":[[\"Volumen de ventas\",\"@Volumen\"],[\"Ingresos totales\",\"@Ingresos\"]]},\"id\":\"2627\",\"type\":\"HoverTool\"},{\"attributes\":{\"overlay\":{\"id\":\"2612\"}},\"id\":\"2608\",\"type\":\"BoxZoomTool\"},{\"attributes\":{\"source\":{\"id\":\"2586\"}},\"id\":\"2626\",\"type\":\"CDSView\"},{\"attributes\":{},\"id\":\"2751\",\"type\":\"Selection\"},{\"attributes\":{},\"id\":\"2595\",\"type\":\"CategoricalScale\"},{\"attributes\":{},\"id\":\"2593\",\"type\":\"DataRange1d\"},{\"attributes\":{},\"id\":\"2609\",\"type\":\"SaveTool\"},{\"attributes\":{},\"id\":\"2603\",\"type\":\"BasicTicker\"},{\"attributes\":{\"data\":{\"Ingresos\":{\"__ndarray__\":\"hzUAAMsFAAC/VgAAIEkAALYFAAA=\",\"dtype\":\"int32\",\"order\":\"little\",\"shape\":[5]},\"Productos\":[\"Naranjas\",\"Fresas\",\"Manzanas\",\"Pl\\u00e1tanos\",\"Mango\"],\"Volumen\":{\"__ndarray__\":\"+QEAAGIDAAAuAQAAhAEAADQBAAA=\",\"dtype\":\"int32\",\"order\":\"little\",\"shape\":[5]},\"index\":[0,1,2,3,4]},\"selected\":{\"id\":\"2751\"},\"selection_policy\":{\"id\":\"2750\"}},\"id\":\"2586\",\"type\":\"ColumnDataSource\"},{\"attributes\":{\"tools\":[{\"id\":\"2606\"},{\"id\":\"2607\"},{\"id\":\"2608\"},{\"id\":\"2609\"},{\"id\":\"2610\"},{\"id\":\"2611\"},{\"id\":\"2627\"}]},\"id\":\"2613\",\"type\":\"Toolbar\"},{\"attributes\":{\"fill_color\":{\"field\":\"Productos\",\"transform\":{\"id\":\"2620\"}},\"hatch_color\":{\"field\":\"Productos\",\"transform\":{\"id\":\"2620\"}},\"line_color\":{\"field\":\"Productos\",\"transform\":{\"id\":\"2620\"}},\"top\":{\"field\":\"Volumen\"},\"width\":{\"value\":0.5},\"x\":{\"field\":\"Productos\"}},\"id\":\"2622\",\"type\":\"VBar\"},{\"attributes\":{},\"id\":\"2746\",\"type\":\"AllLabels\"},{\"attributes\":{},\"id\":\"2745\",\"type\":\"BasicTickFormatter\"},{\"attributes\":{\"axis\":{\"id\":\"2602\"},\"coordinates\":null,\"dimension\":1,\"group\":null,\"ticker\":null},\"id\":\"2605\",\"type\":\"Grid\"},{\"attributes\":{\"bottom_units\":\"screen\",\"coordinates\":null,\"fill_alpha\":0.5,\"fill_color\":\"lightgrey\",\"group\":null,\"left_units\":\"screen\",\"level\":\"overlay\",\"line_alpha\":1.0,\"line_color\":\"black\",\"line_dash\":[4,4],\"line_width\":2,\"right_units\":\"screen\",\"syncable\":false,\"top_units\":\"screen\"},\"id\":\"2612\",\"type\":\"BoxAnnotation\"},{\"attributes\":{},\"id\":\"2748\",\"type\":\"CategoricalTickFormatter\"},{\"attributes\":{},\"id\":\"2606\",\"type\":\"PanTool\"},{\"attributes\":{\"axis\":{\"id\":\"2599\"},\"coordinates\":null,\"group\":null,\"ticker\":null},\"id\":\"2601\",\"type\":\"Grid\"},{\"attributes\":{\"fill_alpha\":{\"value\":0.2},\"fill_color\":{\"field\":\"Productos\",\"transform\":{\"id\":\"2620\"}},\"hatch_alpha\":{\"value\":0.2},\"hatch_color\":{\"field\":\"Productos\",\"transform\":{\"id\":\"2620\"}},\"line_alpha\":{\"value\":0.2},\"line_color\":{\"field\":\"Productos\",\"transform\":{\"id\":\"2620\"}},\"top\":{\"field\":\"Volumen\"},\"width\":{\"value\":0.5},\"x\":{\"field\":\"Productos\"}},\"id\":\"2624\",\"type\":\"VBar\"},{\"attributes\":{\"coordinates\":null,\"formatter\":{\"id\":\"2748\"},\"group\":null,\"major_label_policy\":{\"id\":\"2749\"},\"ticker\":{\"id\":\"2600\"}},\"id\":\"2599\",\"type\":\"CategoricalAxis\"},{\"attributes\":{\"fill_alpha\":{\"value\":0.1},\"fill_color\":{\"field\":\"Productos\",\"transform\":{\"id\":\"2620\"}},\"hatch_alpha\":{\"value\":0.1},\"hatch_color\":{\"field\":\"Productos\",\"transform\":{\"id\":\"2620\"}},\"line_alpha\":{\"value\":0.1},\"line_color\":{\"field\":\"Productos\",\"transform\":{\"id\":\"2620\"}},\"top\":{\"field\":\"Volumen\"},\"width\":{\"value\":0.5},\"x\":{\"field\":\"Productos\"}},\"id\":\"2623\",\"type\":\"VBar\"},{\"attributes\":{},\"id\":\"2610\",\"type\":\"ResetTool\"},{\"attributes\":{\"coordinates\":null,\"group\":null,\"text\":\"Volumen de ventas\"},\"id\":\"2589\",\"type\":\"Title\"},{\"attributes\":{},\"id\":\"2600\",\"type\":\"CategoricalTicker\"},{\"attributes\":{\"factors\":[\"Naranjas\",\"Fresas\",\"Manzanas\",\"Pl\\u00e1tanos\",\"Mango\"],\"palette\":[\"#2b83ba\",\"#abdda4\",\"#ffffbf\",\"#fdae61\",\"#d7191c\"]},\"id\":\"2620\",\"type\":\"CategoricalColorMapper\"},{\"attributes\":{},\"id\":\"2750\",\"type\":\"UnionRenderers\"},{\"attributes\":{\"factors\":[\"Naranjas\",\"Fresas\",\"Manzanas\",\"Pl\\u00e1tanos\",\"Mango\"]},\"id\":\"2591\",\"type\":\"FactorRange\"},{\"attributes\":{},\"id\":\"2611\",\"type\":\"HelpTool\"},{\"attributes\":{},\"id\":\"2607\",\"type\":\"WheelZoomTool\"},{\"attributes\":{},\"id\":\"2597\",\"type\":\"LinearScale\"},{\"attributes\":{\"coordinates\":null,\"formatter\":{\"id\":\"2745\"},\"group\":null,\"major_label_policy\":{\"id\":\"2746\"},\"ticker\":{\"id\":\"2603\"}},\"id\":\"2602\",\"type\":\"LinearAxis\"},{\"attributes\":{\"coordinates\":null,\"data_source\":{\"id\":\"2586\"},\"glyph\":{\"id\":\"2622\"},\"group\":null,\"hover_glyph\":null,\"muted_glyph\":{\"id\":\"2624\"},\"nonselection_glyph\":{\"id\":\"2623\"},\"view\":{\"id\":\"2626\"}},\"id\":\"2625\",\"type\":\"GlyphRenderer\"}],\"root_ids\":[\"2588\"]},\"title\":\"Bokeh Application\",\"version\":\"2.4.1\"}};\n  const render_items = [{\"docid\":\"750e75cd-46dc-4e17-8214-f43b0508c211\",\"root_ids\":[\"2588\"],\"roots\":{\"2588\":\"83804c4d-fdd2-4e3b-b8d8-9a9d50da0c37\"}}];\n  root.Bokeh.embed.embed_items_notebook(docs_json, render_items);\n\n  }\n  if (root.Bokeh !== undefined) {\n    embed_document(root);\n  } else {\n    let attempts = 0;\n    const timer = setInterval(function(root) {\n      if (root.Bokeh !== undefined) {\n        clearInterval(timer);\n        embed_document(root);\n      } else {\n        attempts++;\n        if (attempts > 100) {\n          clearInterval(timer);\n          console.log(\"Bokeh: ERROR: Unable to run BokehJS code because BokehJS library is missing\");\n        }\n      }\n    }, 10, root)\n  }\n})(window);",
      "application/vnd.bokehjs_exec.v0+json": ""
     },
     "metadata": {
      "application/vnd.bokehjs_exec.v0+json": {
       "id": "2588"
      }
     },
     "output_type": "display_data"
    }
   ],
   "source": [
    "products = source.data['Productos'].tolist()\n",
    "\n",
    "p = figure(x_range = products,\n",
    "           plot_height=350, \n",
    "           title=\"Volumen de ventas\")\n",
    "\n",
    "color_map = factor_cmap(field_name='Productos',\n",
    "                    palette=Spectral5, factors=products)\n",
    "\n",
    "p.vbar(x='Productos', top='Volumen', source = source,\n",
    "       width = 0.5, color=color_map)\n",
    "\n",
    "# Podemos generar colores en hexadecimal con https://htmlcolorcodes.com/\n",
    "\n",
    "hover = HoverTool()\n",
    "hover.tooltips=[\n",
    "    ('Volumen de ventas', '@Volumen'),\n",
    "    ('Ingresos totales', '@Ingresos')\n",
    "]\n",
    "\n",
    "p.add_tools(hover)\n",
    "\n",
    "# Podemos generar colores en hexadecimal con https://htmlcolorcodes.com/\n",
    "\n",
    "show(p)"
   ]
  }
 ],
 "metadata": {
  "interpreter": {
   "hash": "3642232dcca72c31bde9fcd61d13cf28668a844012cde057eccdd5e45f4ffda3"
  },
  "kernelspec": {
   "display_name": "Python 3.9.7 ('base')",
   "language": "python",
   "name": "python3"
  },
  "language_info": {
   "codemirror_mode": {
    "name": "ipython",
    "version": 3
   },
   "file_extension": ".py",
   "mimetype": "text/x-python",
   "name": "python",
   "nbconvert_exporter": "python",
   "pygments_lexer": "ipython3",
   "version": "3.9.7"
  }
 },
 "nbformat": 4,
 "nbformat_minor": 2
}
