{
 "cells": [
  {
   "cell_type": "markdown",
   "metadata": {},
   "source": [
    "Version English Spanish International Master's work in Data Science, (Europe). Pre Machine Learning Module\n",
    "\n",
    "Version ingles español trabajo de Master internacional en Data Science, Europa. Modulo Pre Machine Learning.\n",
    "\n",
    "**# Correctional offender management profiling for alternative sanctions\n",
    "\n",
    "The introduction of data science into the field of law and justice is becoming more and more frequent, a well-known example of this is the COMPAS (Correctional offender management profiling for alternative sanctions) system that is used in several states of the United States. to make an assessment of the risk of recidivism of detained persons\n",
    "__________________________________________\n",
    "\n",
    "Cada día es más frecuente la introducción de la ciencia de datos en el ámbito del derecho y la justicia.Un ejemplo bien conocido de ello es el sistema COMPAS (Correctional offender management profiling for alternative sanctions) que se usa en varios estados de los Estados Unidos para hacer una evaluación del riesgo de reincidencia de las personas detenidas\n",
    "\n",
    "\n"
   ]
  },
  {
   "cell_type": "code",
   "execution_count": 2,
   "metadata": {},
   "outputs": [],
   "source": [
    "import pandas as pd\n",
    "import numpy as np\n",
    "import seaborn as sns\n",
    "import matplotlib.pyplot as plt\n",
    "from sklearn.metrics import roc_auc_score\n",
    "pd.set_option('display.max_columns', 60) #Display 60 columns for better visualitation. \n",
    "from pandas.api.types import CategoricalDtype\n",
    "import warnings\n",
    "warnings.simplefilter(\"ignore\")"
   ]
  },
  {
   "cell_type": "code",
   "execution_count": 3,
   "metadata": {},
   "outputs": [],
   "source": [
    "df = pd.read_csv('./datos/compas-scores.csv')\n",
    "df = pd.DataFrame(df)"
   ]
  },
  {
   "cell_type": "markdown",
   "metadata": {},
   "source": [
    "### ¿What we will do in this notbook? \n",
    "### ¿Que se realizará en este notbook? \n",
    "1.-Load the data and carry out an exploratory analysis and an evaluation of the quality of the data necessary for the rest of the case. Specifically, evaluate the integrity, validity and timeliness of the data and propose mitigation strategies for the possible problems encountered.\n",
    "\n",
    "1.-Cargar los datos y realizar un análisis exploratorio y una evaluación de la calidad de los datos necesarios para el resto del caso. Específicamente, evaluar la integridad, validez y actualidad de los datos y proponer estrategias de mitigación de los posibles problemas encontrados."
   ]
  },
  {
   "cell_type": "markdown",
   "metadata": {},
   "source": [
    "## Exploratory analisis"
   ]
  },
  {
   "cell_type": "code",
   "execution_count": 4,
   "metadata": {},
   "outputs": [
    {
     "data": {
      "text/html": [
       "<div>\n",
       "<style scoped>\n",
       "    .dataframe tbody tr th:only-of-type {\n",
       "        vertical-align: middle;\n",
       "    }\n",
       "\n",
       "    .dataframe tbody tr th {\n",
       "        vertical-align: top;\n",
       "    }\n",
       "\n",
       "    .dataframe thead th {\n",
       "        text-align: right;\n",
       "    }\n",
       "</style>\n",
       "<table border=\"1\" class=\"dataframe\">\n",
       "  <thead>\n",
       "    <tr style=\"text-align: right;\">\n",
       "      <th></th>\n",
       "      <th>id</th>\n",
       "      <th>name</th>\n",
       "      <th>first</th>\n",
       "      <th>last</th>\n",
       "      <th>compas_screening_date</th>\n",
       "      <th>sex</th>\n",
       "      <th>dob</th>\n",
       "      <th>age</th>\n",
       "      <th>age_cat</th>\n",
       "      <th>race</th>\n",
       "      <th>juv_fel_count</th>\n",
       "      <th>decile_score</th>\n",
       "      <th>juv_misd_count</th>\n",
       "      <th>juv_other_count</th>\n",
       "      <th>priors_count</th>\n",
       "      <th>days_b_screening_arrest</th>\n",
       "      <th>c_jail_in</th>\n",
       "      <th>c_jail_out</th>\n",
       "      <th>c_case_number</th>\n",
       "      <th>c_offense_date</th>\n",
       "      <th>c_arrest_date</th>\n",
       "      <th>c_days_from_compas</th>\n",
       "      <th>c_charge_degree</th>\n",
       "      <th>c_charge_desc</th>\n",
       "      <th>is_recid</th>\n",
       "      <th>num_r_cases</th>\n",
       "      <th>r_case_number</th>\n",
       "      <th>r_charge_degree</th>\n",
       "      <th>r_days_from_arrest</th>\n",
       "      <th>r_offense_date</th>\n",
       "      <th>r_charge_desc</th>\n",
       "      <th>r_jail_in</th>\n",
       "      <th>r_jail_out</th>\n",
       "      <th>is_violent_recid</th>\n",
       "      <th>num_vr_cases</th>\n",
       "      <th>vr_case_number</th>\n",
       "      <th>vr_charge_degree</th>\n",
       "      <th>vr_offense_date</th>\n",
       "      <th>vr_charge_desc</th>\n",
       "      <th>v_type_of_assessment</th>\n",
       "      <th>v_decile_score</th>\n",
       "      <th>v_score_text</th>\n",
       "      <th>v_screening_date</th>\n",
       "      <th>type_of_assessment</th>\n",
       "      <th>decile_score.1</th>\n",
       "      <th>score_text</th>\n",
       "      <th>screening_date</th>\n",
       "    </tr>\n",
       "  </thead>\n",
       "  <tbody>\n",
       "    <tr>\n",
       "      <th>0</th>\n",
       "      <td>1</td>\n",
       "      <td>miguel hernandez</td>\n",
       "      <td>miguel</td>\n",
       "      <td>hernandez</td>\n",
       "      <td>2013-08-14</td>\n",
       "      <td>Male</td>\n",
       "      <td>1947-04-18</td>\n",
       "      <td>69</td>\n",
       "      <td>Greater than 45</td>\n",
       "      <td>Other</td>\n",
       "      <td>0</td>\n",
       "      <td>1</td>\n",
       "      <td>0</td>\n",
       "      <td>0</td>\n",
       "      <td>0</td>\n",
       "      <td>-1.0</td>\n",
       "      <td>2013-08-13 06:03:42</td>\n",
       "      <td>2013-08-14 05:41:20</td>\n",
       "      <td>13011352CF10A</td>\n",
       "      <td>2013-08-13</td>\n",
       "      <td>NaN</td>\n",
       "      <td>1.0</td>\n",
       "      <td>F</td>\n",
       "      <td>Aggravated Assault w/Firearm</td>\n",
       "      <td>0</td>\n",
       "      <td>NaN</td>\n",
       "      <td>NaN</td>\n",
       "      <td>O</td>\n",
       "      <td>NaN</td>\n",
       "      <td>NaN</td>\n",
       "      <td>NaN</td>\n",
       "      <td>NaN</td>\n",
       "      <td>NaN</td>\n",
       "      <td>0</td>\n",
       "      <td>NaN</td>\n",
       "      <td>NaN</td>\n",
       "      <td>NaN</td>\n",
       "      <td>NaN</td>\n",
       "      <td>NaN</td>\n",
       "      <td>Risk of Violence</td>\n",
       "      <td>1</td>\n",
       "      <td>Low</td>\n",
       "      <td>2013-08-14</td>\n",
       "      <td>Risk of Recidivism</td>\n",
       "      <td>1</td>\n",
       "      <td>Low</td>\n",
       "      <td>2013-08-14</td>\n",
       "    </tr>\n",
       "    <tr>\n",
       "      <th>1</th>\n",
       "      <td>2</td>\n",
       "      <td>michael ryan</td>\n",
       "      <td>michael</td>\n",
       "      <td>ryan</td>\n",
       "      <td>2014-12-31</td>\n",
       "      <td>Male</td>\n",
       "      <td>1985-02-06</td>\n",
       "      <td>31</td>\n",
       "      <td>25 - 45</td>\n",
       "      <td>Caucasian</td>\n",
       "      <td>0</td>\n",
       "      <td>5</td>\n",
       "      <td>0</td>\n",
       "      <td>0</td>\n",
       "      <td>0</td>\n",
       "      <td>NaN</td>\n",
       "      <td>NaN</td>\n",
       "      <td>NaN</td>\n",
       "      <td>NaN</td>\n",
       "      <td>NaN</td>\n",
       "      <td>NaN</td>\n",
       "      <td>NaN</td>\n",
       "      <td>O</td>\n",
       "      <td>NaN</td>\n",
       "      <td>-1</td>\n",
       "      <td>NaN</td>\n",
       "      <td>NaN</td>\n",
       "      <td>O</td>\n",
       "      <td>NaN</td>\n",
       "      <td>NaN</td>\n",
       "      <td>NaN</td>\n",
       "      <td>NaN</td>\n",
       "      <td>NaN</td>\n",
       "      <td>0</td>\n",
       "      <td>NaN</td>\n",
       "      <td>NaN</td>\n",
       "      <td>NaN</td>\n",
       "      <td>NaN</td>\n",
       "      <td>NaN</td>\n",
       "      <td>Risk of Violence</td>\n",
       "      <td>2</td>\n",
       "      <td>Low</td>\n",
       "      <td>2014-12-31</td>\n",
       "      <td>Risk of Recidivism</td>\n",
       "      <td>5</td>\n",
       "      <td>Medium</td>\n",
       "      <td>2014-12-31</td>\n",
       "    </tr>\n",
       "    <tr>\n",
       "      <th>2</th>\n",
       "      <td>3</td>\n",
       "      <td>kevon dixon</td>\n",
       "      <td>kevon</td>\n",
       "      <td>dixon</td>\n",
       "      <td>2013-01-27</td>\n",
       "      <td>Male</td>\n",
       "      <td>1982-01-22</td>\n",
       "      <td>34</td>\n",
       "      <td>25 - 45</td>\n",
       "      <td>African-American</td>\n",
       "      <td>0</td>\n",
       "      <td>3</td>\n",
       "      <td>0</td>\n",
       "      <td>0</td>\n",
       "      <td>0</td>\n",
       "      <td>-1.0</td>\n",
       "      <td>2013-01-26 03:45:27</td>\n",
       "      <td>2013-02-05 05:36:53</td>\n",
       "      <td>13001275CF10A</td>\n",
       "      <td>2013-01-26</td>\n",
       "      <td>NaN</td>\n",
       "      <td>1.0</td>\n",
       "      <td>F</td>\n",
       "      <td>Felony Battery w/Prior Convict</td>\n",
       "      <td>1</td>\n",
       "      <td>NaN</td>\n",
       "      <td>13009779CF10A</td>\n",
       "      <td>F</td>\n",
       "      <td>NaN</td>\n",
       "      <td>2013-07-05</td>\n",
       "      <td>Felony Battery (Dom Strang)</td>\n",
       "      <td>NaN</td>\n",
       "      <td>NaN</td>\n",
       "      <td>1</td>\n",
       "      <td>NaN</td>\n",
       "      <td>13009779CF10A</td>\n",
       "      <td>(F3)</td>\n",
       "      <td>2013-07-05</td>\n",
       "      <td>Felony Battery (Dom Strang)</td>\n",
       "      <td>Risk of Violence</td>\n",
       "      <td>1</td>\n",
       "      <td>Low</td>\n",
       "      <td>2013-01-27</td>\n",
       "      <td>Risk of Recidivism</td>\n",
       "      <td>3</td>\n",
       "      <td>Low</td>\n",
       "      <td>2013-01-27</td>\n",
       "    </tr>\n",
       "    <tr>\n",
       "      <th>3</th>\n",
       "      <td>4</td>\n",
       "      <td>ed philo</td>\n",
       "      <td>ed</td>\n",
       "      <td>philo</td>\n",
       "      <td>2013-04-14</td>\n",
       "      <td>Male</td>\n",
       "      <td>1991-05-14</td>\n",
       "      <td>24</td>\n",
       "      <td>Less than 25</td>\n",
       "      <td>African-American</td>\n",
       "      <td>0</td>\n",
       "      <td>4</td>\n",
       "      <td>0</td>\n",
       "      <td>1</td>\n",
       "      <td>4</td>\n",
       "      <td>-1.0</td>\n",
       "      <td>2013-04-13 04:58:34</td>\n",
       "      <td>2013-04-14 07:02:04</td>\n",
       "      <td>13005330CF10A</td>\n",
       "      <td>2013-04-13</td>\n",
       "      <td>NaN</td>\n",
       "      <td>1.0</td>\n",
       "      <td>F</td>\n",
       "      <td>Possession of Cocaine</td>\n",
       "      <td>1</td>\n",
       "      <td>NaN</td>\n",
       "      <td>13011511MM10A</td>\n",
       "      <td>M</td>\n",
       "      <td>0.0</td>\n",
       "      <td>2013-06-16</td>\n",
       "      <td>Driving Under The Influence</td>\n",
       "      <td>2013-06-16</td>\n",
       "      <td>2013-06-16</td>\n",
       "      <td>0</td>\n",
       "      <td>NaN</td>\n",
       "      <td>NaN</td>\n",
       "      <td>NaN</td>\n",
       "      <td>NaN</td>\n",
       "      <td>NaN</td>\n",
       "      <td>Risk of Violence</td>\n",
       "      <td>3</td>\n",
       "      <td>Low</td>\n",
       "      <td>2013-04-14</td>\n",
       "      <td>Risk of Recidivism</td>\n",
       "      <td>4</td>\n",
       "      <td>Low</td>\n",
       "      <td>2013-04-14</td>\n",
       "    </tr>\n",
       "  </tbody>\n",
       "</table>\n",
       "</div>"
      ],
      "text/plain": [
       "   id              name    first       last compas_screening_date   sex  \\\n",
       "0   1  miguel hernandez   miguel  hernandez            2013-08-14  Male   \n",
       "1   2      michael ryan  michael       ryan            2014-12-31  Male   \n",
       "2   3       kevon dixon    kevon      dixon            2013-01-27  Male   \n",
       "3   4          ed philo       ed      philo            2013-04-14  Male   \n",
       "\n",
       "          dob  age          age_cat              race  juv_fel_count  \\\n",
       "0  1947-04-18   69  Greater than 45             Other              0   \n",
       "1  1985-02-06   31          25 - 45         Caucasian              0   \n",
       "2  1982-01-22   34          25 - 45  African-American              0   \n",
       "3  1991-05-14   24     Less than 25  African-American              0   \n",
       "\n",
       "   decile_score  juv_misd_count  juv_other_count  priors_count  \\\n",
       "0             1               0                0             0   \n",
       "1             5               0                0             0   \n",
       "2             3               0                0             0   \n",
       "3             4               0                1             4   \n",
       "\n",
       "   days_b_screening_arrest            c_jail_in           c_jail_out  \\\n",
       "0                     -1.0  2013-08-13 06:03:42  2013-08-14 05:41:20   \n",
       "1                      NaN                  NaN                  NaN   \n",
       "2                     -1.0  2013-01-26 03:45:27  2013-02-05 05:36:53   \n",
       "3                     -1.0  2013-04-13 04:58:34  2013-04-14 07:02:04   \n",
       "\n",
       "   c_case_number c_offense_date c_arrest_date  c_days_from_compas  \\\n",
       "0  13011352CF10A     2013-08-13           NaN                 1.0   \n",
       "1            NaN            NaN           NaN                 NaN   \n",
       "2  13001275CF10A     2013-01-26           NaN                 1.0   \n",
       "3  13005330CF10A     2013-04-13           NaN                 1.0   \n",
       "\n",
       "  c_charge_degree                   c_charge_desc  is_recid  num_r_cases  \\\n",
       "0               F    Aggravated Assault w/Firearm         0          NaN   \n",
       "1               O                             NaN        -1          NaN   \n",
       "2               F  Felony Battery w/Prior Convict         1          NaN   \n",
       "3               F           Possession of Cocaine         1          NaN   \n",
       "\n",
       "   r_case_number r_charge_degree  r_days_from_arrest r_offense_date  \\\n",
       "0            NaN               O                 NaN            NaN   \n",
       "1            NaN               O                 NaN            NaN   \n",
       "2  13009779CF10A               F                 NaN     2013-07-05   \n",
       "3  13011511MM10A               M                 0.0     2013-06-16   \n",
       "\n",
       "                 r_charge_desc   r_jail_in  r_jail_out  is_violent_recid  \\\n",
       "0                          NaN         NaN         NaN                 0   \n",
       "1                          NaN         NaN         NaN                 0   \n",
       "2  Felony Battery (Dom Strang)         NaN         NaN                 1   \n",
       "3  Driving Under The Influence  2013-06-16  2013-06-16                 0   \n",
       "\n",
       "   num_vr_cases vr_case_number vr_charge_degree vr_offense_date  \\\n",
       "0           NaN            NaN              NaN             NaN   \n",
       "1           NaN            NaN              NaN             NaN   \n",
       "2           NaN  13009779CF10A             (F3)      2013-07-05   \n",
       "3           NaN            NaN              NaN             NaN   \n",
       "\n",
       "                vr_charge_desc v_type_of_assessment  v_decile_score  \\\n",
       "0                          NaN     Risk of Violence               1   \n",
       "1                          NaN     Risk of Violence               2   \n",
       "2  Felony Battery (Dom Strang)     Risk of Violence               1   \n",
       "3                          NaN     Risk of Violence               3   \n",
       "\n",
       "  v_score_text v_screening_date  type_of_assessment  decile_score.1  \\\n",
       "0          Low       2013-08-14  Risk of Recidivism               1   \n",
       "1          Low       2014-12-31  Risk of Recidivism               5   \n",
       "2          Low       2013-01-27  Risk of Recidivism               3   \n",
       "3          Low       2013-04-14  Risk of Recidivism               4   \n",
       "\n",
       "  score_text screening_date  \n",
       "0        Low     2013-08-14  \n",
       "1     Medium     2014-12-31  \n",
       "2        Low     2013-01-27  \n",
       "3        Low     2013-04-14  "
      ]
     },
     "execution_count": 4,
     "metadata": {},
     "output_type": "execute_result"
    }
   ],
   "source": [
    "df.head(4)"
   ]
  },
  {
   "cell_type": "code",
   "execution_count": 5,
   "metadata": {},
   "outputs": [
    {
     "name": "stdout",
     "output_type": "stream",
     "text": [
      "<class 'pandas.core.frame.DataFrame'>\n",
      "RangeIndex: 11757 entries, 0 to 11756\n",
      "Data columns (total 47 columns):\n",
      " #   Column                   Non-Null Count  Dtype  \n",
      "---  ------                   --------------  -----  \n",
      " 0   id                       11757 non-null  int64  \n",
      " 1   name                     11757 non-null  object \n",
      " 2   first                    11757 non-null  object \n",
      " 3   last                     11757 non-null  object \n",
      " 4   compas_screening_date    11757 non-null  object \n",
      " 5   sex                      11757 non-null  object \n",
      " 6   dob                      11757 non-null  object \n",
      " 7   age                      11757 non-null  int64  \n",
      " 8   age_cat                  11757 non-null  object \n",
      " 9   race                     11757 non-null  object \n",
      " 10  juv_fel_count            11757 non-null  int64  \n",
      " 11  decile_score             11757 non-null  int64  \n",
      " 12  juv_misd_count           11757 non-null  int64  \n",
      " 13  juv_other_count          11757 non-null  int64  \n",
      " 14  priors_count             11757 non-null  int64  \n",
      " 15  days_b_screening_arrest  10577 non-null  float64\n",
      " 16  c_jail_in                10577 non-null  object \n",
      " 17  c_jail_out               10577 non-null  object \n",
      " 18  c_case_number            11015 non-null  object \n",
      " 19  c_offense_date           9157 non-null   object \n",
      " 20  c_arrest_date            1858 non-null   object \n",
      " 21  c_days_from_compas       11015 non-null  float64\n",
      " 22  c_charge_degree          11757 non-null  object \n",
      " 23  c_charge_desc            11008 non-null  object \n",
      " 24  is_recid                 11757 non-null  int64  \n",
      " 25  num_r_cases              0 non-null      float64\n",
      " 26  r_case_number            3703 non-null   object \n",
      " 27  r_charge_degree          11757 non-null  object \n",
      " 28  r_days_from_arrest       2460 non-null   float64\n",
      " 29  r_offense_date           3703 non-null   object \n",
      " 30  r_charge_desc            3643 non-null   object \n",
      " 31  r_jail_in                2460 non-null   object \n",
      " 32  r_jail_out               2460 non-null   object \n",
      " 33  is_violent_recid         11757 non-null  int64  \n",
      " 34  num_vr_cases             0 non-null      float64\n",
      " 35  vr_case_number           882 non-null    object \n",
      " 36  vr_charge_degree         882 non-null    object \n",
      " 37  vr_offense_date          882 non-null    object \n",
      " 38  vr_charge_desc           882 non-null    object \n",
      " 39  v_type_of_assessment     11757 non-null  object \n",
      " 40  v_decile_score           11757 non-null  int64  \n",
      " 41  v_score_text             11752 non-null  object \n",
      " 42  v_screening_date         11757 non-null  object \n",
      " 43  type_of_assessment       11757 non-null  object \n",
      " 44  decile_score.1           11757 non-null  int64  \n",
      " 45  score_text               11742 non-null  object \n",
      " 46  screening_date           11757 non-null  object \n",
      "dtypes: float64(5), int64(11), object(31)\n",
      "memory usage: 4.2+ MB\n"
     ]
    }
   ],
   "source": [
    "df.info()"
   ]
  },
  {
   "cell_type": "code",
   "execution_count": 6,
   "metadata": {},
   "outputs": [],
   "source": [
    "#'num_vr_cases', 'num_r_cases', son columnas completamente vacias que se deben eliminar\n",
    "#Empty columns\n",
    "df = df.drop(['num_vr_cases', 'num_r_cases'], axis =1)"
   ]
  },
  {
   "cell_type": "code",
   "execution_count": 7,
   "metadata": {},
   "outputs": [],
   "source": [
    "#Selection of Columns that will be useful to find the desired insights \n",
    "#Seleccion de Columnas que seran de utilidad para encontrar los insights buscados\n",
    "\n",
    "df1 = df[['id', 'name', 'sex', 'age', 'age_cat', 'is_recid', 'is_violent_recid','decile_score', 'v_decile_score', 'vr_offense_date', \n",
    "'r_offense_date', 'race', 'score_text', 'v_score_text', 'priors_count', 'compas_screening_date']].copy()"
   ]
  },
  {
   "cell_type": "code",
   "execution_count": 8,
   "metadata": {},
   "outputs": [
    {
     "data": {
      "text/html": [
       "<div>\n",
       "<style scoped>\n",
       "    .dataframe tbody tr th:only-of-type {\n",
       "        vertical-align: middle;\n",
       "    }\n",
       "\n",
       "    .dataframe tbody tr th {\n",
       "        vertical-align: top;\n",
       "    }\n",
       "\n",
       "    .dataframe thead th {\n",
       "        text-align: right;\n",
       "    }\n",
       "</style>\n",
       "<table border=\"1\" class=\"dataframe\">\n",
       "  <thead>\n",
       "    <tr style=\"text-align: right;\">\n",
       "      <th></th>\n",
       "      <th>id</th>\n",
       "      <th>name</th>\n",
       "      <th>sex</th>\n",
       "      <th>age</th>\n",
       "      <th>age_cat</th>\n",
       "      <th>is_recid</th>\n",
       "      <th>is_violent_recid</th>\n",
       "      <th>decile_score</th>\n",
       "      <th>v_decile_score</th>\n",
       "      <th>vr_offense_date</th>\n",
       "      <th>r_offense_date</th>\n",
       "      <th>race</th>\n",
       "      <th>score_text</th>\n",
       "      <th>v_score_text</th>\n",
       "      <th>priors_count</th>\n",
       "      <th>compas_screening_date</th>\n",
       "    </tr>\n",
       "  </thead>\n",
       "  <tbody>\n",
       "    <tr>\n",
       "      <th>0</th>\n",
       "      <td>1</td>\n",
       "      <td>miguel hernandez</td>\n",
       "      <td>Male</td>\n",
       "      <td>69</td>\n",
       "      <td>Greater than 45</td>\n",
       "      <td>0</td>\n",
       "      <td>0</td>\n",
       "      <td>1</td>\n",
       "      <td>1</td>\n",
       "      <td>NaN</td>\n",
       "      <td>NaN</td>\n",
       "      <td>Other</td>\n",
       "      <td>Low</td>\n",
       "      <td>Low</td>\n",
       "      <td>0</td>\n",
       "      <td>2013-08-14</td>\n",
       "    </tr>\n",
       "    <tr>\n",
       "      <th>1</th>\n",
       "      <td>2</td>\n",
       "      <td>michael ryan</td>\n",
       "      <td>Male</td>\n",
       "      <td>31</td>\n",
       "      <td>25 - 45</td>\n",
       "      <td>-1</td>\n",
       "      <td>0</td>\n",
       "      <td>5</td>\n",
       "      <td>2</td>\n",
       "      <td>NaN</td>\n",
       "      <td>NaN</td>\n",
       "      <td>Caucasian</td>\n",
       "      <td>Medium</td>\n",
       "      <td>Low</td>\n",
       "      <td>0</td>\n",
       "      <td>2014-12-31</td>\n",
       "    </tr>\n",
       "    <tr>\n",
       "      <th>2</th>\n",
       "      <td>3</td>\n",
       "      <td>kevon dixon</td>\n",
       "      <td>Male</td>\n",
       "      <td>34</td>\n",
       "      <td>25 - 45</td>\n",
       "      <td>1</td>\n",
       "      <td>1</td>\n",
       "      <td>3</td>\n",
       "      <td>1</td>\n",
       "      <td>2013-07-05</td>\n",
       "      <td>2013-07-05</td>\n",
       "      <td>African-American</td>\n",
       "      <td>Low</td>\n",
       "      <td>Low</td>\n",
       "      <td>0</td>\n",
       "      <td>2013-01-27</td>\n",
       "    </tr>\n",
       "  </tbody>\n",
       "</table>\n",
       "</div>"
      ],
      "text/plain": [
       "   id              name   sex  age          age_cat  is_recid  \\\n",
       "0   1  miguel hernandez  Male   69  Greater than 45         0   \n",
       "1   2      michael ryan  Male   31          25 - 45        -1   \n",
       "2   3       kevon dixon  Male   34          25 - 45         1   \n",
       "\n",
       "   is_violent_recid  decile_score  v_decile_score vr_offense_date  \\\n",
       "0                 0             1               1             NaN   \n",
       "1                 0             5               2             NaN   \n",
       "2                 1             3               1      2013-07-05   \n",
       "\n",
       "  r_offense_date              race score_text v_score_text  priors_count  \\\n",
       "0            NaN             Other        Low          Low             0   \n",
       "1            NaN         Caucasian     Medium          Low             0   \n",
       "2     2013-07-05  African-American        Low          Low             0   \n",
       "\n",
       "  compas_screening_date  \n",
       "0            2013-08-14  \n",
       "1            2014-12-31  \n",
       "2            2013-01-27  "
      ]
     },
     "execution_count": 8,
     "metadata": {},
     "output_type": "execute_result"
    }
   ],
   "source": [
    "df1.head(3)"
   ]
  },
  {
   "cell_type": "markdown",
   "metadata": {},
   "source": [
    "### I will analyze column by column integrity, validity and timeliness\n",
    "### Analizaré columna por columna integridad, validez y actualidad"
   ]
  },
  {
   "cell_type": "code",
   "execution_count": 9,
   "metadata": {},
   "outputs": [],
   "source": [
    "def describe_columna(df, col):\n",
    "    print(f'Columna: {col}  -  Tipo de datos: {df[col].dtype}')\n",
    "    print(f'Número de valores nulos: {df[col].isnull().sum()}  -  Número de valores distintos: {df[col].nunique()}')\n",
    "    print('Valores más frecuentes:')\n",
    "    for i, v in df[col].value_counts().iloc[:10].items() :\n",
    "        print(i, '\\t', v)"
   ]
  },
  {
   "cell_type": "code",
   "execution_count": 10,
   "metadata": {},
   "outputs": [
    {
     "name": "stdout",
     "output_type": "stream",
     "text": [
      "Columna: id  -  Tipo de datos: int64\n",
      "Número de valores nulos: 0  -  Número de valores distintos: 11757\n",
      "Valores más frecuentes:\n",
      "2047 \t 1\n",
      "1314 \t 1\n",
      "5408 \t 1\n",
      "11551 \t 1\n",
      "9502 \t 1\n",
      "3355 \t 1\n",
      "1306 \t 1\n",
      "7449 \t 1\n",
      "5400 \t 1\n",
      "11543 \t 1\n"
     ]
    }
   ],
   "source": [
    "describe_columna(df1, 'id')\n",
    "#Columna se encuentra completa, con solo valores unicos, utilizables como indices e identificadores."
   ]
  },
  {
   "cell_type": "code",
   "execution_count": 11,
   "metadata": {},
   "outputs": [
    {
     "name": "stdout",
     "output_type": "stream",
     "text": [
      "Columna: name  -  Tipo de datos: object\n",
      "Número de valores nulos: 0  -  Número de valores distintos: 11584\n",
      "Valores más frecuentes:\n",
      "john brown \t 4\n",
      "robert taylor \t 4\n",
      "michael cunningham \t 4\n",
      "carlos vasquez \t 4\n",
      "james smith \t 3\n",
      "michael williams \t 3\n",
      "steven wilson \t 3\n",
      "james williams \t 3\n",
      "gregory williams \t 3\n",
      "anthony jackson \t 3\n"
     ]
    }
   ],
   "source": [
    "describe_columna(df1, 'name')"
   ]
  },
  {
   "cell_type": "markdown",
   "metadata": {},
   "source": [
    "There are a series of possibly duplicate values so I must check if it is just a coincidence\n",
    "names or it could mean a problem.\n",
    "According to what was observed, there would be no duplication in the names. It is important to mention the case of Alejandro Cabrebra, who could be a repeated case, but it is a second evaluation of COMPAS According to the date\n",
    "\n",
    "Existen una serie de valores posiblemente duplicados por lo que debo revisar si es solo coincidencia \n",
    "de nombres o podria significar un problema.\n",
    "De acuerdo a lo observado no existiría duplicidad en los nombres. Importante mencionar el caso de Alejandro Cabrebra quien si podria resultar un caso repetido, pero se trata de una segunda evaluacion de COMPAS Segun la fecha"
   ]
  },
  {
   "cell_type": "code",
   "execution_count": 12,
   "metadata": {},
   "outputs": [
    {
     "data": {
      "text/html": [
       "<div>\n",
       "<style scoped>\n",
       "    .dataframe tbody tr th:only-of-type {\n",
       "        vertical-align: middle;\n",
       "    }\n",
       "\n",
       "    .dataframe tbody tr th {\n",
       "        vertical-align: top;\n",
       "    }\n",
       "\n",
       "    .dataframe thead th {\n",
       "        text-align: right;\n",
       "    }\n",
       "</style>\n",
       "<table border=\"1\" class=\"dataframe\">\n",
       "  <thead>\n",
       "    <tr style=\"text-align: right;\">\n",
       "      <th></th>\n",
       "      <th>id</th>\n",
       "      <th>name</th>\n",
       "      <th>sex</th>\n",
       "      <th>age</th>\n",
       "      <th>age_cat</th>\n",
       "      <th>is_recid</th>\n",
       "      <th>is_violent_recid</th>\n",
       "      <th>decile_score</th>\n",
       "      <th>v_decile_score</th>\n",
       "      <th>vr_offense_date</th>\n",
       "      <th>r_offense_date</th>\n",
       "      <th>race</th>\n",
       "      <th>score_text</th>\n",
       "      <th>v_score_text</th>\n",
       "      <th>priors_count</th>\n",
       "      <th>compas_screening_date</th>\n",
       "    </tr>\n",
       "  </thead>\n",
       "  <tbody>\n",
       "    <tr>\n",
       "      <th>11585</th>\n",
       "      <td>11586</td>\n",
       "      <td>alejandro cabrera</td>\n",
       "      <td>Male</td>\n",
       "      <td>26</td>\n",
       "      <td>25 - 45</td>\n",
       "      <td>-1</td>\n",
       "      <td>0</td>\n",
       "      <td>4</td>\n",
       "      <td>3</td>\n",
       "      <td>NaN</td>\n",
       "      <td>NaN</td>\n",
       "      <td>Hispanic</td>\n",
       "      <td>Low</td>\n",
       "      <td>Low</td>\n",
       "      <td>0</td>\n",
       "      <td>2013-10-07</td>\n",
       "    </tr>\n",
       "    <tr>\n",
       "      <th>6536</th>\n",
       "      <td>6537</td>\n",
       "      <td>alejandro cabrera</td>\n",
       "      <td>Male</td>\n",
       "      <td>26</td>\n",
       "      <td>25 - 45</td>\n",
       "      <td>1</td>\n",
       "      <td>1</td>\n",
       "      <td>4</td>\n",
       "      <td>3</td>\n",
       "      <td>2013-10-06</td>\n",
       "      <td>2013-10-06</td>\n",
       "      <td>Caucasian</td>\n",
       "      <td>Low</td>\n",
       "      <td>Low</td>\n",
       "      <td>4</td>\n",
       "      <td>2013-09-23</td>\n",
       "    </tr>\n",
       "    <tr>\n",
       "      <th>2794</th>\n",
       "      <td>2795</td>\n",
       "      <td>alexander williams</td>\n",
       "      <td>Male</td>\n",
       "      <td>60</td>\n",
       "      <td>Greater than 45</td>\n",
       "      <td>0</td>\n",
       "      <td>0</td>\n",
       "      <td>7</td>\n",
       "      <td>1</td>\n",
       "      <td>NaN</td>\n",
       "      <td>NaN</td>\n",
       "      <td>African-American</td>\n",
       "      <td>Medium</td>\n",
       "      <td>Low</td>\n",
       "      <td>15</td>\n",
       "      <td>2014-12-08</td>\n",
       "    </tr>\n",
       "    <tr>\n",
       "      <th>10321</th>\n",
       "      <td>10322</td>\n",
       "      <td>alexander williams</td>\n",
       "      <td>Male</td>\n",
       "      <td>28</td>\n",
       "      <td>25 - 45</td>\n",
       "      <td>-1</td>\n",
       "      <td>0</td>\n",
       "      <td>3</td>\n",
       "      <td>3</td>\n",
       "      <td>NaN</td>\n",
       "      <td>NaN</td>\n",
       "      <td>African-American</td>\n",
       "      <td>Low</td>\n",
       "      <td>Low</td>\n",
       "      <td>0</td>\n",
       "      <td>2014-12-20</td>\n",
       "    </tr>\n",
       "    <tr>\n",
       "      <th>3746</th>\n",
       "      <td>3747</td>\n",
       "      <td>angel santiago</td>\n",
       "      <td>Male</td>\n",
       "      <td>37</td>\n",
       "      <td>25 - 45</td>\n",
       "      <td>0</td>\n",
       "      <td>0</td>\n",
       "      <td>6</td>\n",
       "      <td>4</td>\n",
       "      <td>NaN</td>\n",
       "      <td>NaN</td>\n",
       "      <td>Caucasian</td>\n",
       "      <td>Medium</td>\n",
       "      <td>Low</td>\n",
       "      <td>1</td>\n",
       "      <td>2013-05-26</td>\n",
       "    </tr>\n",
       "    <tr>\n",
       "      <th>...</th>\n",
       "      <td>...</td>\n",
       "      <td>...</td>\n",
       "      <td>...</td>\n",
       "      <td>...</td>\n",
       "      <td>...</td>\n",
       "      <td>...</td>\n",
       "      <td>...</td>\n",
       "      <td>...</td>\n",
       "      <td>...</td>\n",
       "      <td>...</td>\n",
       "      <td>...</td>\n",
       "      <td>...</td>\n",
       "      <td>...</td>\n",
       "      <td>...</td>\n",
       "      <td>...</td>\n",
       "      <td>...</td>\n",
       "    </tr>\n",
       "    <tr>\n",
       "      <th>8368</th>\n",
       "      <td>8369</td>\n",
       "      <td>william taylor</td>\n",
       "      <td>Male</td>\n",
       "      <td>47</td>\n",
       "      <td>Greater than 45</td>\n",
       "      <td>0</td>\n",
       "      <td>0</td>\n",
       "      <td>2</td>\n",
       "      <td>3</td>\n",
       "      <td>NaN</td>\n",
       "      <td>NaN</td>\n",
       "      <td>Caucasian</td>\n",
       "      <td>Low</td>\n",
       "      <td>Low</td>\n",
       "      <td>5</td>\n",
       "      <td>2013-04-02</td>\n",
       "    </tr>\n",
       "    <tr>\n",
       "      <th>1122</th>\n",
       "      <td>1123</td>\n",
       "      <td>willie johnson</td>\n",
       "      <td>Male</td>\n",
       "      <td>50</td>\n",
       "      <td>Greater than 45</td>\n",
       "      <td>0</td>\n",
       "      <td>0</td>\n",
       "      <td>9</td>\n",
       "      <td>6</td>\n",
       "      <td>NaN</td>\n",
       "      <td>NaN</td>\n",
       "      <td>African-American</td>\n",
       "      <td>High</td>\n",
       "      <td>Medium</td>\n",
       "      <td>11</td>\n",
       "      <td>2013-09-09</td>\n",
       "    </tr>\n",
       "    <tr>\n",
       "      <th>7396</th>\n",
       "      <td>7397</td>\n",
       "      <td>willie johnson</td>\n",
       "      <td>Male</td>\n",
       "      <td>22</td>\n",
       "      <td>Less than 25</td>\n",
       "      <td>0</td>\n",
       "      <td>0</td>\n",
       "      <td>10</td>\n",
       "      <td>9</td>\n",
       "      <td>NaN</td>\n",
       "      <td>NaN</td>\n",
       "      <td>African-American</td>\n",
       "      <td>High</td>\n",
       "      <td>High</td>\n",
       "      <td>9</td>\n",
       "      <td>2014-06-11</td>\n",
       "    </tr>\n",
       "    <tr>\n",
       "      <th>3428</th>\n",
       "      <td>3429</td>\n",
       "      <td>xavier johnson</td>\n",
       "      <td>Male</td>\n",
       "      <td>21</td>\n",
       "      <td>Less than 25</td>\n",
       "      <td>1</td>\n",
       "      <td>0</td>\n",
       "      <td>6</td>\n",
       "      <td>9</td>\n",
       "      <td>NaN</td>\n",
       "      <td>2013-05-24</td>\n",
       "      <td>African-American</td>\n",
       "      <td>Medium</td>\n",
       "      <td>High</td>\n",
       "      <td>0</td>\n",
       "      <td>2013-01-19</td>\n",
       "    </tr>\n",
       "    <tr>\n",
       "      <th>8470</th>\n",
       "      <td>8471</td>\n",
       "      <td>xavier johnson</td>\n",
       "      <td>Male</td>\n",
       "      <td>23</td>\n",
       "      <td>Less than 25</td>\n",
       "      <td>1</td>\n",
       "      <td>0</td>\n",
       "      <td>4</td>\n",
       "      <td>7</td>\n",
       "      <td>NaN</td>\n",
       "      <td>2014-12-03</td>\n",
       "      <td>African-American</td>\n",
       "      <td>Low</td>\n",
       "      <td>Medium</td>\n",
       "      <td>2</td>\n",
       "      <td>2014-07-13</td>\n",
       "    </tr>\n",
       "  </tbody>\n",
       "</table>\n",
       "<p>328 rows × 16 columns</p>\n",
       "</div>"
      ],
      "text/plain": [
       "          id                name   sex  age          age_cat  is_recid  \\\n",
       "11585  11586   alejandro cabrera  Male   26          25 - 45        -1   \n",
       "6536    6537   alejandro cabrera  Male   26          25 - 45         1   \n",
       "2794    2795  alexander williams  Male   60  Greater than 45         0   \n",
       "10321  10322  alexander williams  Male   28          25 - 45        -1   \n",
       "3746    3747      angel santiago  Male   37          25 - 45         0   \n",
       "...      ...                 ...   ...  ...              ...       ...   \n",
       "8368    8369      william taylor  Male   47  Greater than 45         0   \n",
       "1122    1123      willie johnson  Male   50  Greater than 45         0   \n",
       "7396    7397      willie johnson  Male   22     Less than 25         0   \n",
       "3428    3429      xavier johnson  Male   21     Less than 25         1   \n",
       "8470    8471      xavier johnson  Male   23     Less than 25         1   \n",
       "\n",
       "       is_violent_recid  decile_score  v_decile_score vr_offense_date  \\\n",
       "11585                 0             4               3             NaN   \n",
       "6536                  1             4               3      2013-10-06   \n",
       "2794                  0             7               1             NaN   \n",
       "10321                 0             3               3             NaN   \n",
       "3746                  0             6               4             NaN   \n",
       "...                 ...           ...             ...             ...   \n",
       "8368                  0             2               3             NaN   \n",
       "1122                  0             9               6             NaN   \n",
       "7396                  0            10               9             NaN   \n",
       "3428                  0             6               9             NaN   \n",
       "8470                  0             4               7             NaN   \n",
       "\n",
       "      r_offense_date              race score_text v_score_text  priors_count  \\\n",
       "11585            NaN          Hispanic        Low          Low             0   \n",
       "6536      2013-10-06         Caucasian        Low          Low             4   \n",
       "2794             NaN  African-American     Medium          Low            15   \n",
       "10321            NaN  African-American        Low          Low             0   \n",
       "3746             NaN         Caucasian     Medium          Low             1   \n",
       "...              ...               ...        ...          ...           ...   \n",
       "8368             NaN         Caucasian        Low          Low             5   \n",
       "1122             NaN  African-American       High       Medium            11   \n",
       "7396             NaN  African-American       High         High             9   \n",
       "3428      2013-05-24  African-American     Medium         High             0   \n",
       "8470      2014-12-03  African-American        Low       Medium             2   \n",
       "\n",
       "      compas_screening_date  \n",
       "11585            2013-10-07  \n",
       "6536             2013-09-23  \n",
       "2794             2014-12-08  \n",
       "10321            2014-12-20  \n",
       "3746             2013-05-26  \n",
       "...                     ...  \n",
       "8368             2013-04-02  \n",
       "1122             2013-09-09  \n",
       "7396             2014-06-11  \n",
       "3428             2013-01-19  \n",
       "8470             2014-07-13  \n",
       "\n",
       "[328 rows x 16 columns]"
      ]
     },
     "execution_count": 12,
     "metadata": {},
     "output_type": "execute_result"
    }
   ],
   "source": [
    "df1[df1.name.duplicated(keep = False)].sort_values(by = 'name')"
   ]
  },
  {
   "cell_type": "code",
   "execution_count": 13,
   "metadata": {},
   "outputs": [
    {
     "name": "stdout",
     "output_type": "stream",
     "text": [
      "Columna: sex  -  Tipo de datos: object\n",
      "Número de valores nulos: 0  -  Número de valores distintos: 2\n",
      "Valores más frecuentes:\n",
      "Male \t 9336\n",
      "Female \t 2421\n"
     ]
    }
   ],
   "source": [
    "describe_columna(df1, 'sex')\n",
    "# Columna integra, valida y sin nulos."
   ]
  },
  {
   "cell_type": "code",
   "execution_count": 14,
   "metadata": {},
   "outputs": [
    {
     "name": "stdout",
     "output_type": "stream",
     "text": [
      "Columna: age  -  Tipo de datos: int64\n",
      "Número de valores nulos: 0  -  Número de valores distintos: 66\n",
      "Valores más frecuentes:\n",
      "26 \t 540\n",
      "24 \t 539\n",
      "25 \t 521\n",
      "23 \t 507\n",
      "27 \t 506\n",
      "22 \t 503\n",
      "21 \t 500\n",
      "29 \t 456\n",
      "30 \t 441\n",
      "28 \t 430\n",
      "None\n",
      "18\n",
      "96\n"
     ]
    }
   ],
   "source": [
    "print(describe_columna(df1, 'age'))\n",
    "print(df1.age.min() )\n",
    "print(df1.age.max()) "
   ]
  },
  {
   "cell_type": "markdown",
   "metadata": {},
   "source": [
    "#### values between the ranges of 18 and 96 years, without null values ​​so it is also an integral and valid column.\n",
    "#### valores entre los rangos de 18 y 96 años, sin valores nulos por lo que tambien es una columna integra y valida."
   ]
  },
  {
   "cell_type": "code",
   "execution_count": 15,
   "metadata": {},
   "outputs": [
    {
     "name": "stdout",
     "output_type": "stream",
     "text": [
      "Columna: age_cat  -  Tipo de datos: object\n",
      "Número de valores nulos: 0  -  Número de valores distintos: 3\n",
      "Valores más frecuentes:\n",
      "25 - 45 \t 6649\n",
      "Greater than 45 \t 2668\n",
      "Less than 25 \t 2440\n",
      "None\n"
     ]
    }
   ],
   "source": [
    "print(describe_columna(df1, 'age_cat'))\n",
    "# Columna sin valores nulos, integra y valida."
   ]
  },
  {
   "cell_type": "code",
   "execution_count": 16,
   "metadata": {},
   "outputs": [
    {
     "name": "stdout",
     "output_type": "stream",
     "text": [
      "Columna: is_recid  -  Tipo de datos: int64\n",
      "Número de valores nulos: 0  -  Número de valores distintos: 3\n",
      "Valores más frecuentes:\n",
      "0 \t 7335\n",
      "1 \t 3703\n",
      "-1 \t 719\n",
      "None\n"
     ]
    }
   ],
   "source": [
    "print(describe_columna(df1, 'is_recid'))"
   ]
  },
  {
   "cell_type": "code",
   "execution_count": 17,
   "metadata": {},
   "outputs": [],
   "source": [
    "#Esos 719 valores sin antecedentes de reincidencia se deben eliminar\n",
    "df1 = df1.drop(df1[df1['is_recid']==-1].index)"
   ]
  },
  {
   "cell_type": "code",
   "execution_count": 18,
   "metadata": {},
   "outputs": [
    {
     "name": "stdout",
     "output_type": "stream",
     "text": [
      "Columna: is_recid  -  Tipo de datos: int64\n",
      "Número de valores nulos: 0  -  Número de valores distintos: 2\n",
      "Valores más frecuentes:\n",
      "0 \t 7335\n",
      "1 \t 3703\n",
      "None\n"
     ]
    }
   ],
   "source": [
    "print(describe_columna(df1, 'is_recid')) "
   ]
  },
  {
   "cell_type": "code",
   "execution_count": 19,
   "metadata": {},
   "outputs": [],
   "source": [
    "# Transform the columns that should be categorical\n",
    "# Transformar a categoricos las columnas que deberian serlo\n",
    "\n",
    "for col in ['sex', 'age_cat']:\n",
    "    df1[col] = df1[col].astype('category')\n",
    "   # 'decile_score', 'v_decile_score''is_recid', 'is_violent_recid',"
   ]
  },
  {
   "cell_type": "code",
   "execution_count": 20,
   "metadata": {},
   "outputs": [
    {
     "name": "stdout",
     "output_type": "stream",
     "text": [
      "Columna: is_violent_recid  -  Tipo de datos: int64\n",
      "Número de valores nulos: 0  -  Número de valores distintos: 2\n",
      "Valores más frecuentes:\n",
      "0 \t 10156\n",
      "1 \t 882\n",
      "None\n"
     ]
    }
   ],
   "source": [
    "print(describe_columna(df1, 'is_violent_recid'))\n",
    "#COlumna integra y valida"
   ]
  },
  {
   "cell_type": "code",
   "execution_count": 21,
   "metadata": {},
   "outputs": [
    {
     "name": "stdout",
     "output_type": "stream",
     "text": [
      "Columna: decile_score  -  Tipo de datos: int64\n",
      "Número de valores nulos: 0  -  Número de valores distintos: 11\n",
      "Valores más frecuentes:\n",
      "1 \t 2368\n",
      "2 \t 1478\n",
      "3 \t 1167\n",
      "4 \t 1130\n",
      "5 \t 982\n",
      "6 \t 941\n",
      "7 \t 862\n",
      "9 \t 761\n",
      "8 \t 758\n",
      "10 \t 580\n",
      "None\n"
     ]
    }
   ],
   "source": [
    "print(describe_columna(df1, 'decile_score'))\n",
    "#Columna integra y valida sin valores nulos"
   ]
  },
  {
   "cell_type": "code",
   "execution_count": 22,
   "metadata": {},
   "outputs": [
    {
     "name": "stdout",
     "output_type": "stream",
     "text": [
      "Columna: v_decile_score  -  Tipo de datos: int64\n",
      "Número de valores nulos: 0  -  Número de valores distintos: 11\n",
      "Valores más frecuentes:\n",
      "1 \t 3098\n",
      "2 \t 1689\n",
      "3 \t 1484\n",
      "4 \t 1181\n",
      "5 \t 1018\n",
      "6 \t 856\n",
      "7 \t 644\n",
      "8 \t 454\n",
      "9 \t 423\n",
      "10 \t 187\n",
      "None\n"
     ]
    }
   ],
   "source": [
    "print(describe_columna(df1, 'v_decile_score'))\n",
    "#Columna integra y valida sin valores nulos"
   ]
  },
  {
   "cell_type": "code",
   "execution_count": 23,
   "metadata": {},
   "outputs": [
    {
     "name": "stdout",
     "output_type": "stream",
     "text": [
      "Columna: r_offense_date  -  Tipo de datos: object\n",
      "Número de valores nulos: 7335  -  Número de valores distintos: 1090\n",
      "Valores más frecuentes:\n",
      "2014-12-08 \t 12\n",
      "2015-02-10 \t 11\n",
      "2015-01-28 \t 11\n",
      "2014-09-15 \t 10\n",
      "2014-06-07 \t 10\n",
      "2014-04-03 \t 10\n",
      "2014-06-05 \t 10\n",
      "2015-03-11 \t 10\n",
      "2014-10-17 \t 10\n",
      "2015-01-09 \t 9\n",
      "None\n"
     ]
    }
   ],
   "source": [
    "print(describe_columna(df1, 'r_offense_date'))\n",
    "# 3703 filas con informacion las cuales cuadran perfectamente con la cantidad de casos reincidentes\n",
    "#que son 3703"
   ]
  },
  {
   "cell_type": "code",
   "execution_count": 24,
   "metadata": {},
   "outputs": [],
   "source": [
    "#Tranformar to Date Time r_offense_date y vr_offense_date\n",
    "df1.r_offense_date = pd.to_datetime(df1.r_offense_date, format=\"%Y-%m-%d\")\n",
    "df1.vr_offense_date = pd.to_datetime(df1.vr_offense_date, format=\"%Y-%m-%d\")"
   ]
  },
  {
   "cell_type": "code",
   "execution_count": 25,
   "metadata": {},
   "outputs": [
    {
     "name": "stdout",
     "output_type": "stream",
     "text": [
      "Columna: vr_offense_date  -  Tipo de datos: datetime64[ns]\n",
      "Número de valores nulos: 10156  -  Número de valores distintos: 599\n",
      "Valores más frecuentes:\n",
      "2015-08-15 00:00:00 \t 6\n",
      "2015-09-04 00:00:00 \t 5\n",
      "2014-12-26 00:00:00 \t 4\n",
      "2015-06-26 00:00:00 \t 4\n",
      "2014-09-28 00:00:00 \t 4\n",
      "2015-09-07 00:00:00 \t 4\n",
      "2015-06-27 00:00:00 \t 4\n",
      "2014-04-05 00:00:00 \t 4\n",
      "2015-10-01 00:00:00 \t 4\n",
      "2015-02-05 00:00:00 \t 4\n",
      "None\n"
     ]
    }
   ],
   "source": [
    "print(describe_columna(df1, 'vr_offense_date'))"
   ]
  },
  {
   "cell_type": "markdown",
   "metadata": {},
   "source": [
    "882 cases also coincide with the number of people marked as violent repeat offenders in\n",
    "column \"is_violent_recid, but must be formatted as date.\n",
    "\n",
    "882 casos tambien coincidentes con el numero de personas marcadas como reincidentes violentos en \n",
    "la columna \" is_violent_recid, pero se debe dar formato de fecha."
   ]
  },
  {
   "cell_type": "code",
   "execution_count": 26,
   "metadata": {},
   "outputs": [
    {
     "name": "stdout",
     "output_type": "stream",
     "text": [
      "Columna: compas_screening_date  -  Tipo de datos: datetime64[ns]\n",
      "Número de valores nulos: 0  -  Número de valores distintos: 704\n",
      "Valores más frecuentes:\n",
      "2013-03-20 00:00:00 \t 36\n",
      "2013-04-20 00:00:00 \t 35\n",
      "2013-09-23 00:00:00 \t 33\n",
      "2013-02-20 00:00:00 \t 33\n",
      "2013-02-07 00:00:00 \t 31\n",
      "2013-02-22 00:00:00 \t 31\n",
      "2013-01-03 00:00:00 \t 31\n",
      "2014-11-12 00:00:00 \t 31\n",
      "2013-09-06 00:00:00 \t 30\n",
      "2013-03-21 00:00:00 \t 30\n",
      "None\n"
     ]
    }
   ],
   "source": [
    "#Column complete, complete and valid. It transforms to Date Time\n",
    "#Columna completa, integta y valida. Se tranforma a Date Time\n",
    "\n",
    "df1.compas_screening_date = pd.to_datetime(df1.compas_screening_date, format=\"%Y-%m-%d\")\n",
    "\n",
    "print(describe_columna(df1, 'compas_screening_date'))"
   ]
  },
  {
   "cell_type": "markdown",
   "metadata": {},
   "source": [
    "### Analisis de las fechas de nuestro DF"
   ]
  },
  {
   "cell_type": "code",
   "execution_count": 27,
   "metadata": {},
   "outputs": [
    {
     "name": "stdout",
     "output_type": "stream",
     "text": [
      "r_offense_date \n",
      " {(Timestamp('2013-01-03 00:00:00'), Timestamp('2016-03-29 00:00:00'))}\n",
      "vr_offense_date \n",
      " {(Timestamp('2013-01-28 00:00:00'), Timestamp('2016-03-13 00:00:00'))}\n",
      "compas_screening_date \n",
      " {(Timestamp('2013-01-01 00:00:00'), Timestamp('2014-12-31 00:00:00'))}\n"
     ]
    }
   ],
   "source": [
    "# Min and max dates of our dataframe to determine how to use them\n",
    "#Fechas min y max de nuestro dataframe para determinar como utilizarlas\n",
    "\n",
    "rod = df1.r_offense_date.min(), df1.r_offense_date.max()\n",
    "vrod = df1.vr_offense_date.min(), df1.vr_offense_date.max()\n",
    "csd = df1.compas_screening_date.min(), df1.compas_screening_date.max()\n",
    "print('r_offense_date \\n', {rod})\n",
    "print('vr_offense_date \\n', {vrod})\n",
    "print('compas_screening_date \\n', {csd})"
   ]
  },
  {
   "cell_type": "code",
   "execution_count": 28,
   "metadata": {},
   "outputs": [
    {
     "name": "stdout",
     "output_type": "stream",
     "text": [
      "<class 'pandas.core.frame.DataFrame'>\n",
      "Int64Index: 11038 entries, 0 to 11756\n",
      "Data columns (total 16 columns):\n",
      " #   Column                 Non-Null Count  Dtype         \n",
      "---  ------                 --------------  -----         \n",
      " 0   id                     11038 non-null  int64         \n",
      " 1   name                   11038 non-null  object        \n",
      " 2   sex                    11038 non-null  category      \n",
      " 3   age                    11038 non-null  int64         \n",
      " 4   age_cat                11038 non-null  category      \n",
      " 5   is_recid               11038 non-null  int64         \n",
      " 6   is_violent_recid       11038 non-null  int64         \n",
      " 7   decile_score           11038 non-null  int64         \n",
      " 8   v_decile_score         11038 non-null  int64         \n",
      " 9   vr_offense_date        882 non-null    datetime64[ns]\n",
      " 10  r_offense_date         3703 non-null   datetime64[ns]\n",
      " 11  race                   11038 non-null  object        \n",
      " 12  score_text             11027 non-null  object        \n",
      " 13  v_score_text           11034 non-null  object        \n",
      " 14  priors_count           11038 non-null  int64         \n",
      " 15  compas_screening_date  11038 non-null  datetime64[ns]\n",
      "dtypes: category(2), datetime64[ns](3), int64(7), object(4)\n",
      "memory usage: 1.3+ MB\n"
     ]
    }
   ],
   "source": [
    "df1.info()"
   ]
  },
  {
   "cell_type": "markdown",
   "metadata": {},
   "source": [
    "## 2.- Are the “is_recid” and “is_violent_recid” fields in this data set adequate to evaluate the precision of the risk estimates generated by the COMPAS system? If not, define and calculate a feature that is.\n",
    "\n",
    "## 2.- ¿Son los campos “is_recid” e “is_violent_recid” en este conjunto de datos adecuados para evaluar la precisión de las estimaciones de riesgo generadas por el sistema COMPAS? Si no es así, definir y calcular una feature que sí lo sea."
   ]
  },
  {
   "cell_type": "code",
   "execution_count": 29,
   "metadata": {},
   "outputs": [
    {
     "name": "stdout",
     "output_type": "stream",
     "text": [
      "decile_score\n",
      "-1       11\n",
      " 1     2368\n",
      " 2     1478\n",
      " 3     1167\n",
      " 4     1130\n",
      " 5      982\n",
      " 6      941\n",
      " 7      862\n",
      " 8      758\n",
      " 9      761\n",
      " 10     580\n",
      "Name: id, dtype: int64\n"
     ]
    }
   ],
   "source": [
    "#Distribución de decile score segun puntaje.\n",
    "test = df1.groupby('decile_score')['id'].count()\n",
    "print(test)"
   ]
  },
  {
   "cell_type": "code",
   "execution_count": 30,
   "metadata": {},
   "outputs": [],
   "source": [
    "violent = df1[df1.is_violent_recid == 1]"
   ]
  },
  {
   "cell_type": "code",
   "execution_count": 31,
   "metadata": {},
   "outputs": [
    {
     "data": {
      "text/plain": [
       "decile_score\n",
       "1      82\n",
       "2      66\n",
       "3      70\n",
       "4      84\n",
       "5      80\n",
       "6      86\n",
       "7     102\n",
       "8     103\n",
       "9     107\n",
       "10    102\n",
       "Name: id, dtype: int64"
      ]
     },
     "execution_count": 31,
     "metadata": {},
     "output_type": "execute_result"
    }
   ],
   "source": [
    "violent.groupby('decile_score')['id'].count()"
   ]
  },
  {
   "cell_type": "code",
   "execution_count": 32,
   "metadata": {},
   "outputs": [
    {
     "data": {
      "image/png": "[encoded data removed]",
      "text/plain": [
       "<Figure size 288x288 with 2 Axes>"
      ]
     },
     "metadata": {
      "needs_background": "light"
     },
     "output_type": "display_data"
    }
   ],
   "source": [
    "#Pearson correlation between numerical variables.\n",
    "#Correlacion Pearson entre variables numericas.\n",
    "\n",
    "correlation = df1.corr()\n",
    "f, ax = plt.subplots(figsize=(4,4))\n",
    "plt.title('Correlation of numerical attributes', size=10)\n",
    "sns.heatmap(correlation)\n",
    "plt.show()"
   ]
  },
  {
   "cell_type": "code",
   "execution_count": 33,
   "metadata": {},
   "outputs": [
    {
     "data": {
      "text/plain": [
       "v_decile_score      1.000000\n",
       "decile_score        0.774353\n",
       "is_recid            0.249663\n",
       "priors_count        0.224631\n",
       "is_violent_recid    0.157626\n",
       "id                  0.006770\n",
       "age                -0.562653\n",
       "Name: v_decile_score, dtype: float64"
      ]
     },
     "execution_count": 33,
     "metadata": {},
     "output_type": "execute_result"
    }
   ],
   "source": [
    "correlation['v_decile_score'].sort_values(ascending=False).head(10)"
   ]
  },
  {
   "cell_type": "code",
   "execution_count": 34,
   "metadata": {},
   "outputs": [
    {
     "data": {
      "text/plain": [
       "decile_score        1.000000\n",
       "v_decile_score      0.774353\n",
       "priors_count        0.435560\n",
       "is_recid            0.281845\n",
       "is_violent_recid    0.152195\n",
       "id                  0.009325\n",
       "age                -0.372963\n",
       "Name: decile_score, dtype: float64"
      ]
     },
     "execution_count": 34,
     "metadata": {},
     "output_type": "execute_result"
    }
   ],
   "source": [
    "correlation['decile_score'].sort_values(ascending=False).head(10)"
   ]
  },
  {
   "cell_type": "markdown",
   "metadata": {},
   "source": [
    "From this pearson correlation we can see that is_recid, is_violent_recid together provide an approximation of 40% correlation with the 'Target' But it is not enough, so a two-year date range conditional will be added to calculate the recurrences\n",
    "__________________\n",
    "De esta correlacion de pearson podemos ver que is_recid, is_violent_recid en conjunto proveen una aproximacion del 40% de correlacion con el 'Target' Pero no es suficiente, por lo que se agregara un condicional de rango de fecha de dos años para calcular las reincidencias"
   ]
  },
  {
   "cell_type": "code",
   "execution_count": 35,
   "metadata": {},
   "outputs": [
    {
     "data": {
      "text/plain": [
       "(11038, 16)"
      ]
     },
     "execution_count": 35,
     "metadata": {},
     "output_type": "execute_result"
    }
   ],
   "source": [
    "df1.shape"
   ]
  },
  {
   "cell_type": "code",
   "execution_count": 36,
   "metadata": {},
   "outputs": [],
   "source": [
    "#A variable is created with the date that will be filtered in the DF\n",
    "#Se crea variable con la fecha que se filtrara en el DF\n",
    "from datetime import datetime\n",
    "fecha = '2014:01:01'\n",
    "fecha_limite = datetime.strptime(fecha, '%Y:%M:%S')"
   ]
  },
  {
   "cell_type": "markdown",
   "metadata": {},
   "source": [
    "Creation of the manual model with which we will seek to answer the questions. It is important to mention that this is what was used some years ago before Machine Learning, creating artificial features. Today, thanks to ML models, significantly higher results can be obtained. The importance of this is to explain and understand the workings behind a ML model.\n",
    "\n",
    "Creación del modelo manual con el cual se buscará dar respuesta a las preguntas. Importante mencionar que esto es lo que hace alguno años se utilizaba antes del Machine Learning, creando features artificales. Actualmente gracias a los modelos de ML se pueden obtener resultados significativamente mayores. La importancia de esto es explicar y entender el funcionamiento detras de un modelo de ML."
   ]
  },
  {
   "cell_type": "code",
   "execution_count": 37,
   "metadata": {},
   "outputs": [],
   "source": [
    "def modelo1(caso):\n",
    "    if  caso['is_violent_recid'] == 1 and caso['race'] == ('African-American') and caso['vr_offense_date'] > fecha_limite and caso['age_cat'=='Less than 25']:\n",
    "        return 1\n",
    "    else:\n",
    "        return 0"
   ]
  },
  {
   "cell_type": "code",
   "execution_count": 38,
   "metadata": {},
   "outputs": [],
   "source": [
    "score1 = df1.apply(lambda x: modelo1(x), axis = 1)"
   ]
  },
  {
   "cell_type": "markdown",
   "metadata": {},
   "source": [
    "Verification of the effectiveness of our model. Quite low as expected.\n",
    "Verificacion de la efectividad de nuestro modelo. Bastante bajo como era de esperarse. "
   ]
  },
  {
   "cell_type": "code",
   "execution_count": 39,
   "metadata": {},
   "outputs": [
    {
     "data": {
      "text/plain": [
       "0.5357189029823406"
      ]
     },
     "execution_count": 39,
     "metadata": {},
     "output_type": "execute_result"
    }
   ],
   "source": [
    "roc_auc_score((df1['v_score_text'] == 'High'), score1)"
   ]
  },
  {
   "cell_type": "markdown",
   "metadata": {},
   "source": [
    "### 3.- The threshold to establish preventive measures for recidivism is 7 or more.\n",
    "Given this threshold, generate a contingency table, explaining which case is considered \"positive\" (and, therefore, what are the type I errors and the type II errors).\n",
    "\n",
    "### 3.- El umbral para establecer medidas preventivas de la reincidencia es de 7 en adelante.\n",
    "Dado este umbral, generar una tabla de contingencia, explicando qué caso se considera como “positivo” (y, por lo tanto, cuáles son los errores de tipo I y los errores de tipo II)."
   ]
  },
  {
   "cell_type": "code",
   "execution_count": 40,
   "metadata": {},
   "outputs": [
    {
     "data": {
      "text/html": [
       "<div>\n",
       "<style scoped>\n",
       "    .dataframe tbody tr th:only-of-type {\n",
       "        vertical-align: middle;\n",
       "    }\n",
       "\n",
       "    .dataframe tbody tr th {\n",
       "        vertical-align: top;\n",
       "    }\n",
       "\n",
       "    .dataframe thead th {\n",
       "        text-align: right;\n",
       "    }\n",
       "</style>\n",
       "<table border=\"1\" class=\"dataframe\">\n",
       "  <thead>\n",
       "    <tr style=\"text-align: right;\">\n",
       "      <th>v_decile_score</th>\n",
       "      <th>False</th>\n",
       "      <th>True</th>\n",
       "    </tr>\n",
       "    <tr>\n",
       "      <th>row_0</th>\n",
       "      <th></th>\n",
       "      <th></th>\n",
       "    </tr>\n",
       "  </thead>\n",
       "  <tbody>\n",
       "    <tr>\n",
       "      <th>0</th>\n",
       "      <td>9051</td>\n",
       "      <td>1548</td>\n",
       "    </tr>\n",
       "    <tr>\n",
       "      <th>1</th>\n",
       "      <td>279</td>\n",
       "      <td>160</td>\n",
       "    </tr>\n",
       "  </tbody>\n",
       "</table>\n",
       "</div>"
      ],
      "text/plain": [
       "v_decile_score  False  True \n",
       "row_0                       \n",
       "0                9051   1548\n",
       "1                 279    160"
      ]
     },
     "execution_count": 40,
     "metadata": {},
     "output_type": "execute_result"
    }
   ],
   "source": [
    "tc = pd.crosstab(score1, (df1['v_decile_score'] >= 7))\n",
    "tc"
   ]
  },
  {
   "cell_type": "code",
   "execution_count": 41,
   "metadata": {},
   "outputs": [],
   "source": [
    "#Calcular prediccion de la feature para IS_RECID\n",
    "#Predictions for IS_recid\n",
    "def modelo2(caso):\n",
    "    if  caso['is_recid'] == 1 or caso['is_violent_recid'] == 1 and caso['r_offense_date'] > fecha_limite and caso['age_cat'=='Less than 25'] and caso['sex'] == 'Male':\n",
    "        return 1\n",
    "    else:\n",
    "        return 0"
   ]
  },
  {
   "cell_type": "code",
   "execution_count": 42,
   "metadata": {},
   "outputs": [],
   "source": [
    "score2 = df1.apply(lambda x: modelo2(x), axis = 1).rename('Predicción')"
   ]
  },
  {
   "cell_type": "code",
   "execution_count": 43,
   "metadata": {},
   "outputs": [
    {
     "data": {
      "text/plain": [
       "0.6176102129465897"
      ]
     },
     "execution_count": 43,
     "metadata": {},
     "output_type": "execute_result"
    }
   ],
   "source": [
    "roc_auc_score((df1['decile_score'] >= 7), score2)\n",
    "\n",
    "#Feature que nos entrega un valor de aciertos cercano al 61%. "
   ]
  },
  {
   "cell_type": "code",
   "execution_count": 44,
   "metadata": {},
   "outputs": [
    {
     "data": {
      "text/html": [
       "<div>\n",
       "<style scoped>\n",
       "    .dataframe tbody tr th:only-of-type {\n",
       "        vertical-align: middle;\n",
       "    }\n",
       "\n",
       "    .dataframe tbody tr th {\n",
       "        vertical-align: top;\n",
       "    }\n",
       "\n",
       "    .dataframe thead th {\n",
       "        text-align: right;\n",
       "    }\n",
       "</style>\n",
       "<table border=\"1\" class=\"dataframe\">\n",
       "  <thead>\n",
       "    <tr style=\"text-align: right;\">\n",
       "      <th>decile_score</th>\n",
       "      <th>False</th>\n",
       "      <th>True</th>\n",
       "    </tr>\n",
       "    <tr>\n",
       "      <th>Predicción</th>\n",
       "      <th></th>\n",
       "      <th></th>\n",
       "    </tr>\n",
       "  </thead>\n",
       "  <tbody>\n",
       "    <tr>\n",
       "      <th>0</th>\n",
       "      <td>5877</td>\n",
       "      <td>1458</td>\n",
       "    </tr>\n",
       "    <tr>\n",
       "      <th>1</th>\n",
       "      <td>2200</td>\n",
       "      <td>1503</td>\n",
       "    </tr>\n",
       "  </tbody>\n",
       "</table>\n",
       "</div>"
      ],
      "text/plain": [
       "decile_score  False  True \n",
       "Predicción                \n",
       "0              5877   1458\n",
       "1              2200   1503"
      ]
     },
     "execution_count": 44,
     "metadata": {},
     "output_type": "execute_result"
    }
   ],
   "source": [
    "tc1 = pd.crosstab(score2, (df1['decile_score'] >= 7))\n",
    "tc1"
   ]
  },
  {
   "cell_type": "markdown",
   "metadata": {},
   "source": [
    "As can be seen in the upper contingency table, type I errors correspond to false positives in the upper right corner.\n",
    "where 1458 people are considered according to the prediction as not possible\n",
    "Repeat offenders do but actually have a Decile_Score> = 7.\n",
    "Type II errors correspond to the lower left corner (2200 cases) where our prediction gives results of possible repeat offenders (> = 7) but in reality they are with a decile_score <7. False negatives.\n",
    "\n",
    "Como se puede apreciar en la tabla de contigencia superior los errores de tipo I corresponden a los falsos positivos de la esquina superior derecha\n",
    "en donde 1458 personas se consideran segun la predicción como no posibles \n",
    "reincidentes te pero en realidad tienen un Decile_Score >= 7.\n",
    "Los errores de tipo II corresponden a la esquina inferior izquierda (2200 casos) en donde nuestra predicción entrega resultados de posibles reincidentes (>=7) pero en realidad estan con un decile_score <7. Falsos negativos."
   ]
  },
  {
   "cell_type": "markdown",
   "metadata": {},
   "source": [
    "## 4.- Graph the differences according to factors of race, sex and age\n",
    "## 4.- Graficar las diferencias de acuerdos a factores de raza, sexo y edad "
   ]
  },
  {
   "cell_type": "code",
   "execution_count": 45,
   "metadata": {},
   "outputs": [],
   "source": [
    "#Decile_score and v_decile_score -1 values are removed to plot\n",
    "#Se eliminan valores -1 de decile_score y v_decile_score para graficar\n",
    "df1 = df1.drop(df1[df1['v_decile_score']==-1].index)\n",
    "df1 = df1.drop(df1[df1['decile_score']==-1].index)\n"
   ]
  },
  {
   "cell_type": "code",
   "execution_count": 46,
   "metadata": {},
   "outputs": [
    {
     "data": {
      "image/png": "[encoded data removed]",
      "text/plain": [
       "<Figure size 1008x576 with 3 Axes>"
      ]
     },
     "metadata": {
      "needs_background": "light"
     },
     "output_type": "display_data"
    }
   ],
   "source": [
    "\n",
    "#RACE\n",
    "dfgb = df1.groupby(\"race\")\n",
    "race_count = df1.groupby(\"race\")[\"name\"].count()\n",
    "\n",
    "fig, ax = plt.subplots(3, figsize=(14, 8))\n",
    "\n",
    "for (i, race) in enumerate([\"African-American\", \"Caucasian\", \"Hispanic\"]):\n",
    "    (\n",
    "        (dfgb\n",
    "            .get_group(race)\n",
    "            .groupby(\"decile_score\")[\"name\"].count() / race_count[race]\n",
    "        )\n",
    "        .plot(kind=\"bar\", ax=ax[i], color=\"#353535\")\n",
    "    )\n",
    "    ax[i].set_ylabel(race)\n",
    "    ax[i].set_xlabel(\"\")\n",
    "   \n",
    "    ax[i].set_ylim(0, 0.32)\n",
    "\n",
    "fig.suptitle(\"Score Frequency by Race\")\n",
    "plt.show()"
   ]
  },
  {
   "cell_type": "markdown",
   "metadata": {},
   "source": [
    "#### As can be seen in the graph, the distribution in the decile score of black people is uniformly distributed from 1 to 10, while for the other races, the vast majority of cases are in the lower values of the decile_score.\n",
    "\n",
    "#### Como se puede ver en el gráfico, la distribucion en el decile score de las personas de raza negra se encuentra uniformemente distribuida del 1 al 10, Mientras que para las demas razas, la gran mayoría de los casos se encuentran en los valores mas bajos del decile_score."
   ]
  },
  {
   "cell_type": "code",
   "execution_count": 47,
   "metadata": {},
   "outputs": [
    {
     "data": {
      "image/png": "[encoded data removed]",
      "text/plain": [
       "<Figure size 1008x576 with 2 Axes>"
      ]
     },
     "metadata": {
      "needs_background": "light"
     },
     "output_type": "display_data"
    }
   ],
   "source": [
    "#Sex\n",
    "dfgb = df1.groupby(\"sex\")\n",
    "race_count = df1.groupby(\"sex\")[\"name\"].count()\n",
    "\n",
    "fig, ax = plt.subplots(2, figsize=(14, 8))\n",
    "\n",
    "for (i, sex) in enumerate([\"Male\", \"Female\"]):\n",
    "    (\n",
    "        (dfgb\n",
    "            .get_group(sex)\n",
    "            .groupby(\"decile_score\")[\"name\"].count() \n",
    "         #/ race_count[race]\n",
    "        )\n",
    "        .plot(kind=\"bar\", ax=ax[i], color=\"#353535\")\n",
    "    )\n",
    "    ax[i].set_ylabel(sex)\n",
    "    ax[i].set_xlabel(\"\")\n",
    "   \n",
    " #   ax[i].set_ylim(0, 0.)\n",
    "\n",
    "fig.suptitle(\"Score Frequency by Race\")\n",
    "plt.show()"
   ]
  },
  {
   "cell_type": "markdown",
   "metadata": {},
   "source": [
    "In the case of the differences for men and women, a tendency can be observed in the graph that fewer women are at the top of the decile_score than men.\n",
    "\n",
    "Para el caso de las diferencias para hombres y mujeres se puede observar en la gráfica una tendencia a que menos mujeres estan en lo mas alto del decile_score a diferencia de los hombres. "
   ]
  },
  {
   "cell_type": "code",
   "execution_count": 48,
   "metadata": {},
   "outputs": [
    {
     "data": {
      "image/png": "[encoded data removed]",
      "text/plain": [
       "<Figure size 1008x576 with 3 Axes>"
      ]
     },
     "metadata": {
      "needs_background": "light"
     },
     "output_type": "display_data"
    }
   ],
   "source": [
    "#Age\n",
    "dfgb = df1.groupby(\"age_cat\")\n",
    "race_count = df1.groupby(\"age_cat\")[\"name\"].count()\n",
    "\n",
    "fig, ax = plt.subplots(3, figsize=(14, 8))\n",
    "\n",
    "for (i, age_cat) in enumerate([\"Less than 25\", \"25 - 45\", \"Greater than 45\"]):\n",
    "    (\n",
    "        (dfgb\n",
    "            .get_group(age_cat)\n",
    "            .groupby(\"decile_score\")[\"name\"].count() \n",
    "        )\n",
    "        .plot(kind=\"bar\", ax=ax[i], color=\"#353535\")\n",
    "    )\n",
    "    ax[i].set_ylabel(age_cat)\n",
    "    ax[i].set_xlabel(\"\")\n",
    "   \n",
    " #   ax[i].set_ylim(0, 0.)\n",
    "\n",
    "fig.suptitle(\"Score Frequency by age category\")\n",
    "plt.show()"
   ]
  },
  {
   "cell_type": "markdown",
   "metadata": {},
   "source": [
    "Finally, when analyzing the graphs for age, large differences can be seen between the 3 age groups plotted, where those under 25 years of age have a distribution that is highly oriented towards the highest indices, rather than differences from the older age group.\n",
    "\n",
    "Finalmente al analisis de los graficos para edad, se pueden ver grandes diferencias entre los 3 grupos etarios graficados en donde los menores de 25 años tienen una distribución muy orientada hacia los indices mas alto a diferencias del grupo de mayor edad. "
   ]
  },
  {
   "cell_type": "markdown",
   "metadata": {},
   "source": [
    "5.- ¿Para qué tipo de riesgos, el de delitos generales o el de delitos violentos, tiene el sistema más capacidad predictiva?\n",
    "5.- For what types of risks, general crimes or violent crimes, does the system have the most predictive capacity?"
   ]
  },
  {
   "cell_type": "markdown",
   "metadata": {},
   "source": [
    "According to the Feature created, both for is_recid and for is_violent recid the results are close to 54% correct. However, when using both columns of information (is_recid == 1 and is_violent_recid == 1) it is possible to obtain a value close to 60%, so it could be assumed that both data have a similar predictive power ///\n",
    "\n",
    "\n",
    "De acuerdo a la Feature creada, tanto para is_recid, como para is_violent recid los resultados son cercanos al 54% de acierto. Sin embargo al utilizar ambas columans de informacion (is_recid == 1 and is_violent_recid == 1) se logta obtener un valor cercano al 60% por lo que podria asumir que ambas datas poseen un poder predictivo similar///"
   ]
  }
 ],
 "metadata": {
  "kernelspec": {
   "display_name": "Python 3 (ipykernel)",
   "language": "python",
   "name": "python3"
  },
  "language_info": {
   "codemirror_mode": {
    "name": "ipython",
    "version": 3
   },
   "file_extension": ".py",
   "mimetype": "text/x-python",
   "name": "python",
   "nbconvert_exporter": "python",
   "pygments_lexer": "ipython3",
   "version": "3.9.12"
  }
 },
 "nbformat": 4,
 "nbformat_minor": 4
}
