{
 "cells": [
  {
   "cell_type": "markdown",
   "id": "44f0b671",
   "metadata": {},
   "source": [
    "# Caso práctico 1\n",
    "Las notas de un ramo están almacenadas en un archivo llamado notas.txt, que contiene lo siguiente:\n",
    "\n",
    "Pepito:5.3:3.7:6.7:6.7:7.1:5.5\n",
    "\n",
    "Yayita:5.5:5.2:2.0:5.6:6.0:2.0\n",
    "\n",
    "Fulanita:7.1:6.6:6.4:5.1:5.8:6.3\n",
    "\n",
    "Moya:5.2:4.7:1.8:3.5:2.7:4.5\n",
    "\n",
    "Cada línea tiene el nombre del alumno y sus seis notas, separadas por dos puntos (”:”).\n",
    "\n",
    "Escriba un programa que pinte aprobado o reprobado, en el que cada línea indique si el alumno está aprobado (promedio ≥ 4,0) o reprobado (promedio < 4,0):"
   ]
  },
  {
   "cell_type": "code",
   "execution_count": 18,
   "id": "a25cea4c",
   "metadata": {},
   "outputs": [
    {
     "name": "stdout",
     "output_type": "stream",
     "text": [
      "5.833333333333333\n",
      "Pepito aprobado\n",
      "4.383333333333333\n",
      "Yayita suspenso\n",
      "6.216666666666668\n",
      "Fulanita aprobado\n",
      "3.733333333333334\n",
      "Moya suspenso\n"
     ]
    }
   ],
   "source": [
    "with open('notas.txt') as archivo:\n",
    "    for linea in archivo:\n",
    "        linea_spliteada=linea.strip().split(\":\")\n",
    "        nombre=linea_spliteada[0]\n",
    "        notas=list(map(float,linea_spliteada[1:]))\n",
    "        media=sum(notas)/len(notas)\n",
    "        print(media)\n",
    "        if media > 5:\n",
    "            print(nombre,'aprobado')\n",
    "        else:\n",
    "            print(nombre,'suspenso')\n",
    "\n",
    "\n",
    "\n"
   ]
  },
  {
   "cell_type": "markdown",
   "id": "a7b78046",
   "metadata": {},
   "source": [
    "# Caso práctico 2.1\n",
    "La suma de todos los números impares del fichero que se va a pedir por teclado."
   ]
  },
  {
   "cell_type": "code",
   "execution_count": 22,
   "id": "3eb26934",
   "metadata": {},
   "outputs": [
    {
     "name": "stdout",
     "output_type": "stream",
     "text": [
      "10\n"
     ]
    }
   ],
   "source": [
    "#todo lo que se lee en un archivo de textos son cadenas\n",
    "suma=0\n",
    "with open('ejercicio2.1.txt','r') as f:\n",
    "    for i in f.readlines():\n",
    "        if int(i) %2 !=0:\n",
    "            suma+=int(i)\n",
    "print(suma)        "
   ]
  },
  {
   "cell_type": "markdown",
   "id": "590cb811",
   "metadata": {},
   "source": [
    "# Caso práctico 2.2\n",
    "Escribir un programa que abra un archivo, lo procese e imprima por pantalla cuantas líneas, cuantas palabras y cuantos caracteres contiene el archivo."
   ]
  },
  {
   "cell_type": "code",
   "execution_count": 29,
   "id": "ffd31b81",
   "metadata": {},
   "outputs": [
    {
     "name": "stdout",
     "output_type": "stream",
     "text": [
      "lineas 2 palabras 3 caracteres 12\n"
     ]
    }
   ],
   "source": [
    "with open('ejercicio2.2.txt','r') as f:\n",
    "    l=p=c=0\n",
    "    for i in f:\n",
    "        l+=1\n",
    "        p=p+len(i.split())\n",
    "        c=c+len(i)\n",
    "print('lineas', l,'palabras', p,'caracteres', c)"
   ]
  },
  {
   "cell_type": "code",
   "execution_count": null,
   "id": "776d03f1",
   "metadata": {},
   "outputs": [],
   "source": []
  }
 ],
 "metadata": {
  "kernelspec": {
   "display_name": "Python 3 (ipykernel)",
   "language": "python",
   "name": "python3"
  },
  "language_info": {
   "codemirror_mode": {
    "name": "ipython",
    "version": 3
   },
   "file_extension": ".py",
   "mimetype": "text/x-python",
   "name": "python",
   "nbconvert_exporter": "python",
   "pygments_lexer": "ipython3",
   "version": "3.9.7"
  }
 },
 "nbformat": 4,
 "nbformat_minor": 5
}
