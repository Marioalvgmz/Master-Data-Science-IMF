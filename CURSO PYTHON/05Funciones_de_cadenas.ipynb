{
 "cells": [
  {
   "cell_type": "markdown",
   "id": "235162f0",
   "metadata": {},
   "source": [
    "# Operadores"
   ]
  },
  {
   "cell_type": "code",
   "execution_count": 4,
   "id": "6f38af36",
   "metadata": {},
   "outputs": [
    {
     "name": "stdout",
     "output_type": "stream",
     "text": [
      "Hola Mundo\n"
     ]
    }
   ],
   "source": [
    "#Concatenar\n",
    "mensaje1 = 'Hola' + ' ' + 'Mundo' \n",
    "print(mensaje1)"
   ]
  },
  {
   "cell_type": "code",
   "execution_count": 6,
   "id": "23071227",
   "metadata": {},
   "outputs": [
    {
     "name": "stdout",
     "output_type": "stream",
     "text": [
      "Hola Hola Hola Mundo\n"
     ]
    }
   ],
   "source": [
    "#Multiplicar\n",
    "mensaje2a = 'Hola ' * 3\n",
    "mensaje2b = 'Mundo'\n",
    "print(mensaje2a + mensaje2b)"
   ]
  },
  {
   "cell_type": "code",
   "execution_count": 7,
   "id": "14b0602e",
   "metadata": {},
   "outputs": [
    {
     "name": "stdout",
     "output_type": "stream",
     "text": [
      "Hola Mundo\n"
     ]
    }
   ],
   "source": [
    "#Añadir\n",
    "mensaje3 = 'Hola'\n",
    "mensaje3 += ' '\n",
    "mensaje3 += 'Mundo'\n",
    "print(mensaje3)"
   ]
  },
  {
   "cell_type": "code",
   "execution_count": 8,
   "id": "8aa04c4e",
   "metadata": {},
   "outputs": [
    {
     "name": "stdout",
     "output_type": "stream",
     "text": [
      "5\n"
     ]
    }
   ],
   "source": [
    "#Encontrar\n",
    "mensaje5 = \"Hola Mundo\"\n",
    "mensaje5a = mensaje5.find(\"Mundo\") #Busca caracter a caracter\n",
    "print(mensaje5a) # res 5"
   ]
  },
  {
   "cell_type": "code",
   "execution_count": 17,
   "id": "ecd96c44",
   "metadata": {},
   "outputs": [
    {
     "name": "stdout",
     "output_type": "stream",
     "text": [
      "hopizzaa mundo\n"
     ]
    }
   ],
   "source": [
    "#Reemplazar\n",
    "mensaje7= 'hola mundo'\n",
    "mensaje8= mensaje7.replace('l', 'pizza')\n",
    "print(mensaje8)"
   ]
  },
  {
   "cell_type": "code",
   "execution_count": 25,
   "id": "13f2981a",
   "metadata": {},
   "outputs": [
    {
     "name": "stdout",
     "output_type": "stream",
     "text": [
      "10\n"
     ]
    }
   ],
   "source": [
    "#retorna la longitud de una cadena.\n",
    "print(len(mensaje7)) "
   ]
  },
  {
   "cell_type": "markdown",
   "id": "5a28158a",
   "metadata": {},
   "source": [
    "# Funciones"
   ]
  },
  {
   "cell_type": "code",
   "execution_count": 9,
   "id": "010283b3",
   "metadata": {},
   "outputs": [
    {
     "name": "stdout",
     "output_type": "stream",
     "text": [
      "True\n",
      "False\n"
     ]
    }
   ],
   "source": [
    "s=\"Hola Mundo\"\n",
    ">>> print(s.endswith(\"do\"))\n",
    ">>> print(s.endswith(\"d\"))\n"
   ]
  },
  {
   "cell_type": "code",
   "execution_count": 10,
   "id": "32109ea0",
   "metadata": {
    "scrolled": true
   },
   "outputs": [
    {
     "name": "stdout",
     "output_type": "stream",
     "text": [
      "True\n",
      "False\n"
     ]
    }
   ],
   "source": [
    ">>> print(s.startswith(\"Hola\"))\n",
    ">>> print(s.startswith(\"Mundo\"))"
   ]
  },
  {
   "cell_type": "markdown",
   "id": "260ceab0",
   "metadata": {},
   "source": [
    "# Caso práctico 1\n",
    "Nos pasan una cadena como la siguiente line = 'a: b: c: d: e: f:gh '\n",
    "\n",
    "Debemos crear un script que nos devuelva la cadena 'a, b, c, d, e, f, g, h'"
   ]
  },
  {
   "cell_type": "code",
   "execution_count": 23,
   "id": "34513ebf",
   "metadata": {
    "scrolled": true
   },
   "outputs": [
    {
     "data": {
      "text/plain": [
       "'a,b,c,d,e,f,gh'"
      ]
     },
     "execution_count": 23,
     "metadata": {},
     "output_type": "execute_result"
    }
   ],
   "source": [
    "line = 'a: b: c: d: e: f:gh '\n",
    "\",\".join(x.strip() for x in line.split(\":\"))"
   ]
  },
  {
   "cell_type": "markdown",
   "id": "9e619890",
   "metadata": {},
   "source": [
    "# Caso práctico 2\n",
    "Nos piden por teclado el nombre de una web, por ejemplo, www.afuera.es y queremos que nos muestre el nombre del dominio, en este caso afuera.es."
   ]
  },
  {
   "cell_type": "code",
   "execution_count": 21,
   "id": "ea18046e",
   "metadata": {},
   "outputs": [
    {
     "name": "stdout",
     "output_type": "stream",
     "text": [
      "afuera.es\n"
     ]
    }
   ],
   "source": [
    "s = \"www.afuera.es\"\n",
    "i = s.split(\".\",1)\n",
    "dominio = i[1]\n",
    "print(dominio)"
   ]
  },
  {
   "cell_type": "markdown",
   "id": "268f425f",
   "metadata": {},
   "source": [
    "# Caso práctico 3\n",
    "Con esta lista inicial y se debe obtener otra sin los espacios en blanco delante y detrás.\n",
    "\n",
    "Frutafresca = [' banana', ' mora de Logan ', 'maracuyá']"
   ]
  },
  {
   "cell_type": "code",
   "execution_count": 25,
   "id": "70bf44f8",
   "metadata": {},
   "outputs": [
    {
     "name": "stdout",
     "output_type": "stream",
     "text": [
      "['banana', 'mora de Logan', 'maracuyá']\n"
     ]
    }
   ],
   "source": [
    "Frutafresca = [' banana', ' mora de Logan ', 'maracuyá']\n",
    "lista=[]\n",
    "for i in Frutafresca:\n",
    "    res = i.strip()\n",
    "    lista.append(res)\n",
    "print(lista)"
   ]
  },
  {
   "cell_type": "markdown",
   "id": "2fb6a0a4",
   "metadata": {},
   "source": [
    "# Caso práctico 4.1\n",
    "string = \"blah, lots, of, spaces, here\"\n",
    "\n",
    "Si se tiene la cadena anterior y se requiere que cuente cuántas palabras hay en ella. Hay que tener en cuenta los blancos."
   ]
  },
  {
   "cell_type": "code",
   "execution_count": 18,
   "id": "85692b80",
   "metadata": {
    "scrolled": true
   },
   "outputs": [
    {
     "name": "stdout",
     "output_type": "stream",
     "text": [
      "['blah', ' lots', ' of', ' spaces', ' here']\n",
      "['blah', 'lots', 'of', 'spaces', 'here']\n",
      "5\n"
     ]
    }
   ],
   "source": [
    "string = \"blah, lots, of, spaces, here\"\n",
    "a=string.split(\",\") #pasa de cadena a lista por el separador que le ponga\n",
    "b=[]\n",
    "print(a)\n",
    "for i in a:\n",
    "    res = i.strip()\n",
    "    b.append(res)\n",
    "print(b)\n",
    "print(len(b))"
   ]
  },
  {
   "cell_type": "code",
   "execution_count": 20,
   "id": "5e6fbbb4",
   "metadata": {},
   "outputs": [
    {
     "name": "stdout",
     "output_type": "stream",
     "text": [
      "['blah', 'lots', 'of', 'spaces', 'here']\n",
      "5\n"
     ]
    }
   ],
   "source": [
    "string = \"blah, lots, of, spaces, here\"\n",
    "a=string.split(\", \") #pasa de cadena a lista por el separador que le ponga\n",
    "print(a)\n",
    "print(len(a))"
   ]
  },
  {
   "cell_type": "markdown",
   "id": "c11060fe",
   "metadata": {},
   "source": [
    "# Caso práctico 4.2\n",
    "Con la siguiente cadena se debe crear un script que devuelva la misma cadena sin 0:\n",
    "\n",
    "Frase “0000000000000000 es un ejemplo de string con zeros ¡!! 00000000."
   ]
  },
  {
   "cell_type": "code",
   "execution_count": 3,
   "id": "7024cada",
   "metadata": {},
   "outputs": [
    {
     "name": "stdout",
     "output_type": "stream",
     "text": [
      " es un ejemplo de string con zeros ¡!! .\n"
     ]
    }
   ],
   "source": [
    "frase = (\"0000000000000000 es un ejemplo de string con zeros ¡!! 00000000.\")\n",
    "a=frase.replace(\"0\",\"\")\n",
    "print(a)"
   ]
  },
  {
   "cell_type": "code",
   "execution_count": 6,
   "id": "db6c0d4e",
   "metadata": {},
   "outputs": [
    {
     "name": "stdout",
     "output_type": "stream",
     "text": [
      " es un ejemplo de string con zeros ¡!! \n",
      " es un ejemplo de string con zeros ¡!! 00000000\n",
      "0000000000000000 es un ejemplo de string con zeros ¡!! \n"
     ]
    }
   ],
   "source": [
    "Frase = \"0000000000000000 es un ejemplo de string con zeros ¡!! 00000000\"\n",
    "print(Frase.strip('0'))\n",
    "print(Frase.lstrip(\"0\"))\n",
    "print(Frase.rstrip(\"0\"))"
   ]
  },
  {
   "cell_type": "markdown",
   "id": "b271e847",
   "metadata": {},
   "source": [
    "# Caso práctico 4.3\n",
    "Se tiene una cadena como la siguiente línea = 'a: b: c: d: e: f:gh '\n",
    "Se debe crear un script que devuelva la cadena 'a, b, c, d, e, f, g, h'.\n"
   ]
  },
  {
   "cell_type": "code",
   "execution_count": 18,
   "id": "f002c0c6",
   "metadata": {
    "scrolled": true
   },
   "outputs": [
    {
     "name": "stdout",
     "output_type": "stream",
     "text": [
      "['a', ' b', ' c', ' d', ' e', ' f', 'gh ']\n",
      "a, b, c, d, e, f,gh \n"
     ]
    }
   ],
   "source": [
    "linea = 'a: b: c: d: e: f:gh '\n",
    "resultado = linea.split(\":\") #Transforma en lista\n",
    "print(resultado)\n",
    "print(\",\".join(resultado)) #Une la lista y pasa a cadena"
   ]
  },
  {
   "cell_type": "markdown",
   "id": "5c3a6949",
   "metadata": {},
   "source": [
    "# Caso práctico 4.4\n",
    "Leer una cadena de texto del usuario y para cada letra indica si es una vocal o una consonante."
   ]
  },
  {
   "cell_type": "code",
   "execution_count": 2,
   "id": "04eb17c2",
   "metadata": {
    "scrolled": true
   },
   "outputs": [
    {
     "name": "stdout",
     "output_type": "stream",
     "text": [
      "Introducir texto hola\n",
      "h consonante\n",
      "o vocal\n",
      "l consonante\n",
      "a vocal\n"
     ]
    }
   ],
   "source": [
    "cadena = input(\"Introducir texto \")\n",
    "vocales=[\"a\", \"e\", \"i\", \"o\", \"u\"]\n",
    "for i in cadena:\n",
    "    if i in vocales:\n",
    "        print(i,\"vocal\")\n",
    "    else:\n",
    "        print(i,\"consonante\")\n"
   ]
  }
 ],
 "metadata": {
  "kernelspec": {
   "display_name": "Python 3 (ipykernel)",
   "language": "python",
   "name": "python3"
  },
  "language_info": {
   "codemirror_mode": {
    "name": "ipython",
    "version": 3
   },
   "file_extension": ".py",
   "mimetype": "text/x-python",
   "name": "python",
   "nbconvert_exporter": "python",
   "pygments_lexer": "ipython3",
   "version": "3.9.7"
  }
 },
 "nbformat": 4,
 "nbformat_minor": 5
}
