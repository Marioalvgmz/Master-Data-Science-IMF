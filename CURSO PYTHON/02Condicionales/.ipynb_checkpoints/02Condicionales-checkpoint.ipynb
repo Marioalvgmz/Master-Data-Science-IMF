{
 "cells": [
  {
   "cell_type": "markdown",
   "id": "8119f606",
   "metadata": {},
   "source": [
    "# Ejemplos"
   ]
  },
  {
   "cell_type": "code",
   "execution_count": 10,
   "id": "11a6977c",
   "metadata": {
    "scrolled": true
   },
   "outputs": [
    {
     "name": "stdout",
     "output_type": "stream",
     "text": [
      "Eres mayor de edad\n",
      "par\n"
     ]
    }
   ],
   "source": [
    "edad=20\n",
    "if edad > 17:\n",
    "    print(\"Eres mayor de edad\")\n",
    "else:\n",
    "    print(\"Eres menor de edad\")\n",
    "# Evaluar en línea\n",
    "print(\"par\" if edad % 2 == 0 else \"impar\")"
   ]
  },
  {
   "cell_type": "code",
   "execution_count": 17,
   "id": "26f7a919",
   "metadata": {},
   "outputs": [
    {
     "name": "stdout",
     "output_type": "stream",
     "text": [
      "Ha seleccionado: Sí\n"
     ]
    }
   ],
   "source": [
    "# Evauar si un valor está entre varios posibles:\n",
    "tecla = \"y\"\n",
    "if tecla in(\"s\", \"S\", \"y\", \"Y\"):\n",
    "    print(\"Ha seleccionado: Sí\")"
   ]
  },
  {
   "cell_type": "code",
   "execution_count": 21,
   "id": "e79d5c76",
   "metadata": {},
   "outputs": [
    {
     "name": "stdout",
     "output_type": "stream",
     "text": [
      "Es falso\n"
     ]
    }
   ],
   "source": [
    "# Evaluar variables booleanas\n",
    "respuesta = False\n",
    "if respuesta: # Evalúa si respuesta es True\n",
    "    print(\"Sí, es verdad\")\n",
    "else:\n",
    "    print(\"Es falso\")"
   ]
  },
  {
   "cell_type": "code",
   "execution_count": 26,
   "id": "bc43228f",
   "metadata": {},
   "outputs": [
    {
     "name": "stdout",
     "output_type": "stream",
     "text": [
      "'var1' es una cadena\n",
      "'var2' es una número entero\n",
      "'var3' es un número con decimales\n",
      "'var4' es un booleano\n"
     ]
    }
   ],
   "source": [
    "#Evaluar variables por tipo de dato que contienen\n",
    "var1 = \"Python 3 para impacientes\"\n",
    "var2 = 3\n",
    "var3 = 3.14\n",
    "var4 = True\n",
    "if type(var1) is str:\n",
    "    print(\"'var1' es una cadena\")\n",
    "if type(var2) is int:\n",
    "    print(\"'var2' es una número entero\")\n",
    "if type(var3) is float:\n",
    "    print(\"'var3' es un número con decimales\")\n",
    "if type(var4) is bool:\n",
    "    print(\"'var4' es un booleano\")"
   ]
  },
  {
   "cell_type": "markdown",
   "id": "54c4724c",
   "metadata": {},
   "source": [
    "# Caso práctico 1\n",
    "Generar un número aleatorio entre 1 y 20. Luego informar si el número tiene uno o dos dígitos."
   ]
  },
  {
   "cell_type": "code",
   "execution_count": 38,
   "id": "7b57ba08",
   "metadata": {},
   "outputs": [
    {
     "name": "stdout",
     "output_type": "stream",
     "text": [
      "El número es: 18.00\n",
      "Tiene dos dígitos\n"
     ]
    }
   ],
   "source": [
    "import random\n",
    "numero = random.randint(1,20)\n",
    "print(\"El número es: %.2f\" %numero)\n",
    "if numero > 10:\n",
    "    print(\"Tiene dos dígitos\")\n",
    "else:\n",
    "    print(\"Tiene un dígito\")"
   ]
  },
  {
   "cell_type": "markdown",
   "id": "323f0f42",
   "metadata": {},
   "source": [
    "# Caso práctico 2\n",
    "Crear un comparador de años. Se debe pedir el año actual y, después, un año que aleatorio. Una vez introducidos estos datos, deben aparecer los siguientes mensajes:\n",
    "\n",
    "* Desde el año xxx han pasado yyy años.\n",
    "* Para llegar al año xxxx faltan yyy años.\n",
    "* xxx es la fecha que has puesto en segundo lugar (la que te apetecía).\n",
    "* yyy es la resta entre las dos fechas.\n",
    "* Los mensajes aparecerán según si la segunda fecha es mayor o menor a la actual."
   ]
  },
  {
   "cell_type": "code",
   "execution_count": 51,
   "id": "c993a993",
   "metadata": {},
   "outputs": [
    {
     "name": "stdout",
     "output_type": "stream",
     "text": [
      "Comparador de años\n",
      "¿En qué año estamos? 2022\n",
      "Escriba un año cualquiera 1994\n",
      "Desde el año 1994 han pasado 28 años\n"
     ]
    }
   ],
   "source": [
    "print(\"Comparador de años\")\n",
    "fecha1 = int(input(\"¿En qué año estamos? \"))\n",
    "fecha2 = int(input(\"Escriba un año cualquiera \"))\n",
    "if fecha1 > fecha2:\n",
    "    print(\"Desde el año %d han pasado %d años\" %(fecha2,fecha1-fecha2))\n",
    "if fecha1 < fecha2:\n",
    "    print(\"Para llegar al año\" , fecha1 , \"faltan\" , fecha2-fecha1 , \"años\")\n",
    "if fecha1 == fecha2:\n",
    "    print(\"¡Son el mismo año!\")"
   ]
  },
  {
   "cell_type": "markdown",
   "id": "a9b3d4aa",
   "metadata": {},
   "source": [
    "# Caso práctico 3.1\n",
    "Escribir un programa que pida dos valores enteros y que imprima por pantalla:\n",
    "\n",
    "* Si el primero es menor que el segundo, que imprima el mensaje “Primero menor”.\n",
    "* Si el segundo es menor que el primero, que imprima el mensaje “Segundo menor”.\n",
    "* Si los números son iguales, que imprima el mensaje “Son iguales”."
   ]
  },
  {
   "cell_type": "code",
   "execution_count": 13,
   "id": "aaaad953",
   "metadata": {
    "scrolled": true
   },
   "outputs": [
    {
     "name": "stdout",
     "output_type": "stream",
     "text": [
      "Escriba el primer número 3\n",
      "escriba el segundo número 2\n",
      "Segundo menor\n"
     ]
    }
   ],
   "source": [
    "numero1 = int(input(\"Escriba el primer número \"))\n",
    "numero2 = int(input(\"escriba el segundo número \"))\n",
    "if numero1 < numero2:\n",
    "    print(\"Primero menor\")\n",
    "elif numero2 < numero1:\n",
    "    print(\"Segundo menor\")\n",
    "else:\n",
    "    print(\"Son iguales\")"
   ]
  },
  {
   "cell_type": "markdown",
   "id": "ef7e7187",
   "metadata": {},
   "source": [
    "# Caso práctico 3.2\n",
    "Escribir un programa que pida un número entero y escriba por pantalla:\n",
    "\n",
    "* El número introducido es PAR”, en el caso de que sea par.\n",
    "* El número introducido es IMPAR”, en el caso de que sea impar."
   ]
  },
  {
   "cell_type": "code",
   "execution_count": 14,
   "id": "85e70a0d",
   "metadata": {},
   "outputs": [
    {
     "name": "stdout",
     "output_type": "stream",
     "text": [
      "Escriba número 5\n",
      "El numero introducido 5 es impar\n"
     ]
    }
   ],
   "source": [
    "numero = int(input(\"Escriba número \"))\n",
    "if numero%2 == 0:\n",
    "    print(\"El numero introducido %d es par\" %(numero))\n",
    "else:\n",
    "    print(\"El numero introducido %d es impar\" %(numero))"
   ]
  }
 ],
 "metadata": {
  "kernelspec": {
   "display_name": "Python 3 (ipykernel)",
   "language": "python",
   "name": "python3"
  },
  "language_info": {
   "codemirror_mode": {
    "name": "ipython",
    "version": 3
   },
   "file_extension": ".py",
   "mimetype": "text/x-python",
   "name": "python",
   "nbconvert_exporter": "python",
   "pygments_lexer": "ipython3",
   "version": "3.9.7"
  }
 },
 "nbformat": 4,
 "nbformat_minor": 5
}
