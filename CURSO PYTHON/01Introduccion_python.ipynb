{
 "cells": [
  {
   "cell_type": "markdown",
   "id": "42b00cf9",
   "metadata": {},
   "source": [
    "# Caso práctico 1\n",
    "Pedir el nombre de un producto por teclado y su peso (teniendo en cuenta que puede tener decimales).\n",
    "Mostrar los datos por pantalla teniendo en cuenta que, si el peso introducido tiene más de 3 decimales, se requiere redondearlo exactamente a 2."
   ]
  },
  {
   "cell_type": "code",
   "execution_count": 52,
   "id": "38dc06c9",
   "metadata": {
    "scrolled": true
   },
   "outputs": [
    {
     "name": "stdout",
     "output_type": "stream",
     "text": [
      "nombre producto manzanas\n",
      "peso producto 2.234\n",
      "El producto es manzanas y pesa 2.23\n"
     ]
    }
   ],
   "source": [
    "nombre = input (\"nombre producto \")\n",
    "peso = float(input(\"peso producto \"))\n",
    "print (\"El producto es %s y pesa %.2f\" %(nombre, peso) )"
   ]
  },
  {
   "cell_type": "markdown",
   "id": "7c8e08ae",
   "metadata": {},
   "source": [
    "# Caso práctico 2\n",
    "Realizar un programa que pida un número entero al usuario e informe del valor del cociente y el resto de dividirlo por dos."
   ]
  },
  {
   "cell_type": "code",
   "execution_count": 49,
   "id": "4748e994",
   "metadata": {
    "scrolled": false
   },
   "outputs": [
    {
     "name": "stdout",
     "output_type": "stream",
     "text": [
      "Introduce número 21\n",
      "El cociente es 10 y el resto es 1\n"
     ]
    }
   ],
   "source": [
    "numero = int(input(\"Introduce número \"))\n",
    "cociente = numero/2\n",
    "resto =numero%2\n",
    "print (\"El cociente es %d y el resto es %d\" %(cociente, resto))"
   ]
  },
  {
   "cell_type": "markdown",
   "id": "cd3412a4",
   "metadata": {},
   "source": [
    "# Caso práctico 3.1\n",
    "Realizar un programa en Python que imprima por pantalla los datos que se le han pedido por teclado:\n",
    "\n",
    "* Nombre\n",
    "* Apellidos\n",
    "* Edad\n",
    "* DNI\n",
    "* Domicilio\n"
   ]
  },
  {
   "cell_type": "code",
   "execution_count": 43,
   "id": "8114088c",
   "metadata": {
    "scrolled": true
   },
   "outputs": [
    {
     "name": "stdout",
     "output_type": "stream",
     "text": [
      "Introduce nombre Mario\n",
      "introduce apellidos Alvarez Gomez\n",
      "Introdice edad 27\n",
      "Introduce dni 32086065F\n",
      "introduce dirección Calle Antares 10\n",
      "Hola me llamo Mario y mis apellidos son Alvarez Gomez y tengo 27 años con dni 32086065F y vivo en Calle Antares 10\n"
     ]
    }
   ],
   "source": [
    "nombre = input(\"Introduce nombre \")\n",
    "apellidos = input(\"introduce apellidos \")\n",
    "edad = int(input(\"Introdice edad \"))\n",
    "dni = input(\"Introduce dni \")\n",
    "direccion = input(\"introduce dirección \")\n",
    "\n",
    "print (\"Hola me llamo %s y mis apellidos son %s y tengo %d años con dni %s y vivo en %s\" %(nombre, apellidos, edad, dni, direccion))\n"
   ]
  },
  {
   "cell_type": "code",
   "execution_count": 45,
   "id": "03f4793d",
   "metadata": {},
   "outputs": [
    {
     "name": "stdout",
     "output_type": "stream",
     "text": [
      "Introduce nombre Mario\n",
      "introduce apellidos Alvarez Gomez\n",
      "Introdice edad 27\n",
      "Introduce dni 32086065F\n",
      "introduce dirección Calle Antares 10\n",
      "Hola me llamo Mario y mis apellidos son Alvarez Gomez y tengo 27 años con dni 32086065F y vivo en Calle Antares 10\n",
      "Hola me llamo Mario y mis apellidos son Alvarez Gomez y tengo 27 años con dni 32086065F y vivo en Calle Antares 10\n"
     ]
    }
   ],
   "source": [
    "nombre = input(\"Introduce nombre \")\n",
    "apellidos = input(\"introduce apellidos \")\n",
    "edad = int(input(\"Introdice edad \"))\n",
    "dni = input(\"Introduce dni \")\n",
    "direccion = input(\"introduce dirección \")\n",
    "\n",
    "print (\"Hola me llamo\" , nombre , \"y mis apellidos son\" , apellidos , \"y tengo\" , edad , \"años con dni\" , dni , \"y vivo en\" , direccion)\n",
    "print (\"Hola me llamo \" + nombre + \" y mis apellidos son \" + apellidos + \" y tengo \" + str(edad) + \" años con dni \" + dni + \" y vivo en \" + direccion)"
   ]
  },
  {
   "cell_type": "markdown",
   "id": "4285fbf3",
   "metadata": {},
   "source": [
    "# Caso práctico 3.2\n",
    "Realizar un programa en Python que calcule el área (en metros cuadrados) y el perímetro (en metros) de un cuadrado 5 metros de lado."
   ]
  },
  {
   "cell_type": "code",
   "execution_count": 51,
   "id": "312af1e7",
   "metadata": {},
   "outputs": [
    {
     "name": "stdout",
     "output_type": "stream",
     "text": [
      "El área es 30.25 y el perimetro es 22.00\n",
      "El área es 30 y el perimetro es 22\n"
     ]
    }
   ],
   "source": [
    "l = 5.5\n",
    "area = l**2\n",
    "perimetro = l*4\n",
    "\n",
    "print (\"El área es %.2f y el perimetro es %.2f\" %(area, perimetro))\n",
    "print (\"El área es %d y el perimetro es %d\" %(area, perimetro))"
   ]
  }
 ],
 "metadata": {
  "kernelspec": {
   "display_name": "Python 3 (ipykernel)",
   "language": "python",
   "name": "python3"
  },
  "language_info": {
   "codemirror_mode": {
    "name": "ipython",
    "version": 3
   },
   "file_extension": ".py",
   "mimetype": "text/x-python",
   "name": "python",
   "nbconvert_exporter": "python",
   "pygments_lexer": "ipython3",
   "version": "3.9.7"
  }
 },
 "nbformat": 4,
 "nbformat_minor": 5
}
