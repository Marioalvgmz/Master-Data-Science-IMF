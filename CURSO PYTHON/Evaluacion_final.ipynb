{
 "cells": [
  {
   "cell_type": "markdown",
   "id": "68543a42",
   "metadata": {},
   "source": [
    "# Evaluación Final\n",
    "Cree una clase llamada Persona. Dicha clase va a contener como atributos de la misma: el nombre, DNI, dirección, teléfono.\n",
    "\n",
    "Por método solo tendremos en consideración que imprimirá por pantalla los datos de la persona. Utilice esta clase Persona para crear una lista de personas y mostrar cada una de ellas.\n",
    "\n",
    "Los datos de cada persona deberán estar en un fichero llamado personas.txt. El formato de este fichero es una línea con los datos de cada persona. Están separados por ';'.\n",
    "\n",
    "Contiene información por este orden:\n",
    "\n",
    "nombre; DNI; dirección;\n",
    "\n",
    "pepe;2345; calle uno\n",
    "\n",
    "sara;2345; calle dos\n",
    "\n",
    "juan;4567; calle tres"
   ]
  },
  {
   "cell_type": "code",
   "execution_count": 2,
   "id": "f3361f62",
   "metadata": {
    "scrolled": true
   },
   "outputs": [
    {
     "name": "stdout",
     "output_type": "stream",
     "text": [
      "Nombre: pepe\n",
      "DNI: 2345\n",
      "Dirección: calle uno\n",
      "Teléfono: 665479145\n",
      "\n",
      "Nombre: sara\n",
      "DNI: 2345\n",
      "Dirección: calle dos\n",
      "Teléfono: 641356743\n",
      "\n",
      "Nombre: juan\n",
      "DNI: 4567\n",
      "Dirección: calle tres\n",
      "Teléfono: 627421559\n"
     ]
    }
   ],
   "source": [
    "class Persona:\n",
    "    def __init__(self,nombre,dni,direccion,telefono):\n",
    "        self.nombre = nombre\n",
    "        self.dni = dni\n",
    "        self.direccion = direccion\n",
    "        self.telefono = telefono\n",
    "    \n",
    "    def mostrar(self):\n",
    "        print(\"Nombre:\" ,self.nombre)\n",
    "        print(\"DNI:\" ,self.dni)\n",
    "        print(\"Dirección:\" ,self.direccion)\n",
    "        print(\"Teléfono:\" ,self.telefono)\n",
    "\n",
    "lineas = open(\".\\datos\\personas2.txt\").readlines()\n",
    "lista_personas = list()\n",
    "\n",
    "for l in lineas:\n",
    "    datos = l.split(\";\")\n",
    "    p = Persona(datos[0],datos[1],datos[2],datos[3])\n",
    "    lista_personas.append(p)\n",
    "    \n",
    "for p in lista_personas:\n",
    "    p.mostrar()\n"
   ]
  }
 ],
 "metadata": {
  "kernelspec": {
   "display_name": "Python 3.10.4 64-bit",
   "language": "python",
   "name": "python3"
  },
  "language_info": {
   "codemirror_mode": {
    "name": "ipython",
    "version": 3
   },
   "file_extension": ".py",
   "mimetype": "text/x-python",
   "name": "python",
   "nbconvert_exporter": "python",
   "pygments_lexer": "ipython3",
   "version": "3.10.4"
  },
  "vscode": {
   "interpreter": {
    "hash": "d4026d7a36d874e1f6c487603191095e1ef70b08516b0a096b0ced5fbd321bb0"
   }
  }
 },
 "nbformat": 4,
 "nbformat_minor": 5
}
