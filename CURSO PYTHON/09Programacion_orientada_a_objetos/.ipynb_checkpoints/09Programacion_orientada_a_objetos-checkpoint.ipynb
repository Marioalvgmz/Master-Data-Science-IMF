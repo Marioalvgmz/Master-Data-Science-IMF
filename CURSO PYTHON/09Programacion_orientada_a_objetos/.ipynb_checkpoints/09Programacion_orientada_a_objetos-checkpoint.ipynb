{
 "cells": [
  {
   "cell_type": "markdown",
   "id": "cc039395",
   "metadata": {},
   "source": [
    "# Ejemplo objetos"
   ]
  },
  {
   "cell_type": "code",
   "execution_count": 9,
   "id": "c352cdff",
   "metadata": {},
   "outputs": [
    {
     "name": "stdout",
     "output_type": "stream",
     "text": [
      "mi nombre es Albert\n"
     ]
    }
   ],
   "source": [
    "class Student():\n",
    "    name = \"Albert\"\n",
    "    age = \"20\"\n",
    "    def __str__(self):\n",
    "        print (\"mi nombre es\" +\" \"+ self.name)\n",
    "student = Student()\n",
    "student.__str__()"
   ]
  },
  {
   "cell_type": "code",
   "execution_count": 2,
   "id": "9bc7e01b",
   "metadata": {},
   "outputs": [
    {
     "name": "stdout",
     "output_type": "stream",
     "text": [
      "Hola mi nombre es Juan y tengo 36\n"
     ]
    }
   ],
   "source": [
    "class Person:\n",
    "    def __init__(self,name,age):\n",
    "        self.name=name\n",
    "        self.age=age\n",
    "        \n",
    "    def __str__(self):\n",
    "        print(\"Hola mi nombre es \" + self.name + \" y tengo \" +self.age)\n",
    "        \n",
    "p1=Person(\"Juan\",\"36\")\n",
    "p1.__str__()"
   ]
  },
  {
   "cell_type": "markdown",
   "id": "77d8b5fd",
   "metadata": {},
   "source": [
    "# Ejemplo métodos mágicos"
   ]
  },
  {
   "cell_type": "code",
   "execution_count": 13,
   "id": "27d88aec",
   "metadata": {},
   "outputs": [
    {
     "name": "stdout",
     "output_type": "stream",
     "text": [
      "Albert\n",
      "20\n",
      "PEPE\n",
      "27\n"
     ]
    }
   ],
   "source": [
    "class Student():\n",
    "    name= \"Albert\"\n",
    "    age= \"20\"\n",
    "    def greet(self,message):\n",
    "        print (message+\" \"+ self.name)\n",
    "student= Student()\n",
    "print (getattr(student, \"name\"))\n",
    "print (getattr(student, \"age\"))\n",
    "student.__setattr__(\"name\",\"PEPE\")\n",
    "student.__setattr__(\"age\",\"27\")\n",
    "print (getattr(student, \"name\",))\n",
    "print (getattr(student, \"age\",))"
   ]
  },
  {
   "cell_type": "markdown",
   "id": "44510faf",
   "metadata": {},
   "source": [
    "# Ejemplo herencia"
   ]
  },
  {
   "cell_type": "code",
   "execution_count": 128,
   "id": "37a95a4c",
   "metadata": {},
   "outputs": [
    {
     "name": "stdout",
     "output_type": "stream",
     "text": [
      "7\n",
      "Juan\n",
      "52\n"
     ]
    }
   ],
   "source": [
    "class Persona(): # clase persona\n",
    "    def __init__(self,nombre,edad):\n",
    "        self.nombre=nombre\n",
    "        self.edad=edad\n",
    "    def obtener_nombre(self):#método obtener_nombre\n",
    "        print (self.nombre) #imprime nombre\n",
    "    def obtener_edad(self): #método obtener_edad\n",
    "        print (self.edad) #imprime edad\n",
    "class Alumno(Persona): #clase alumno\n",
    "    def __init__(self,nota,nombre,edad): #inicializamos con nota, con nombre y edad\n",
    "        Persona.__init__(self,nombre,edad)\n",
    "        self.nota=nota\n",
    "    def obtener_nota(self): #método obtener_nota...\n",
    "        print (self.nota) # imprimimos nota\n",
    "        \n",
    "alumno=Alumno(\"7\",\"Juan\",\"52\")\n",
    "alumno.obtener_nota()\n",
    "alumno.obtener_nombre()\n",
    "alumno.obtener_edad()"
   ]
  },
  {
   "cell_type": "markdown",
   "id": "739d60cd",
   "metadata": {},
   "source": [
    "# Caso práctico 1\n",
    "Cree una clase Entidad. Contendrá por atributos el número de entidad, su director y clientes. Los datos los vamos a rellenar sacando la información del fichero personas.txt. Mostrar los datos de las distintas entidades."
   ]
  },
  {
   "cell_type": "code",
   "execution_count": 5,
   "id": "cda05f5d",
   "metadata": {
    "scrolled": true
   },
   "outputs": [
    {
     "name": "stdout",
     "output_type": "stream",
     "text": [
      "Numero = 4678 2000 4678 1200 0000\n",
      "Director = Manuel Garcia\n",
      "Cliente = Eloy Perez\n",
      "\n",
      "Numero = 4678 2000 4678 1200 0001\n",
      "Director = Marta Alonso\n",
      "Cliente = Felix Gomez\n"
     ]
    }
   ],
   "source": [
    "class Entidad(object):\n",
    "    def __init__(self,numero,director,cliente):\n",
    "        self.numero=numero\n",
    "        self.director=director\n",
    "        self.cliente=cliente\n",
    "        \n",
    "    def mostrar(self):\n",
    "        print(\"Numero =\",self.numero)\n",
    "        print(\"Director =\",self.director)\n",
    "        print(\"Cliente =\",self.cliente)\n",
    "        \n",
    "lineas = open(\"personas.txt\").readlines()\n",
    "lista_entidades=list()\n",
    "\n",
    "for l in lineas:\n",
    "    datos=l.split(\";\")\n",
    "    p=Entidad(datos[0],datos[1],datos[2])\n",
    "    lista_entidades.append(p)\n",
    "    \n",
    "for p in lista_entidades:\n",
    "    p.mostrar()"
   ]
  },
  {
   "cell_type": "markdown",
   "id": "447e53e5",
   "metadata": {},
   "source": [
    "# Caso práctico 2.1\n",
    "Crear una clase llamada Persona. Contendrá el nombre, DNI, dirección y teléfono. Por método tendrá que mostrar que imprimirá por pantalla los datos de la persona."
   ]
  },
  {
   "cell_type": "code",
   "execution_count": 14,
   "id": "0bbe4d68",
   "metadata": {},
   "outputs": [
    {
     "name": "stdout",
     "output_type": "stream",
     "text": [
      "dni: 123\n",
      "direccion: calle pez\n",
      "telefono: 652123478\n"
     ]
    }
   ],
   "source": [
    "class Persona:\n",
    "    def __init__(self,dni,direccion,telefono):\n",
    "        self.dni = dni\n",
    "        self.direccion = direccion\n",
    "        self.telefono = telefono\n",
    "    def __str__(self):\n",
    "        print(\"dni:\" ,self.dni)\n",
    "        print(\"direccion:\" ,self.direccion)\n",
    "        print(\"telefono:\" ,self.telefono)\n",
    "\n",
    "eva = Persona(123,\"calle pez\",652123478)\n",
    "eva.__str__()"
   ]
  },
  {
   "cell_type": "markdown",
   "id": "4ad35493",
   "metadata": {},
   "source": [
    "# Caso práctico 2.2\n",
    "Basándose en la clase anterior, se debe crear la clase Alumnos, que va a heredar los atributos de Persona, además de las notas. Mostrar los datos de los alumnos con sus notas."
   ]
  },
  {
   "cell_type": "code",
   "execution_count": 13,
   "id": "a08b50b0",
   "metadata": {},
   "outputs": [
    {
     "name": "stdout",
     "output_type": "stream",
     "text": [
      "notas: 7 nombre: 123\n"
     ]
    }
   ],
   "source": [
    "class Alumno(Persona):\n",
    "    def __init__(self,notas,dni,direccion,telefono):\n",
    "        self.notas = notas\n",
    "        Persona.__init__(self,dni,direccion,telefono)\n",
    "    def mostrar(self):\n",
    "        print(\"notas:\" , self.notas, \"nombre:\" , self.dni)\n",
    "\n",
    "alum = Alumno(7, 123, \"calle perro\", 667453890)\n",
    "alum.mostrar()"
   ]
  }
 ],
 "metadata": {
  "kernelspec": {
   "display_name": "Python 3 (ipykernel)",
   "language": "python",
   "name": "python3"
  },
  "language_info": {
   "codemirror_mode": {
    "name": "ipython",
    "version": 3
   },
   "file_extension": ".py",
   "mimetype": "text/x-python",
   "name": "python",
   "nbconvert_exporter": "python",
   "pygments_lexer": "ipython3",
   "version": "3.9.7"
  }
 },
 "nbformat": 4,
 "nbformat_minor": 5
}
