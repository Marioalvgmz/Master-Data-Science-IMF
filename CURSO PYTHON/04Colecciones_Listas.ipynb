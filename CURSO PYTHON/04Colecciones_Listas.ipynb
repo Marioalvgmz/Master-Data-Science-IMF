{
 "cells": [
  {
   "cell_type": "markdown",
   "id": "0a2befcc",
   "metadata": {},
   "source": [
    "## Creación"
   ]
  },
  {
   "cell_type": "code",
   "execution_count": 8,
   "id": "5c4b4ed4",
   "metadata": {},
   "outputs": [
    {
     "name": "stdout",
     "output_type": "stream",
     "text": [
      "[2, 'DAM', False, [1, 2]]\n",
      "<class 'list'>\n",
      "<class 'int'>\n",
      "<class 'str'>\n"
     ]
    }
   ],
   "source": [
    "lista = [2,\"DAM\",False,[1, 2]]\n",
    "print(lista)\n",
    "print(type(lista)) #ver el tipo de elemento\n",
    "print(type(lista[0])) #ver el tipo del primer elemento\n",
    "print(type(lista[1])) #ver el tipo del segundo elemento"
   ]
  },
  {
   "cell_type": "code",
   "execution_count": 5,
   "id": "a99bd40a",
   "metadata": {},
   "outputs": [],
   "source": [
    "#Acceder a los elementos\n",
    "lista = [2,\"DAM\",False,[1, 2]]\n",
    "valor = lista[0] # valor vale 2\n",
    "valor = lista[1] # valor vale “DAM”\n",
    "valor = lista[3][0] # valor 1"
   ]
  },
  {
   "cell_type": "code",
   "execution_count": 16,
   "id": "c0e29249",
   "metadata": {},
   "outputs": [
    {
     "name": "stdout",
     "output_type": "stream",
     "text": [
      "[2, 'ASIR', False, [1, 2]]\n"
     ]
    }
   ],
   "source": [
    "#Modificar elementos de una lista\n",
    "lista = [2,\"DAM\",False,[1, 2]]\n",
    "lista[1] = \"ASIR\" # Con esto lista[1]\n",
    "print(lista)"
   ]
  },
  {
   "cell_type": "code",
   "execution_count": 7,
   "id": "aa1329f7",
   "metadata": {},
   "outputs": [
    {
     "name": "stdout",
     "output_type": "stream",
     "text": [
      "[2, 'ASIR']\n",
      "[2, False]\n"
     ]
    }
   ],
   "source": [
    "#Slice o particionado\n",
    "#Caso 1 [inicio:final]\n",
    "print(lista[0:2]) #Obtendremos (Nunca se incluye el 2) [2,\"ASIR\"]\n",
    "#Caso 2 [inicio:final:salto]\n",
    "print(lista[0:4:2])  #Obtendremos [2, False]"
   ]
  },
  {
   "cell_type": "code",
   "execution_count": 72,
   "id": "19295c60",
   "metadata": {},
   "outputs": [
    {
     "name": "stdout",
     "output_type": "stream",
     "text": [
      "[[1, 2], False]\n",
      "['ASIR', False]\n",
      "[]\n"
     ]
    }
   ],
   "source": [
    "#Ejemplos índices negativos\n",
    "#lista = [2,\"ASIR\",False,[1, 2]]\n",
    "print(lista[4:1:-1])\n",
    "print(lista[-3:-1])\n",
    "print(lista[-4:-2:-1])"
   ]
  },
  {
   "cell_type": "markdown",
   "id": "af2930d3",
   "metadata": {},
   "source": [
    "# Caso práctico 1\n",
    "Lee una cadena de texto del usuario y para cada letra indica si es una vocal o una consonante."
   ]
  },
  {
   "cell_type": "code",
   "execution_count": 75,
   "id": "e508be78",
   "metadata": {},
   "outputs": [
    {
     "name": "stdout",
     "output_type": "stream",
     "text": [
      "Introduzca texto hola\n",
      "La letra h es una consonante\n",
      "La letra o es una vocal\n",
      "La letra l es una consonante\n",
      "La letra a es una vocal\n"
     ]
    }
   ],
   "source": [
    "cadena = input(\"Introduzca texto \")\n",
    "vocales = [\"a\", \"e\", \"i\", \"o\", \"u\"]\n",
    "for i in cadena:\n",
    "    if i in vocales:\n",
    "        print(\"La letra %s es una vocal\" %(i))\n",
    "    else:\n",
    "        print(\"La letra %s es una consonante\" %(i))\n"
   ]
  },
  {
   "cell_type": "markdown",
   "id": "088fb52a",
   "metadata": {},
   "source": [
    "# Caso práctico 2\n",
    "Si tenemos una lista con nombres de ciudades, que muestre las ciudades que empiecen con la letra m."
   ]
  },
  {
   "cell_type": "code",
   "execution_count": 80,
   "id": "c57e3efe",
   "metadata": {},
   "outputs": [
    {
     "name": "stdout",
     "output_type": "stream",
     "text": [
      "Madrid\n",
      "Málaga\n"
     ]
    }
   ],
   "source": [
    "ciudades = [\"Madrid\", \"Málaga\" ,\"Barcelona\"]\n",
    "for i in ciudades:\n",
    "    if i .lower().startswith(\"m\"):\n",
    "        print(i)\n",
    "    "
   ]
  },
  {
   "cell_type": "markdown",
   "id": "6b3005eb",
   "metadata": {},
   "source": [
    "# Caso práctico 3\n",
    "Escriba un programa de Python para imprimir los números de una lista especificada después de y que cree una nueva solo con los números pares."
   ]
  },
  {
   "cell_type": "code",
   "execution_count": 3,
   "id": "01c3b3e1",
   "metadata": {},
   "outputs": [
    {
     "name": "stdout",
     "output_type": "stream",
     "text": [
      "Lista original [2, 3, 5, 6, 7, 10]\n",
      "Lista pares [2, 6, 10]\n"
     ]
    }
   ],
   "source": [
    "lista = [2,3,5,6,7,10]\n",
    "pares = []\n",
    "for i in lista:\n",
    "    if i%2 == 0:\n",
    "        pares.append(i)\n",
    "print(\"Lista original\" ,lista)\n",
    "print(\"Lista pares\" ,pares)"
   ]
  },
  {
   "cell_type": "markdown",
   "id": "7b1ebb17",
   "metadata": {},
   "source": [
    "# Caso práctico 4.1\n",
    "Si se tiene la siguiente lista: lista[\"SGE\",3.0,[\"A\",\"B\"],10,\"FINAL\"], indicar qué devolverá cada uno de los siguientes casos:\n",
    "\n",
    "* print (type(lista[2][1])) d.print (lista[0:4])\n",
    "* print (lista[2][1]) e.print (lista[1][1])\n",
    "* print (lista[0:3:1]) f. lista[2][2]=\"z\""
   ]
  },
  {
   "cell_type": "code",
   "execution_count": 13,
   "id": "64a09528",
   "metadata": {},
   "outputs": [
    {
     "name": "stdout",
     "output_type": "stream",
     "text": [
      "['SGE', 3.0, ['A', 'B'], 10, 'FINAL']\n"
     ]
    }
   ],
   "source": [
    "lista = [\"SGE\",3.0,[\"A\",\"B\"],10,\"FINAL\"]\n",
    "print(lista)"
   ]
  },
  {
   "cell_type": "code",
   "execution_count": 15,
   "id": "9398489a",
   "metadata": {},
   "outputs": [
    {
     "name": "stdout",
     "output_type": "stream",
     "text": [
      "<class 'str'>\n",
      "B\n",
      "['SGE', 3.0, ['A', 'B'], 10]\n"
     ]
    }
   ],
   "source": [
    "print (type(lista[2][1]))\n",
    "print (lista[2][1])\n",
    "print (lista[0:4]) #Hasta el 10"
   ]
  },
  {
   "cell_type": "code",
   "execution_count": 19,
   "id": "248a740d",
   "metadata": {},
   "outputs": [
    {
     "name": "stdout",
     "output_type": "stream",
     "text": [
      "B\n"
     ]
    }
   ],
   "source": [
    "print (lista[2][1]) #Sale B\n",
    "#print (lista[1][1]) #error porque no es una lista"
   ]
  },
  {
   "cell_type": "code",
   "execution_count": 24,
   "id": "8fadc11c",
   "metadata": {
    "scrolled": false
   },
   "outputs": [
    {
     "name": "stdout",
     "output_type": "stream",
     "text": [
      "['SGE', 3.0, ['A', 'z']]\n"
     ]
    }
   ],
   "source": [
    "print (lista[0:3:1]) #de 0 a 3 ([\"A\",\"B\"]) sin salto\n",
    "#lista[2][2]=\"z\" #Error porque se pasa dentro de la segunda lista"
   ]
  },
  {
   "cell_type": "markdown",
   "id": "7a26bf46",
   "metadata": {},
   "source": [
    "# Caso práctico 4.2\n",
    "Si se tiene la siguiente lista: lista[\"A\",\"B\",\"C\",1,2,[\"LUNES\",\"MARTES\"]], indicar qué devolverá cada uno de los siguientes casos:\n",
    "\n",
    "* Añadir la letra z\n",
    "* Indicar la longitud de la lista\n",
    "* print (lista[::4])\n",
    "* print (lista[0:3:2])\n",
    "* print (lista[-1][0]) \n",
    "* print (lista[2::1])"
   ]
  },
  {
   "cell_type": "code",
   "execution_count": 2,
   "id": "c1c356bd",
   "metadata": {},
   "outputs": [],
   "source": [
    "lista = [\"A\",\"B\",\"C\",1,2,[\"LUNES\",\"MARTES\"]]"
   ]
  },
  {
   "cell_type": "code",
   "execution_count": 3,
   "id": "4f425ccf",
   "metadata": {},
   "outputs": [
    {
     "name": "stdout",
     "output_type": "stream",
     "text": [
      "['A', 'B', 'C', 1, 2, ['LUNES', 'MARTES'], 'z']\n"
     ]
    }
   ],
   "source": [
    "lista.append(\"z\")\n",
    "print(lista)"
   ]
  },
  {
   "cell_type": "code",
   "execution_count": 4,
   "id": "24c1c0b3",
   "metadata": {},
   "outputs": [
    {
     "name": "stdout",
     "output_type": "stream",
     "text": [
      "7\n"
     ]
    }
   ],
   "source": [
    "print(len(lista)) #función que indica la longitud de la lista."
   ]
  },
  {
   "cell_type": "code",
   "execution_count": 5,
   "id": "88357555",
   "metadata": {},
   "outputs": [
    {
     "name": "stdout",
     "output_type": "stream",
     "text": [
      "['A', 2]\n"
     ]
    }
   ],
   "source": [
    "print(lista[::4]) #inicio 0, final de la lista, salto 4"
   ]
  },
  {
   "cell_type": "code",
   "execution_count": 6,
   "id": "93a0e4ca",
   "metadata": {},
   "outputs": [
    {
     "name": "stdout",
     "output_type": "stream",
     "text": [
      "['A', 'C']\n"
     ]
    }
   ],
   "source": [
    "print(lista[0:3:2]) #inicio 0, final 3, salto dos, pinta: A,C "
   ]
  },
  {
   "cell_type": "code",
   "execution_count": 9,
   "id": "ed310fc7",
   "metadata": {},
   "outputs": [
    {
     "name": "stdout",
     "output_type": "stream",
     "text": [
      "z\n"
     ]
    }
   ],
   "source": [
    "print(lista[-1][0]) #inicio al final y como no es una lista, pinta z"
   ]
  },
  {
   "cell_type": "code",
   "execution_count": 10,
   "id": "aa5ba8d3",
   "metadata": {},
   "outputs": [
    {
     "name": "stdout",
     "output_type": "stream",
     "text": [
      "['C', 1, 2, ['LUNES', 'MARTES'], 'z']\n"
     ]
    }
   ],
   "source": [
    "print (lista[2::1]) #Empieza en C hasta el final"
   ]
  },
  {
   "cell_type": "markdown",
   "id": "1861c007",
   "metadata": {},
   "source": [
    "# Caso práctico 4.3\n",
    "Basándose en la siguiente lista, a = [66.25, 333, 333, 1, 1234.5]:\n",
    "\n",
    "+ Cuántas veces se repite 333 y 66.25 y 'x'.\n",
    "+ Insertar en la posición 2 un -1 a.insert(2, -1).\n",
    "+ Añade al final un nuevo 333 a.append(333).\n",
    "+ Ordena la lista."
   ]
  },
  {
   "cell_type": "code",
   "execution_count": 15,
   "id": "f7d2ada0",
   "metadata": {},
   "outputs": [],
   "source": [
    "a = [66.25, 333, 333, 1, 1234.5]"
   ]
  },
  {
   "cell_type": "code",
   "execution_count": 16,
   "id": "a98db638",
   "metadata": {},
   "outputs": [
    {
     "name": "stdout",
     "output_type": "stream",
     "text": [
      "2\n",
      "1\n",
      "0\n"
     ]
    }
   ],
   "source": [
    "print(a.count(333))\n",
    "print(a.count(66.25))\n",
    "print(a.count(\"x\"))"
   ]
  },
  {
   "cell_type": "code",
   "execution_count": 17,
   "id": "060ddea7",
   "metadata": {},
   "outputs": [],
   "source": [
    "a.insert(2,-1)"
   ]
  },
  {
   "cell_type": "code",
   "execution_count": 18,
   "id": "492dee5b",
   "metadata": {},
   "outputs": [
    {
     "name": "stdout",
     "output_type": "stream",
     "text": [
      "[66.25, 333, -1, 333, 1, 1234.5]\n"
     ]
    }
   ],
   "source": [
    "print(a)"
   ]
  },
  {
   "cell_type": "code",
   "execution_count": 19,
   "id": "c696fe45",
   "metadata": {},
   "outputs": [],
   "source": [
    "a.append(333)"
   ]
  },
  {
   "cell_type": "code",
   "execution_count": 20,
   "id": "d4ec3bb5",
   "metadata": {},
   "outputs": [
    {
     "name": "stdout",
     "output_type": "stream",
     "text": [
      "[66.25, 333, -1, 333, 1, 1234.5, 333]\n"
     ]
    }
   ],
   "source": [
    "print(a)"
   ]
  },
  {
   "cell_type": "code",
   "execution_count": 21,
   "id": "06207fdf",
   "metadata": {},
   "outputs": [
    {
     "name": "stdout",
     "output_type": "stream",
     "text": [
      "[-1, 1, 66.25, 333, 333, 333, 1234.5]\n"
     ]
    }
   ],
   "source": [
    "a.sort()\n",
    "print(a)"
   ]
  }
 ],
 "metadata": {
  "kernelspec": {
   "display_name": "Python 3 (ipykernel)",
   "language": "python",
   "name": "python3"
  },
  "language_info": {
   "codemirror_mode": {
    "name": "ipython",
    "version": 3
   },
   "file_extension": ".py",
   "mimetype": "text/x-python",
   "name": "python",
   "nbconvert_exporter": "python",
   "pygments_lexer": "ipython3",
   "version": "3.9.7"
  }
 },
 "nbformat": 4,
 "nbformat_minor": 5
}
