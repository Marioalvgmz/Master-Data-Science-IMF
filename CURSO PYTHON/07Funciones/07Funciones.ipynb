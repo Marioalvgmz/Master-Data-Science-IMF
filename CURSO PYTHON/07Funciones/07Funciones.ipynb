{
 "cells": [
  {
   "cell_type": "markdown",
   "id": "c3ff1368",
   "metadata": {},
   "source": [
    "# Definición\n",
    "def nombre_funcion(parametro_1, parametro_2, …, parametro_n):\n",
    "\n",
    "    cuerpo de la función\n"
   ]
  },
  {
   "cell_type": "markdown",
   "id": "d279ff6c",
   "metadata": {},
   "source": [
    "# LLamada\n",
    "función multiplicar"
   ]
  },
  {
   "cell_type": "code",
   "execution_count": 1,
   "id": "b06267b6",
   "metadata": {},
   "outputs": [
    {
     "name": "stdout",
     "output_type": "stream",
     "text": [
      "6\n"
     ]
    }
   ],
   "source": [
    "def multiplicar (num_1,num_2):\n",
    "    return num_1*num_2\n",
    "print(multiplicar(2,3))"
   ]
  },
  {
   "cell_type": "markdown",
   "id": "ed5863b5",
   "metadata": {},
   "source": [
    "# Valores por defecto"
   ]
  },
  {
   "cell_type": "code",
   "execution_count": 2,
   "id": "18f1fd40",
   "metadata": {},
   "outputs": [
    {
     "name": "stdout",
     "output_type": "stream",
     "text": [
      "4\n"
     ]
    }
   ],
   "source": [
    "#Podemos poner un valor por defecto en los parámetros finales:\n",
    "def multiplicar (num_1,num_2=2):\n",
    "    return num_1*num_2\n",
    "print(multiplicar(2))"
   ]
  },
  {
   "cell_type": "code",
   "execution_count": 3,
   "id": "b9d395fc",
   "metadata": {},
   "outputs": [
    {
     "ename": "SyntaxError",
     "evalue": "non-default argument follows default argument (Temp/ipykernel_6596/1027068706.py, line 2)",
     "output_type": "error",
     "traceback": [
      "\u001b[1;36m  File \u001b[1;32m\"C:\\Users\\mario\\AppData\\Local\\Temp/ipykernel_6596/1027068706.py\"\u001b[1;36m, line \u001b[1;32m2\u001b[0m\n\u001b[1;33m    def multiplicar (num_1=2,num_2):\u001b[0m\n\u001b[1;37m                                  ^\u001b[0m\n\u001b[1;31mSyntaxError\u001b[0m\u001b[1;31m:\u001b[0m non-default argument follows default argument\n"
     ]
    }
   ],
   "source": [
    "#Si ponemos un valor por defecto sin ser el último parámetro nos dará error:\n",
    "def multiplicar (num_1=2,num_2):\n",
    "    return num_1*num_2\n",
    "print(multiplicar(3)) "
   ]
  },
  {
   "cell_type": "markdown",
   "id": "613b0254",
   "metadata": {},
   "source": [
    "# Retorno"
   ]
  },
  {
   "cell_type": "code",
   "execution_count": 60,
   "id": "e1492ad5",
   "metadata": {},
   "outputs": [
    {
     "name": "stdout",
     "output_type": "stream",
     "text": [
      "Núm.Atómico: 2\n",
      "Denominación: Helio\n"
     ]
    }
   ],
   "source": [
    "#El return en Python permite devolver más de un valor:\n",
    "def elemento_quimico(símbolo):\n",
    "    elementos={'H':'1-Hidrógeno','He':'2-Helio','Li':'3-Litio'}\n",
    "    elemento=elementos[símbolo]\n",
    "    lista=elemento.split('-')\n",
    "    return(lista[0],lista[1])\n",
    "\n",
    "\n",
    "num_atomico,denomina=elemento_quimico('He')\n",
    "print('Núm.Atómico:',num_atomico)\n",
    "print('Denominación:',denomina)\n"
   ]
  },
  {
   "cell_type": "markdown",
   "id": "2ed69c60",
   "metadata": {},
   "source": [
    "# Parámetros arbitrarios"
   ]
  },
  {
   "cell_type": "code",
   "execution_count": 57,
   "id": "43941cf3",
   "metadata": {},
   "outputs": [
    {
     "name": "stdout",
     "output_type": "stream",
     "text": [
      "Fixed\n",
      "arbitrario 1\n",
      "arbitrario 2\n",
      "arbitrario 3\n"
     ]
    }
   ],
   "source": [
    "#Caso 1. (Lista)\n",
    "def recorrer_parametros_arbitrarios(parametro_fijo, *arbitrarios):\n",
    "    print(parametro_fijo)\n",
    "    for argumento in arbitrarios:\n",
    "        print(argumento)\n",
    "recorrer_parametros_arbitrarios('Fixed', 'arbitrario 1', 'arbitrario 2', 'arbitrario 3')"
   ]
  },
  {
   "cell_type": "code",
   "execution_count": 38,
   "id": "368d2c8c",
   "metadata": {},
   "outputs": [
    {
     "name": "stdout",
     "output_type": "stream",
     "text": [
      "('tercero', 3)\n",
      "1\n",
      "2\n"
     ]
    }
   ],
   "source": [
    "#Caso 2. (Diccionario)\n",
    "def varios(param1, param2, **otros):\n",
    "    for i in otros.items():\n",
    "        print(i)\n",
    "    print(param1)\n",
    "    print(param2)\n",
    "varios(1, 2, tercero = 3)"
   ]
  },
  {
   "cell_type": "markdown",
   "id": "6b276405",
   "metadata": {},
   "source": [
    "# Lambda"
   ]
  },
  {
   "cell_type": "code",
   "execution_count": 40,
   "id": "ee999abe",
   "metadata": {
    "scrolled": true
   },
   "outputs": [
    {
     "name": "stdout",
     "output_type": "stream",
     "text": [
      "6\n"
     ]
    }
   ],
   "source": [
    "print( (lambda x: x*2)(3) )"
   ]
  },
  {
   "cell_type": "markdown",
   "id": "eb01280f",
   "metadata": {},
   "source": [
    "# Alto orden"
   ]
  },
  {
   "cell_type": "code",
   "execution_count": 50,
   "id": "55474449",
   "metadata": {},
   "outputs": [
    {
     "name": "stdout",
     "output_type": "stream",
     "text": [
      "[4, 8, 12, 16]\n"
     ]
    }
   ],
   "source": [
    "#map(func,lista) → aplica func a cada elemento.\n",
    "lista=[2,4,6,8]\n",
    "print(list(map(lambda x:x*2,lista)))"
   ]
  },
  {
   "cell_type": "code",
   "execution_count": 63,
   "id": "82ac0ae5",
   "metadata": {},
   "outputs": [
    {
     "name": "stdout",
     "output_type": "stream",
     "text": [
      "20\n"
     ]
    }
   ],
   "source": [
    "#reduce (func, lista, (primero)) → Devuelve un valor aplicando la operación binaria func.\n",
    "import functools\n",
    "lista=[2,4,6,8]\n",
    "print(functools.reduce(lambda x,y:x+y,lista))"
   ]
  },
  {
   "cell_type": "code",
   "execution_count": 65,
   "id": "db1c40e3",
   "metadata": {},
   "outputs": [
    {
     "name": "stdout",
     "output_type": "stream",
     "text": [
      "[2, 3, 5, 6]\n"
     ]
    }
   ],
   "source": [
    "#filter(pred, lista) → Devuelve una lista filtrando con el predicado.\n",
    "def positivos(numeros):\n",
    "    return list(filter(lambda n: n >= 0, numeros))\n",
    "print(positivos([2,3,-4,5,6]))"
   ]
  },
  {
   "cell_type": "markdown",
   "id": "de126194",
   "metadata": {},
   "source": [
    "# Caso práctico 1\n",
    "Diseña un programa. Supongamos que tenemos una lista de nombre de personas people = ['Amy', 'Alice', 'Bobby', 'Charlie', 'Connie', 'David']. Lo que queremos es que se filtre la información y quedarnos solo con los que empiezan por C.\n",
    "\n",
    "Crea una función que haga lo que se te pide."
   ]
  },
  {
   "cell_type": "code",
   "execution_count": 13,
   "id": "52b8000b",
   "metadata": {},
   "outputs": [
    {
     "name": "stdout",
     "output_type": "stream",
     "text": [
      "Charlie\n",
      "Connie\n"
     ]
    }
   ],
   "source": [
    "def empieza(letra):\n",
    "    for i in people:\n",
    "         if i.startswith('C'):\n",
    "            print(i)\n",
    "people = ['Amy', 'Alice', 'Bobby', 'Charlie', 'Connie', 'David']\n",
    "empieza(people)"
   ]
  },
  {
   "cell_type": "markdown",
   "id": "81f8d08a",
   "metadata": {},
   "source": [
    "# Caso práctico 2\n",
    "Crear una función que establezca como parámetros de la función lambda tres palabras y nos las muestre concatenadas."
   ]
  },
  {
   "cell_type": "code",
   "execution_count": 28,
   "id": "73d55089",
   "metadata": {},
   "outputs": [
    {
     "name": "stdout",
     "output_type": "stream",
     "text": [
      "lunesmartesmiercoles\n"
     ]
    }
   ],
   "source": [
    "mz =(lambda a='lunes', b='martes' , c='miercoles' : a+b+c)\n",
    "print(mz())"
   ]
  },
  {
   "cell_type": "markdown",
   "id": "72af6205",
   "metadata": {},
   "source": [
    "# Caso práctico 3\n",
    "Explica que devuelve cada caso de la función lambda:\n",
    "\n",
    "f = lambda x, y, z=1: (x+y) * z\n",
    "\n",
    "f(5, 6)\n",
    "\n",
    "f(5, 6, 7)"
   ]
  },
  {
   "cell_type": "code",
   "execution_count": 33,
   "id": "dffc4ee6",
   "metadata": {},
   "outputs": [
    {
     "name": "stdout",
     "output_type": "stream",
     "text": [
      "11\n",
      "77\n"
     ]
    }
   ],
   "source": [
    "f = (lambda x, y, z=1: (x+y) * z)\n",
    "print(f(5, 6)) #(5+6)*1\n",
    "print(f(5,6,7)) #(5+6)*7"
   ]
  },
  {
   "cell_type": "markdown",
   "id": "cff5b299",
   "metadata": {},
   "source": [
    "# Caso práctico 4\n",
    "Haciendo uso de las funciones de alto orden, crea una función llamada “cuadrado” que calcule la raíz cuadrada de una lista de valores:\n",
    "\n",
    "Indica que función de alto nivel has usado.\n",
    "\n",
    "Realiza el ejercicio. Los valores y la lista os lo podéis inventar vosotros."
   ]
  },
  {
   "cell_type": "code",
   "execution_count": 43,
   "id": "be4c1506",
   "metadata": {},
   "outputs": [
    {
     "name": "stdout",
     "output_type": "stream",
     "text": [
      "[2.0, 3.0, 3.4641016151377544, 4.242640687119285]\n",
      "2.0\n",
      "3.0\n",
      "3.4641016151377544\n",
      "4.242640687119285\n"
     ]
    }
   ],
   "source": [
    "#opcion 1\n",
    "import math\n",
    "lista=[4,9,12,18]\n",
    "print(list(map(lambda x:math.sqrt(x),lista))) #función map\n",
    "\n",
    "#opcion 2\n",
    "for i in lista:\n",
    "    print((lambda x:math.sqrt(x))(i))\n"
   ]
  },
  {
   "cell_type": "markdown",
   "id": "fb70f7cb",
   "metadata": {},
   "source": [
    "# Caso práctico 5\n",
    "Se nos informa que tenemos una lista como la siguiente: lista5 = [-3, -2, 0, 1, 9, -5].\n",
    "\n",
    "Queremos realizar una función llamada verdad_mentira que nos indique si cada valor de la lista cumple o no el criterio de ser menor a 0. Para ello, debemos recurrir a las funciones de alto orden.\n",
    "\n",
    "Indica que función de alto nivel has usado.\n",
    "Realiza el ejercicio."
   ]
  },
  {
   "cell_type": "code",
   "execution_count": 45,
   "id": "a15b25e7",
   "metadata": {
    "scrolled": true
   },
   "outputs": [
    {
     "name": "stdout",
     "output_type": "stream",
     "text": [
      "[-3, -2, -5]\n"
     ]
    }
   ],
   "source": [
    "lista5 = [-3, -2, 0, 1, 9, -5]\n",
    "def verdad_mentira(lista):\n",
    "    return list(filter(lambda x:x<0,lista))\n",
    "print(verdad_mentira(lista5))"
   ]
  },
  {
   "cell_type": "markdown",
   "id": "01d33ff7",
   "metadata": {},
   "source": [
    "# Caso práctico 6.1\n",
    "Crear una función a la que se le va a pasar una cadena y un número y debe pintar dicha cadena tantas veces como el número indica."
   ]
  },
  {
   "cell_type": "code",
   "execution_count": 2,
   "id": "7626164c",
   "metadata": {},
   "outputs": [
    {
     "name": "stdout",
     "output_type": "stream",
     "text": [
      "hola\n",
      "hola\n",
      "hola\n"
     ]
    }
   ],
   "source": [
    "def func (num,cadena):\n",
    "    i=1\n",
    "    while i<=num:\n",
    "        print(cadena)\n",
    "        i=i+1\n",
    "        \n",
    "func(3,'hola')"
   ]
  },
  {
   "cell_type": "markdown",
   "id": "2cb0d256",
   "metadata": {},
   "source": [
    "# Caso práctico 6.2\n",
    "Desarrollar una función que reciba tres enteros y retorne la suma de los tres."
   ]
  },
  {
   "cell_type": "code",
   "execution_count": 10,
   "id": "e2a53db3",
   "metadata": {},
   "outputs": [
    {
     "name": "stdout",
     "output_type": "stream",
     "text": [
      "9\n"
     ]
    }
   ],
   "source": [
    "import functools\n",
    "def func1(x1, x2, x3):\n",
    "    lista=[]\n",
    "    lista.extend([x1, x2, x3])\n",
    "    return functools.reduce(lambda x,y: x+y,lista)\n",
    "print(func1(2,3,4))"
   ]
  },
  {
   "cell_type": "markdown",
   "id": "ad964569",
   "metadata": {},
   "source": [
    "# Test"
   ]
  },
  {
   "cell_type": "code",
   "execution_count": 24,
   "id": "5909d413",
   "metadata": {},
   "outputs": [
    {
     "name": "stdout",
     "output_type": "stream",
     "text": [
      "HOLA ESTAS ESTAS\n"
     ]
    }
   ],
   "source": [
    "mz = (lambda a = 'HOLA', b = ' COMO', c = ' ESTAS': a + b + c) \n",
    "print (mz ('HOLA', ' ESTAS'))"
   ]
  },
  {
   "cell_type": "code",
   "execution_count": 16,
   "id": "9c0341ba",
   "metadata": {},
   "outputs": [
    {
     "name": "stdout",
     "output_type": "stream",
     "text": [
      "7.0\n"
     ]
    }
   ],
   "source": [
    "x = 4; y = 2 \n",
    "print (4+2* (lambda: x /y) () -1)"
   ]
  },
  {
   "cell_type": "code",
   "execution_count": 17,
   "id": "2ddda923",
   "metadata": {},
   "outputs": [
    {
     "name": "stdout",
     "output_type": "stream",
     "text": [
      " hola como estas.\n"
     ]
    }
   ],
   "source": [
    "import functools \n",
    "lista = [\"hola \",\"como \",\"estas.\"] \n",
    "print (\" %s\" %functools.reduce (lambda x, y: x+y, lista))"
   ]
  },
  {
   "cell_type": "code",
   "execution_count": 18,
   "id": "d286a04d",
   "metadata": {},
   "outputs": [
    {
     "name": "stdout",
     "output_type": "stream",
     "text": [
      "[-5, -4, -3, -2, -1]\n"
     ]
    }
   ],
   "source": [
    "print (list (filter ((lambda x: x < 0), range (-5,5))))"
   ]
  },
  {
   "cell_type": "code",
   "execution_count": null,
   "id": "164ffdac",
   "metadata": {},
   "outputs": [],
   "source": []
  }
 ],
 "metadata": {
  "kernelspec": {
   "display_name": "Python 3 (ipykernel)",
   "language": "python",
   "name": "python3"
  },
  "language_info": {
   "codemirror_mode": {
    "name": "ipython",
    "version": 3
   },
   "file_extension": ".py",
   "mimetype": "text/x-python",
   "name": "python",
   "nbconvert_exporter": "python",
   "pygments_lexer": "ipython3",
   "version": "3.9.7"
  }
 },
 "nbformat": 4,
 "nbformat_minor": 5
}
