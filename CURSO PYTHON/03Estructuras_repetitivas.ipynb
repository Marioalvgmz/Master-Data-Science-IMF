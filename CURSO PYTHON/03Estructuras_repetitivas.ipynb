{
 "cells": [
  {
   "cell_type": "markdown",
   "id": "8c504d89",
   "metadata": {},
   "source": [
    "# Ejemplo while"
   ]
  },
  {
   "cell_type": "code",
   "execution_count": 1,
   "id": "6d9a9605",
   "metadata": {
    "scrolled": true
   },
   "outputs": [
    {
     "name": "stdout",
     "output_type": "stream",
     "text": [
      "0  is less than 5\n",
      "1  is less than 5\n",
      "2  is less than 5\n",
      "3  is less than 5\n",
      "4  is less than 5\n"
     ]
    }
   ],
   "source": [
    "count= 0 #(inicialización)\n",
    "while count < 5: #(condición de finalización)\n",
    "    print(count, \" is less than 5\")\n",
    "    count = count + 1 #(avance)"
   ]
  },
  {
   "cell_type": "markdown",
   "id": "fa3ebb4f",
   "metadata": {},
   "source": [
    "# Ejemplos for"
   ]
  },
  {
   "cell_type": "code",
   "execution_count": 2,
   "id": "baee04f7",
   "metadata": {},
   "outputs": [
    {
     "name": "stdout",
     "output_type": "stream",
     "text": [
      "ana\n",
      "maria\n",
      "sol\n"
     ]
    }
   ],
   "source": [
    "#Ejemplo 1\n",
    "for i in \"ana\",\"maria\",\"sol\":\n",
    "    print(i)"
   ]
  },
  {
   "cell_type": "code",
   "execution_count": 3,
   "id": "0cf09faa",
   "metadata": {},
   "outputs": [
    {
     "name": "stdout",
     "output_type": "stream",
     "text": [
      "ana\n",
      "mario\n",
      "sol\n"
     ]
    }
   ],
   "source": [
    "#Ejemplo 2\n",
    "lista=[\"ana\",\"mario\",\"sol\"]\n",
    "for i in lista:\n",
    "    print (i)"
   ]
  },
  {
   "cell_type": "markdown",
   "id": "78d448ea",
   "metadata": {},
   "source": [
    "# Ejemplos range"
   ]
  },
  {
   "cell_type": "code",
   "execution_count": 4,
   "id": "c8373c33",
   "metadata": {},
   "outputs": [
    {
     "name": "stdout",
     "output_type": "stream",
     "text": [
      "0\n",
      "1\n",
      "2\n",
      "3\n",
      "4\n"
     ]
    }
   ],
   "source": [
    "#Ejemplo 1\n",
    "for Contador in range (5): # el inicio se determina por defecto y es 0\n",
    "    print (Contador)"
   ]
  },
  {
   "cell_type": "code",
   "execution_count": 5,
   "id": "8b94e07d",
   "metadata": {
    "scrolled": true
   },
   "outputs": [
    {
     "name": "stdout",
     "output_type": "stream",
     "text": [
      "0\n",
      "1\n",
      "2\n",
      "3\n",
      "4\n",
      "5\n",
      "6\n",
      "7\n",
      "8\n",
      "9\n"
     ]
    }
   ],
   "source": [
    "#Ejemplo 2\n",
    "for Contador in range (0,10): # inicio =0 final =9\n",
    "    print (Contador)"
   ]
  },
  {
   "cell_type": "code",
   "execution_count": 6,
   "id": "4a4f7aa9",
   "metadata": {},
   "outputs": [
    {
     "name": "stdout",
     "output_type": "stream",
     "text": [
      "0\n",
      "2\n",
      "4\n",
      "6\n",
      "8\n"
     ]
    }
   ],
   "source": [
    "#Ejemplo 3\n",
    "for Contador in range (0,10,2): #inicio=0 final=9 salta de 2 en 2\n",
    "    print (Contador)"
   ]
  },
  {
   "cell_type": "markdown",
   "id": "d7d776ac",
   "metadata": {},
   "source": [
    "# Caso práctico 1\n",
    "Imprimir los números impares desde el 1 al 25, ambos inclusive."
   ]
  },
  {
   "cell_type": "code",
   "execution_count": 5,
   "id": "34b210e3",
   "metadata": {},
   "outputs": [
    {
     "name": "stdout",
     "output_type": "stream",
     "text": [
      " 1 3 5 7 9 11 13 15 17 19 21 23 25 \n"
     ]
    }
   ],
   "source": [
    "n = 1\n",
    "h = \" \"\n",
    "while n <= 25:\n",
    "    if n%2 != 0:\n",
    "        h += \"%i \" % n\n",
    "    n += 1\n",
    "print(h)"
   ]
  },
  {
   "cell_type": "code",
   "execution_count": 4,
   "id": "4b1812c6",
   "metadata": {
    "scrolled": true
   },
   "outputs": [
    {
     "name": "stdout",
     "output_type": "stream",
     "text": [
      "1 3 5 7 9 11 13 15 17 19 21 23 25 "
     ]
    }
   ],
   "source": [
    "for i in range (1,26):\n",
    "    if i%2 != 0:\n",
    "        print(i,end = \" \")"
   ]
  },
  {
   "cell_type": "markdown",
   "id": "0e17e921",
   "metadata": {},
   "source": [
    "# Caso práctico 2\n",
    "Realizar un programa que pida cinco números decimales, calcular su media e informar del resultado por pantalla."
   ]
  },
  {
   "cell_type": "code",
   "execution_count": 2,
   "id": "59b0739e",
   "metadata": {},
   "outputs": [
    {
     "name": "stdout",
     "output_type": "stream",
     "text": [
      "Introduce número decimal 2.5\n",
      "Introduce número decimal 3.4\n",
      "Introduce número decimal 6.1\n",
      "Introduce número decimal 7.4\n",
      "Introduce número decimal 1.2\n",
      "La media es 4.12\n"
     ]
    }
   ],
   "source": [
    "cont = 0\n",
    "for i in range (0,5):\n",
    "    numero = float(input(\"Introduce número decimal \"))\n",
    "    cont = cont + numero\n",
    "\n",
    "media = cont/5\n",
    "print(\"La media es %.2f\" %(media))   "
   ]
  },
  {
   "cell_type": "markdown",
   "id": "35384c77",
   "metadata": {},
   "source": [
    "# Caso práctico 3.1\n",
    "Escribir un programa que pregunte cuántos números se van a introducir, pedir esos números y escribir cuántos negativos ha introducido."
   ]
  },
  {
   "cell_type": "code",
   "execution_count": 2,
   "id": "56fcbbfe",
   "metadata": {
    "scrolled": false
   },
   "outputs": [
    {
     "name": "stdout",
     "output_type": "stream",
     "text": [
      "¿Cuántos números quieres? 5\n",
      "Introduce número -6\n",
      "Introduce número 2\n",
      "Introduce número 1\n",
      "Introduce número -2\n",
      "Introduce número 1\n",
      "Has introducido 2 números negativos\n"
     ]
    }
   ],
   "source": [
    "n = int(input(\"¿Cuántos números quieres? \"))\n",
    "cont = 0\n",
    "for i in range (0,n):\n",
    "    numero = float(input(\"Introduce número \"))\n",
    "    if numero < 0:\n",
    "        cont += 1\n",
    "print(\"Has introducido %d números negativos\" %(cont))   "
   ]
  },
  {
   "cell_type": "code",
   "execution_count": 5,
   "id": "175953ba",
   "metadata": {
    "scrolled": true
   },
   "outputs": [
    {
     "name": "stdout",
     "output_type": "stream",
     "text": [
      "¿Cuántos números quieres? 3\n",
      "Introduce número -4\n",
      "Introduce número 3\n",
      "Introduce número -4\n",
      "Has introducido 2 números negativos\n"
     ]
    }
   ],
   "source": [
    "n = int(input(\"¿Cuántos números quieres? \"))\n",
    "i = 1 #Porque siempre empieza por 0\n",
    "cont = 0\n",
    "while i <= n:\n",
    "    numero = int(input(\"Introduce número \"))\n",
    "    if numero < 0:\n",
    "        cont += 1\n",
    "    i+=1\n",
    "print(\"Has introducido %d números negativos\" %(cont))        "
   ]
  },
  {
   "cell_type": "markdown",
   "id": "1f6c6873",
   "metadata": {},
   "source": [
    "# Caso práctico 3.2\n",
    "Realizar un programa que muestre por pantalla la siguiente secuencia:\n",
    "1 2 3 4 5 6 7 8 9 10 11 12 13 14 15 16 17 18 19 20 (En horizontal)\n"
   ]
  },
  {
   "cell_type": "code",
   "execution_count": 3,
   "id": "3555e940",
   "metadata": {
    "scrolled": false
   },
   "outputs": [
    {
     "name": "stdout",
     "output_type": "stream",
     "text": [
      "1 2 3 4 5 6 7 8 9 10 11 12 13 14 15 16 17 18 19 20 "
     ]
    }
   ],
   "source": [
    "for i in range (1,21):\n",
    "    print(i,end= \" \")"
   ]
  }
 ],
 "metadata": {
  "kernelspec": {
   "display_name": "Python 3 (ipykernel)",
   "language": "python",
   "name": "python3"
  },
  "language_info": {
   "codemirror_mode": {
    "name": "ipython",
    "version": 3
   },
   "file_extension": ".py",
   "mimetype": "text/x-python",
   "name": "python",
   "nbconvert_exporter": "python",
   "pygments_lexer": "ipython3",
   "version": "3.9.7"
  }
 },
 "nbformat": 4,
 "nbformat_minor": 5
}
